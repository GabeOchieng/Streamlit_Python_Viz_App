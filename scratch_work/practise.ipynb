{
 "cells": [
  {
   "cell_type": "code",
   "execution_count": 1,
   "metadata": {},
   "outputs": [
    {
     "data": {
      "application/javascript": [
       "\n",
       "        if (window._pyforest_update_imports_cell) { window._pyforest_update_imports_cell('import plotly as py'); }\n",
       "    "
      ],
      "text/plain": [
       "<IPython.core.display.Javascript object>"
      ]
     },
     "metadata": {},
     "output_type": "display_data"
    },
    {
     "data": {
      "text/html": [
       "        <script type=\"text/javascript\">\n",
       "        window.PlotlyConfig = {MathJaxConfig: 'local'};\n",
       "        if (window.MathJax) {MathJax.Hub.Config({SVG: {font: \"STIX-Web\"}});}\n",
       "        if (typeof require !== 'undefined') {\n",
       "        require.undef(\"plotly\");\n",
       "        requirejs.config({\n",
       "            paths: {\n",
       "                'plotly': ['https://cdn.plot.ly/plotly-latest.min']\n",
       "            }\n",
       "        });\n",
       "        require(['plotly'], function(Plotly) {\n",
       "            window._Plotly = Plotly;\n",
       "        });\n",
       "        }\n",
       "        </script>\n",
       "        "
      ]
     },
     "metadata": {},
     "output_type": "display_data"
    }
   ],
   "source": [
    "import numpy as np\n",
    "import plotly.graph_objs as go\n",
    "import plotly as py\n",
    "# ^^^ pyforest auto-imports - don't write above this line\n",
    "# import plotly.offline as pyo\n",
    "# import plotly.graph_objs as go\n",
    "# import numpy as np\n",
    "py.offline.init_notebook_mode(connected=True)"
   ]
  },
  {
   "cell_type": "code",
   "execution_count": 2,
   "metadata": {},
   "outputs": [
    {
     "data": {
      "application/javascript": [
       "\n",
       "        if (window._pyforest_update_imports_cell) { window._pyforest_update_imports_cell('import numpy as np\\nimport plotly as py'); }\n",
       "    "
      ],
      "text/plain": [
       "<IPython.core.display.Javascript object>"
      ]
     },
     "metadata": {},
     "output_type": "display_data"
    },
    {
     "data": {
      "application/javascript": [
       "\n",
       "        if (window._pyforest_update_imports_cell) { window._pyforest_update_imports_cell('import numpy as np\\nimport plotly as py'); }\n",
       "    "
      ],
      "text/plain": [
       "<IPython.core.display.Javascript object>"
      ]
     },
     "metadata": {},
     "output_type": "display_data"
    },
    {
     "data": {
      "application/javascript": [
       "\n",
       "        if (window._pyforest_update_imports_cell) { window._pyforest_update_imports_cell('import numpy as np\\nimport plotly as py'); }\n",
       "    "
      ],
      "text/plain": [
       "<IPython.core.display.Javascript object>"
      ]
     },
     "metadata": {},
     "output_type": "display_data"
    },
    {
     "data": {
      "application/javascript": [
       "\n",
       "        if (window._pyforest_update_imports_cell) { window._pyforest_update_imports_cell('import numpy as np\\nimport plotly.graph_objs as go\\nimport plotly as py'); }\n",
       "    "
      ],
      "text/plain": [
       "<IPython.core.display.Javascript object>"
      ]
     },
     "metadata": {},
     "output_type": "display_data"
    }
   ],
   "source": [
    "np.random.seed(42)\n",
    "random_x = np.random.randint(1,101,100)\n",
    "random_y = np.random.randint(1,101,100)\n",
    "\n",
    "data = [go.Scatter(\n",
    "    x = random_x,\n",
    "    y = random_y,\n",
    "    mode = 'markers',\n",
    ")]"
   ]
  },
  {
   "cell_type": "code",
   "execution_count": 3,
   "metadata": {},
   "outputs": [
    {
     "data": {
      "application/javascript": [
       "\n",
       "        if (window._pyforest_update_imports_cell) { window._pyforest_update_imports_cell('import numpy as np\\nimport plotly.graph_objs as go\\nimport plotly as py'); }\n",
       "    "
      ],
      "text/plain": [
       "<IPython.core.display.Javascript object>"
      ]
     },
     "metadata": {},
     "output_type": "display_data"
    },
    {
     "data": {
      "application/vnd.plotly.v1+json": {
       "config": {
        "plotlyServerURL": "https://plot.ly"
       },
       "data": [
        {
         "mode": "markers",
         "type": "scatter",
         "x": [
          52,
          93,
          15,
          72,
          61,
          21,
          83,
          87,
          75,
          75,
          88,
          100,
          24,
          3,
          22,
          53,
          2,
          88,
          30,
          38,
          2,
          64,
          60,
          21,
          33,
          76,
          58,
          22,
          89,
          49,
          91,
          59,
          42,
          92,
          60,
          80,
          15,
          62,
          62,
          47,
          62,
          51,
          55,
          64,
          3,
          51,
          7,
          21,
          73,
          39,
          18,
          4,
          89,
          60,
          14,
          9,
          90,
          53,
          2,
          84,
          92,
          60,
          71,
          44,
          8,
          47,
          35,
          78,
          81,
          36,
          50,
          4,
          2,
          6,
          54,
          4,
          54,
          93,
          63,
          18,
          90,
          44,
          34,
          74,
          62,
          100,
          14,
          95,
          48,
          15,
          72,
          78,
          87,
          62,
          40,
          85,
          80,
          82,
          53,
          24
         ],
         "y": [
          26,
          89,
          60,
          41,
          29,
          15,
          45,
          65,
          89,
          71,
          9,
          88,
          1,
          8,
          88,
          63,
          11,
          81,
          8,
          35,
          35,
          33,
          5,
          41,
          28,
          7,
          73,
          72,
          12,
          34,
          33,
          48,
          23,
          62,
          88,
          37,
          99,
          44,
          86,
          91,
          35,
          65,
          99,
          47,
          78,
          3,
          1,
          5,
          90,
          14,
          27,
          9,
          79,
          15,
          90,
          42,
          77,
          51,
          63,
          96,
          52,
          96,
          4,
          94,
          23,
          15,
          43,
          29,
          36,
          13,
          32,
          71,
          59,
          86,
          28,
          66,
          42,
          45,
          62,
          57,
          6,
          28,
          28,
          44,
          84,
          30,
          62,
          75,
          92,
          89,
          62,
          97,
          1,
          27,
          62,
          77,
          3,
          70,
          72,
          27
         ]
        }
       ],
       "layout": {
        "template": {
         "data": {
          "bar": [
           {
            "error_x": {
             "color": "#2a3f5f"
            },
            "error_y": {
             "color": "#2a3f5f"
            },
            "marker": {
             "line": {
              "color": "#E5ECF6",
              "width": 0.5
             }
            },
            "type": "bar"
           }
          ],
          "barpolar": [
           {
            "marker": {
             "line": {
              "color": "#E5ECF6",
              "width": 0.5
             }
            },
            "type": "barpolar"
           }
          ],
          "carpet": [
           {
            "aaxis": {
             "endlinecolor": "#2a3f5f",
             "gridcolor": "white",
             "linecolor": "white",
             "minorgridcolor": "white",
             "startlinecolor": "#2a3f5f"
            },
            "baxis": {
             "endlinecolor": "#2a3f5f",
             "gridcolor": "white",
             "linecolor": "white",
             "minorgridcolor": "white",
             "startlinecolor": "#2a3f5f"
            },
            "type": "carpet"
           }
          ],
          "choropleth": [
           {
            "colorbar": {
             "outlinewidth": 0,
             "ticks": ""
            },
            "type": "choropleth"
           }
          ],
          "contour": [
           {
            "colorbar": {
             "outlinewidth": 0,
             "ticks": ""
            },
            "colorscale": [
             [
              0,
              "#0d0887"
             ],
             [
              0.1111111111111111,
              "#46039f"
             ],
             [
              0.2222222222222222,
              "#7201a8"
             ],
             [
              0.3333333333333333,
              "#9c179e"
             ],
             [
              0.4444444444444444,
              "#bd3786"
             ],
             [
              0.5555555555555556,
              "#d8576b"
             ],
             [
              0.6666666666666666,
              "#ed7953"
             ],
             [
              0.7777777777777778,
              "#fb9f3a"
             ],
             [
              0.8888888888888888,
              "#fdca26"
             ],
             [
              1,
              "#f0f921"
             ]
            ],
            "type": "contour"
           }
          ],
          "contourcarpet": [
           {
            "colorbar": {
             "outlinewidth": 0,
             "ticks": ""
            },
            "type": "contourcarpet"
           }
          ],
          "heatmap": [
           {
            "colorbar": {
             "outlinewidth": 0,
             "ticks": ""
            },
            "colorscale": [
             [
              0,
              "#0d0887"
             ],
             [
              0.1111111111111111,
              "#46039f"
             ],
             [
              0.2222222222222222,
              "#7201a8"
             ],
             [
              0.3333333333333333,
              "#9c179e"
             ],
             [
              0.4444444444444444,
              "#bd3786"
             ],
             [
              0.5555555555555556,
              "#d8576b"
             ],
             [
              0.6666666666666666,
              "#ed7953"
             ],
             [
              0.7777777777777778,
              "#fb9f3a"
             ],
             [
              0.8888888888888888,
              "#fdca26"
             ],
             [
              1,
              "#f0f921"
             ]
            ],
            "type": "heatmap"
           }
          ],
          "heatmapgl": [
           {
            "colorbar": {
             "outlinewidth": 0,
             "ticks": ""
            },
            "colorscale": [
             [
              0,
              "#0d0887"
             ],
             [
              0.1111111111111111,
              "#46039f"
             ],
             [
              0.2222222222222222,
              "#7201a8"
             ],
             [
              0.3333333333333333,
              "#9c179e"
             ],
             [
              0.4444444444444444,
              "#bd3786"
             ],
             [
              0.5555555555555556,
              "#d8576b"
             ],
             [
              0.6666666666666666,
              "#ed7953"
             ],
             [
              0.7777777777777778,
              "#fb9f3a"
             ],
             [
              0.8888888888888888,
              "#fdca26"
             ],
             [
              1,
              "#f0f921"
             ]
            ],
            "type": "heatmapgl"
           }
          ],
          "histogram": [
           {
            "marker": {
             "colorbar": {
              "outlinewidth": 0,
              "ticks": ""
             }
            },
            "type": "histogram"
           }
          ],
          "histogram2d": [
           {
            "colorbar": {
             "outlinewidth": 0,
             "ticks": ""
            },
            "colorscale": [
             [
              0,
              "#0d0887"
             ],
             [
              0.1111111111111111,
              "#46039f"
             ],
             [
              0.2222222222222222,
              "#7201a8"
             ],
             [
              0.3333333333333333,
              "#9c179e"
             ],
             [
              0.4444444444444444,
              "#bd3786"
             ],
             [
              0.5555555555555556,
              "#d8576b"
             ],
             [
              0.6666666666666666,
              "#ed7953"
             ],
             [
              0.7777777777777778,
              "#fb9f3a"
             ],
             [
              0.8888888888888888,
              "#fdca26"
             ],
             [
              1,
              "#f0f921"
             ]
            ],
            "type": "histogram2d"
           }
          ],
          "histogram2dcontour": [
           {
            "colorbar": {
             "outlinewidth": 0,
             "ticks": ""
            },
            "colorscale": [
             [
              0,
              "#0d0887"
             ],
             [
              0.1111111111111111,
              "#46039f"
             ],
             [
              0.2222222222222222,
              "#7201a8"
             ],
             [
              0.3333333333333333,
              "#9c179e"
             ],
             [
              0.4444444444444444,
              "#bd3786"
             ],
             [
              0.5555555555555556,
              "#d8576b"
             ],
             [
              0.6666666666666666,
              "#ed7953"
             ],
             [
              0.7777777777777778,
              "#fb9f3a"
             ],
             [
              0.8888888888888888,
              "#fdca26"
             ],
             [
              1,
              "#f0f921"
             ]
            ],
            "type": "histogram2dcontour"
           }
          ],
          "mesh3d": [
           {
            "colorbar": {
             "outlinewidth": 0,
             "ticks": ""
            },
            "type": "mesh3d"
           }
          ],
          "parcoords": [
           {
            "line": {
             "colorbar": {
              "outlinewidth": 0,
              "ticks": ""
             }
            },
            "type": "parcoords"
           }
          ],
          "pie": [
           {
            "automargin": true,
            "type": "pie"
           }
          ],
          "scatter": [
           {
            "marker": {
             "colorbar": {
              "outlinewidth": 0,
              "ticks": ""
             }
            },
            "type": "scatter"
           }
          ],
          "scatter3d": [
           {
            "line": {
             "colorbar": {
              "outlinewidth": 0,
              "ticks": ""
             }
            },
            "marker": {
             "colorbar": {
              "outlinewidth": 0,
              "ticks": ""
             }
            },
            "type": "scatter3d"
           }
          ],
          "scattercarpet": [
           {
            "marker": {
             "colorbar": {
              "outlinewidth": 0,
              "ticks": ""
             }
            },
            "type": "scattercarpet"
           }
          ],
          "scattergeo": [
           {
            "marker": {
             "colorbar": {
              "outlinewidth": 0,
              "ticks": ""
             }
            },
            "type": "scattergeo"
           }
          ],
          "scattergl": [
           {
            "marker": {
             "colorbar": {
              "outlinewidth": 0,
              "ticks": ""
             }
            },
            "type": "scattergl"
           }
          ],
          "scattermapbox": [
           {
            "marker": {
             "colorbar": {
              "outlinewidth": 0,
              "ticks": ""
             }
            },
            "type": "scattermapbox"
           }
          ],
          "scatterpolar": [
           {
            "marker": {
             "colorbar": {
              "outlinewidth": 0,
              "ticks": ""
             }
            },
            "type": "scatterpolar"
           }
          ],
          "scatterpolargl": [
           {
            "marker": {
             "colorbar": {
              "outlinewidth": 0,
              "ticks": ""
             }
            },
            "type": "scatterpolargl"
           }
          ],
          "scatterternary": [
           {
            "marker": {
             "colorbar": {
              "outlinewidth": 0,
              "ticks": ""
             }
            },
            "type": "scatterternary"
           }
          ],
          "surface": [
           {
            "colorbar": {
             "outlinewidth": 0,
             "ticks": ""
            },
            "colorscale": [
             [
              0,
              "#0d0887"
             ],
             [
              0.1111111111111111,
              "#46039f"
             ],
             [
              0.2222222222222222,
              "#7201a8"
             ],
             [
              0.3333333333333333,
              "#9c179e"
             ],
             [
              0.4444444444444444,
              "#bd3786"
             ],
             [
              0.5555555555555556,
              "#d8576b"
             ],
             [
              0.6666666666666666,
              "#ed7953"
             ],
             [
              0.7777777777777778,
              "#fb9f3a"
             ],
             [
              0.8888888888888888,
              "#fdca26"
             ],
             [
              1,
              "#f0f921"
             ]
            ],
            "type": "surface"
           }
          ],
          "table": [
           {
            "cells": {
             "fill": {
              "color": "#EBF0F8"
             },
             "line": {
              "color": "white"
             }
            },
            "header": {
             "fill": {
              "color": "#C8D4E3"
             },
             "line": {
              "color": "white"
             }
            },
            "type": "table"
           }
          ]
         },
         "layout": {
          "annotationdefaults": {
           "arrowcolor": "#2a3f5f",
           "arrowhead": 0,
           "arrowwidth": 1
          },
          "coloraxis": {
           "colorbar": {
            "outlinewidth": 0,
            "ticks": ""
           }
          },
          "colorscale": {
           "diverging": [
            [
             0,
             "#8e0152"
            ],
            [
             0.1,
             "#c51b7d"
            ],
            [
             0.2,
             "#de77ae"
            ],
            [
             0.3,
             "#f1b6da"
            ],
            [
             0.4,
             "#fde0ef"
            ],
            [
             0.5,
             "#f7f7f7"
            ],
            [
             0.6,
             "#e6f5d0"
            ],
            [
             0.7,
             "#b8e186"
            ],
            [
             0.8,
             "#7fbc41"
            ],
            [
             0.9,
             "#4d9221"
            ],
            [
             1,
             "#276419"
            ]
           ],
           "sequential": [
            [
             0,
             "#0d0887"
            ],
            [
             0.1111111111111111,
             "#46039f"
            ],
            [
             0.2222222222222222,
             "#7201a8"
            ],
            [
             0.3333333333333333,
             "#9c179e"
            ],
            [
             0.4444444444444444,
             "#bd3786"
            ],
            [
             0.5555555555555556,
             "#d8576b"
            ],
            [
             0.6666666666666666,
             "#ed7953"
            ],
            [
             0.7777777777777778,
             "#fb9f3a"
            ],
            [
             0.8888888888888888,
             "#fdca26"
            ],
            [
             1,
             "#f0f921"
            ]
           ],
           "sequentialminus": [
            [
             0,
             "#0d0887"
            ],
            [
             0.1111111111111111,
             "#46039f"
            ],
            [
             0.2222222222222222,
             "#7201a8"
            ],
            [
             0.3333333333333333,
             "#9c179e"
            ],
            [
             0.4444444444444444,
             "#bd3786"
            ],
            [
             0.5555555555555556,
             "#d8576b"
            ],
            [
             0.6666666666666666,
             "#ed7953"
            ],
            [
             0.7777777777777778,
             "#fb9f3a"
            ],
            [
             0.8888888888888888,
             "#fdca26"
            ],
            [
             1,
             "#f0f921"
            ]
           ]
          },
          "colorway": [
           "#636efa",
           "#EF553B",
           "#00cc96",
           "#ab63fa",
           "#FFA15A",
           "#19d3f3",
           "#FF6692",
           "#B6E880",
           "#FF97FF",
           "#FECB52"
          ],
          "font": {
           "color": "#2a3f5f"
          },
          "geo": {
           "bgcolor": "white",
           "lakecolor": "white",
           "landcolor": "#E5ECF6",
           "showlakes": true,
           "showland": true,
           "subunitcolor": "white"
          },
          "hoverlabel": {
           "align": "left"
          },
          "hovermode": "closest",
          "mapbox": {
           "style": "light"
          },
          "paper_bgcolor": "white",
          "plot_bgcolor": "#E5ECF6",
          "polar": {
           "angularaxis": {
            "gridcolor": "white",
            "linecolor": "white",
            "ticks": ""
           },
           "bgcolor": "#E5ECF6",
           "radialaxis": {
            "gridcolor": "white",
            "linecolor": "white",
            "ticks": ""
           }
          },
          "scene": {
           "xaxis": {
            "backgroundcolor": "#E5ECF6",
            "gridcolor": "white",
            "gridwidth": 2,
            "linecolor": "white",
            "showbackground": true,
            "ticks": "",
            "zerolinecolor": "white"
           },
           "yaxis": {
            "backgroundcolor": "#E5ECF6",
            "gridcolor": "white",
            "gridwidth": 2,
            "linecolor": "white",
            "showbackground": true,
            "ticks": "",
            "zerolinecolor": "white"
           },
           "zaxis": {
            "backgroundcolor": "#E5ECF6",
            "gridcolor": "white",
            "gridwidth": 2,
            "linecolor": "white",
            "showbackground": true,
            "ticks": "",
            "zerolinecolor": "white"
           }
          },
          "shapedefaults": {
           "line": {
            "color": "#2a3f5f"
           }
          },
          "ternary": {
           "aaxis": {
            "gridcolor": "white",
            "linecolor": "white",
            "ticks": ""
           },
           "baxis": {
            "gridcolor": "white",
            "linecolor": "white",
            "ticks": ""
           },
           "bgcolor": "#E5ECF6",
           "caxis": {
            "gridcolor": "white",
            "linecolor": "white",
            "ticks": ""
           }
          },
          "title": {
           "x": 0.05
          },
          "xaxis": {
           "automargin": true,
           "gridcolor": "white",
           "linecolor": "white",
           "ticks": "",
           "title": {
            "standoff": 15
           },
           "zerolinecolor": "white",
           "zerolinewidth": 2
          },
          "yaxis": {
           "automargin": true,
           "gridcolor": "white",
           "linecolor": "white",
           "ticks": "",
           "title": {
            "standoff": 15
           },
           "zerolinecolor": "white",
           "zerolinewidth": 2
          }
         }
        }
       }
      },
      "text/html": [
       "<div>\n",
       "        \n",
       "        \n",
       "            <div id=\"6f4d1e8a-b1dc-4f8d-b886-d216e10533ed\" class=\"plotly-graph-div\" style=\"height:525px; width:100%;\"></div>\n",
       "            <script type=\"text/javascript\">\n",
       "                require([\"plotly\"], function(Plotly) {\n",
       "                    window.PLOTLYENV=window.PLOTLYENV || {};\n",
       "                    \n",
       "                if (document.getElementById(\"6f4d1e8a-b1dc-4f8d-b886-d216e10533ed\")) {\n",
       "                    Plotly.newPlot(\n",
       "                        '6f4d1e8a-b1dc-4f8d-b886-d216e10533ed',\n",
       "                        [{\"mode\": \"markers\", \"type\": \"scatter\", \"x\": [52, 93, 15, 72, 61, 21, 83, 87, 75, 75, 88, 100, 24, 3, 22, 53, 2, 88, 30, 38, 2, 64, 60, 21, 33, 76, 58, 22, 89, 49, 91, 59, 42, 92, 60, 80, 15, 62, 62, 47, 62, 51, 55, 64, 3, 51, 7, 21, 73, 39, 18, 4, 89, 60, 14, 9, 90, 53, 2, 84, 92, 60, 71, 44, 8, 47, 35, 78, 81, 36, 50, 4, 2, 6, 54, 4, 54, 93, 63, 18, 90, 44, 34, 74, 62, 100, 14, 95, 48, 15, 72, 78, 87, 62, 40, 85, 80, 82, 53, 24], \"y\": [26, 89, 60, 41, 29, 15, 45, 65, 89, 71, 9, 88, 1, 8, 88, 63, 11, 81, 8, 35, 35, 33, 5, 41, 28, 7, 73, 72, 12, 34, 33, 48, 23, 62, 88, 37, 99, 44, 86, 91, 35, 65, 99, 47, 78, 3, 1, 5, 90, 14, 27, 9, 79, 15, 90, 42, 77, 51, 63, 96, 52, 96, 4, 94, 23, 15, 43, 29, 36, 13, 32, 71, 59, 86, 28, 66, 42, 45, 62, 57, 6, 28, 28, 44, 84, 30, 62, 75, 92, 89, 62, 97, 1, 27, 62, 77, 3, 70, 72, 27]}],\n",
       "                        {\"template\": {\"data\": {\"bar\": [{\"error_x\": {\"color\": \"#2a3f5f\"}, \"error_y\": {\"color\": \"#2a3f5f\"}, \"marker\": {\"line\": {\"color\": \"#E5ECF6\", \"width\": 0.5}}, \"type\": \"bar\"}], \"barpolar\": [{\"marker\": {\"line\": {\"color\": \"#E5ECF6\", \"width\": 0.5}}, \"type\": \"barpolar\"}], \"carpet\": [{\"aaxis\": {\"endlinecolor\": \"#2a3f5f\", \"gridcolor\": \"white\", \"linecolor\": \"white\", \"minorgridcolor\": \"white\", \"startlinecolor\": \"#2a3f5f\"}, \"baxis\": {\"endlinecolor\": \"#2a3f5f\", \"gridcolor\": \"white\", \"linecolor\": \"white\", \"minorgridcolor\": \"white\", \"startlinecolor\": \"#2a3f5f\"}, \"type\": \"carpet\"}], \"choropleth\": [{\"colorbar\": {\"outlinewidth\": 0, \"ticks\": \"\"}, \"type\": \"choropleth\"}], \"contour\": [{\"colorbar\": {\"outlinewidth\": 0, \"ticks\": \"\"}, \"colorscale\": [[0.0, \"#0d0887\"], [0.1111111111111111, \"#46039f\"], [0.2222222222222222, \"#7201a8\"], [0.3333333333333333, \"#9c179e\"], [0.4444444444444444, \"#bd3786\"], [0.5555555555555556, \"#d8576b\"], [0.6666666666666666, \"#ed7953\"], [0.7777777777777778, \"#fb9f3a\"], [0.8888888888888888, \"#fdca26\"], [1.0, \"#f0f921\"]], \"type\": \"contour\"}], \"contourcarpet\": [{\"colorbar\": {\"outlinewidth\": 0, \"ticks\": \"\"}, \"type\": \"contourcarpet\"}], \"heatmap\": [{\"colorbar\": {\"outlinewidth\": 0, \"ticks\": \"\"}, \"colorscale\": [[0.0, \"#0d0887\"], [0.1111111111111111, \"#46039f\"], [0.2222222222222222, \"#7201a8\"], [0.3333333333333333, \"#9c179e\"], [0.4444444444444444, \"#bd3786\"], [0.5555555555555556, \"#d8576b\"], [0.6666666666666666, \"#ed7953\"], [0.7777777777777778, \"#fb9f3a\"], [0.8888888888888888, \"#fdca26\"], [1.0, \"#f0f921\"]], \"type\": \"heatmap\"}], \"heatmapgl\": [{\"colorbar\": {\"outlinewidth\": 0, \"ticks\": \"\"}, \"colorscale\": [[0.0, \"#0d0887\"], [0.1111111111111111, \"#46039f\"], [0.2222222222222222, \"#7201a8\"], [0.3333333333333333, \"#9c179e\"], [0.4444444444444444, \"#bd3786\"], [0.5555555555555556, \"#d8576b\"], [0.6666666666666666, \"#ed7953\"], [0.7777777777777778, \"#fb9f3a\"], [0.8888888888888888, \"#fdca26\"], [1.0, \"#f0f921\"]], \"type\": \"heatmapgl\"}], \"histogram\": [{\"marker\": {\"colorbar\": {\"outlinewidth\": 0, \"ticks\": \"\"}}, \"type\": \"histogram\"}], \"histogram2d\": [{\"colorbar\": {\"outlinewidth\": 0, \"ticks\": \"\"}, \"colorscale\": [[0.0, \"#0d0887\"], [0.1111111111111111, \"#46039f\"], [0.2222222222222222, \"#7201a8\"], [0.3333333333333333, \"#9c179e\"], [0.4444444444444444, \"#bd3786\"], [0.5555555555555556, \"#d8576b\"], [0.6666666666666666, \"#ed7953\"], [0.7777777777777778, \"#fb9f3a\"], [0.8888888888888888, \"#fdca26\"], [1.0, \"#f0f921\"]], \"type\": \"histogram2d\"}], \"histogram2dcontour\": [{\"colorbar\": {\"outlinewidth\": 0, \"ticks\": \"\"}, \"colorscale\": [[0.0, \"#0d0887\"], [0.1111111111111111, \"#46039f\"], [0.2222222222222222, \"#7201a8\"], [0.3333333333333333, \"#9c179e\"], [0.4444444444444444, \"#bd3786\"], [0.5555555555555556, \"#d8576b\"], [0.6666666666666666, \"#ed7953\"], [0.7777777777777778, \"#fb9f3a\"], [0.8888888888888888, \"#fdca26\"], [1.0, \"#f0f921\"]], \"type\": \"histogram2dcontour\"}], \"mesh3d\": [{\"colorbar\": {\"outlinewidth\": 0, \"ticks\": \"\"}, \"type\": \"mesh3d\"}], \"parcoords\": [{\"line\": {\"colorbar\": {\"outlinewidth\": 0, \"ticks\": \"\"}}, \"type\": \"parcoords\"}], \"pie\": [{\"automargin\": true, \"type\": \"pie\"}], \"scatter\": [{\"marker\": {\"colorbar\": {\"outlinewidth\": 0, \"ticks\": \"\"}}, \"type\": \"scatter\"}], \"scatter3d\": [{\"line\": {\"colorbar\": {\"outlinewidth\": 0, \"ticks\": \"\"}}, \"marker\": {\"colorbar\": {\"outlinewidth\": 0, \"ticks\": \"\"}}, \"type\": \"scatter3d\"}], \"scattercarpet\": [{\"marker\": {\"colorbar\": {\"outlinewidth\": 0, \"ticks\": \"\"}}, \"type\": \"scattercarpet\"}], \"scattergeo\": [{\"marker\": {\"colorbar\": {\"outlinewidth\": 0, \"ticks\": \"\"}}, \"type\": \"scattergeo\"}], \"scattergl\": [{\"marker\": {\"colorbar\": {\"outlinewidth\": 0, \"ticks\": \"\"}}, \"type\": \"scattergl\"}], \"scattermapbox\": [{\"marker\": {\"colorbar\": {\"outlinewidth\": 0, \"ticks\": \"\"}}, \"type\": \"scattermapbox\"}], \"scatterpolar\": [{\"marker\": {\"colorbar\": {\"outlinewidth\": 0, \"ticks\": \"\"}}, \"type\": \"scatterpolar\"}], \"scatterpolargl\": [{\"marker\": {\"colorbar\": {\"outlinewidth\": 0, \"ticks\": \"\"}}, \"type\": \"scatterpolargl\"}], \"scatterternary\": [{\"marker\": {\"colorbar\": {\"outlinewidth\": 0, \"ticks\": \"\"}}, \"type\": \"scatterternary\"}], \"surface\": [{\"colorbar\": {\"outlinewidth\": 0, \"ticks\": \"\"}, \"colorscale\": [[0.0, \"#0d0887\"], [0.1111111111111111, \"#46039f\"], [0.2222222222222222, \"#7201a8\"], [0.3333333333333333, \"#9c179e\"], [0.4444444444444444, \"#bd3786\"], [0.5555555555555556, \"#d8576b\"], [0.6666666666666666, \"#ed7953\"], [0.7777777777777778, \"#fb9f3a\"], [0.8888888888888888, \"#fdca26\"], [1.0, \"#f0f921\"]], \"type\": \"surface\"}], \"table\": [{\"cells\": {\"fill\": {\"color\": \"#EBF0F8\"}, \"line\": {\"color\": \"white\"}}, \"header\": {\"fill\": {\"color\": \"#C8D4E3\"}, \"line\": {\"color\": \"white\"}}, \"type\": \"table\"}]}, \"layout\": {\"annotationdefaults\": {\"arrowcolor\": \"#2a3f5f\", \"arrowhead\": 0, \"arrowwidth\": 1}, \"coloraxis\": {\"colorbar\": {\"outlinewidth\": 0, \"ticks\": \"\"}}, \"colorscale\": {\"diverging\": [[0, \"#8e0152\"], [0.1, \"#c51b7d\"], [0.2, \"#de77ae\"], [0.3, \"#f1b6da\"], [0.4, \"#fde0ef\"], [0.5, \"#f7f7f7\"], [0.6, \"#e6f5d0\"], [0.7, \"#b8e186\"], [0.8, \"#7fbc41\"], [0.9, \"#4d9221\"], [1, \"#276419\"]], \"sequential\": [[0.0, \"#0d0887\"], [0.1111111111111111, \"#46039f\"], [0.2222222222222222, \"#7201a8\"], [0.3333333333333333, \"#9c179e\"], [0.4444444444444444, \"#bd3786\"], [0.5555555555555556, \"#d8576b\"], [0.6666666666666666, \"#ed7953\"], [0.7777777777777778, \"#fb9f3a\"], [0.8888888888888888, \"#fdca26\"], [1.0, \"#f0f921\"]], \"sequentialminus\": [[0.0, \"#0d0887\"], [0.1111111111111111, \"#46039f\"], [0.2222222222222222, \"#7201a8\"], [0.3333333333333333, \"#9c179e\"], [0.4444444444444444, \"#bd3786\"], [0.5555555555555556, \"#d8576b\"], [0.6666666666666666, \"#ed7953\"], [0.7777777777777778, \"#fb9f3a\"], [0.8888888888888888, \"#fdca26\"], [1.0, \"#f0f921\"]]}, \"colorway\": [\"#636efa\", \"#EF553B\", \"#00cc96\", \"#ab63fa\", \"#FFA15A\", \"#19d3f3\", \"#FF6692\", \"#B6E880\", \"#FF97FF\", \"#FECB52\"], \"font\": {\"color\": \"#2a3f5f\"}, \"geo\": {\"bgcolor\": \"white\", \"lakecolor\": \"white\", \"landcolor\": \"#E5ECF6\", \"showlakes\": true, \"showland\": true, \"subunitcolor\": \"white\"}, \"hoverlabel\": {\"align\": \"left\"}, \"hovermode\": \"closest\", \"mapbox\": {\"style\": \"light\"}, \"paper_bgcolor\": \"white\", \"plot_bgcolor\": \"#E5ECF6\", \"polar\": {\"angularaxis\": {\"gridcolor\": \"white\", \"linecolor\": \"white\", \"ticks\": \"\"}, \"bgcolor\": \"#E5ECF6\", \"radialaxis\": {\"gridcolor\": \"white\", \"linecolor\": \"white\", \"ticks\": \"\"}}, \"scene\": {\"xaxis\": {\"backgroundcolor\": \"#E5ECF6\", \"gridcolor\": \"white\", \"gridwidth\": 2, \"linecolor\": \"white\", \"showbackground\": true, \"ticks\": \"\", \"zerolinecolor\": \"white\"}, \"yaxis\": {\"backgroundcolor\": \"#E5ECF6\", \"gridcolor\": \"white\", \"gridwidth\": 2, \"linecolor\": \"white\", \"showbackground\": true, \"ticks\": \"\", \"zerolinecolor\": \"white\"}, \"zaxis\": {\"backgroundcolor\": \"#E5ECF6\", \"gridcolor\": \"white\", \"gridwidth\": 2, \"linecolor\": \"white\", \"showbackground\": true, \"ticks\": \"\", \"zerolinecolor\": \"white\"}}, \"shapedefaults\": {\"line\": {\"color\": \"#2a3f5f\"}}, \"ternary\": {\"aaxis\": {\"gridcolor\": \"white\", \"linecolor\": \"white\", \"ticks\": \"\"}, \"baxis\": {\"gridcolor\": \"white\", \"linecolor\": \"white\", \"ticks\": \"\"}, \"bgcolor\": \"#E5ECF6\", \"caxis\": {\"gridcolor\": \"white\", \"linecolor\": \"white\", \"ticks\": \"\"}}, \"title\": {\"x\": 0.05}, \"xaxis\": {\"automargin\": true, \"gridcolor\": \"white\", \"linecolor\": \"white\", \"ticks\": \"\", \"title\": {\"standoff\": 15}, \"zerolinecolor\": \"white\", \"zerolinewidth\": 2}, \"yaxis\": {\"automargin\": true, \"gridcolor\": \"white\", \"linecolor\": \"white\", \"ticks\": \"\", \"title\": {\"standoff\": 15}, \"zerolinecolor\": \"white\", \"zerolinewidth\": 2}}}},\n",
       "                        {\"responsive\": true}\n",
       "                    ).then(function(){\n",
       "                            \n",
       "var gd = document.getElementById('6f4d1e8a-b1dc-4f8d-b886-d216e10533ed');\n",
       "var x = new MutationObserver(function (mutations, observer) {{\n",
       "        var display = window.getComputedStyle(gd).display;\n",
       "        if (!display || display === 'none') {{\n",
       "            console.log([gd, 'removed!']);\n",
       "            Plotly.purge(gd);\n",
       "            observer.disconnect();\n",
       "        }}\n",
       "}});\n",
       "\n",
       "// Listen for the removal of the full notebook cells\n",
       "var notebookContainer = gd.closest('#notebook-container');\n",
       "if (notebookContainer) {{\n",
       "    x.observe(notebookContainer, {childList: true});\n",
       "}}\n",
       "\n",
       "// Listen for the clearing of the current output cell\n",
       "var outputEl = gd.closest('.output');\n",
       "if (outputEl) {{\n",
       "    x.observe(outputEl, {childList: true});\n",
       "}}\n",
       "\n",
       "                        })\n",
       "                };\n",
       "                });\n",
       "            </script>\n",
       "        </div>"
      ]
     },
     "metadata": {},
     "output_type": "display_data"
    }
   ],
   "source": [
    "fig = go.Figure(data)\n",
    "\n",
    "fig.show()"
   ]
  },
  {
   "cell_type": "code",
   "execution_count": 4,
   "metadata": {},
   "outputs": [
    {
     "data": {
      "application/javascript": [
       "\n",
       "        if (window._pyforest_update_imports_cell) { window._pyforest_update_imports_cell('import numpy as np\\nimport plotly.graph_objs as go\\nimport plotly as py'); }\n",
       "    "
      ],
      "text/plain": [
       "<IPython.core.display.Javascript object>"
      ]
     },
     "metadata": {},
     "output_type": "display_data"
    },
    {
     "data": {
      "application/javascript": [
       "\n",
       "        if (window._pyforest_update_imports_cell) { window._pyforest_update_imports_cell('import numpy as np\\nimport plotly.graph_objs as go\\nimport plotly as py'); }\n",
       "    "
      ],
      "text/plain": [
       "<IPython.core.display.Javascript object>"
      ]
     },
     "metadata": {},
     "output_type": "display_data"
    },
    {
     "data": {
      "application/vnd.plotly.v1+json": {
       "config": {
        "plotlyServerURL": "https://plot.ly"
       },
       "data": [
        {
         "type": "bar",
         "y": [
          2,
          3,
          1
         ]
        }
       ],
       "layout": {
        "template": {
         "data": {
          "bar": [
           {
            "error_x": {
             "color": "#2a3f5f"
            },
            "error_y": {
             "color": "#2a3f5f"
            },
            "marker": {
             "line": {
              "color": "#E5ECF6",
              "width": 0.5
             }
            },
            "type": "bar"
           }
          ],
          "barpolar": [
           {
            "marker": {
             "line": {
              "color": "#E5ECF6",
              "width": 0.5
             }
            },
            "type": "barpolar"
           }
          ],
          "carpet": [
           {
            "aaxis": {
             "endlinecolor": "#2a3f5f",
             "gridcolor": "white",
             "linecolor": "white",
             "minorgridcolor": "white",
             "startlinecolor": "#2a3f5f"
            },
            "baxis": {
             "endlinecolor": "#2a3f5f",
             "gridcolor": "white",
             "linecolor": "white",
             "minorgridcolor": "white",
             "startlinecolor": "#2a3f5f"
            },
            "type": "carpet"
           }
          ],
          "choropleth": [
           {
            "colorbar": {
             "outlinewidth": 0,
             "ticks": ""
            },
            "type": "choropleth"
           }
          ],
          "contour": [
           {
            "colorbar": {
             "outlinewidth": 0,
             "ticks": ""
            },
            "colorscale": [
             [
              0,
              "#0d0887"
             ],
             [
              0.1111111111111111,
              "#46039f"
             ],
             [
              0.2222222222222222,
              "#7201a8"
             ],
             [
              0.3333333333333333,
              "#9c179e"
             ],
             [
              0.4444444444444444,
              "#bd3786"
             ],
             [
              0.5555555555555556,
              "#d8576b"
             ],
             [
              0.6666666666666666,
              "#ed7953"
             ],
             [
              0.7777777777777778,
              "#fb9f3a"
             ],
             [
              0.8888888888888888,
              "#fdca26"
             ],
             [
              1,
              "#f0f921"
             ]
            ],
            "type": "contour"
           }
          ],
          "contourcarpet": [
           {
            "colorbar": {
             "outlinewidth": 0,
             "ticks": ""
            },
            "type": "contourcarpet"
           }
          ],
          "heatmap": [
           {
            "colorbar": {
             "outlinewidth": 0,
             "ticks": ""
            },
            "colorscale": [
             [
              0,
              "#0d0887"
             ],
             [
              0.1111111111111111,
              "#46039f"
             ],
             [
              0.2222222222222222,
              "#7201a8"
             ],
             [
              0.3333333333333333,
              "#9c179e"
             ],
             [
              0.4444444444444444,
              "#bd3786"
             ],
             [
              0.5555555555555556,
              "#d8576b"
             ],
             [
              0.6666666666666666,
              "#ed7953"
             ],
             [
              0.7777777777777778,
              "#fb9f3a"
             ],
             [
              0.8888888888888888,
              "#fdca26"
             ],
             [
              1,
              "#f0f921"
             ]
            ],
            "type": "heatmap"
           }
          ],
          "heatmapgl": [
           {
            "colorbar": {
             "outlinewidth": 0,
             "ticks": ""
            },
            "colorscale": [
             [
              0,
              "#0d0887"
             ],
             [
              0.1111111111111111,
              "#46039f"
             ],
             [
              0.2222222222222222,
              "#7201a8"
             ],
             [
              0.3333333333333333,
              "#9c179e"
             ],
             [
              0.4444444444444444,
              "#bd3786"
             ],
             [
              0.5555555555555556,
              "#d8576b"
             ],
             [
              0.6666666666666666,
              "#ed7953"
             ],
             [
              0.7777777777777778,
              "#fb9f3a"
             ],
             [
              0.8888888888888888,
              "#fdca26"
             ],
             [
              1,
              "#f0f921"
             ]
            ],
            "type": "heatmapgl"
           }
          ],
          "histogram": [
           {
            "marker": {
             "colorbar": {
              "outlinewidth": 0,
              "ticks": ""
             }
            },
            "type": "histogram"
           }
          ],
          "histogram2d": [
           {
            "colorbar": {
             "outlinewidth": 0,
             "ticks": ""
            },
            "colorscale": [
             [
              0,
              "#0d0887"
             ],
             [
              0.1111111111111111,
              "#46039f"
             ],
             [
              0.2222222222222222,
              "#7201a8"
             ],
             [
              0.3333333333333333,
              "#9c179e"
             ],
             [
              0.4444444444444444,
              "#bd3786"
             ],
             [
              0.5555555555555556,
              "#d8576b"
             ],
             [
              0.6666666666666666,
              "#ed7953"
             ],
             [
              0.7777777777777778,
              "#fb9f3a"
             ],
             [
              0.8888888888888888,
              "#fdca26"
             ],
             [
              1,
              "#f0f921"
             ]
            ],
            "type": "histogram2d"
           }
          ],
          "histogram2dcontour": [
           {
            "colorbar": {
             "outlinewidth": 0,
             "ticks": ""
            },
            "colorscale": [
             [
              0,
              "#0d0887"
             ],
             [
              0.1111111111111111,
              "#46039f"
             ],
             [
              0.2222222222222222,
              "#7201a8"
             ],
             [
              0.3333333333333333,
              "#9c179e"
             ],
             [
              0.4444444444444444,
              "#bd3786"
             ],
             [
              0.5555555555555556,
              "#d8576b"
             ],
             [
              0.6666666666666666,
              "#ed7953"
             ],
             [
              0.7777777777777778,
              "#fb9f3a"
             ],
             [
              0.8888888888888888,
              "#fdca26"
             ],
             [
              1,
              "#f0f921"
             ]
            ],
            "type": "histogram2dcontour"
           }
          ],
          "mesh3d": [
           {
            "colorbar": {
             "outlinewidth": 0,
             "ticks": ""
            },
            "type": "mesh3d"
           }
          ],
          "parcoords": [
           {
            "line": {
             "colorbar": {
              "outlinewidth": 0,
              "ticks": ""
             }
            },
            "type": "parcoords"
           }
          ],
          "pie": [
           {
            "automargin": true,
            "type": "pie"
           }
          ],
          "scatter": [
           {
            "marker": {
             "colorbar": {
              "outlinewidth": 0,
              "ticks": ""
             }
            },
            "type": "scatter"
           }
          ],
          "scatter3d": [
           {
            "line": {
             "colorbar": {
              "outlinewidth": 0,
              "ticks": ""
             }
            },
            "marker": {
             "colorbar": {
              "outlinewidth": 0,
              "ticks": ""
             }
            },
            "type": "scatter3d"
           }
          ],
          "scattercarpet": [
           {
            "marker": {
             "colorbar": {
              "outlinewidth": 0,
              "ticks": ""
             }
            },
            "type": "scattercarpet"
           }
          ],
          "scattergeo": [
           {
            "marker": {
             "colorbar": {
              "outlinewidth": 0,
              "ticks": ""
             }
            },
            "type": "scattergeo"
           }
          ],
          "scattergl": [
           {
            "marker": {
             "colorbar": {
              "outlinewidth": 0,
              "ticks": ""
             }
            },
            "type": "scattergl"
           }
          ],
          "scattermapbox": [
           {
            "marker": {
             "colorbar": {
              "outlinewidth": 0,
              "ticks": ""
             }
            },
            "type": "scattermapbox"
           }
          ],
          "scatterpolar": [
           {
            "marker": {
             "colorbar": {
              "outlinewidth": 0,
              "ticks": ""
             }
            },
            "type": "scatterpolar"
           }
          ],
          "scatterpolargl": [
           {
            "marker": {
             "colorbar": {
              "outlinewidth": 0,
              "ticks": ""
             }
            },
            "type": "scatterpolargl"
           }
          ],
          "scatterternary": [
           {
            "marker": {
             "colorbar": {
              "outlinewidth": 0,
              "ticks": ""
             }
            },
            "type": "scatterternary"
           }
          ],
          "surface": [
           {
            "colorbar": {
             "outlinewidth": 0,
             "ticks": ""
            },
            "colorscale": [
             [
              0,
              "#0d0887"
             ],
             [
              0.1111111111111111,
              "#46039f"
             ],
             [
              0.2222222222222222,
              "#7201a8"
             ],
             [
              0.3333333333333333,
              "#9c179e"
             ],
             [
              0.4444444444444444,
              "#bd3786"
             ],
             [
              0.5555555555555556,
              "#d8576b"
             ],
             [
              0.6666666666666666,
              "#ed7953"
             ],
             [
              0.7777777777777778,
              "#fb9f3a"
             ],
             [
              0.8888888888888888,
              "#fdca26"
             ],
             [
              1,
              "#f0f921"
             ]
            ],
            "type": "surface"
           }
          ],
          "table": [
           {
            "cells": {
             "fill": {
              "color": "#EBF0F8"
             },
             "line": {
              "color": "white"
             }
            },
            "header": {
             "fill": {
              "color": "#C8D4E3"
             },
             "line": {
              "color": "white"
             }
            },
            "type": "table"
           }
          ]
         },
         "layout": {
          "annotationdefaults": {
           "arrowcolor": "#2a3f5f",
           "arrowhead": 0,
           "arrowwidth": 1
          },
          "coloraxis": {
           "colorbar": {
            "outlinewidth": 0,
            "ticks": ""
           }
          },
          "colorscale": {
           "diverging": [
            [
             0,
             "#8e0152"
            ],
            [
             0.1,
             "#c51b7d"
            ],
            [
             0.2,
             "#de77ae"
            ],
            [
             0.3,
             "#f1b6da"
            ],
            [
             0.4,
             "#fde0ef"
            ],
            [
             0.5,
             "#f7f7f7"
            ],
            [
             0.6,
             "#e6f5d0"
            ],
            [
             0.7,
             "#b8e186"
            ],
            [
             0.8,
             "#7fbc41"
            ],
            [
             0.9,
             "#4d9221"
            ],
            [
             1,
             "#276419"
            ]
           ],
           "sequential": [
            [
             0,
             "#0d0887"
            ],
            [
             0.1111111111111111,
             "#46039f"
            ],
            [
             0.2222222222222222,
             "#7201a8"
            ],
            [
             0.3333333333333333,
             "#9c179e"
            ],
            [
             0.4444444444444444,
             "#bd3786"
            ],
            [
             0.5555555555555556,
             "#d8576b"
            ],
            [
             0.6666666666666666,
             "#ed7953"
            ],
            [
             0.7777777777777778,
             "#fb9f3a"
            ],
            [
             0.8888888888888888,
             "#fdca26"
            ],
            [
             1,
             "#f0f921"
            ]
           ],
           "sequentialminus": [
            [
             0,
             "#0d0887"
            ],
            [
             0.1111111111111111,
             "#46039f"
            ],
            [
             0.2222222222222222,
             "#7201a8"
            ],
            [
             0.3333333333333333,
             "#9c179e"
            ],
            [
             0.4444444444444444,
             "#bd3786"
            ],
            [
             0.5555555555555556,
             "#d8576b"
            ],
            [
             0.6666666666666666,
             "#ed7953"
            ],
            [
             0.7777777777777778,
             "#fb9f3a"
            ],
            [
             0.8888888888888888,
             "#fdca26"
            ],
            [
             1,
             "#f0f921"
            ]
           ]
          },
          "colorway": [
           "#636efa",
           "#EF553B",
           "#00cc96",
           "#ab63fa",
           "#FFA15A",
           "#19d3f3",
           "#FF6692",
           "#B6E880",
           "#FF97FF",
           "#FECB52"
          ],
          "font": {
           "color": "#2a3f5f"
          },
          "geo": {
           "bgcolor": "white",
           "lakecolor": "white",
           "landcolor": "#E5ECF6",
           "showlakes": true,
           "showland": true,
           "subunitcolor": "white"
          },
          "hoverlabel": {
           "align": "left"
          },
          "hovermode": "closest",
          "mapbox": {
           "style": "light"
          },
          "paper_bgcolor": "white",
          "plot_bgcolor": "#E5ECF6",
          "polar": {
           "angularaxis": {
            "gridcolor": "white",
            "linecolor": "white",
            "ticks": ""
           },
           "bgcolor": "#E5ECF6",
           "radialaxis": {
            "gridcolor": "white",
            "linecolor": "white",
            "ticks": ""
           }
          },
          "scene": {
           "xaxis": {
            "backgroundcolor": "#E5ECF6",
            "gridcolor": "white",
            "gridwidth": 2,
            "linecolor": "white",
            "showbackground": true,
            "ticks": "",
            "zerolinecolor": "white"
           },
           "yaxis": {
            "backgroundcolor": "#E5ECF6",
            "gridcolor": "white",
            "gridwidth": 2,
            "linecolor": "white",
            "showbackground": true,
            "ticks": "",
            "zerolinecolor": "white"
           },
           "zaxis": {
            "backgroundcolor": "#E5ECF6",
            "gridcolor": "white",
            "gridwidth": 2,
            "linecolor": "white",
            "showbackground": true,
            "ticks": "",
            "zerolinecolor": "white"
           }
          },
          "shapedefaults": {
           "line": {
            "color": "#2a3f5f"
           }
          },
          "ternary": {
           "aaxis": {
            "gridcolor": "white",
            "linecolor": "white",
            "ticks": ""
           },
           "baxis": {
            "gridcolor": "white",
            "linecolor": "white",
            "ticks": ""
           },
           "bgcolor": "#E5ECF6",
           "caxis": {
            "gridcolor": "white",
            "linecolor": "white",
            "ticks": ""
           }
          },
          "title": {
           "x": 0.05
          },
          "xaxis": {
           "automargin": true,
           "gridcolor": "white",
           "linecolor": "white",
           "ticks": "",
           "title": {
            "standoff": 15
           },
           "zerolinecolor": "white",
           "zerolinewidth": 2
          },
          "yaxis": {
           "automargin": true,
           "gridcolor": "white",
           "linecolor": "white",
           "ticks": "",
           "title": {
            "standoff": 15
           },
           "zerolinecolor": "white",
           "zerolinewidth": 2
          }
         }
        }
       }
      },
      "text/html": [
       "<div>\n",
       "        \n",
       "        \n",
       "            <div id=\"91f7970d-f7bc-4e1b-80bc-71c06d79fd89\" class=\"plotly-graph-div\" style=\"height:525px; width:100%;\"></div>\n",
       "            <script type=\"text/javascript\">\n",
       "                require([\"plotly\"], function(Plotly) {\n",
       "                    window.PLOTLYENV=window.PLOTLYENV || {};\n",
       "                    \n",
       "                if (document.getElementById(\"91f7970d-f7bc-4e1b-80bc-71c06d79fd89\")) {\n",
       "                    Plotly.newPlot(\n",
       "                        '91f7970d-f7bc-4e1b-80bc-71c06d79fd89',\n",
       "                        [{\"type\": \"bar\", \"y\": [2, 3, 1]}],\n",
       "                        {\"template\": {\"data\": {\"bar\": [{\"error_x\": {\"color\": \"#2a3f5f\"}, \"error_y\": {\"color\": \"#2a3f5f\"}, \"marker\": {\"line\": {\"color\": \"#E5ECF6\", \"width\": 0.5}}, \"type\": \"bar\"}], \"barpolar\": [{\"marker\": {\"line\": {\"color\": \"#E5ECF6\", \"width\": 0.5}}, \"type\": \"barpolar\"}], \"carpet\": [{\"aaxis\": {\"endlinecolor\": \"#2a3f5f\", \"gridcolor\": \"white\", \"linecolor\": \"white\", \"minorgridcolor\": \"white\", \"startlinecolor\": \"#2a3f5f\"}, \"baxis\": {\"endlinecolor\": \"#2a3f5f\", \"gridcolor\": \"white\", \"linecolor\": \"white\", \"minorgridcolor\": \"white\", \"startlinecolor\": \"#2a3f5f\"}, \"type\": \"carpet\"}], \"choropleth\": [{\"colorbar\": {\"outlinewidth\": 0, \"ticks\": \"\"}, \"type\": \"choropleth\"}], \"contour\": [{\"colorbar\": {\"outlinewidth\": 0, \"ticks\": \"\"}, \"colorscale\": [[0.0, \"#0d0887\"], [0.1111111111111111, \"#46039f\"], [0.2222222222222222, \"#7201a8\"], [0.3333333333333333, \"#9c179e\"], [0.4444444444444444, \"#bd3786\"], [0.5555555555555556, \"#d8576b\"], [0.6666666666666666, \"#ed7953\"], [0.7777777777777778, \"#fb9f3a\"], [0.8888888888888888, \"#fdca26\"], [1.0, \"#f0f921\"]], \"type\": \"contour\"}], \"contourcarpet\": [{\"colorbar\": {\"outlinewidth\": 0, \"ticks\": \"\"}, \"type\": \"contourcarpet\"}], \"heatmap\": [{\"colorbar\": {\"outlinewidth\": 0, \"ticks\": \"\"}, \"colorscale\": [[0.0, \"#0d0887\"], [0.1111111111111111, \"#46039f\"], [0.2222222222222222, \"#7201a8\"], [0.3333333333333333, \"#9c179e\"], [0.4444444444444444, \"#bd3786\"], [0.5555555555555556, \"#d8576b\"], [0.6666666666666666, \"#ed7953\"], [0.7777777777777778, \"#fb9f3a\"], [0.8888888888888888, \"#fdca26\"], [1.0, \"#f0f921\"]], \"type\": \"heatmap\"}], \"heatmapgl\": [{\"colorbar\": {\"outlinewidth\": 0, \"ticks\": \"\"}, \"colorscale\": [[0.0, \"#0d0887\"], [0.1111111111111111, \"#46039f\"], [0.2222222222222222, \"#7201a8\"], [0.3333333333333333, \"#9c179e\"], [0.4444444444444444, \"#bd3786\"], [0.5555555555555556, \"#d8576b\"], [0.6666666666666666, \"#ed7953\"], [0.7777777777777778, \"#fb9f3a\"], [0.8888888888888888, \"#fdca26\"], [1.0, \"#f0f921\"]], \"type\": \"heatmapgl\"}], \"histogram\": [{\"marker\": {\"colorbar\": {\"outlinewidth\": 0, \"ticks\": \"\"}}, \"type\": \"histogram\"}], \"histogram2d\": [{\"colorbar\": {\"outlinewidth\": 0, \"ticks\": \"\"}, \"colorscale\": [[0.0, \"#0d0887\"], [0.1111111111111111, \"#46039f\"], [0.2222222222222222, \"#7201a8\"], [0.3333333333333333, \"#9c179e\"], [0.4444444444444444, \"#bd3786\"], [0.5555555555555556, \"#d8576b\"], [0.6666666666666666, \"#ed7953\"], [0.7777777777777778, \"#fb9f3a\"], [0.8888888888888888, \"#fdca26\"], [1.0, \"#f0f921\"]], \"type\": \"histogram2d\"}], \"histogram2dcontour\": [{\"colorbar\": {\"outlinewidth\": 0, \"ticks\": \"\"}, \"colorscale\": [[0.0, \"#0d0887\"], [0.1111111111111111, \"#46039f\"], [0.2222222222222222, \"#7201a8\"], [0.3333333333333333, \"#9c179e\"], [0.4444444444444444, \"#bd3786\"], [0.5555555555555556, \"#d8576b\"], [0.6666666666666666, \"#ed7953\"], [0.7777777777777778, \"#fb9f3a\"], [0.8888888888888888, \"#fdca26\"], [1.0, \"#f0f921\"]], \"type\": \"histogram2dcontour\"}], \"mesh3d\": [{\"colorbar\": {\"outlinewidth\": 0, \"ticks\": \"\"}, \"type\": \"mesh3d\"}], \"parcoords\": [{\"line\": {\"colorbar\": {\"outlinewidth\": 0, \"ticks\": \"\"}}, \"type\": \"parcoords\"}], \"pie\": [{\"automargin\": true, \"type\": \"pie\"}], \"scatter\": [{\"marker\": {\"colorbar\": {\"outlinewidth\": 0, \"ticks\": \"\"}}, \"type\": \"scatter\"}], \"scatter3d\": [{\"line\": {\"colorbar\": {\"outlinewidth\": 0, \"ticks\": \"\"}}, \"marker\": {\"colorbar\": {\"outlinewidth\": 0, \"ticks\": \"\"}}, \"type\": \"scatter3d\"}], \"scattercarpet\": [{\"marker\": {\"colorbar\": {\"outlinewidth\": 0, \"ticks\": \"\"}}, \"type\": \"scattercarpet\"}], \"scattergeo\": [{\"marker\": {\"colorbar\": {\"outlinewidth\": 0, \"ticks\": \"\"}}, \"type\": \"scattergeo\"}], \"scattergl\": [{\"marker\": {\"colorbar\": {\"outlinewidth\": 0, \"ticks\": \"\"}}, \"type\": \"scattergl\"}], \"scattermapbox\": [{\"marker\": {\"colorbar\": {\"outlinewidth\": 0, \"ticks\": \"\"}}, \"type\": \"scattermapbox\"}], \"scatterpolar\": [{\"marker\": {\"colorbar\": {\"outlinewidth\": 0, \"ticks\": \"\"}}, \"type\": \"scatterpolar\"}], \"scatterpolargl\": [{\"marker\": {\"colorbar\": {\"outlinewidth\": 0, \"ticks\": \"\"}}, \"type\": \"scatterpolargl\"}], \"scatterternary\": [{\"marker\": {\"colorbar\": {\"outlinewidth\": 0, \"ticks\": \"\"}}, \"type\": \"scatterternary\"}], \"surface\": [{\"colorbar\": {\"outlinewidth\": 0, \"ticks\": \"\"}, \"colorscale\": [[0.0, \"#0d0887\"], [0.1111111111111111, \"#46039f\"], [0.2222222222222222, \"#7201a8\"], [0.3333333333333333, \"#9c179e\"], [0.4444444444444444, \"#bd3786\"], [0.5555555555555556, \"#d8576b\"], [0.6666666666666666, \"#ed7953\"], [0.7777777777777778, \"#fb9f3a\"], [0.8888888888888888, \"#fdca26\"], [1.0, \"#f0f921\"]], \"type\": \"surface\"}], \"table\": [{\"cells\": {\"fill\": {\"color\": \"#EBF0F8\"}, \"line\": {\"color\": \"white\"}}, \"header\": {\"fill\": {\"color\": \"#C8D4E3\"}, \"line\": {\"color\": \"white\"}}, \"type\": \"table\"}]}, \"layout\": {\"annotationdefaults\": {\"arrowcolor\": \"#2a3f5f\", \"arrowhead\": 0, \"arrowwidth\": 1}, \"coloraxis\": {\"colorbar\": {\"outlinewidth\": 0, \"ticks\": \"\"}}, \"colorscale\": {\"diverging\": [[0, \"#8e0152\"], [0.1, \"#c51b7d\"], [0.2, \"#de77ae\"], [0.3, \"#f1b6da\"], [0.4, \"#fde0ef\"], [0.5, \"#f7f7f7\"], [0.6, \"#e6f5d0\"], [0.7, \"#b8e186\"], [0.8, \"#7fbc41\"], [0.9, \"#4d9221\"], [1, \"#276419\"]], \"sequential\": [[0.0, \"#0d0887\"], [0.1111111111111111, \"#46039f\"], [0.2222222222222222, \"#7201a8\"], [0.3333333333333333, \"#9c179e\"], [0.4444444444444444, \"#bd3786\"], [0.5555555555555556, \"#d8576b\"], [0.6666666666666666, \"#ed7953\"], [0.7777777777777778, \"#fb9f3a\"], [0.8888888888888888, \"#fdca26\"], [1.0, \"#f0f921\"]], \"sequentialminus\": [[0.0, \"#0d0887\"], [0.1111111111111111, \"#46039f\"], [0.2222222222222222, \"#7201a8\"], [0.3333333333333333, \"#9c179e\"], [0.4444444444444444, \"#bd3786\"], [0.5555555555555556, \"#d8576b\"], [0.6666666666666666, \"#ed7953\"], [0.7777777777777778, \"#fb9f3a\"], [0.8888888888888888, \"#fdca26\"], [1.0, \"#f0f921\"]]}, \"colorway\": [\"#636efa\", \"#EF553B\", \"#00cc96\", \"#ab63fa\", \"#FFA15A\", \"#19d3f3\", \"#FF6692\", \"#B6E880\", \"#FF97FF\", \"#FECB52\"], \"font\": {\"color\": \"#2a3f5f\"}, \"geo\": {\"bgcolor\": \"white\", \"lakecolor\": \"white\", \"landcolor\": \"#E5ECF6\", \"showlakes\": true, \"showland\": true, \"subunitcolor\": \"white\"}, \"hoverlabel\": {\"align\": \"left\"}, \"hovermode\": \"closest\", \"mapbox\": {\"style\": \"light\"}, \"paper_bgcolor\": \"white\", \"plot_bgcolor\": \"#E5ECF6\", \"polar\": {\"angularaxis\": {\"gridcolor\": \"white\", \"linecolor\": \"white\", \"ticks\": \"\"}, \"bgcolor\": \"#E5ECF6\", \"radialaxis\": {\"gridcolor\": \"white\", \"linecolor\": \"white\", \"ticks\": \"\"}}, \"scene\": {\"xaxis\": {\"backgroundcolor\": \"#E5ECF6\", \"gridcolor\": \"white\", \"gridwidth\": 2, \"linecolor\": \"white\", \"showbackground\": true, \"ticks\": \"\", \"zerolinecolor\": \"white\"}, \"yaxis\": {\"backgroundcolor\": \"#E5ECF6\", \"gridcolor\": \"white\", \"gridwidth\": 2, \"linecolor\": \"white\", \"showbackground\": true, \"ticks\": \"\", \"zerolinecolor\": \"white\"}, \"zaxis\": {\"backgroundcolor\": \"#E5ECF6\", \"gridcolor\": \"white\", \"gridwidth\": 2, \"linecolor\": \"white\", \"showbackground\": true, \"ticks\": \"\", \"zerolinecolor\": \"white\"}}, \"shapedefaults\": {\"line\": {\"color\": \"#2a3f5f\"}}, \"ternary\": {\"aaxis\": {\"gridcolor\": \"white\", \"linecolor\": \"white\", \"ticks\": \"\"}, \"baxis\": {\"gridcolor\": \"white\", \"linecolor\": \"white\", \"ticks\": \"\"}, \"bgcolor\": \"#E5ECF6\", \"caxis\": {\"gridcolor\": \"white\", \"linecolor\": \"white\", \"ticks\": \"\"}}, \"title\": {\"x\": 0.05}, \"xaxis\": {\"automargin\": true, \"gridcolor\": \"white\", \"linecolor\": \"white\", \"ticks\": \"\", \"title\": {\"standoff\": 15}, \"zerolinecolor\": \"white\", \"zerolinewidth\": 2}, \"yaxis\": {\"automargin\": true, \"gridcolor\": \"white\", \"linecolor\": \"white\", \"ticks\": \"\", \"title\": {\"standoff\": 15}, \"zerolinecolor\": \"white\", \"zerolinewidth\": 2}}}},\n",
       "                        {\"responsive\": true}\n",
       "                    ).then(function(){\n",
       "                            \n",
       "var gd = document.getElementById('91f7970d-f7bc-4e1b-80bc-71c06d79fd89');\n",
       "var x = new MutationObserver(function (mutations, observer) {{\n",
       "        var display = window.getComputedStyle(gd).display;\n",
       "        if (!display || display === 'none') {{\n",
       "            console.log([gd, 'removed!']);\n",
       "            Plotly.purge(gd);\n",
       "            observer.disconnect();\n",
       "        }}\n",
       "}});\n",
       "\n",
       "// Listen for the removal of the full notebook cells\n",
       "var notebookContainer = gd.closest('#notebook-container');\n",
       "if (notebookContainer) {{\n",
       "    x.observe(notebookContainer, {childList: true});\n",
       "}}\n",
       "\n",
       "// Listen for the clearing of the current output cell\n",
       "var outputEl = gd.closest('.output');\n",
       "if (outputEl) {{\n",
       "    x.observe(outputEl, {childList: true});\n",
       "}}\n",
       "\n",
       "                        })\n",
       "                };\n",
       "                });\n",
       "            </script>\n",
       "        </div>"
      ]
     },
     "metadata": {},
     "output_type": "display_data"
    }
   ],
   "source": [
    "fi = go.Figure(data=go.Bar(y=[2, 3, 1]))\n",
    "fi.show()"
   ]
  },
  {
   "cell_type": "code",
   "execution_count": 5,
   "metadata": {},
   "outputs": [
    {
     "data": {
      "text/html": [
       "<div>\n",
       "<style scoped>\n",
       "    .dataframe tbody tr th:only-of-type {\n",
       "        vertical-align: middle;\n",
       "    }\n",
       "\n",
       "    .dataframe tbody tr th {\n",
       "        vertical-align: top;\n",
       "    }\n",
       "\n",
       "    .dataframe thead th {\n",
       "        text-align: right;\n",
       "    }\n",
       "</style>\n",
       "<table border=\"1\" class=\"dataframe\">\n",
       "  <thead>\n",
       "    <tr style=\"text-align: right;\">\n",
       "      <th></th>\n",
       "      <th>Unnamed: 0</th>\n",
       "      <th>Country</th>\n",
       "      <th>Region</th>\n",
       "      <th>2010</th>\n",
       "      <th>2011</th>\n",
       "      <th>2012</th>\n",
       "      <th>2013</th>\n",
       "      <th>2014</th>\n",
       "      <th>2015</th>\n",
       "      <th>2016</th>\n",
       "      <th>2017</th>\n",
       "      <th>2018</th>\n",
       "      <th>2019</th>\n",
       "    </tr>\n",
       "  </thead>\n",
       "  <tbody>\n",
       "    <tr>\n",
       "      <td>0</td>\n",
       "      <td>0</td>\n",
       "      <td>Albania</td>\n",
       "      <td>Europe</td>\n",
       "      <td>0.67</td>\n",
       "      <td>0.67</td>\n",
       "      <td>0.67</td>\n",
       "      <td>0.64</td>\n",
       "      <td>0.69</td>\n",
       "      <td>0.70</td>\n",
       "      <td>0.70</td>\n",
       "      <td>0.73</td>\n",
       "      <td>0.73</td>\n",
       "      <td>0.77</td>\n",
       "    </tr>\n",
       "    <tr>\n",
       "      <td>1</td>\n",
       "      <td>1</td>\n",
       "      <td>Algeria</td>\n",
       "      <td>Africa</td>\n",
       "      <td>0.61</td>\n",
       "      <td>0.60</td>\n",
       "      <td>0.61</td>\n",
       "      <td>0.60</td>\n",
       "      <td>0.62</td>\n",
       "      <td>0.63</td>\n",
       "      <td>0.64</td>\n",
       "      <td>0.63</td>\n",
       "      <td>0.63</td>\n",
       "      <td>0.63</td>\n",
       "    </tr>\n",
       "    <tr>\n",
       "      <td>2</td>\n",
       "      <td>2</td>\n",
       "      <td>Angola</td>\n",
       "      <td>Africa</td>\n",
       "      <td>0.67</td>\n",
       "      <td>0.66</td>\n",
       "      <td>NaN</td>\n",
       "      <td>0.67</td>\n",
       "      <td>0.63</td>\n",
       "      <td>0.64</td>\n",
       "      <td>0.64</td>\n",
       "      <td>0.64</td>\n",
       "      <td>0.63</td>\n",
       "      <td>0.66</td>\n",
       "    </tr>\n",
       "    <tr>\n",
       "      <td>3</td>\n",
       "      <td>3</td>\n",
       "      <td>Argentina</td>\n",
       "      <td>South America</td>\n",
       "      <td>0.72</td>\n",
       "      <td>0.72</td>\n",
       "      <td>0.72</td>\n",
       "      <td>0.72</td>\n",
       "      <td>0.73</td>\n",
       "      <td>0.73</td>\n",
       "      <td>0.74</td>\n",
       "      <td>0.73</td>\n",
       "      <td>0.73</td>\n",
       "      <td>0.75</td>\n",
       "    </tr>\n",
       "    <tr>\n",
       "      <td>4</td>\n",
       "      <td>4</td>\n",
       "      <td>Armenia</td>\n",
       "      <td>Europe and Central Asia</td>\n",
       "      <td>0.67</td>\n",
       "      <td>0.67</td>\n",
       "      <td>0.66</td>\n",
       "      <td>0.66</td>\n",
       "      <td>0.66</td>\n",
       "      <td>0.67</td>\n",
       "      <td>0.67</td>\n",
       "      <td>0.68</td>\n",
       "      <td>0.68</td>\n",
       "      <td>0.68</td>\n",
       "    </tr>\n",
       "  </tbody>\n",
       "</table>\n",
       "</div>"
      ],
      "text/plain": [
       "   Unnamed: 0    Country                   Region  2010  2011  2012  2013  \\\n",
       "0           0    Albania                   Europe  0.67  0.67  0.67  0.64   \n",
       "1           1    Algeria                   Africa  0.61  0.60  0.61  0.60   \n",
       "2           2     Angola                   Africa  0.67  0.66   NaN  0.67   \n",
       "3           3  Argentina            South America  0.72  0.72  0.72  0.72   \n",
       "4           4    Armenia  Europe and Central Asia  0.67  0.67  0.66  0.66   \n",
       "\n",
       "   2014  2015  2016  2017  2018  2019  \n",
       "0  0.69  0.70  0.70  0.73  0.73  0.77  \n",
       "1  0.62  0.63  0.64  0.63  0.63  0.63  \n",
       "2  0.63  0.64  0.64  0.64  0.63  0.66  \n",
       "3  0.73  0.73  0.74  0.73  0.73  0.75  \n",
       "4  0.66  0.67  0.67  0.68  0.68  0.68  "
      ]
     },
     "execution_count": 5,
     "metadata": {},
     "output_type": "execute_result"
    }
   ],
   "source": [
    "df = pd.read_csv( 'gender_gap_2010_2020_complete.csv')\n",
    "df.head()"
   ]
  },
  {
   "cell_type": "code",
   "execution_count": 6,
   "metadata": {},
   "outputs": [
    {
     "data": {
      "text/plain": [
       "Index(['Unnamed: 0', 'Country', 'Region', '2010', '2011', '2012', '2013',\n",
       "       '2014', '2015', '2016', '2017', '2018', '2019'],\n",
       "      dtype='object')"
      ]
     },
     "execution_count": 6,
     "metadata": {},
     "output_type": "execute_result"
    }
   ],
   "source": [
    "df.columns "
   ]
  },
  {
   "cell_type": "code",
   "execution_count": 7,
   "metadata": {},
   "outputs": [],
   "source": [
    "new_df = df[['2010', '2011', '2012', '2013',\n",
    "       '2014', '2015', '2016', '2017', '2018', '2019']]"
   ]
  },
  {
   "cell_type": "code",
   "execution_count": 8,
   "metadata": {},
   "outputs": [
    {
     "data": {
      "application/javascript": [
       "\n",
       "        if (window._pyforest_update_imports_cell) { window._pyforest_update_imports_cell('import numpy as np\\nimport plotly.graph_objs as go\\nimport plotly as py'); }\n",
       "    "
      ],
      "text/plain": [
       "<IPython.core.display.Javascript object>"
      ]
     },
     "metadata": {},
     "output_type": "display_data"
    },
    {
     "data": {
      "application/javascript": [
       "\n",
       "        if (window._pyforest_update_imports_cell) { window._pyforest_update_imports_cell('import numpy as np\\nimport plotly.graph_objs as go\\nimport plotly as py'); }\n",
       "    "
      ],
      "text/plain": [
       "<IPython.core.display.Javascript object>"
      ]
     },
     "metadata": {},
     "output_type": "display_data"
    },
    {
     "data": {
      "application/javascript": [
       "\n",
       "        if (window._pyforest_update_imports_cell) { window._pyforest_update_imports_cell('import numpy as np\\nimport plotly.graph_objs as go\\nimport plotly as py'); }\n",
       "    "
      ],
      "text/plain": [
       "<IPython.core.display.Javascript object>"
      ]
     },
     "metadata": {},
     "output_type": "display_data"
    },
    {
     "data": {
      "application/javascript": [
       "\n",
       "        if (window._pyforest_update_imports_cell) { window._pyforest_update_imports_cell('import numpy as np\\nimport plotly.graph_objs as go\\nimport plotly as py'); }\n",
       "    "
      ],
      "text/plain": [
       "<IPython.core.display.Javascript object>"
      ]
     },
     "metadata": {},
     "output_type": "display_data"
    },
    {
     "data": {
      "application/javascript": [
       "\n",
       "        if (window._pyforest_update_imports_cell) { window._pyforest_update_imports_cell('import numpy as np\\nimport plotly.graph_objs as go\\nimport plotly as py'); }\n",
       "    "
      ],
      "text/plain": [
       "<IPython.core.display.Javascript object>"
      ]
     },
     "metadata": {},
     "output_type": "display_data"
    },
    {
     "data": {
      "application/javascript": [
       "\n",
       "        if (window._pyforest_update_imports_cell) { window._pyforest_update_imports_cell('import numpy as np\\nimport plotly.graph_objs as go\\nimport plotly as py'); }\n",
       "    "
      ],
      "text/plain": [
       "<IPython.core.display.Javascript object>"
      ]
     },
     "metadata": {},
     "output_type": "display_data"
    },
    {
     "data": {
      "application/javascript": [
       "\n",
       "        if (window._pyforest_update_imports_cell) { window._pyforest_update_imports_cell('import numpy as np\\nimport plotly.graph_objs as go\\nimport plotly as py'); }\n",
       "    "
      ],
      "text/plain": [
       "<IPython.core.display.Javascript object>"
      ]
     },
     "metadata": {},
     "output_type": "display_data"
    },
    {
     "data": {
      "application/javascript": [
       "\n",
       "        if (window._pyforest_update_imports_cell) { window._pyforest_update_imports_cell('import numpy as np\\nimport plotly.graph_objs as go\\nimport plotly as py'); }\n",
       "    "
      ],
      "text/plain": [
       "<IPython.core.display.Javascript object>"
      ]
     },
     "metadata": {},
     "output_type": "display_data"
    },
    {
     "data": {
      "application/javascript": [
       "\n",
       "        if (window._pyforest_update_imports_cell) { window._pyforest_update_imports_cell('import numpy as np\\nimport plotly.graph_objs as go\\nimport plotly as py'); }\n",
       "    "
      ],
      "text/plain": [
       "<IPython.core.display.Javascript object>"
      ]
     },
     "metadata": {},
     "output_type": "display_data"
    },
    {
     "data": {
      "application/javascript": [
       "\n",
       "        if (window._pyforest_update_imports_cell) { window._pyforest_update_imports_cell('import numpy as np\\nimport plotly.graph_objs as go\\nimport plotly as py'); }\n",
       "    "
      ],
      "text/plain": [
       "<IPython.core.display.Javascript object>"
      ]
     },
     "metadata": {},
     "output_type": "display_data"
    },
    {
     "data": {
      "application/javascript": [
       "\n",
       "        if (window._pyforest_update_imports_cell) { window._pyforest_update_imports_cell('import numpy as np\\nimport plotly.graph_objs as go\\nimport plotly as py'); }\n",
       "    "
      ],
      "text/plain": [
       "<IPython.core.display.Javascript object>"
      ]
     },
     "metadata": {},
     "output_type": "display_data"
    },
    {
     "data": {
      "application/vnd.plotly.v1+json": {
       "config": {
        "plotlyServerURL": "https://plot.ly"
       },
       "data": [
        {
         "name": "2010",
         "type": "box",
         "y": [
          0.67,
          0.61,
          0.67,
          0.72,
          0.67,
          0.73,
          0.71,
          0.64,
          0.71,
          0.62,
          0.67,
          0.72,
          null,
          0.75,
          0.65,
          0.57,
          null,
          0.68,
          0.69,
          0.67,
          0.67,
          0.7,
          0.62,
          null,
          0.65,
          0.61,
          0.74,
          null,
          0.53,
          0.7,
          0.69,
          0.69,
          0.72,
          0.57,
          0.69,
          0.73,
          0.66,
          0.68,
          0.77,
          0.68,
          0.71,
          0.59,
          0.66,
          0.7,
          0.6,
          0.63,
          0.83,
          0.7,
          0.68,
          0.66,
          0.75,
          0.68,
          0.69,
          0.62,
          null,
          0.71,
          0.69,
          0.67,
          0.85,
          0.62,
          0.66,
          0.59,
          0.78,
          0.7,
          0.68,
          0.7,
          0.65,
          0.6,
          0.71,
          0.65,
          0.63,
          0.63,
          0.7,
          null,
          0.74,
          0.61,
          0.77,
          null,
          0.71,
          0.72,
          0.7,
          0.67,
          0.68,
          0.65,
          0.65,
          0.57,
          0.67,
          0.62,
          0.65,
          0.66,
          0.72,
          0.72,
          null,
          0.58,
          0.73,
          null,
          0.72,
          0.61,
          0.74,
          0.78,
          0.72,
          0.61,
          0.84,
          0.6,
          0.55,
          0.71,
          0.68,
          0.69,
          0.77,
          0.7,
          0.72,
          0.61,
          0.68,
          0.7,
          null,
          0.57,
          0.64,
          null,
          0.69,
          0.68,
          0.7,
          0.75,
          0.76,
          0.75,
          0.64,
          null,
          0.8,
          0.76,
          0.59,
          0.66,
          0.68,
          0.69,
          null,
          0.74,
          0.63,
          0.59,
          0.72,
          0.69,
          0.64,
          0.75,
          0.74,
          0.69,
          0.69,
          0.68,
          0.46,
          0.63,
          0.66
         ]
        },
        {
         "name": "2011",
         "type": "box",
         "y": [
          0.67,
          0.6,
          0.66,
          0.72,
          0.67,
          0.73,
          0.72,
          0.66,
          0.73,
          0.62,
          0.68,
          0.72,
          null,
          0.75,
          0.65,
          0.58,
          null,
          0.69,
          0.68,
          0.67,
          0.68,
          0.7,
          0.62,
          0.73,
          0.65,
          0.61,
          0.74,
          null,
          0.53,
          0.7,
          0.69,
          0.67,
          0.73,
          0.58,
          0.7,
          0.74,
          0.66,
          0.68,
          0.78,
          0.67,
          0.7,
          0.59,
          0.66,
          0.7,
          0.61,
          0.63,
          0.84,
          0.7,
          0.68,
          0.66,
          0.76,
          0.68,
          0.69,
          0.62,
          null,
          0.71,
          0.69,
          0.66,
          0.85,
          0.62,
          0.66,
          0.59,
          0.78,
          0.69,
          0.68,
          0.7,
          0.65,
          0.61,
          0.7,
          0.65,
          0.63,
          0.63,
          0.7,
          null,
          0.74,
          0.61,
          0.77,
          null,
          0.71,
          0.72,
          0.7,
          0.68,
          0.68,
          0.65,
          0.65,
          0.58,
          0.67,
          0.62,
          0.65,
          0.66,
          0.71,
          0.71,
          null,
          0.58,
          0.73,
          null,
          0.72,
          0.59,
          0.75,
          0.78,
          0.72,
          0.6,
          0.84,
          0.59,
          0.56,
          0.7,
          0.68,
          0.68,
          0.77,
          0.7,
          0.71,
          0.62,
          0.68,
          0.7,
          null,
          0.58,
          0.66,
          null,
          0.69,
          0.68,
          0.7,
          0.75,
          0.76,
          0.72,
          0.64,
          null,
          0.8,
          0.76,
          0.59,
          0.65,
          0.69,
          0.69,
          null,
          0.74,
          0.63,
          0.6,
          0.72,
          0.69,
          0.65,
          0.75,
          0.74,
          0.69,
          0.69,
          0.67,
          0.49,
          0.63,
          0.66
         ]
        },
        {
         "name": "2012",
         "type": "box",
         "y": [
          0.67,
          0.61,
          null,
          0.72,
          0.66,
          0.73,
          0.74,
          0.65,
          0.72,
          0.63,
          0.67,
          0.72,
          null,
          0.77,
          0.65,
          0.63,
          null,
          0.72,
          0.67,
          0.69,
          0.68,
          0.7,
          0.65,
          0.73,
          0.65,
          0.63,
          0.74,
          0.72,
          0.56,
          0.67,
          0.69,
          0.69,
          0.72,
          0.58,
          0.71,
          0.74,
          0.67,
          0.68,
          0.78,
          0.67,
          0.72,
          0.6,
          0.66,
          0.7,
          0.62,
          0.63,
          0.85,
          0.7,
          0.66,
          0.67,
          0.76,
          0.68,
          0.67,
          0.63,
          null,
          0.71,
          0.68,
          0.67,
          0.86,
          0.64,
          0.66,
          0.59,
          0.78,
          0.7,
          0.67,
          0.7,
          0.65,
          0.61,
          0.72,
          0.68,
          0.64,
          0.63,
          0.7,
          null,
          0.76,
          0.6,
          0.76,
          null,
          0.72,
          0.74,
          0.7,
          0.7,
          0.72,
          0.65,
          0.66,
          0.58,
          0.67,
          0.61,
          0.65,
          0.67,
          0.71,
          0.71,
          null,
          0.58,
          0.74,
          null,
          0.71,
          0.6,
          0.77,
          0.78,
          0.77,
          0.63,
          0.84,
          0.6,
          0.55,
          0.71,
          0.67,
          0.67,
          0.78,
          0.7,
          0.71,
          0.63,
          0.69,
          0.7,
          null,
          0.57,
          0.67,
          0.7,
          0.7,
          0.68,
          0.71,
          0.75,
          0.73,
          0.71,
          0.64,
          null,
          0.82,
          0.77,
          0.56,
          0.66,
          0.71,
          0.69,
          0.69,
          0.71,
          null,
          0.6,
          0.72,
          0.69,
          0.64,
          0.74,
          0.74,
          0.67,
          0.71,
          0.69,
          0.51,
          0.63,
          null
         ]
        },
        {
         "name": "2013",
         "type": "box",
         "y": [
          0.64,
          0.6,
          0.67,
          0.72,
          0.66,
          0.74,
          0.74,
          0.66,
          0.71,
          0.63,
          0.68,
          0.73,
          null,
          0.77,
          0.64,
          0.59,
          0.67,
          0.73,
          0.68,
          0.69,
          0.67,
          0.71,
          0.65,
          0.74,
          0.65,
          0.66,
          0.74,
          0.71,
          0.56,
          0.67,
          0.69,
          0.72,
          0.72,
          0.58,
          0.71,
          0.75,
          0.68,
          0.68,
          0.78,
          0.69,
          0.74,
          0.59,
          0.66,
          0.7,
          0.62,
          0.63,
          0.84,
          0.71,
          null,
          0.68,
          0.76,
          0.68,
          0.68,
          0.63,
          null,
          0.71,
          0.68,
          0.67,
          0.87,
          0.66,
          0.66,
          0.58,
          0.78,
          0.7,
          0.69,
          0.71,
          0.65,
          0.61,
          0.72,
          0.68,
          0.64,
          0.63,
          0.69,
          0.7,
          0.76,
          0.6,
          0.75,
          null,
          0.73,
          0.74,
          0.7,
          0.7,
          0.71,
          0.65,
          0.66,
          0.59,
          0.68,
          0.58,
          0.66,
          0.69,
          0.7,
          0.72,
          null,
          0.58,
          0.73,
          null,
          0.71,
          0.61,
          0.76,
          0.78,
          0.77,
          0.65,
          0.84,
          0.61,
          0.55,
          0.72,
          0.67,
          0.68,
          0.78,
          0.7,
          0.71,
          0.63,
          0.69,
          0.7,
          null,
          0.59,
          0.69,
          0.71,
          0.7,
          0.69,
          0.72,
          0.75,
          0.73,
          0.7,
          0.64,
          null,
          0.81,
          0.77,
          0.57,
          0.67,
          0.69,
          0.69,
          null,
          0.72,
          null,
          0.61,
          0.71,
          0.69,
          0.64,
          0.74,
          0.74,
          0.68,
          0.71,
          0.69,
          0.51,
          0.63,
          null
         ]
        },
        {
         "name": "2014",
         "type": "box",
         "y": [
          0.69,
          0.62,
          0.63,
          0.73,
          0.66,
          0.74,
          0.73,
          0.68,
          0.73,
          0.63,
          0.7,
          0.73,
          null,
          0.78,
          0.67,
          null,
          0.64,
          0.7,
          0.71,
          0.69,
          0.67,
          0.74,
          0.65,
          0.76,
          0.65,
          null,
          0.75,
          0.71,
          0.58,
          0.7,
          0.68,
          0.71,
          0.72,
          0.59,
          0.71,
          0.73,
          0.67,
          0.67,
          0.8,
          0.69,
          0.75,
          0.61,
          0.69,
          0.7,
          0.61,
          0.63,
          0.85,
          0.76,
          null,
          0.69,
          0.78,
          0.67,
          0.68,
          0.68,
          null,
          0.7,
          0.69,
          0.68,
          0.86,
          0.65,
          0.67,
          0.58,
          0.78,
          0.7,
          0.7,
          0.71,
          0.66,
          0.6,
          0.72,
          0.73,
          0.64,
          0.65,
          0.7,
          0.7,
          0.77,
          0.59,
          0.73,
          null,
          0.72,
          0.73,
          0.69,
          0.72,
          0.73,
          0.65,
          0.66,
          0.58,
          0.67,
          0.6,
          0.65,
          0.69,
          0.74,
          0.72,
          null,
          0.6,
          0.74,
          null,
          0.72,
          0.65,
          0.77,
          0.78,
          0.79,
          0.64,
          0.84,
          0.61,
          0.55,
          0.72,
          0.69,
          0.72,
          0.78,
          0.71,
          0.72,
          0.64,
          0.69,
          0.69,
          null,
          0.61,
          0.69,
          0.71,
          0.7,
          0.68,
          0.74,
          0.75,
          0.73,
          0.69,
          0.65,
          null,
          0.82,
          0.78,
          0.58,
          0.67,
          0.72,
          0.7,
          null,
          0.72,
          0.63,
          0.62,
          0.68,
          0.71,
          0.64,
          0.74,
          0.75,
          0.69,
          0.69,
          0.69,
          0.51,
          0.64,
          0.7
         ]
        },
        {
         "name": "2015",
         "type": "box",
         "y": [
          0.7,
          0.63,
          0.64,
          0.73,
          0.67,
          0.73,
          0.73,
          0.68,
          0.73,
          0.64,
          0.7,
          0.74,
          0.73,
          0.75,
          0.67,
          0.62,
          0.65,
          0.75,
          0.71,
          0.69,
          0.68,
          0.72,
          0.65,
          0.75,
          0.66,
          0.68,
          0.74,
          0.72,
          0.58,
          0.7,
          0.68,
          0.72,
          0.73,
          0.61,
          0.71,
          0.74,
          0.67,
          0.69,
          0.77,
          0.69,
          0.74,
          0.6,
          0.71,
          0.75,
          0.64,
          0.64,
          0.85,
          0.76,
          0.67,
          0.69,
          0.78,
          0.7,
          0.68,
          0.67,
          0.62,
          0.7,
          0.69,
          0.67,
          0.88,
          0.66,
          0.68,
          0.58,
          0.81,
          0.71,
          0.73,
          0.7,
          0.67,
          0.59,
          0.72,
          0.72,
          0.65,
          0.65,
          0.69,
          0.71,
          0.75,
          0.6,
          0.71,
          0.65,
          0.74,
          0.74,
          0.7,
          0.7,
          0.7,
          0.66,
          0.65,
          0.6,
          0.67,
          0.61,
          0.65,
          0.7,
          0.74,
          0.71,
          0.69,
          0.59,
          0.74,
          null,
          0.76,
          0.66,
          0.78,
          0.78,
          0.78,
          0.64,
          0.85,
          0.6,
          0.56,
          0.77,
          0.67,
          0.68,
          0.79,
          0.72,
          0.73,
          0.64,
          0.69,
          0.69,
          0.79,
          0.6,
          0.7,
          0.72,
          0.71,
          0.68,
          0.78,
          0.76,
          0.74,
          0.69,
          0.67,
          0.67,
          0.82,
          0.78,
          0.57,
          0.68,
          0.72,
          0.71,
          null,
          0.72,
          0.63,
          0.62,
          0.71,
          0.7,
          0.65,
          0.76,
          0.74,
          0.68,
          0.69,
          0.69,
          0.48,
          0.65,
          0.71
         ]
        },
        {
         "name": "2016",
         "type": "box",
         "y": [
          0.7,
          0.64,
          0.64,
          0.74,
          0.67,
          0.72,
          0.72,
          0.68,
          0.73,
          0.62,
          0.7,
          0.74,
          0.74,
          0.74,
          0.68,
          0.64,
          0.64,
          0.75,
          0.72,
          0.69,
          0.67,
          0.73,
          0.64,
          0.77,
          0.66,
          0.68,
          0.73,
          0.73,
          0.59,
          0.7,
          0.68,
          0.73,
          0.74,
          0.6,
          0.7,
          0.74,
          0.68,
          0.69,
          0.75,
          0.68,
          0.73,
          0.61,
          0.7,
          0.75,
          0.66,
          null,
          0.84,
          0.76,
          0.67,
          0.68,
          0.77,
          0.7,
          0.68,
          0.67,
          0.64,
          null,
          0.69,
          0.67,
          0.87,
          0.68,
          0.68,
          0.59,
          0.8,
          0.72,
          0.72,
          0.72,
          0.66,
          0.6,
          0.72,
          0.7,
          0.65,
          0.62,
          0.69,
          null,
          0.76,
          0.6,
          0.71,
          0.65,
          0.74,
          0.73,
          0.7,
          0.7,
          0.7,
          0.67,
          0.65,
          0.59,
          0.66,
          0.62,
          0.65,
          0.7,
          0.74,
          0.7,
          0.68,
          0.6,
          0.75,
          null,
          0.76,
          0.66,
          0.76,
          0.78,
          0.78,
          0.64,
          0.84,
          0.61,
          0.56,
          0.72,
          0.68,
          0.69,
          0.79,
          0.73,
          0.74,
          0.64,
          0.69,
          0.69,
          0.8,
          0.58,
          0.68,
          0.72,
          0.71,
          0.68,
          0.79,
          0.76,
          0.74,
          0.67,
          0.68,
          0.66,
          0.82,
          0.78,
          0.57,
          0.68,
          0.72,
          0.7,
          0.64,
          0.72,
          0.64,
          0.62,
          0.7,
          0.7,
          0.64,
          0.75,
          0.72,
          0.68,
          0.69,
          0.7,
          0.52,
          null,
          0.71
         ]
        },
        {
         "name": "2017",
         "type": "box",
         "y": [
          0.73,
          0.63,
          0.64,
          0.73,
          0.68,
          0.73,
          0.71,
          0.68,
          0.74,
          0.63,
          0.72,
          0.75,
          0.74,
          0.74,
          0.69,
          0.65,
          0.64,
          0.76,
          0.72,
          0.68,
          0.67,
          0.76,
          0.65,
          0.76,
          0.68,
          0.69,
          0.77,
          0.69,
          0.57,
          0.7,
          0.67,
          0.73,
          0.73,
          0.61,
          0.71,
          0.74,
          0.68,
          0.69,
          0.78,
          0.7,
          0.72,
          0.61,
          0.7,
          0.73,
          0.66,
          null,
          0.82,
          0.78,
          0.65,
          0.68,
          0.78,
          0.7,
          0.69,
          0.67,
          0.66,
          null,
          0.71,
          0.67,
          0.88,
          0.67,
          0.69,
          0.58,
          0.79,
          0.72,
          0.69,
          0.72,
          0.66,
          0.6,
          0.71,
          0.69,
          0.65,
          0.68,
          0.69,
          0.7,
          0.76,
          0.6,
          0.7,
          0.67,
          0.74,
          0.71,
          0.7,
          0.69,
          0.67,
          0.67,
          0.67,
          0.58,
          0.68,
          0.61,
          0.66,
          0.69,
          0.74,
          0.71,
          0.69,
          0.6,
          0.74,
          0.69,
          0.78,
          0.66,
          0.74,
          0.79,
          0.81,
          0.64,
          0.83,
          null,
          0.55,
          0.72,
          0.68,
          0.72,
          0.79,
          0.73,
          0.73,
          0.63,
          0.71,
          0.7,
          0.82,
          0.58,
          0.68,
          0.73,
          0.7,
          0.69,
          0.8,
          0.76,
          0.75,
          0.67,
          0.69,
          0.67,
          0.82,
          0.76,
          0.57,
          0.68,
          0.7,
          0.69,
          0.63,
          null,
          0.65,
          0.62,
          0.72,
          0.7,
          0.65,
          0.77,
          0.72,
          0.71,
          0.71,
          0.7,
          0.52,
          null,
          0.72
         ]
        },
        {
         "name": "2018",
         "type": "box",
         "y": [
          0.73,
          0.63,
          0.63,
          0.73,
          0.68,
          0.73,
          0.72,
          0.68,
          0.74,
          0.63,
          0.72,
          0.75,
          0.75,
          0.74,
          0.66,
          0.65,
          0.64,
          0.75,
          0.72,
          0.68,
          0.69,
          0.76,
          0.63,
          0.74,
          0.68,
          0.71,
          0.77,
          0.7,
          0.58,
          0.72,
          0.67,
          0.73,
          0.75,
          0.63,
          0.71,
          0.75,
          0.68,
          0.69,
          0.78,
          0.7,
          0.73,
          0.61,
          0.69,
          0.73,
          0.66,
          0.67,
          0.82,
          0.78,
          0.64,
          0.68,
          0.78,
          0.69,
          0.7,
          0.67,
          0.66,
          null,
          0.71,
          0.67,
          0.86,
          0.66,
          0.69,
          0.59,
          0.8,
          0.72,
          0.71,
          0.72,
          0.66,
          0.6,
          0.71,
          0.7,
          0.66,
          0.63,
          0.69,
          0.75,
          0.76,
          0.6,
          0.69,
          0.68,
          0.75,
          0.71,
          0.71,
          0.69,
          0.66,
          0.68,
          0.66,
          0.58,
          0.69,
          0.61,
          0.66,
          0.72,
          0.73,
          0.71,
          0.71,
          0.61,
          0.72,
          0.69,
          0.79,
          0.67,
          0.75,
          0.8,
          0.81,
          0.62,
          0.84,
          0.6,
          0.55,
          0.72,
          0.67,
          0.72,
          0.8,
          0.73,
          0.73,
          0.63,
          0.71,
          0.7,
          0.8,
          0.59,
          0.68,
          0.73,
          0.71,
          0.69,
          0.78,
          0.76,
          0.75,
          0.68,
          0.7,
          null,
          0.82,
          0.76,
          0.57,
          0.64,
          0.7,
          0.7,
          0.64,
          null,
          0.65,
          0.63,
          0.72,
          0.71,
          0.64,
          0.74,
          0.72,
          0.72,
          0.71,
          0.7,
          0.5,
          null,
          0.72
         ]
        },
        {
         "name": "2019",
         "type": "box",
         "y": [
          0.77,
          0.63,
          0.66,
          0.75,
          0.68,
          0.73,
          0.74,
          0.69,
          0.72,
          0.63,
          0.73,
          0.75,
          0.75,
          0.75,
          0.67,
          0.66,
          0.64,
          0.73,
          0.71,
          0.69,
          0.69,
          0.73,
          0.64,
          0.74,
          0.69,
          0.69,
          0.77,
          0.72,
          0.6,
          0.72,
          0.68,
          0.76,
          0.78,
          0.61,
          0.72,
          0.75,
          0.69,
          0.71,
          0.78,
          0.7,
          0.73,
          0.63,
          0.71,
          0.75,
          0.7,
          0.68,
          0.83,
          0.78,
          0.63,
          0.71,
          0.79,
          0.67,
          0.7,
          0.67,
          0.64,
          null,
          0.72,
          0.68,
          0.88,
          0.67,
          0.7,
          0.58,
          0.8,
          0.72,
          0.71,
          0.74,
          0.65,
          0.62,
          0.71,
          0.67,
          0.67,
          0.65,
          0.69,
          0.73,
          0.78,
          0.6,
          0.7,
          0.68,
          0.74,
          0.72,
          0.71,
          0.72,
          0.66,
          0.68,
          0.65,
          0.62,
          0.69,
          0.61,
          0.66,
          0.75,
          0.76,
          0.71,
          0.71,
          0.6,
          0.72,
          0.66,
          0.78,
          0.68,
          0.74,
          0.8,
          0.8,
          0.64,
          0.84,
          0.6,
          0.56,
          0.73,
          0.68,
          0.71,
          0.78,
          0.74,
          0.74,
          0.63,
          0.72,
          0.71,
          0.79,
          0.6,
          0.68,
          0.74,
          0.72,
          0.72,
          0.74,
          0.78,
          0.8,
          0.68,
          0.71,
          null,
          0.82,
          0.78,
          0.57,
          0.63,
          0.71,
          0.71,
          0.66,
          0.76,
          0.64,
          0.64,
          0.72,
          0.72,
          0.66,
          0.77,
          0.72,
          0.74,
          0.71,
          0.7,
          0.49,
          0.73,
          0.73
         ]
        }
       ],
       "layout": {
        "template": {
         "data": {
          "bar": [
           {
            "error_x": {
             "color": "#2a3f5f"
            },
            "error_y": {
             "color": "#2a3f5f"
            },
            "marker": {
             "line": {
              "color": "#E5ECF6",
              "width": 0.5
             }
            },
            "type": "bar"
           }
          ],
          "barpolar": [
           {
            "marker": {
             "line": {
              "color": "#E5ECF6",
              "width": 0.5
             }
            },
            "type": "barpolar"
           }
          ],
          "carpet": [
           {
            "aaxis": {
             "endlinecolor": "#2a3f5f",
             "gridcolor": "white",
             "linecolor": "white",
             "minorgridcolor": "white",
             "startlinecolor": "#2a3f5f"
            },
            "baxis": {
             "endlinecolor": "#2a3f5f",
             "gridcolor": "white",
             "linecolor": "white",
             "minorgridcolor": "white",
             "startlinecolor": "#2a3f5f"
            },
            "type": "carpet"
           }
          ],
          "choropleth": [
           {
            "colorbar": {
             "outlinewidth": 0,
             "ticks": ""
            },
            "type": "choropleth"
           }
          ],
          "contour": [
           {
            "colorbar": {
             "outlinewidth": 0,
             "ticks": ""
            },
            "colorscale": [
             [
              0,
              "#0d0887"
             ],
             [
              0.1111111111111111,
              "#46039f"
             ],
             [
              0.2222222222222222,
              "#7201a8"
             ],
             [
              0.3333333333333333,
              "#9c179e"
             ],
             [
              0.4444444444444444,
              "#bd3786"
             ],
             [
              0.5555555555555556,
              "#d8576b"
             ],
             [
              0.6666666666666666,
              "#ed7953"
             ],
             [
              0.7777777777777778,
              "#fb9f3a"
             ],
             [
              0.8888888888888888,
              "#fdca26"
             ],
             [
              1,
              "#f0f921"
             ]
            ],
            "type": "contour"
           }
          ],
          "contourcarpet": [
           {
            "colorbar": {
             "outlinewidth": 0,
             "ticks": ""
            },
            "type": "contourcarpet"
           }
          ],
          "heatmap": [
           {
            "colorbar": {
             "outlinewidth": 0,
             "ticks": ""
            },
            "colorscale": [
             [
              0,
              "#0d0887"
             ],
             [
              0.1111111111111111,
              "#46039f"
             ],
             [
              0.2222222222222222,
              "#7201a8"
             ],
             [
              0.3333333333333333,
              "#9c179e"
             ],
             [
              0.4444444444444444,
              "#bd3786"
             ],
             [
              0.5555555555555556,
              "#d8576b"
             ],
             [
              0.6666666666666666,
              "#ed7953"
             ],
             [
              0.7777777777777778,
              "#fb9f3a"
             ],
             [
              0.8888888888888888,
              "#fdca26"
             ],
             [
              1,
              "#f0f921"
             ]
            ],
            "type": "heatmap"
           }
          ],
          "heatmapgl": [
           {
            "colorbar": {
             "outlinewidth": 0,
             "ticks": ""
            },
            "colorscale": [
             [
              0,
              "#0d0887"
             ],
             [
              0.1111111111111111,
              "#46039f"
             ],
             [
              0.2222222222222222,
              "#7201a8"
             ],
             [
              0.3333333333333333,
              "#9c179e"
             ],
             [
              0.4444444444444444,
              "#bd3786"
             ],
             [
              0.5555555555555556,
              "#d8576b"
             ],
             [
              0.6666666666666666,
              "#ed7953"
             ],
             [
              0.7777777777777778,
              "#fb9f3a"
             ],
             [
              0.8888888888888888,
              "#fdca26"
             ],
             [
              1,
              "#f0f921"
             ]
            ],
            "type": "heatmapgl"
           }
          ],
          "histogram": [
           {
            "marker": {
             "colorbar": {
              "outlinewidth": 0,
              "ticks": ""
             }
            },
            "type": "histogram"
           }
          ],
          "histogram2d": [
           {
            "colorbar": {
             "outlinewidth": 0,
             "ticks": ""
            },
            "colorscale": [
             [
              0,
              "#0d0887"
             ],
             [
              0.1111111111111111,
              "#46039f"
             ],
             [
              0.2222222222222222,
              "#7201a8"
             ],
             [
              0.3333333333333333,
              "#9c179e"
             ],
             [
              0.4444444444444444,
              "#bd3786"
             ],
             [
              0.5555555555555556,
              "#d8576b"
             ],
             [
              0.6666666666666666,
              "#ed7953"
             ],
             [
              0.7777777777777778,
              "#fb9f3a"
             ],
             [
              0.8888888888888888,
              "#fdca26"
             ],
             [
              1,
              "#f0f921"
             ]
            ],
            "type": "histogram2d"
           }
          ],
          "histogram2dcontour": [
           {
            "colorbar": {
             "outlinewidth": 0,
             "ticks": ""
            },
            "colorscale": [
             [
              0,
              "#0d0887"
             ],
             [
              0.1111111111111111,
              "#46039f"
             ],
             [
              0.2222222222222222,
              "#7201a8"
             ],
             [
              0.3333333333333333,
              "#9c179e"
             ],
             [
              0.4444444444444444,
              "#bd3786"
             ],
             [
              0.5555555555555556,
              "#d8576b"
             ],
             [
              0.6666666666666666,
              "#ed7953"
             ],
             [
              0.7777777777777778,
              "#fb9f3a"
             ],
             [
              0.8888888888888888,
              "#fdca26"
             ],
             [
              1,
              "#f0f921"
             ]
            ],
            "type": "histogram2dcontour"
           }
          ],
          "mesh3d": [
           {
            "colorbar": {
             "outlinewidth": 0,
             "ticks": ""
            },
            "type": "mesh3d"
           }
          ],
          "parcoords": [
           {
            "line": {
             "colorbar": {
              "outlinewidth": 0,
              "ticks": ""
             }
            },
            "type": "parcoords"
           }
          ],
          "pie": [
           {
            "automargin": true,
            "type": "pie"
           }
          ],
          "scatter": [
           {
            "marker": {
             "colorbar": {
              "outlinewidth": 0,
              "ticks": ""
             }
            },
            "type": "scatter"
           }
          ],
          "scatter3d": [
           {
            "line": {
             "colorbar": {
              "outlinewidth": 0,
              "ticks": ""
             }
            },
            "marker": {
             "colorbar": {
              "outlinewidth": 0,
              "ticks": ""
             }
            },
            "type": "scatter3d"
           }
          ],
          "scattercarpet": [
           {
            "marker": {
             "colorbar": {
              "outlinewidth": 0,
              "ticks": ""
             }
            },
            "type": "scattercarpet"
           }
          ],
          "scattergeo": [
           {
            "marker": {
             "colorbar": {
              "outlinewidth": 0,
              "ticks": ""
             }
            },
            "type": "scattergeo"
           }
          ],
          "scattergl": [
           {
            "marker": {
             "colorbar": {
              "outlinewidth": 0,
              "ticks": ""
             }
            },
            "type": "scattergl"
           }
          ],
          "scattermapbox": [
           {
            "marker": {
             "colorbar": {
              "outlinewidth": 0,
              "ticks": ""
             }
            },
            "type": "scattermapbox"
           }
          ],
          "scatterpolar": [
           {
            "marker": {
             "colorbar": {
              "outlinewidth": 0,
              "ticks": ""
             }
            },
            "type": "scatterpolar"
           }
          ],
          "scatterpolargl": [
           {
            "marker": {
             "colorbar": {
              "outlinewidth": 0,
              "ticks": ""
             }
            },
            "type": "scatterpolargl"
           }
          ],
          "scatterternary": [
           {
            "marker": {
             "colorbar": {
              "outlinewidth": 0,
              "ticks": ""
             }
            },
            "type": "scatterternary"
           }
          ],
          "surface": [
           {
            "colorbar": {
             "outlinewidth": 0,
             "ticks": ""
            },
            "colorscale": [
             [
              0,
              "#0d0887"
             ],
             [
              0.1111111111111111,
              "#46039f"
             ],
             [
              0.2222222222222222,
              "#7201a8"
             ],
             [
              0.3333333333333333,
              "#9c179e"
             ],
             [
              0.4444444444444444,
              "#bd3786"
             ],
             [
              0.5555555555555556,
              "#d8576b"
             ],
             [
              0.6666666666666666,
              "#ed7953"
             ],
             [
              0.7777777777777778,
              "#fb9f3a"
             ],
             [
              0.8888888888888888,
              "#fdca26"
             ],
             [
              1,
              "#f0f921"
             ]
            ],
            "type": "surface"
           }
          ],
          "table": [
           {
            "cells": {
             "fill": {
              "color": "#EBF0F8"
             },
             "line": {
              "color": "white"
             }
            },
            "header": {
             "fill": {
              "color": "#C8D4E3"
             },
             "line": {
              "color": "white"
             }
            },
            "type": "table"
           }
          ]
         },
         "layout": {
          "annotationdefaults": {
           "arrowcolor": "#2a3f5f",
           "arrowhead": 0,
           "arrowwidth": 1
          },
          "coloraxis": {
           "colorbar": {
            "outlinewidth": 0,
            "ticks": ""
           }
          },
          "colorscale": {
           "diverging": [
            [
             0,
             "#8e0152"
            ],
            [
             0.1,
             "#c51b7d"
            ],
            [
             0.2,
             "#de77ae"
            ],
            [
             0.3,
             "#f1b6da"
            ],
            [
             0.4,
             "#fde0ef"
            ],
            [
             0.5,
             "#f7f7f7"
            ],
            [
             0.6,
             "#e6f5d0"
            ],
            [
             0.7,
             "#b8e186"
            ],
            [
             0.8,
             "#7fbc41"
            ],
            [
             0.9,
             "#4d9221"
            ],
            [
             1,
             "#276419"
            ]
           ],
           "sequential": [
            [
             0,
             "#0d0887"
            ],
            [
             0.1111111111111111,
             "#46039f"
            ],
            [
             0.2222222222222222,
             "#7201a8"
            ],
            [
             0.3333333333333333,
             "#9c179e"
            ],
            [
             0.4444444444444444,
             "#bd3786"
            ],
            [
             0.5555555555555556,
             "#d8576b"
            ],
            [
             0.6666666666666666,
             "#ed7953"
            ],
            [
             0.7777777777777778,
             "#fb9f3a"
            ],
            [
             0.8888888888888888,
             "#fdca26"
            ],
            [
             1,
             "#f0f921"
            ]
           ],
           "sequentialminus": [
            [
             0,
             "#0d0887"
            ],
            [
             0.1111111111111111,
             "#46039f"
            ],
            [
             0.2222222222222222,
             "#7201a8"
            ],
            [
             0.3333333333333333,
             "#9c179e"
            ],
            [
             0.4444444444444444,
             "#bd3786"
            ],
            [
             0.5555555555555556,
             "#d8576b"
            ],
            [
             0.6666666666666666,
             "#ed7953"
            ],
            [
             0.7777777777777778,
             "#fb9f3a"
            ],
            [
             0.8888888888888888,
             "#fdca26"
            ],
            [
             1,
             "#f0f921"
            ]
           ]
          },
          "colorway": [
           "#636efa",
           "#EF553B",
           "#00cc96",
           "#ab63fa",
           "#FFA15A",
           "#19d3f3",
           "#FF6692",
           "#B6E880",
           "#FF97FF",
           "#FECB52"
          ],
          "font": {
           "color": "#2a3f5f"
          },
          "geo": {
           "bgcolor": "white",
           "lakecolor": "white",
           "landcolor": "#E5ECF6",
           "showlakes": true,
           "showland": true,
           "subunitcolor": "white"
          },
          "hoverlabel": {
           "align": "left"
          },
          "hovermode": "closest",
          "mapbox": {
           "style": "light"
          },
          "paper_bgcolor": "white",
          "plot_bgcolor": "#E5ECF6",
          "polar": {
           "angularaxis": {
            "gridcolor": "white",
            "linecolor": "white",
            "ticks": ""
           },
           "bgcolor": "#E5ECF6",
           "radialaxis": {
            "gridcolor": "white",
            "linecolor": "white",
            "ticks": ""
           }
          },
          "scene": {
           "xaxis": {
            "backgroundcolor": "#E5ECF6",
            "gridcolor": "white",
            "gridwidth": 2,
            "linecolor": "white",
            "showbackground": true,
            "ticks": "",
            "zerolinecolor": "white"
           },
           "yaxis": {
            "backgroundcolor": "#E5ECF6",
            "gridcolor": "white",
            "gridwidth": 2,
            "linecolor": "white",
            "showbackground": true,
            "ticks": "",
            "zerolinecolor": "white"
           },
           "zaxis": {
            "backgroundcolor": "#E5ECF6",
            "gridcolor": "white",
            "gridwidth": 2,
            "linecolor": "white",
            "showbackground": true,
            "ticks": "",
            "zerolinecolor": "white"
           }
          },
          "shapedefaults": {
           "line": {
            "color": "#2a3f5f"
           }
          },
          "ternary": {
           "aaxis": {
            "gridcolor": "white",
            "linecolor": "white",
            "ticks": ""
           },
           "baxis": {
            "gridcolor": "white",
            "linecolor": "white",
            "ticks": ""
           },
           "bgcolor": "#E5ECF6",
           "caxis": {
            "gridcolor": "white",
            "linecolor": "white",
            "ticks": ""
           }
          },
          "title": {
           "x": 0.05
          },
          "xaxis": {
           "automargin": true,
           "gridcolor": "white",
           "linecolor": "white",
           "ticks": "",
           "title": {
            "standoff": 15
           },
           "zerolinecolor": "white",
           "zerolinewidth": 2
          },
          "yaxis": {
           "automargin": true,
           "gridcolor": "white",
           "linecolor": "white",
           "ticks": "",
           "title": {
            "standoff": 15
           },
           "zerolinecolor": "white",
           "zerolinewidth": 2
          }
         }
        }
       }
      },
      "text/html": [
       "<div>\n",
       "        \n",
       "        \n",
       "            <div id=\"b5fc4cdb-df09-4ef0-bcb1-f8897bc2e225\" class=\"plotly-graph-div\" style=\"height:525px; width:100%;\"></div>\n",
       "            <script type=\"text/javascript\">\n",
       "                require([\"plotly\"], function(Plotly) {\n",
       "                    window.PLOTLYENV=window.PLOTLYENV || {};\n",
       "                    \n",
       "                if (document.getElementById(\"b5fc4cdb-df09-4ef0-bcb1-f8897bc2e225\")) {\n",
       "                    Plotly.newPlot(\n",
       "                        'b5fc4cdb-df09-4ef0-bcb1-f8897bc2e225',\n",
       "                        [{\"name\": \"2010\", \"type\": \"box\", \"y\": [0.67, 0.61, 0.67, 0.72, 0.67, 0.73, 0.71, 0.64, 0.71, 0.62, 0.67, 0.72, null, 0.75, 0.65, 0.57, null, 0.68, 0.69, 0.67, 0.67, 0.7, 0.62, null, 0.65, 0.61, 0.74, null, 0.53, 0.7, 0.69, 0.69, 0.72, 0.57, 0.69, 0.73, 0.66, 0.68, 0.77, 0.68, 0.71, 0.59, 0.66, 0.7, 0.6, 0.63, 0.83, 0.7, 0.68, 0.66, 0.75, 0.68, 0.69, 0.62, null, 0.71, 0.69, 0.67, 0.85, 0.62, 0.66, 0.59, 0.78, 0.7, 0.68, 0.7, 0.65, 0.6, 0.71, 0.65, 0.63, 0.63, 0.7, null, 0.74, 0.61, 0.77, null, 0.71, 0.72, 0.7, 0.67, 0.68, 0.65, 0.65, 0.57, 0.67, 0.62, 0.65, 0.66, 0.72, 0.72, null, 0.58, 0.73, null, 0.72, 0.61, 0.74, 0.78, 0.72, 0.61, 0.84, 0.6, 0.55, 0.71, 0.68, 0.69, 0.77, 0.7, 0.72, 0.61, 0.68, 0.7, null, 0.57, 0.64, null, 0.69, 0.68, 0.7, 0.75, 0.76, 0.75, 0.64, null, 0.8, 0.76, 0.59, 0.66, 0.68, 0.69, null, 0.74, 0.63, 0.59, 0.72, 0.69, 0.64, 0.75, 0.74, 0.69, 0.69, 0.68, 0.46, 0.63, 0.66]}, {\"name\": \"2011\", \"type\": \"box\", \"y\": [0.67, 0.6, 0.66, 0.72, 0.67, 0.73, 0.72, 0.66, 0.73, 0.62, 0.68, 0.72, null, 0.75, 0.65, 0.58, null, 0.69, 0.68, 0.67, 0.68, 0.7, 0.62, 0.73, 0.65, 0.61, 0.74, null, 0.53, 0.7, 0.69, 0.67, 0.73, 0.58, 0.7, 0.74, 0.66, 0.68, 0.78, 0.67, 0.7, 0.59, 0.66, 0.7, 0.61, 0.63, 0.84, 0.7, 0.68, 0.66, 0.76, 0.68, 0.69, 0.62, null, 0.71, 0.69, 0.66, 0.85, 0.62, 0.66, 0.59, 0.78, 0.69, 0.68, 0.7, 0.65, 0.61, 0.7, 0.65, 0.63, 0.63, 0.7, null, 0.74, 0.61, 0.77, null, 0.71, 0.72, 0.7, 0.68, 0.68, 0.65, 0.65, 0.58, 0.67, 0.62, 0.65, 0.66, 0.71, 0.71, null, 0.58, 0.73, null, 0.72, 0.59, 0.75, 0.78, 0.72, 0.6, 0.84, 0.59, 0.56, 0.7, 0.68, 0.68, 0.77, 0.7, 0.71, 0.62, 0.68, 0.7, null, 0.58, 0.66, null, 0.69, 0.68, 0.7, 0.75, 0.76, 0.72, 0.64, null, 0.8, 0.76, 0.59, 0.65, 0.69, 0.69, null, 0.74, 0.63, 0.6, 0.72, 0.69, 0.65, 0.75, 0.74, 0.69, 0.69, 0.67, 0.49, 0.63, 0.66]}, {\"name\": \"2012\", \"type\": \"box\", \"y\": [0.67, 0.61, null, 0.72, 0.66, 0.73, 0.74, 0.65, 0.72, 0.63, 0.67, 0.72, null, 0.77, 0.65, 0.63, null, 0.72, 0.67, 0.69, 0.68, 0.7, 0.65, 0.73, 0.65, 0.63, 0.74, 0.72, 0.56, 0.67, 0.69, 0.69, 0.72, 0.58, 0.71, 0.74, 0.67, 0.68, 0.78, 0.67, 0.72, 0.6, 0.66, 0.7, 0.62, 0.63, 0.85, 0.7, 0.66, 0.67, 0.76, 0.68, 0.67, 0.63, null, 0.71, 0.68, 0.67, 0.86, 0.64, 0.66, 0.59, 0.78, 0.7, 0.67, 0.7, 0.65, 0.61, 0.72, 0.68, 0.64, 0.63, 0.7, null, 0.76, 0.6, 0.76, null, 0.72, 0.74, 0.7, 0.7, 0.72, 0.65, 0.66, 0.58, 0.67, 0.61, 0.65, 0.67, 0.71, 0.71, null, 0.58, 0.74, null, 0.71, 0.6, 0.77, 0.78, 0.77, 0.63, 0.84, 0.6, 0.55, 0.71, 0.67, 0.67, 0.78, 0.7, 0.71, 0.63, 0.69, 0.7, null, 0.57, 0.67, 0.7, 0.7, 0.68, 0.71, 0.75, 0.73, 0.71, 0.64, null, 0.82, 0.77, 0.56, 0.66, 0.71, 0.69, 0.69, 0.71, null, 0.6, 0.72, 0.69, 0.64, 0.74, 0.74, 0.67, 0.71, 0.69, 0.51, 0.63, null]}, {\"name\": \"2013\", \"type\": \"box\", \"y\": [0.64, 0.6, 0.67, 0.72, 0.66, 0.74, 0.74, 0.66, 0.71, 0.63, 0.68, 0.73, null, 0.77, 0.64, 0.59, 0.67, 0.73, 0.68, 0.69, 0.67, 0.71, 0.65, 0.74, 0.65, 0.66, 0.74, 0.71, 0.56, 0.67, 0.69, 0.72, 0.72, 0.58, 0.71, 0.75, 0.68, 0.68, 0.78, 0.69, 0.74, 0.59, 0.66, 0.7, 0.62, 0.63, 0.84, 0.71, null, 0.68, 0.76, 0.68, 0.68, 0.63, null, 0.71, 0.68, 0.67, 0.87, 0.66, 0.66, 0.58, 0.78, 0.7, 0.69, 0.71, 0.65, 0.61, 0.72, 0.68, 0.64, 0.63, 0.69, 0.7, 0.76, 0.6, 0.75, null, 0.73, 0.74, 0.7, 0.7, 0.71, 0.65, 0.66, 0.59, 0.68, 0.58, 0.66, 0.69, 0.7, 0.72, null, 0.58, 0.73, null, 0.71, 0.61, 0.76, 0.78, 0.77, 0.65, 0.84, 0.61, 0.55, 0.72, 0.67, 0.68, 0.78, 0.7, 0.71, 0.63, 0.69, 0.7, null, 0.59, 0.69, 0.71, 0.7, 0.69, 0.72, 0.75, 0.73, 0.7, 0.64, null, 0.81, 0.77, 0.57, 0.67, 0.69, 0.69, null, 0.72, null, 0.61, 0.71, 0.69, 0.64, 0.74, 0.74, 0.68, 0.71, 0.69, 0.51, 0.63, null]}, {\"name\": \"2014\", \"type\": \"box\", \"y\": [0.69, 0.62, 0.63, 0.73, 0.66, 0.74, 0.73, 0.68, 0.73, 0.63, 0.7, 0.73, null, 0.78, 0.67, null, 0.64, 0.7, 0.71, 0.69, 0.67, 0.74, 0.65, 0.76, 0.65, null, 0.75, 0.71, 0.58, 0.7, 0.68, 0.71, 0.72, 0.59, 0.71, 0.73, 0.67, 0.67, 0.8, 0.69, 0.75, 0.61, 0.69, 0.7, 0.61, 0.63, 0.85, 0.76, null, 0.69, 0.78, 0.67, 0.68, 0.68, null, 0.7, 0.69, 0.68, 0.86, 0.65, 0.67, 0.58, 0.78, 0.7, 0.7, 0.71, 0.66, 0.6, 0.72, 0.73, 0.64, 0.65, 0.7, 0.7, 0.77, 0.59, 0.73, null, 0.72, 0.73, 0.69, 0.72, 0.73, 0.65, 0.66, 0.58, 0.67, 0.6, 0.65, 0.69, 0.74, 0.72, null, 0.6, 0.74, null, 0.72, 0.65, 0.77, 0.78, 0.79, 0.64, 0.84, 0.61, 0.55, 0.72, 0.69, 0.72, 0.78, 0.71, 0.72, 0.64, 0.69, 0.69, null, 0.61, 0.69, 0.71, 0.7, 0.68, 0.74, 0.75, 0.73, 0.69, 0.65, null, 0.82, 0.78, 0.58, 0.67, 0.72, 0.7, null, 0.72, 0.63, 0.62, 0.68, 0.71, 0.64, 0.74, 0.75, 0.69, 0.69, 0.69, 0.51, 0.64, 0.7]}, {\"name\": \"2015\", \"type\": \"box\", \"y\": [0.7, 0.63, 0.64, 0.73, 0.67, 0.73, 0.73, 0.68, 0.73, 0.64, 0.7, 0.74, 0.73, 0.75, 0.67, 0.62, 0.65, 0.75, 0.71, 0.69, 0.68, 0.72, 0.65, 0.75, 0.66, 0.68, 0.74, 0.72, 0.58, 0.7, 0.68, 0.72, 0.73, 0.61, 0.71, 0.74, 0.67, 0.69, 0.77, 0.69, 0.74, 0.6, 0.71, 0.75, 0.64, 0.64, 0.85, 0.76, 0.67, 0.69, 0.78, 0.7, 0.68, 0.67, 0.62, 0.7, 0.69, 0.67, 0.88, 0.66, 0.68, 0.58, 0.81, 0.71, 0.73, 0.7, 0.67, 0.59, 0.72, 0.72, 0.65, 0.65, 0.69, 0.71, 0.75, 0.6, 0.71, 0.65, 0.74, 0.74, 0.7, 0.7, 0.7, 0.66, 0.65, 0.6, 0.67, 0.61, 0.65, 0.7, 0.74, 0.71, 0.69, 0.59, 0.74, null, 0.76, 0.66, 0.78, 0.78, 0.78, 0.64, 0.85, 0.6, 0.56, 0.77, 0.67, 0.68, 0.79, 0.72, 0.73, 0.64, 0.69, 0.69, 0.79, 0.6, 0.7, 0.72, 0.71, 0.68, 0.78, 0.76, 0.74, 0.69, 0.67, 0.67, 0.82, 0.78, 0.57, 0.68, 0.72, 0.71, null, 0.72, 0.63, 0.62, 0.71, 0.7, 0.65, 0.76, 0.74, 0.68, 0.69, 0.69, 0.48, 0.65, 0.71]}, {\"name\": \"2016\", \"type\": \"box\", \"y\": [0.7, 0.64, 0.64, 0.74, 0.67, 0.72, 0.72, 0.68, 0.73, 0.62, 0.7, 0.74, 0.74, 0.74, 0.68, 0.64, 0.64, 0.75, 0.72, 0.69, 0.67, 0.73, 0.64, 0.77, 0.66, 0.68, 0.73, 0.73, 0.59, 0.7, 0.68, 0.73, 0.74, 0.6, 0.7, 0.74, 0.68, 0.69, 0.75, 0.68, 0.73, 0.61, 0.7, 0.75, 0.66, null, 0.84, 0.76, 0.67, 0.68, 0.77, 0.7, 0.68, 0.67, 0.64, null, 0.69, 0.67, 0.87, 0.68, 0.68, 0.59, 0.8, 0.72, 0.72, 0.72, 0.66, 0.6, 0.72, 0.7, 0.65, 0.62, 0.69, null, 0.76, 0.6, 0.71, 0.65, 0.74, 0.73, 0.7, 0.7, 0.7, 0.67, 0.65, 0.59, 0.66, 0.62, 0.65, 0.7, 0.74, 0.7, 0.68, 0.6, 0.75, null, 0.76, 0.66, 0.76, 0.78, 0.78, 0.64, 0.84, 0.61, 0.56, 0.72, 0.68, 0.69, 0.79, 0.73, 0.74, 0.64, 0.69, 0.69, 0.8, 0.58, 0.68, 0.72, 0.71, 0.68, 0.79, 0.76, 0.74, 0.67, 0.68, 0.66, 0.82, 0.78, 0.57, 0.68, 0.72, 0.7, 0.64, 0.72, 0.64, 0.62, 0.7, 0.7, 0.64, 0.75, 0.72, 0.68, 0.69, 0.7, 0.52, null, 0.71]}, {\"name\": \"2017\", \"type\": \"box\", \"y\": [0.73, 0.63, 0.64, 0.73, 0.68, 0.73, 0.71, 0.68, 0.74, 0.63, 0.72, 0.75, 0.74, 0.74, 0.69, 0.65, 0.64, 0.76, 0.72, 0.68, 0.67, 0.76, 0.65, 0.76, 0.68, 0.69, 0.77, 0.69, 0.57, 0.7, 0.67, 0.73, 0.73, 0.61, 0.71, 0.74, 0.68, 0.69, 0.78, 0.7, 0.72, 0.61, 0.7, 0.73, 0.66, null, 0.82, 0.78, 0.65, 0.68, 0.78, 0.7, 0.69, 0.67, 0.66, null, 0.71, 0.67, 0.88, 0.67, 0.69, 0.58, 0.79, 0.72, 0.69, 0.72, 0.66, 0.6, 0.71, 0.69, 0.65, 0.68, 0.69, 0.7, 0.76, 0.6, 0.7, 0.67, 0.74, 0.71, 0.7, 0.69, 0.67, 0.67, 0.67, 0.58, 0.68, 0.61, 0.66, 0.69, 0.74, 0.71, 0.69, 0.6, 0.74, 0.69, 0.78, 0.66, 0.74, 0.79, 0.81, 0.64, 0.83, null, 0.55, 0.72, 0.68, 0.72, 0.79, 0.73, 0.73, 0.63, 0.71, 0.7, 0.82, 0.58, 0.68, 0.73, 0.7, 0.69, 0.8, 0.76, 0.75, 0.67, 0.69, 0.67, 0.82, 0.76, 0.57, 0.68, 0.7, 0.69, 0.63, null, 0.65, 0.62, 0.72, 0.7, 0.65, 0.77, 0.72, 0.71, 0.71, 0.7, 0.52, null, 0.72]}, {\"name\": \"2018\", \"type\": \"box\", \"y\": [0.73, 0.63, 0.63, 0.73, 0.68, 0.73, 0.72, 0.68, 0.74, 0.63, 0.72, 0.75, 0.75, 0.74, 0.66, 0.65, 0.64, 0.75, 0.72, 0.68, 0.69, 0.76, 0.63, 0.74, 0.68, 0.71, 0.77, 0.7, 0.58, 0.72, 0.67, 0.73, 0.75, 0.63, 0.71, 0.75, 0.68, 0.69, 0.78, 0.7, 0.73, 0.61, 0.69, 0.73, 0.66, 0.67, 0.82, 0.78, 0.64, 0.68, 0.78, 0.69, 0.7, 0.67, 0.66, null, 0.71, 0.67, 0.86, 0.66, 0.69, 0.59, 0.8, 0.72, 0.71, 0.72, 0.66, 0.6, 0.71, 0.7, 0.66, 0.63, 0.69, 0.75, 0.76, 0.6, 0.69, 0.68, 0.75, 0.71, 0.71, 0.69, 0.66, 0.68, 0.66, 0.58, 0.69, 0.61, 0.66, 0.72, 0.73, 0.71, 0.71, 0.61, 0.72, 0.69, 0.79, 0.67, 0.75, 0.8, 0.81, 0.62, 0.84, 0.6, 0.55, 0.72, 0.67, 0.72, 0.8, 0.73, 0.73, 0.63, 0.71, 0.7, 0.8, 0.59, 0.68, 0.73, 0.71, 0.69, 0.78, 0.76, 0.75, 0.68, 0.7, null, 0.82, 0.76, 0.57, 0.64, 0.7, 0.7, 0.64, null, 0.65, 0.63, 0.72, 0.71, 0.64, 0.74, 0.72, 0.72, 0.71, 0.7, 0.5, null, 0.72]}, {\"name\": \"2019\", \"type\": \"box\", \"y\": [0.77, 0.63, 0.66, 0.75, 0.68, 0.73, 0.74, 0.69, 0.72, 0.63, 0.73, 0.75, 0.75, 0.75, 0.67, 0.66, 0.64, 0.73, 0.71, 0.69, 0.69, 0.73, 0.64, 0.74, 0.69, 0.69, 0.77, 0.72, 0.6, 0.72, 0.68, 0.76, 0.78, 0.61, 0.72, 0.75, 0.69, 0.71, 0.78, 0.7, 0.73, 0.63, 0.71, 0.75, 0.7, 0.68, 0.83, 0.78, 0.63, 0.71, 0.79, 0.67, 0.7, 0.67, 0.64, null, 0.72, 0.68, 0.88, 0.67, 0.7, 0.58, 0.8, 0.72, 0.71, 0.74, 0.65, 0.62, 0.71, 0.67, 0.67, 0.65, 0.69, 0.73, 0.78, 0.6, 0.7, 0.68, 0.74, 0.72, 0.71, 0.72, 0.66, 0.68, 0.65, 0.62, 0.69, 0.61, 0.66, 0.75, 0.76, 0.71, 0.71, 0.6, 0.72, 0.66, 0.78, 0.68, 0.74, 0.8, 0.8, 0.64, 0.84, 0.6, 0.56, 0.73, 0.68, 0.71, 0.78, 0.74, 0.74, 0.63, 0.72, 0.71, 0.79, 0.6, 0.68, 0.74, 0.72, 0.72, 0.74, 0.78, 0.8, 0.68, 0.71, null, 0.82, 0.78, 0.57, 0.63, 0.71, 0.71, 0.66, 0.76, 0.64, 0.64, 0.72, 0.72, 0.66, 0.77, 0.72, 0.74, 0.71, 0.7, 0.49, 0.73, 0.73]}],\n",
       "                        {\"template\": {\"data\": {\"bar\": [{\"error_x\": {\"color\": \"#2a3f5f\"}, \"error_y\": {\"color\": \"#2a3f5f\"}, \"marker\": {\"line\": {\"color\": \"#E5ECF6\", \"width\": 0.5}}, \"type\": \"bar\"}], \"barpolar\": [{\"marker\": {\"line\": {\"color\": \"#E5ECF6\", \"width\": 0.5}}, \"type\": \"barpolar\"}], \"carpet\": [{\"aaxis\": {\"endlinecolor\": \"#2a3f5f\", \"gridcolor\": \"white\", \"linecolor\": \"white\", \"minorgridcolor\": \"white\", \"startlinecolor\": \"#2a3f5f\"}, \"baxis\": {\"endlinecolor\": \"#2a3f5f\", \"gridcolor\": \"white\", \"linecolor\": \"white\", \"minorgridcolor\": \"white\", \"startlinecolor\": \"#2a3f5f\"}, \"type\": \"carpet\"}], \"choropleth\": [{\"colorbar\": {\"outlinewidth\": 0, \"ticks\": \"\"}, \"type\": \"choropleth\"}], \"contour\": [{\"colorbar\": {\"outlinewidth\": 0, \"ticks\": \"\"}, \"colorscale\": [[0.0, \"#0d0887\"], [0.1111111111111111, \"#46039f\"], [0.2222222222222222, \"#7201a8\"], [0.3333333333333333, \"#9c179e\"], [0.4444444444444444, \"#bd3786\"], [0.5555555555555556, \"#d8576b\"], [0.6666666666666666, \"#ed7953\"], [0.7777777777777778, \"#fb9f3a\"], [0.8888888888888888, \"#fdca26\"], [1.0, \"#f0f921\"]], \"type\": \"contour\"}], \"contourcarpet\": [{\"colorbar\": {\"outlinewidth\": 0, \"ticks\": \"\"}, \"type\": \"contourcarpet\"}], \"heatmap\": [{\"colorbar\": {\"outlinewidth\": 0, \"ticks\": \"\"}, \"colorscale\": [[0.0, \"#0d0887\"], [0.1111111111111111, \"#46039f\"], [0.2222222222222222, \"#7201a8\"], [0.3333333333333333, \"#9c179e\"], [0.4444444444444444, \"#bd3786\"], [0.5555555555555556, \"#d8576b\"], [0.6666666666666666, \"#ed7953\"], [0.7777777777777778, \"#fb9f3a\"], [0.8888888888888888, \"#fdca26\"], [1.0, \"#f0f921\"]], \"type\": \"heatmap\"}], \"heatmapgl\": [{\"colorbar\": {\"outlinewidth\": 0, \"ticks\": \"\"}, \"colorscale\": [[0.0, \"#0d0887\"], [0.1111111111111111, \"#46039f\"], [0.2222222222222222, \"#7201a8\"], [0.3333333333333333, \"#9c179e\"], [0.4444444444444444, \"#bd3786\"], [0.5555555555555556, \"#d8576b\"], [0.6666666666666666, \"#ed7953\"], [0.7777777777777778, \"#fb9f3a\"], [0.8888888888888888, \"#fdca26\"], [1.0, \"#f0f921\"]], \"type\": \"heatmapgl\"}], \"histogram\": [{\"marker\": {\"colorbar\": {\"outlinewidth\": 0, \"ticks\": \"\"}}, \"type\": \"histogram\"}], \"histogram2d\": [{\"colorbar\": {\"outlinewidth\": 0, \"ticks\": \"\"}, \"colorscale\": [[0.0, \"#0d0887\"], [0.1111111111111111, \"#46039f\"], [0.2222222222222222, \"#7201a8\"], [0.3333333333333333, \"#9c179e\"], [0.4444444444444444, \"#bd3786\"], [0.5555555555555556, \"#d8576b\"], [0.6666666666666666, \"#ed7953\"], [0.7777777777777778, \"#fb9f3a\"], [0.8888888888888888, \"#fdca26\"], [1.0, \"#f0f921\"]], \"type\": \"histogram2d\"}], \"histogram2dcontour\": [{\"colorbar\": {\"outlinewidth\": 0, \"ticks\": \"\"}, \"colorscale\": [[0.0, \"#0d0887\"], [0.1111111111111111, \"#46039f\"], [0.2222222222222222, \"#7201a8\"], [0.3333333333333333, \"#9c179e\"], [0.4444444444444444, \"#bd3786\"], [0.5555555555555556, \"#d8576b\"], [0.6666666666666666, \"#ed7953\"], [0.7777777777777778, \"#fb9f3a\"], [0.8888888888888888, \"#fdca26\"], [1.0, \"#f0f921\"]], \"type\": \"histogram2dcontour\"}], \"mesh3d\": [{\"colorbar\": {\"outlinewidth\": 0, \"ticks\": \"\"}, \"type\": \"mesh3d\"}], \"parcoords\": [{\"line\": {\"colorbar\": {\"outlinewidth\": 0, \"ticks\": \"\"}}, \"type\": \"parcoords\"}], \"pie\": [{\"automargin\": true, \"type\": \"pie\"}], \"scatter\": [{\"marker\": {\"colorbar\": {\"outlinewidth\": 0, \"ticks\": \"\"}}, \"type\": \"scatter\"}], \"scatter3d\": [{\"line\": {\"colorbar\": {\"outlinewidth\": 0, \"ticks\": \"\"}}, \"marker\": {\"colorbar\": {\"outlinewidth\": 0, \"ticks\": \"\"}}, \"type\": \"scatter3d\"}], \"scattercarpet\": [{\"marker\": {\"colorbar\": {\"outlinewidth\": 0, \"ticks\": \"\"}}, \"type\": \"scattercarpet\"}], \"scattergeo\": [{\"marker\": {\"colorbar\": {\"outlinewidth\": 0, \"ticks\": \"\"}}, \"type\": \"scattergeo\"}], \"scattergl\": [{\"marker\": {\"colorbar\": {\"outlinewidth\": 0, \"ticks\": \"\"}}, \"type\": \"scattergl\"}], \"scattermapbox\": [{\"marker\": {\"colorbar\": {\"outlinewidth\": 0, \"ticks\": \"\"}}, \"type\": \"scattermapbox\"}], \"scatterpolar\": [{\"marker\": {\"colorbar\": {\"outlinewidth\": 0, \"ticks\": \"\"}}, \"type\": \"scatterpolar\"}], \"scatterpolargl\": [{\"marker\": {\"colorbar\": {\"outlinewidth\": 0, \"ticks\": \"\"}}, \"type\": \"scatterpolargl\"}], \"scatterternary\": [{\"marker\": {\"colorbar\": {\"outlinewidth\": 0, \"ticks\": \"\"}}, \"type\": \"scatterternary\"}], \"surface\": [{\"colorbar\": {\"outlinewidth\": 0, \"ticks\": \"\"}, \"colorscale\": [[0.0, \"#0d0887\"], [0.1111111111111111, \"#46039f\"], [0.2222222222222222, \"#7201a8\"], [0.3333333333333333, \"#9c179e\"], [0.4444444444444444, \"#bd3786\"], [0.5555555555555556, \"#d8576b\"], [0.6666666666666666, \"#ed7953\"], [0.7777777777777778, \"#fb9f3a\"], [0.8888888888888888, \"#fdca26\"], [1.0, \"#f0f921\"]], \"type\": \"surface\"}], \"table\": [{\"cells\": {\"fill\": {\"color\": \"#EBF0F8\"}, \"line\": {\"color\": \"white\"}}, \"header\": {\"fill\": {\"color\": \"#C8D4E3\"}, \"line\": {\"color\": \"white\"}}, \"type\": \"table\"}]}, \"layout\": {\"annotationdefaults\": {\"arrowcolor\": \"#2a3f5f\", \"arrowhead\": 0, \"arrowwidth\": 1}, \"coloraxis\": {\"colorbar\": {\"outlinewidth\": 0, \"ticks\": \"\"}}, \"colorscale\": {\"diverging\": [[0, \"#8e0152\"], [0.1, \"#c51b7d\"], [0.2, \"#de77ae\"], [0.3, \"#f1b6da\"], [0.4, \"#fde0ef\"], [0.5, \"#f7f7f7\"], [0.6, \"#e6f5d0\"], [0.7, \"#b8e186\"], [0.8, \"#7fbc41\"], [0.9, \"#4d9221\"], [1, \"#276419\"]], \"sequential\": [[0.0, \"#0d0887\"], [0.1111111111111111, \"#46039f\"], [0.2222222222222222, \"#7201a8\"], [0.3333333333333333, \"#9c179e\"], [0.4444444444444444, \"#bd3786\"], [0.5555555555555556, \"#d8576b\"], [0.6666666666666666, \"#ed7953\"], [0.7777777777777778, \"#fb9f3a\"], [0.8888888888888888, \"#fdca26\"], [1.0, \"#f0f921\"]], \"sequentialminus\": [[0.0, \"#0d0887\"], [0.1111111111111111, \"#46039f\"], [0.2222222222222222, \"#7201a8\"], [0.3333333333333333, \"#9c179e\"], [0.4444444444444444, \"#bd3786\"], [0.5555555555555556, \"#d8576b\"], [0.6666666666666666, \"#ed7953\"], [0.7777777777777778, \"#fb9f3a\"], [0.8888888888888888, \"#fdca26\"], [1.0, \"#f0f921\"]]}, \"colorway\": [\"#636efa\", \"#EF553B\", \"#00cc96\", \"#ab63fa\", \"#FFA15A\", \"#19d3f3\", \"#FF6692\", \"#B6E880\", \"#FF97FF\", \"#FECB52\"], \"font\": {\"color\": \"#2a3f5f\"}, \"geo\": {\"bgcolor\": \"white\", \"lakecolor\": \"white\", \"landcolor\": \"#E5ECF6\", \"showlakes\": true, \"showland\": true, \"subunitcolor\": \"white\"}, \"hoverlabel\": {\"align\": \"left\"}, \"hovermode\": \"closest\", \"mapbox\": {\"style\": \"light\"}, \"paper_bgcolor\": \"white\", \"plot_bgcolor\": \"#E5ECF6\", \"polar\": {\"angularaxis\": {\"gridcolor\": \"white\", \"linecolor\": \"white\", \"ticks\": \"\"}, \"bgcolor\": \"#E5ECF6\", \"radialaxis\": {\"gridcolor\": \"white\", \"linecolor\": \"white\", \"ticks\": \"\"}}, \"scene\": {\"xaxis\": {\"backgroundcolor\": \"#E5ECF6\", \"gridcolor\": \"white\", \"gridwidth\": 2, \"linecolor\": \"white\", \"showbackground\": true, \"ticks\": \"\", \"zerolinecolor\": \"white\"}, \"yaxis\": {\"backgroundcolor\": \"#E5ECF6\", \"gridcolor\": \"white\", \"gridwidth\": 2, \"linecolor\": \"white\", \"showbackground\": true, \"ticks\": \"\", \"zerolinecolor\": \"white\"}, \"zaxis\": {\"backgroundcolor\": \"#E5ECF6\", \"gridcolor\": \"white\", \"gridwidth\": 2, \"linecolor\": \"white\", \"showbackground\": true, \"ticks\": \"\", \"zerolinecolor\": \"white\"}}, \"shapedefaults\": {\"line\": {\"color\": \"#2a3f5f\"}}, \"ternary\": {\"aaxis\": {\"gridcolor\": \"white\", \"linecolor\": \"white\", \"ticks\": \"\"}, \"baxis\": {\"gridcolor\": \"white\", \"linecolor\": \"white\", \"ticks\": \"\"}, \"bgcolor\": \"#E5ECF6\", \"caxis\": {\"gridcolor\": \"white\", \"linecolor\": \"white\", \"ticks\": \"\"}}, \"title\": {\"x\": 0.05}, \"xaxis\": {\"automargin\": true, \"gridcolor\": \"white\", \"linecolor\": \"white\", \"ticks\": \"\", \"title\": {\"standoff\": 15}, \"zerolinecolor\": \"white\", \"zerolinewidth\": 2}, \"yaxis\": {\"automargin\": true, \"gridcolor\": \"white\", \"linecolor\": \"white\", \"ticks\": \"\", \"title\": {\"standoff\": 15}, \"zerolinecolor\": \"white\", \"zerolinewidth\": 2}}}},\n",
       "                        {\"responsive\": true}\n",
       "                    ).then(function(){\n",
       "                            \n",
       "var gd = document.getElementById('b5fc4cdb-df09-4ef0-bcb1-f8897bc2e225');\n",
       "var x = new MutationObserver(function (mutations, observer) {{\n",
       "        var display = window.getComputedStyle(gd).display;\n",
       "        if (!display || display === 'none') {{\n",
       "            console.log([gd, 'removed!']);\n",
       "            Plotly.purge(gd);\n",
       "            observer.disconnect();\n",
       "        }}\n",
       "}});\n",
       "\n",
       "// Listen for the removal of the full notebook cells\n",
       "var notebookContainer = gd.closest('#notebook-container');\n",
       "if (notebookContainer) {{\n",
       "    x.observe(notebookContainer, {childList: true});\n",
       "}}\n",
       "\n",
       "// Listen for the clearing of the current output cell\n",
       "var outputEl = gd.closest('.output');\n",
       "if (outputEl) {{\n",
       "    x.observe(outputEl, {childList: true});\n",
       "}}\n",
       "\n",
       "                        })\n",
       "                };\n",
       "                });\n",
       "            </script>\n",
       "        </div>"
      ]
     },
     "metadata": {},
     "output_type": "display_data"
    }
   ],
   "source": [
    "data = [go.Box(y = new_df['2010'], name = '2010'),\n",
    "        go.Box(y = new_df['2011'], name = '2011'), \n",
    "       go.Box(y = new_df['2012'], name = '2012'),\n",
    "       go.Box(y = new_df['2013'], name = '2013'),\n",
    "       go.Box(y = new_df['2014'], name = '2014'),\n",
    "       go.Box(y = new_df['2015'], name = '2015'),\n",
    "       go.Box(y = new_df['2016'], name = '2016'),\n",
    "       go.Box(y = new_df['2017'], name = '2017'),\n",
    "       go.Box(y = new_df['2018'], name = '2018'),\n",
    "       go.Box(y = new_df['2019'], name = '2019')]\n",
    "f = go.Figure(data)\n",
    "f.show()"
   ]
  },
  {
   "cell_type": "code",
   "execution_count": 9,
   "metadata": {},
   "outputs": [
    {
     "data": {
      "text/plain": [
       "<matplotlib.axes._subplots.AxesSubplot at 0x117118ed0>"
      ]
     },
     "execution_count": 9,
     "metadata": {},
     "output_type": "execute_result"
    },
    {
     "data": {
      "image/png": "[encoded data removed]",
      "text/plain": [
       "<Figure size 432x288 with 1 Axes>"
      ]
     },
     "metadata": {
      "needs_background": "light"
     },
     "output_type": "display_data"
    }
   ],
   "source": [
    "%matplotlib inline\n",
    "new_df.mean(axis = 0).plot()"
   ]
  },
  {
   "cell_type": "code",
   "execution_count": 154,
   "metadata": {},
   "outputs": [
    {
     "data": {
      "text/plain": [
       "2010    0.68\n",
       "2011    0.68\n",
       "2012    0.68\n",
       "2013    0.69\n",
       "2014    0.69\n",
       "2015    0.70\n",
       "2016    0.69\n",
       "2017    0.70\n",
       "2018    0.70\n",
       "2019    0.70\n",
       "dtype: float64"
      ]
     },
     "execution_count": 154,
     "metadata": {},
     "output_type": "execute_result"
    }
   ],
   "source": [
    "new_df.mean(axis = 0).round(2)"
   ]
  },
  {
   "cell_type": "code",
   "execution_count": 11,
   "metadata": {},
   "outputs": [
    {
     "data": {
      "application/javascript": [
       "\n",
       "        if (window._pyforest_update_imports_cell) { window._pyforest_update_imports_cell('import numpy as np\\nimport plotly.graph_objs as go\\nimport plotly as py'); }\n",
       "    "
      ],
      "text/plain": [
       "<IPython.core.display.Javascript object>"
      ]
     },
     "metadata": {},
     "output_type": "display_data"
    },
    {
     "data": {
      "application/javascript": [
       "\n",
       "        if (window._pyforest_update_imports_cell) { window._pyforest_update_imports_cell('import numpy as np\\nimport plotly.graph_objs as go\\nimport plotly as py'); }\n",
       "    "
      ],
      "text/plain": [
       "<IPython.core.display.Javascript object>"
      ]
     },
     "metadata": {},
     "output_type": "display_data"
    },
    {
     "data": {
      "application/javascript": [
       "\n",
       "        if (window._pyforest_update_imports_cell) { window._pyforest_update_imports_cell('import numpy as np\\nimport plotly.graph_objs as go\\nimport plotly as py'); }\n",
       "    "
      ],
      "text/plain": [
       "<IPython.core.display.Javascript object>"
      ]
     },
     "metadata": {},
     "output_type": "display_data"
    },
    {
     "data": {
      "application/vnd.plotly.v1+json": {
       "config": {
        "plotlyServerURL": "https://plot.ly"
       },
       "data": [
        {
         "mode": "lines",
         "type": "scatter",
         "x": [
          "2010",
          "2011",
          "2012",
          "2013",
          "2014",
          "2015",
          "2016",
          "2017",
          "2018",
          "2019"
         ],
         "y": [
          0.6782835820895521,
          0.6792592592592592,
          0.6844444444444442,
          0.6863235294117643,
          0.6924999999999999,
          0.6951724137931036,
          0.6947887323943664,
          0.6977464788732394,
          0.6978321678321676,
          0.7037241379310339
         ]
        }
       ],
       "layout": {
        "template": {
         "data": {
          "bar": [
           {
            "error_x": {
             "color": "#2a3f5f"
            },
            "error_y": {
             "color": "#2a3f5f"
            },
            "marker": {
             "line": {
              "color": "#E5ECF6",
              "width": 0.5
             }
            },
            "type": "bar"
           }
          ],
          "barpolar": [
           {
            "marker": {
             "line": {
              "color": "#E5ECF6",
              "width": 0.5
             }
            },
            "type": "barpolar"
           }
          ],
          "carpet": [
           {
            "aaxis": {
             "endlinecolor": "#2a3f5f",
             "gridcolor": "white",
             "linecolor": "white",
             "minorgridcolor": "white",
             "startlinecolor": "#2a3f5f"
            },
            "baxis": {
             "endlinecolor": "#2a3f5f",
             "gridcolor": "white",
             "linecolor": "white",
             "minorgridcolor": "white",
             "startlinecolor": "#2a3f5f"
            },
            "type": "carpet"
           }
          ],
          "choropleth": [
           {
            "colorbar": {
             "outlinewidth": 0,
             "ticks": ""
            },
            "type": "choropleth"
           }
          ],
          "contour": [
           {
            "colorbar": {
             "outlinewidth": 0,
             "ticks": ""
            },
            "colorscale": [
             [
              0,
              "#0d0887"
             ],
             [
              0.1111111111111111,
              "#46039f"
             ],
             [
              0.2222222222222222,
              "#7201a8"
             ],
             [
              0.3333333333333333,
              "#9c179e"
             ],
             [
              0.4444444444444444,
              "#bd3786"
             ],
             [
              0.5555555555555556,
              "#d8576b"
             ],
             [
              0.6666666666666666,
              "#ed7953"
             ],
             [
              0.7777777777777778,
              "#fb9f3a"
             ],
             [
              0.8888888888888888,
              "#fdca26"
             ],
             [
              1,
              "#f0f921"
             ]
            ],
            "type": "contour"
           }
          ],
          "contourcarpet": [
           {
            "colorbar": {
             "outlinewidth": 0,
             "ticks": ""
            },
            "type": "contourcarpet"
           }
          ],
          "heatmap": [
           {
            "colorbar": {
             "outlinewidth": 0,
             "ticks": ""
            },
            "colorscale": [
             [
              0,
              "#0d0887"
             ],
             [
              0.1111111111111111,
              "#46039f"
             ],
             [
              0.2222222222222222,
              "#7201a8"
             ],
             [
              0.3333333333333333,
              "#9c179e"
             ],
             [
              0.4444444444444444,
              "#bd3786"
             ],
             [
              0.5555555555555556,
              "#d8576b"
             ],
             [
              0.6666666666666666,
              "#ed7953"
             ],
             [
              0.7777777777777778,
              "#fb9f3a"
             ],
             [
              0.8888888888888888,
              "#fdca26"
             ],
             [
              1,
              "#f0f921"
             ]
            ],
            "type": "heatmap"
           }
          ],
          "heatmapgl": [
           {
            "colorbar": {
             "outlinewidth": 0,
             "ticks": ""
            },
            "colorscale": [
             [
              0,
              "#0d0887"
             ],
             [
              0.1111111111111111,
              "#46039f"
             ],
             [
              0.2222222222222222,
              "#7201a8"
             ],
             [
              0.3333333333333333,
              "#9c179e"
             ],
             [
              0.4444444444444444,
              "#bd3786"
             ],
             [
              0.5555555555555556,
              "#d8576b"
             ],
             [
              0.6666666666666666,
              "#ed7953"
             ],
             [
              0.7777777777777778,
              "#fb9f3a"
             ],
             [
              0.8888888888888888,
              "#fdca26"
             ],
             [
              1,
              "#f0f921"
             ]
            ],
            "type": "heatmapgl"
           }
          ],
          "histogram": [
           {
            "marker": {
             "colorbar": {
              "outlinewidth": 0,
              "ticks": ""
             }
            },
            "type": "histogram"
           }
          ],
          "histogram2d": [
           {
            "colorbar": {
             "outlinewidth": 0,
             "ticks": ""
            },
            "colorscale": [
             [
              0,
              "#0d0887"
             ],
             [
              0.1111111111111111,
              "#46039f"
             ],
             [
              0.2222222222222222,
              "#7201a8"
             ],
             [
              0.3333333333333333,
              "#9c179e"
             ],
             [
              0.4444444444444444,
              "#bd3786"
             ],
             [
              0.5555555555555556,
              "#d8576b"
             ],
             [
              0.6666666666666666,
              "#ed7953"
             ],
             [
              0.7777777777777778,
              "#fb9f3a"
             ],
             [
              0.8888888888888888,
              "#fdca26"
             ],
             [
              1,
              "#f0f921"
             ]
            ],
            "type": "histogram2d"
           }
          ],
          "histogram2dcontour": [
           {
            "colorbar": {
             "outlinewidth": 0,
             "ticks": ""
            },
            "colorscale": [
             [
              0,
              "#0d0887"
             ],
             [
              0.1111111111111111,
              "#46039f"
             ],
             [
              0.2222222222222222,
              "#7201a8"
             ],
             [
              0.3333333333333333,
              "#9c179e"
             ],
             [
              0.4444444444444444,
              "#bd3786"
             ],
             [
              0.5555555555555556,
              "#d8576b"
             ],
             [
              0.6666666666666666,
              "#ed7953"
             ],
             [
              0.7777777777777778,
              "#fb9f3a"
             ],
             [
              0.8888888888888888,
              "#fdca26"
             ],
             [
              1,
              "#f0f921"
             ]
            ],
            "type": "histogram2dcontour"
           }
          ],
          "mesh3d": [
           {
            "colorbar": {
             "outlinewidth": 0,
             "ticks": ""
            },
            "type": "mesh3d"
           }
          ],
          "parcoords": [
           {
            "line": {
             "colorbar": {
              "outlinewidth": 0,
              "ticks": ""
             }
            },
            "type": "parcoords"
           }
          ],
          "pie": [
           {
            "automargin": true,
            "type": "pie"
           }
          ],
          "scatter": [
           {
            "marker": {
             "colorbar": {
              "outlinewidth": 0,
              "ticks": ""
             }
            },
            "type": "scatter"
           }
          ],
          "scatter3d": [
           {
            "line": {
             "colorbar": {
              "outlinewidth": 0,
              "ticks": ""
             }
            },
            "marker": {
             "colorbar": {
              "outlinewidth": 0,
              "ticks": ""
             }
            },
            "type": "scatter3d"
           }
          ],
          "scattercarpet": [
           {
            "marker": {
             "colorbar": {
              "outlinewidth": 0,
              "ticks": ""
             }
            },
            "type": "scattercarpet"
           }
          ],
          "scattergeo": [
           {
            "marker": {
             "colorbar": {
              "outlinewidth": 0,
              "ticks": ""
             }
            },
            "type": "scattergeo"
           }
          ],
          "scattergl": [
           {
            "marker": {
             "colorbar": {
              "outlinewidth": 0,
              "ticks": ""
             }
            },
            "type": "scattergl"
           }
          ],
          "scattermapbox": [
           {
            "marker": {
             "colorbar": {
              "outlinewidth": 0,
              "ticks": ""
             }
            },
            "type": "scattermapbox"
           }
          ],
          "scatterpolar": [
           {
            "marker": {
             "colorbar": {
              "outlinewidth": 0,
              "ticks": ""
             }
            },
            "type": "scatterpolar"
           }
          ],
          "scatterpolargl": [
           {
            "marker": {
             "colorbar": {
              "outlinewidth": 0,
              "ticks": ""
             }
            },
            "type": "scatterpolargl"
           }
          ],
          "scatterternary": [
           {
            "marker": {
             "colorbar": {
              "outlinewidth": 0,
              "ticks": ""
             }
            },
            "type": "scatterternary"
           }
          ],
          "surface": [
           {
            "colorbar": {
             "outlinewidth": 0,
             "ticks": ""
            },
            "colorscale": [
             [
              0,
              "#0d0887"
             ],
             [
              0.1111111111111111,
              "#46039f"
             ],
             [
              0.2222222222222222,
              "#7201a8"
             ],
             [
              0.3333333333333333,
              "#9c179e"
             ],
             [
              0.4444444444444444,
              "#bd3786"
             ],
             [
              0.5555555555555556,
              "#d8576b"
             ],
             [
              0.6666666666666666,
              "#ed7953"
             ],
             [
              0.7777777777777778,
              "#fb9f3a"
             ],
             [
              0.8888888888888888,
              "#fdca26"
             ],
             [
              1,
              "#f0f921"
             ]
            ],
            "type": "surface"
           }
          ],
          "table": [
           {
            "cells": {
             "fill": {
              "color": "#EBF0F8"
             },
             "line": {
              "color": "white"
             }
            },
            "header": {
             "fill": {
              "color": "#C8D4E3"
             },
             "line": {
              "color": "white"
             }
            },
            "type": "table"
           }
          ]
         },
         "layout": {
          "annotationdefaults": {
           "arrowcolor": "#2a3f5f",
           "arrowhead": 0,
           "arrowwidth": 1
          },
          "coloraxis": {
           "colorbar": {
            "outlinewidth": 0,
            "ticks": ""
           }
          },
          "colorscale": {
           "diverging": [
            [
             0,
             "#8e0152"
            ],
            [
             0.1,
             "#c51b7d"
            ],
            [
             0.2,
             "#de77ae"
            ],
            [
             0.3,
             "#f1b6da"
            ],
            [
             0.4,
             "#fde0ef"
            ],
            [
             0.5,
             "#f7f7f7"
            ],
            [
             0.6,
             "#e6f5d0"
            ],
            [
             0.7,
             "#b8e186"
            ],
            [
             0.8,
             "#7fbc41"
            ],
            [
             0.9,
             "#4d9221"
            ],
            [
             1,
             "#276419"
            ]
           ],
           "sequential": [
            [
             0,
             "#0d0887"
            ],
            [
             0.1111111111111111,
             "#46039f"
            ],
            [
             0.2222222222222222,
             "#7201a8"
            ],
            [
             0.3333333333333333,
             "#9c179e"
            ],
            [
             0.4444444444444444,
             "#bd3786"
            ],
            [
             0.5555555555555556,
             "#d8576b"
            ],
            [
             0.6666666666666666,
             "#ed7953"
            ],
            [
             0.7777777777777778,
             "#fb9f3a"
            ],
            [
             0.8888888888888888,
             "#fdca26"
            ],
            [
             1,
             "#f0f921"
            ]
           ],
           "sequentialminus": [
            [
             0,
             "#0d0887"
            ],
            [
             0.1111111111111111,
             "#46039f"
            ],
            [
             0.2222222222222222,
             "#7201a8"
            ],
            [
             0.3333333333333333,
             "#9c179e"
            ],
            [
             0.4444444444444444,
             "#bd3786"
            ],
            [
             0.5555555555555556,
             "#d8576b"
            ],
            [
             0.6666666666666666,
             "#ed7953"
            ],
            [
             0.7777777777777778,
             "#fb9f3a"
            ],
            [
             0.8888888888888888,
             "#fdca26"
            ],
            [
             1,
             "#f0f921"
            ]
           ]
          },
          "colorway": [
           "#636efa",
           "#EF553B",
           "#00cc96",
           "#ab63fa",
           "#FFA15A",
           "#19d3f3",
           "#FF6692",
           "#B6E880",
           "#FF97FF",
           "#FECB52"
          ],
          "font": {
           "color": "#2a3f5f"
          },
          "geo": {
           "bgcolor": "white",
           "lakecolor": "white",
           "landcolor": "#E5ECF6",
           "showlakes": true,
           "showland": true,
           "subunitcolor": "white"
          },
          "hoverlabel": {
           "align": "left"
          },
          "hovermode": "closest",
          "mapbox": {
           "style": "light"
          },
          "paper_bgcolor": "white",
          "plot_bgcolor": "#E5ECF6",
          "polar": {
           "angularaxis": {
            "gridcolor": "white",
            "linecolor": "white",
            "ticks": ""
           },
           "bgcolor": "#E5ECF6",
           "radialaxis": {
            "gridcolor": "white",
            "linecolor": "white",
            "ticks": ""
           }
          },
          "scene": {
           "xaxis": {
            "backgroundcolor": "#E5ECF6",
            "gridcolor": "white",
            "gridwidth": 2,
            "linecolor": "white",
            "showbackground": true,
            "ticks": "",
            "zerolinecolor": "white"
           },
           "yaxis": {
            "backgroundcolor": "#E5ECF6",
            "gridcolor": "white",
            "gridwidth": 2,
            "linecolor": "white",
            "showbackground": true,
            "ticks": "",
            "zerolinecolor": "white"
           },
           "zaxis": {
            "backgroundcolor": "#E5ECF6",
            "gridcolor": "white",
            "gridwidth": 2,
            "linecolor": "white",
            "showbackground": true,
            "ticks": "",
            "zerolinecolor": "white"
           }
          },
          "shapedefaults": {
           "line": {
            "color": "#2a3f5f"
           }
          },
          "ternary": {
           "aaxis": {
            "gridcolor": "white",
            "linecolor": "white",
            "ticks": ""
           },
           "baxis": {
            "gridcolor": "white",
            "linecolor": "white",
            "ticks": ""
           },
           "bgcolor": "#E5ECF6",
           "caxis": {
            "gridcolor": "white",
            "linecolor": "white",
            "ticks": ""
           }
          },
          "title": {
           "x": 0.05
          },
          "xaxis": {
           "automargin": true,
           "gridcolor": "white",
           "linecolor": "white",
           "ticks": "",
           "title": {
            "standoff": 15
           },
           "zerolinecolor": "white",
           "zerolinewidth": 2
          },
          "yaxis": {
           "automargin": true,
           "gridcolor": "white",
           "linecolor": "white",
           "ticks": "",
           "title": {
            "standoff": 15
           },
           "zerolinecolor": "white",
           "zerolinewidth": 2
          }
         }
        },
        "title": {
         "text": "line chart"
        }
       }
      },
      "text/html": [
       "<div>\n",
       "        \n",
       "        \n",
       "            <div id=\"8802863d-edb0-48fe-8365-6a39f15e101e\" class=\"plotly-graph-div\" style=\"height:525px; width:100%;\"></div>\n",
       "            <script type=\"text/javascript\">\n",
       "                require([\"plotly\"], function(Plotly) {\n",
       "                    window.PLOTLYENV=window.PLOTLYENV || {};\n",
       "                    \n",
       "                if (document.getElementById(\"8802863d-edb0-48fe-8365-6a39f15e101e\")) {\n",
       "                    Plotly.newPlot(\n",
       "                        '8802863d-edb0-48fe-8365-6a39f15e101e',\n",
       "                        [{\"mode\": \"lines\", \"type\": \"scatter\", \"x\": [\"2010\", \"2011\", \"2012\", \"2013\", \"2014\", \"2015\", \"2016\", \"2017\", \"2018\", \"2019\"], \"y\": [0.6782835820895521, 0.6792592592592592, 0.6844444444444442, 0.6863235294117643, 0.6924999999999999, 0.6951724137931036, 0.6947887323943664, 0.6977464788732394, 0.6978321678321676, 0.7037241379310339]}],\n",
       "                        {\"template\": {\"data\": {\"bar\": [{\"error_x\": {\"color\": \"#2a3f5f\"}, \"error_y\": {\"color\": \"#2a3f5f\"}, \"marker\": {\"line\": {\"color\": \"#E5ECF6\", \"width\": 0.5}}, \"type\": \"bar\"}], \"barpolar\": [{\"marker\": {\"line\": {\"color\": \"#E5ECF6\", \"width\": 0.5}}, \"type\": \"barpolar\"}], \"carpet\": [{\"aaxis\": {\"endlinecolor\": \"#2a3f5f\", \"gridcolor\": \"white\", \"linecolor\": \"white\", \"minorgridcolor\": \"white\", \"startlinecolor\": \"#2a3f5f\"}, \"baxis\": {\"endlinecolor\": \"#2a3f5f\", \"gridcolor\": \"white\", \"linecolor\": \"white\", \"minorgridcolor\": \"white\", \"startlinecolor\": \"#2a3f5f\"}, \"type\": \"carpet\"}], \"choropleth\": [{\"colorbar\": {\"outlinewidth\": 0, \"ticks\": \"\"}, \"type\": \"choropleth\"}], \"contour\": [{\"colorbar\": {\"outlinewidth\": 0, \"ticks\": \"\"}, \"colorscale\": [[0.0, \"#0d0887\"], [0.1111111111111111, \"#46039f\"], [0.2222222222222222, \"#7201a8\"], [0.3333333333333333, \"#9c179e\"], [0.4444444444444444, \"#bd3786\"], [0.5555555555555556, \"#d8576b\"], [0.6666666666666666, \"#ed7953\"], [0.7777777777777778, \"#fb9f3a\"], [0.8888888888888888, \"#fdca26\"], [1.0, \"#f0f921\"]], \"type\": \"contour\"}], \"contourcarpet\": [{\"colorbar\": {\"outlinewidth\": 0, \"ticks\": \"\"}, \"type\": \"contourcarpet\"}], \"heatmap\": [{\"colorbar\": {\"outlinewidth\": 0, \"ticks\": \"\"}, \"colorscale\": [[0.0, \"#0d0887\"], [0.1111111111111111, \"#46039f\"], [0.2222222222222222, \"#7201a8\"], [0.3333333333333333, \"#9c179e\"], [0.4444444444444444, \"#bd3786\"], [0.5555555555555556, \"#d8576b\"], [0.6666666666666666, \"#ed7953\"], [0.7777777777777778, \"#fb9f3a\"], [0.8888888888888888, \"#fdca26\"], [1.0, \"#f0f921\"]], \"type\": \"heatmap\"}], \"heatmapgl\": [{\"colorbar\": {\"outlinewidth\": 0, \"ticks\": \"\"}, \"colorscale\": [[0.0, \"#0d0887\"], [0.1111111111111111, \"#46039f\"], [0.2222222222222222, \"#7201a8\"], [0.3333333333333333, \"#9c179e\"], [0.4444444444444444, \"#bd3786\"], [0.5555555555555556, \"#d8576b\"], [0.6666666666666666, \"#ed7953\"], [0.7777777777777778, \"#fb9f3a\"], [0.8888888888888888, \"#fdca26\"], [1.0, \"#f0f921\"]], \"type\": \"heatmapgl\"}], \"histogram\": [{\"marker\": {\"colorbar\": {\"outlinewidth\": 0, \"ticks\": \"\"}}, \"type\": \"histogram\"}], \"histogram2d\": [{\"colorbar\": {\"outlinewidth\": 0, \"ticks\": \"\"}, \"colorscale\": [[0.0, \"#0d0887\"], [0.1111111111111111, \"#46039f\"], [0.2222222222222222, \"#7201a8\"], [0.3333333333333333, \"#9c179e\"], [0.4444444444444444, \"#bd3786\"], [0.5555555555555556, \"#d8576b\"], [0.6666666666666666, \"#ed7953\"], [0.7777777777777778, \"#fb9f3a\"], [0.8888888888888888, \"#fdca26\"], [1.0, \"#f0f921\"]], \"type\": \"histogram2d\"}], \"histogram2dcontour\": [{\"colorbar\": {\"outlinewidth\": 0, \"ticks\": \"\"}, \"colorscale\": [[0.0, \"#0d0887\"], [0.1111111111111111, \"#46039f\"], [0.2222222222222222, \"#7201a8\"], [0.3333333333333333, \"#9c179e\"], [0.4444444444444444, \"#bd3786\"], [0.5555555555555556, \"#d8576b\"], [0.6666666666666666, \"#ed7953\"], [0.7777777777777778, \"#fb9f3a\"], [0.8888888888888888, \"#fdca26\"], [1.0, \"#f0f921\"]], \"type\": \"histogram2dcontour\"}], \"mesh3d\": [{\"colorbar\": {\"outlinewidth\": 0, \"ticks\": \"\"}, \"type\": \"mesh3d\"}], \"parcoords\": [{\"line\": {\"colorbar\": {\"outlinewidth\": 0, \"ticks\": \"\"}}, \"type\": \"parcoords\"}], \"pie\": [{\"automargin\": true, \"type\": \"pie\"}], \"scatter\": [{\"marker\": {\"colorbar\": {\"outlinewidth\": 0, \"ticks\": \"\"}}, \"type\": \"scatter\"}], \"scatter3d\": [{\"line\": {\"colorbar\": {\"outlinewidth\": 0, \"ticks\": \"\"}}, \"marker\": {\"colorbar\": {\"outlinewidth\": 0, \"ticks\": \"\"}}, \"type\": \"scatter3d\"}], \"scattercarpet\": [{\"marker\": {\"colorbar\": {\"outlinewidth\": 0, \"ticks\": \"\"}}, \"type\": \"scattercarpet\"}], \"scattergeo\": [{\"marker\": {\"colorbar\": {\"outlinewidth\": 0, \"ticks\": \"\"}}, \"type\": \"scattergeo\"}], \"scattergl\": [{\"marker\": {\"colorbar\": {\"outlinewidth\": 0, \"ticks\": \"\"}}, \"type\": \"scattergl\"}], \"scattermapbox\": [{\"marker\": {\"colorbar\": {\"outlinewidth\": 0, \"ticks\": \"\"}}, \"type\": \"scattermapbox\"}], \"scatterpolar\": [{\"marker\": {\"colorbar\": {\"outlinewidth\": 0, \"ticks\": \"\"}}, \"type\": \"scatterpolar\"}], \"scatterpolargl\": [{\"marker\": {\"colorbar\": {\"outlinewidth\": 0, \"ticks\": \"\"}}, \"type\": \"scatterpolargl\"}], \"scatterternary\": [{\"marker\": {\"colorbar\": {\"outlinewidth\": 0, \"ticks\": \"\"}}, \"type\": \"scatterternary\"}], \"surface\": [{\"colorbar\": {\"outlinewidth\": 0, \"ticks\": \"\"}, \"colorscale\": [[0.0, \"#0d0887\"], [0.1111111111111111, \"#46039f\"], [0.2222222222222222, \"#7201a8\"], [0.3333333333333333, \"#9c179e\"], [0.4444444444444444, \"#bd3786\"], [0.5555555555555556, \"#d8576b\"], [0.6666666666666666, \"#ed7953\"], [0.7777777777777778, \"#fb9f3a\"], [0.8888888888888888, \"#fdca26\"], [1.0, \"#f0f921\"]], \"type\": \"surface\"}], \"table\": [{\"cells\": {\"fill\": {\"color\": \"#EBF0F8\"}, \"line\": {\"color\": \"white\"}}, \"header\": {\"fill\": {\"color\": \"#C8D4E3\"}, \"line\": {\"color\": \"white\"}}, \"type\": \"table\"}]}, \"layout\": {\"annotationdefaults\": {\"arrowcolor\": \"#2a3f5f\", \"arrowhead\": 0, \"arrowwidth\": 1}, \"coloraxis\": {\"colorbar\": {\"outlinewidth\": 0, \"ticks\": \"\"}}, \"colorscale\": {\"diverging\": [[0, \"#8e0152\"], [0.1, \"#c51b7d\"], [0.2, \"#de77ae\"], [0.3, \"#f1b6da\"], [0.4, \"#fde0ef\"], [0.5, \"#f7f7f7\"], [0.6, \"#e6f5d0\"], [0.7, \"#b8e186\"], [0.8, \"#7fbc41\"], [0.9, \"#4d9221\"], [1, \"#276419\"]], \"sequential\": [[0.0, \"#0d0887\"], [0.1111111111111111, \"#46039f\"], [0.2222222222222222, \"#7201a8\"], [0.3333333333333333, \"#9c179e\"], [0.4444444444444444, \"#bd3786\"], [0.5555555555555556, \"#d8576b\"], [0.6666666666666666, \"#ed7953\"], [0.7777777777777778, \"#fb9f3a\"], [0.8888888888888888, \"#fdca26\"], [1.0, \"#f0f921\"]], \"sequentialminus\": [[0.0, \"#0d0887\"], [0.1111111111111111, \"#46039f\"], [0.2222222222222222, \"#7201a8\"], [0.3333333333333333, \"#9c179e\"], [0.4444444444444444, \"#bd3786\"], [0.5555555555555556, \"#d8576b\"], [0.6666666666666666, \"#ed7953\"], [0.7777777777777778, \"#fb9f3a\"], [0.8888888888888888, \"#fdca26\"], [1.0, \"#f0f921\"]]}, \"colorway\": [\"#636efa\", \"#EF553B\", \"#00cc96\", \"#ab63fa\", \"#FFA15A\", \"#19d3f3\", \"#FF6692\", \"#B6E880\", \"#FF97FF\", \"#FECB52\"], \"font\": {\"color\": \"#2a3f5f\"}, \"geo\": {\"bgcolor\": \"white\", \"lakecolor\": \"white\", \"landcolor\": \"#E5ECF6\", \"showlakes\": true, \"showland\": true, \"subunitcolor\": \"white\"}, \"hoverlabel\": {\"align\": \"left\"}, \"hovermode\": \"closest\", \"mapbox\": {\"style\": \"light\"}, \"paper_bgcolor\": \"white\", \"plot_bgcolor\": \"#E5ECF6\", \"polar\": {\"angularaxis\": {\"gridcolor\": \"white\", \"linecolor\": \"white\", \"ticks\": \"\"}, \"bgcolor\": \"#E5ECF6\", \"radialaxis\": {\"gridcolor\": \"white\", \"linecolor\": \"white\", \"ticks\": \"\"}}, \"scene\": {\"xaxis\": {\"backgroundcolor\": \"#E5ECF6\", \"gridcolor\": \"white\", \"gridwidth\": 2, \"linecolor\": \"white\", \"showbackground\": true, \"ticks\": \"\", \"zerolinecolor\": \"white\"}, \"yaxis\": {\"backgroundcolor\": \"#E5ECF6\", \"gridcolor\": \"white\", \"gridwidth\": 2, \"linecolor\": \"white\", \"showbackground\": true, \"ticks\": \"\", \"zerolinecolor\": \"white\"}, \"zaxis\": {\"backgroundcolor\": \"#E5ECF6\", \"gridcolor\": \"white\", \"gridwidth\": 2, \"linecolor\": \"white\", \"showbackground\": true, \"ticks\": \"\", \"zerolinecolor\": \"white\"}}, \"shapedefaults\": {\"line\": {\"color\": \"#2a3f5f\"}}, \"ternary\": {\"aaxis\": {\"gridcolor\": \"white\", \"linecolor\": \"white\", \"ticks\": \"\"}, \"baxis\": {\"gridcolor\": \"white\", \"linecolor\": \"white\", \"ticks\": \"\"}, \"bgcolor\": \"#E5ECF6\", \"caxis\": {\"gridcolor\": \"white\", \"linecolor\": \"white\", \"ticks\": \"\"}}, \"title\": {\"x\": 0.05}, \"xaxis\": {\"automargin\": true, \"gridcolor\": \"white\", \"linecolor\": \"white\", \"ticks\": \"\", \"title\": {\"standoff\": 15}, \"zerolinecolor\": \"white\", \"zerolinewidth\": 2}, \"yaxis\": {\"automargin\": true, \"gridcolor\": \"white\", \"linecolor\": \"white\", \"ticks\": \"\", \"title\": {\"standoff\": 15}, \"zerolinecolor\": \"white\", \"zerolinewidth\": 2}}}, \"title\": {\"text\": \"line chart\"}},\n",
       "                        {\"responsive\": true}\n",
       "                    ).then(function(){\n",
       "                            \n",
       "var gd = document.getElementById('8802863d-edb0-48fe-8365-6a39f15e101e');\n",
       "var x = new MutationObserver(function (mutations, observer) {{\n",
       "        var display = window.getComputedStyle(gd).display;\n",
       "        if (!display || display === 'none') {{\n",
       "            console.log([gd, 'removed!']);\n",
       "            Plotly.purge(gd);\n",
       "            observer.disconnect();\n",
       "        }}\n",
       "}});\n",
       "\n",
       "// Listen for the removal of the full notebook cells\n",
       "var notebookContainer = gd.closest('#notebook-container');\n",
       "if (notebookContainer) {{\n",
       "    x.observe(notebookContainer, {childList: true});\n",
       "}}\n",
       "\n",
       "// Listen for the clearing of the current output cell\n",
       "var outputEl = gd.closest('.output');\n",
       "if (outputEl) {{\n",
       "    x.observe(outputEl, {childList: true});\n",
       "}}\n",
       "\n",
       "                        })\n",
       "                };\n",
       "                });\n",
       "            </script>\n",
       "        </div>"
      ]
     },
     "metadata": {},
     "output_type": "display_data"
    }
   ],
   "source": [
    "data = [go.Scatter(x = new_df.mean(axis = 0).index, y = new_df.mean(axis = 0).values, mode = 'lines' )]\n",
    "layout = go.Layout(title = 'line chart')\n",
    "g = go.Figure(data, layout)\n",
    "g.show()"
   ]
  },
  {
   "cell_type": "code",
   "execution_count": 12,
   "metadata": {},
   "outputs": [
    {
     "data": {
      "application/javascript": [
       "\n",
       "        if (window._pyforest_update_imports_cell) { window._pyforest_update_imports_cell('import numpy as np\\nimport plotly.graph_objs as go\\nimport plotly as py'); }\n",
       "    "
      ],
      "text/plain": [
       "<IPython.core.display.Javascript object>"
      ]
     },
     "metadata": {},
     "output_type": "display_data"
    },
    {
     "data": {
      "application/javascript": [
       "\n",
       "        if (window._pyforest_update_imports_cell) { window._pyforest_update_imports_cell('import numpy as np\\nimport plotly.graph_objs as go\\nimport plotly as py'); }\n",
       "    "
      ],
      "text/plain": [
       "<IPython.core.display.Javascript object>"
      ]
     },
     "metadata": {},
     "output_type": "display_data"
    },
    {
     "data": {
      "application/vnd.plotly.v1+json": {
       "config": {
        "plotlyServerURL": "https://plot.ly"
       },
       "data": [
        {
         "name": "2010",
         "type": "box",
         "xaxis": "x",
         "y": [
          0.67,
          0.61,
          0.67,
          0.72,
          0.67,
          0.73,
          0.71,
          0.64,
          0.71,
          0.62,
          0.67,
          0.72,
          null,
          0.75,
          0.65,
          0.57,
          null,
          0.68,
          0.69,
          0.67,
          0.67,
          0.7,
          0.62,
          null,
          0.65,
          0.61,
          0.74,
          null,
          0.53,
          0.7,
          0.69,
          0.69,
          0.72,
          0.57,
          0.69,
          0.73,
          0.66,
          0.68,
          0.77,
          0.68,
          0.71,
          0.59,
          0.66,
          0.7,
          0.6,
          0.63,
          0.83,
          0.7,
          0.68,
          0.66,
          0.75,
          0.68,
          0.69,
          0.62,
          null,
          0.71,
          0.69,
          0.67,
          0.85,
          0.62,
          0.66,
          0.59,
          0.78,
          0.7,
          0.68,
          0.7,
          0.65,
          0.6,
          0.71,
          0.65,
          0.63,
          0.63,
          0.7,
          null,
          0.74,
          0.61,
          0.77,
          null,
          0.71,
          0.72,
          0.7,
          0.67,
          0.68,
          0.65,
          0.65,
          0.57,
          0.67,
          0.62,
          0.65,
          0.66,
          0.72,
          0.72,
          null,
          0.58,
          0.73,
          null,
          0.72,
          0.61,
          0.74,
          0.78,
          0.72,
          0.61,
          0.84,
          0.6,
          0.55,
          0.71,
          0.68,
          0.69,
          0.77,
          0.7,
          0.72,
          0.61,
          0.68,
          0.7,
          null,
          0.57,
          0.64,
          null,
          0.69,
          0.68,
          0.7,
          0.75,
          0.76,
          0.75,
          0.64,
          null,
          0.8,
          0.76,
          0.59,
          0.66,
          0.68,
          0.69,
          null,
          0.74,
          0.63,
          0.59,
          0.72,
          0.69,
          0.64,
          0.75,
          0.74,
          0.69,
          0.69,
          0.68,
          0.46,
          0.63,
          0.66
         ],
         "yaxis": "y"
        },
        {
         "mode": "lines",
         "type": "scatter",
         "x": [
          "2010",
          "2011",
          "2012",
          "2013",
          "2014",
          "2015",
          "2016",
          "2017",
          "2018",
          "2019"
         ],
         "xaxis": "x2",
         "y": [
          0.6782835820895521,
          0.6792592592592592,
          0.6844444444444442,
          0.6863235294117643,
          0.6924999999999999,
          0.6951724137931036,
          0.6947887323943664,
          0.6977464788732394,
          0.6978321678321676,
          0.7037241379310339
         ],
         "yaxis": "y2"
        }
       ],
       "layout": {
        "template": {
         "data": {
          "bar": [
           {
            "error_x": {
             "color": "#f2f5fa"
            },
            "error_y": {
             "color": "#f2f5fa"
            },
            "marker": {
             "line": {
              "color": "rgb(17,17,17)",
              "width": 0.5
             }
            },
            "type": "bar"
           }
          ],
          "barpolar": [
           {
            "marker": {
             "line": {
              "color": "rgb(17,17,17)",
              "width": 0.5
             }
            },
            "type": "barpolar"
           }
          ],
          "carpet": [
           {
            "aaxis": {
             "endlinecolor": "#A2B1C6",
             "gridcolor": "#506784",
             "linecolor": "#506784",
             "minorgridcolor": "#506784",
             "startlinecolor": "#A2B1C6"
            },
            "baxis": {
             "endlinecolor": "#A2B1C6",
             "gridcolor": "#506784",
             "linecolor": "#506784",
             "minorgridcolor": "#506784",
             "startlinecolor": "#A2B1C6"
            },
            "type": "carpet"
           }
          ],
          "choropleth": [
           {
            "colorbar": {
             "outlinewidth": 0,
             "ticks": ""
            },
            "type": "choropleth"
           }
          ],
          "contour": [
           {
            "colorbar": {
             "outlinewidth": 0,
             "ticks": ""
            },
            "colorscale": [
             [
              0,
              "#0d0887"
             ],
             [
              0.1111111111111111,
              "#46039f"
             ],
             [
              0.2222222222222222,
              "#7201a8"
             ],
             [
              0.3333333333333333,
              "#9c179e"
             ],
             [
              0.4444444444444444,
              "#bd3786"
             ],
             [
              0.5555555555555556,
              "#d8576b"
             ],
             [
              0.6666666666666666,
              "#ed7953"
             ],
             [
              0.7777777777777778,
              "#fb9f3a"
             ],
             [
              0.8888888888888888,
              "#fdca26"
             ],
             [
              1,
              "#f0f921"
             ]
            ],
            "type": "contour"
           }
          ],
          "contourcarpet": [
           {
            "colorbar": {
             "outlinewidth": 0,
             "ticks": ""
            },
            "type": "contourcarpet"
           }
          ],
          "heatmap": [
           {
            "colorbar": {
             "outlinewidth": 0,
             "ticks": ""
            },
            "colorscale": [
             [
              0,
              "#0d0887"
             ],
             [
              0.1111111111111111,
              "#46039f"
             ],
             [
              0.2222222222222222,
              "#7201a8"
             ],
             [
              0.3333333333333333,
              "#9c179e"
             ],
             [
              0.4444444444444444,
              "#bd3786"
             ],
             [
              0.5555555555555556,
              "#d8576b"
             ],
             [
              0.6666666666666666,
              "#ed7953"
             ],
             [
              0.7777777777777778,
              "#fb9f3a"
             ],
             [
              0.8888888888888888,
              "#fdca26"
             ],
             [
              1,
              "#f0f921"
             ]
            ],
            "type": "heatmap"
           }
          ],
          "heatmapgl": [
           {
            "colorbar": {
             "outlinewidth": 0,
             "ticks": ""
            },
            "colorscale": [
             [
              0,
              "#0d0887"
             ],
             [
              0.1111111111111111,
              "#46039f"
             ],
             [
              0.2222222222222222,
              "#7201a8"
             ],
             [
              0.3333333333333333,
              "#9c179e"
             ],
             [
              0.4444444444444444,
              "#bd3786"
             ],
             [
              0.5555555555555556,
              "#d8576b"
             ],
             [
              0.6666666666666666,
              "#ed7953"
             ],
             [
              0.7777777777777778,
              "#fb9f3a"
             ],
             [
              0.8888888888888888,
              "#fdca26"
             ],
             [
              1,
              "#f0f921"
             ]
            ],
            "type": "heatmapgl"
           }
          ],
          "histogram": [
           {
            "marker": {
             "colorbar": {
              "outlinewidth": 0,
              "ticks": ""
             }
            },
            "type": "histogram"
           }
          ],
          "histogram2d": [
           {
            "colorbar": {
             "outlinewidth": 0,
             "ticks": ""
            },
            "colorscale": [
             [
              0,
              "#0d0887"
             ],
             [
              0.1111111111111111,
              "#46039f"
             ],
             [
              0.2222222222222222,
              "#7201a8"
             ],
             [
              0.3333333333333333,
              "#9c179e"
             ],
             [
              0.4444444444444444,
              "#bd3786"
             ],
             [
              0.5555555555555556,
              "#d8576b"
             ],
             [
              0.6666666666666666,
              "#ed7953"
             ],
             [
              0.7777777777777778,
              "#fb9f3a"
             ],
             [
              0.8888888888888888,
              "#fdca26"
             ],
             [
              1,
              "#f0f921"
             ]
            ],
            "type": "histogram2d"
           }
          ],
          "histogram2dcontour": [
           {
            "colorbar": {
             "outlinewidth": 0,
             "ticks": ""
            },
            "colorscale": [
             [
              0,
              "#0d0887"
             ],
             [
              0.1111111111111111,
              "#46039f"
             ],
             [
              0.2222222222222222,
              "#7201a8"
             ],
             [
              0.3333333333333333,
              "#9c179e"
             ],
             [
              0.4444444444444444,
              "#bd3786"
             ],
             [
              0.5555555555555556,
              "#d8576b"
             ],
             [
              0.6666666666666666,
              "#ed7953"
             ],
             [
              0.7777777777777778,
              "#fb9f3a"
             ],
             [
              0.8888888888888888,
              "#fdca26"
             ],
             [
              1,
              "#f0f921"
             ]
            ],
            "type": "histogram2dcontour"
           }
          ],
          "mesh3d": [
           {
            "colorbar": {
             "outlinewidth": 0,
             "ticks": ""
            },
            "type": "mesh3d"
           }
          ],
          "parcoords": [
           {
            "line": {
             "colorbar": {
              "outlinewidth": 0,
              "ticks": ""
             }
            },
            "type": "parcoords"
           }
          ],
          "pie": [
           {
            "automargin": true,
            "type": "pie"
           }
          ],
          "scatter": [
           {
            "marker": {
             "line": {
              "color": "#283442"
             }
            },
            "type": "scatter"
           }
          ],
          "scatter3d": [
           {
            "line": {
             "colorbar": {
              "outlinewidth": 0,
              "ticks": ""
             }
            },
            "marker": {
             "colorbar": {
              "outlinewidth": 0,
              "ticks": ""
             }
            },
            "type": "scatter3d"
           }
          ],
          "scattercarpet": [
           {
            "marker": {
             "colorbar": {
              "outlinewidth": 0,
              "ticks": ""
             }
            },
            "type": "scattercarpet"
           }
          ],
          "scattergeo": [
           {
            "marker": {
             "colorbar": {
              "outlinewidth": 0,
              "ticks": ""
             }
            },
            "type": "scattergeo"
           }
          ],
          "scattergl": [
           {
            "marker": {
             "line": {
              "color": "#283442"
             }
            },
            "type": "scattergl"
           }
          ],
          "scattermapbox": [
           {
            "marker": {
             "colorbar": {
              "outlinewidth": 0,
              "ticks": ""
             }
            },
            "type": "scattermapbox"
           }
          ],
          "scatterpolar": [
           {
            "marker": {
             "colorbar": {
              "outlinewidth": 0,
              "ticks": ""
             }
            },
            "type": "scatterpolar"
           }
          ],
          "scatterpolargl": [
           {
            "marker": {
             "colorbar": {
              "outlinewidth": 0,
              "ticks": ""
             }
            },
            "type": "scatterpolargl"
           }
          ],
          "scatterternary": [
           {
            "marker": {
             "colorbar": {
              "outlinewidth": 0,
              "ticks": ""
             }
            },
            "type": "scatterternary"
           }
          ],
          "surface": [
           {
            "colorbar": {
             "outlinewidth": 0,
             "ticks": ""
            },
            "colorscale": [
             [
              0,
              "#0d0887"
             ],
             [
              0.1111111111111111,
              "#46039f"
             ],
             [
              0.2222222222222222,
              "#7201a8"
             ],
             [
              0.3333333333333333,
              "#9c179e"
             ],
             [
              0.4444444444444444,
              "#bd3786"
             ],
             [
              0.5555555555555556,
              "#d8576b"
             ],
             [
              0.6666666666666666,
              "#ed7953"
             ],
             [
              0.7777777777777778,
              "#fb9f3a"
             ],
             [
              0.8888888888888888,
              "#fdca26"
             ],
             [
              1,
              "#f0f921"
             ]
            ],
            "type": "surface"
           }
          ],
          "table": [
           {
            "cells": {
             "fill": {
              "color": "#506784"
             },
             "line": {
              "color": "rgb(17,17,17)"
             }
            },
            "header": {
             "fill": {
              "color": "#2a3f5f"
             },
             "line": {
              "color": "rgb(17,17,17)"
             }
            },
            "type": "table"
           }
          ]
         },
         "layout": {
          "annotationdefaults": {
           "arrowcolor": "#f2f5fa",
           "arrowhead": 0,
           "arrowwidth": 1
          },
          "coloraxis": {
           "colorbar": {
            "outlinewidth": 0,
            "ticks": ""
           }
          },
          "colorscale": {
           "diverging": [
            [
             0,
             "#8e0152"
            ],
            [
             0.1,
             "#c51b7d"
            ],
            [
             0.2,
             "#de77ae"
            ],
            [
             0.3,
             "#f1b6da"
            ],
            [
             0.4,
             "#fde0ef"
            ],
            [
             0.5,
             "#f7f7f7"
            ],
            [
             0.6,
             "#e6f5d0"
            ],
            [
             0.7,
             "#b8e186"
            ],
            [
             0.8,
             "#7fbc41"
            ],
            [
             0.9,
             "#4d9221"
            ],
            [
             1,
             "#276419"
            ]
           ],
           "sequential": [
            [
             0,
             "#0d0887"
            ],
            [
             0.1111111111111111,
             "#46039f"
            ],
            [
             0.2222222222222222,
             "#7201a8"
            ],
            [
             0.3333333333333333,
             "#9c179e"
            ],
            [
             0.4444444444444444,
             "#bd3786"
            ],
            [
             0.5555555555555556,
             "#d8576b"
            ],
            [
             0.6666666666666666,
             "#ed7953"
            ],
            [
             0.7777777777777778,
             "#fb9f3a"
            ],
            [
             0.8888888888888888,
             "#fdca26"
            ],
            [
             1,
             "#f0f921"
            ]
           ],
           "sequentialminus": [
            [
             0,
             "#0d0887"
            ],
            [
             0.1111111111111111,
             "#46039f"
            ],
            [
             0.2222222222222222,
             "#7201a8"
            ],
            [
             0.3333333333333333,
             "#9c179e"
            ],
            [
             0.4444444444444444,
             "#bd3786"
            ],
            [
             0.5555555555555556,
             "#d8576b"
            ],
            [
             0.6666666666666666,
             "#ed7953"
            ],
            [
             0.7777777777777778,
             "#fb9f3a"
            ],
            [
             0.8888888888888888,
             "#fdca26"
            ],
            [
             1,
             "#f0f921"
            ]
           ]
          },
          "colorway": [
           "#636efa",
           "#EF553B",
           "#00cc96",
           "#ab63fa",
           "#FFA15A",
           "#19d3f3",
           "#FF6692",
           "#B6E880",
           "#FF97FF",
           "#FECB52"
          ],
          "font": {
           "color": "#f2f5fa"
          },
          "geo": {
           "bgcolor": "rgb(17,17,17)",
           "lakecolor": "rgb(17,17,17)",
           "landcolor": "rgb(17,17,17)",
           "showlakes": true,
           "showland": true,
           "subunitcolor": "#506784"
          },
          "hoverlabel": {
           "align": "left"
          },
          "hovermode": "closest",
          "mapbox": {
           "style": "dark"
          },
          "paper_bgcolor": "rgb(17,17,17)",
          "plot_bgcolor": "rgb(17,17,17)",
          "polar": {
           "angularaxis": {
            "gridcolor": "#506784",
            "linecolor": "#506784",
            "ticks": ""
           },
           "bgcolor": "rgb(17,17,17)",
           "radialaxis": {
            "gridcolor": "#506784",
            "linecolor": "#506784",
            "ticks": ""
           }
          },
          "scene": {
           "xaxis": {
            "backgroundcolor": "rgb(17,17,17)",
            "gridcolor": "#506784",
            "gridwidth": 2,
            "linecolor": "#506784",
            "showbackground": true,
            "ticks": "",
            "zerolinecolor": "#C8D4E3"
           },
           "yaxis": {
            "backgroundcolor": "rgb(17,17,17)",
            "gridcolor": "#506784",
            "gridwidth": 2,
            "linecolor": "#506784",
            "showbackground": true,
            "ticks": "",
            "zerolinecolor": "#C8D4E3"
           },
           "zaxis": {
            "backgroundcolor": "rgb(17,17,17)",
            "gridcolor": "#506784",
            "gridwidth": 2,
            "linecolor": "#506784",
            "showbackground": true,
            "ticks": "",
            "zerolinecolor": "#C8D4E3"
           }
          },
          "shapedefaults": {
           "line": {
            "color": "#f2f5fa"
           }
          },
          "sliderdefaults": {
           "bgcolor": "#C8D4E3",
           "bordercolor": "rgb(17,17,17)",
           "borderwidth": 1,
           "tickwidth": 0
          },
          "ternary": {
           "aaxis": {
            "gridcolor": "#506784",
            "linecolor": "#506784",
            "ticks": ""
           },
           "baxis": {
            "gridcolor": "#506784",
            "linecolor": "#506784",
            "ticks": ""
           },
           "bgcolor": "rgb(17,17,17)",
           "caxis": {
            "gridcolor": "#506784",
            "linecolor": "#506784",
            "ticks": ""
           }
          },
          "title": {
           "x": 0.05
          },
          "updatemenudefaults": {
           "bgcolor": "#506784",
           "borderwidth": 0
          },
          "xaxis": {
           "automargin": true,
           "gridcolor": "#283442",
           "linecolor": "#506784",
           "ticks": "",
           "title": {
            "standoff": 15
           },
           "zerolinecolor": "#283442",
           "zerolinewidth": 2
          },
          "yaxis": {
           "automargin": true,
           "gridcolor": "#283442",
           "linecolor": "#506784",
           "ticks": "",
           "title": {
            "standoff": 15
           },
           "zerolinecolor": "#283442",
           "zerolinewidth": 2
          }
         }
        },
        "xaxis": {
         "anchor": "y",
         "domain": [
          0,
          0.45
         ]
        },
        "xaxis2": {
         "anchor": "y2",
         "domain": [
          0.55,
          1
         ]
        },
        "yaxis": {
         "anchor": "x",
         "domain": [
          0,
          1
         ]
        },
        "yaxis2": {
         "anchor": "x2",
         "domain": [
          0,
          1
         ]
        }
       }
      },
      "text/html": [
       "<div>\n",
       "        \n",
       "        \n",
       "            <div id=\"d4c888a5-ba38-40de-b940-5ca1aa109deb\" class=\"plotly-graph-div\" style=\"height:525px; width:100%;\"></div>\n",
       "            <script type=\"text/javascript\">\n",
       "                require([\"plotly\"], function(Plotly) {\n",
       "                    window.PLOTLYENV=window.PLOTLYENV || {};\n",
       "                    \n",
       "                if (document.getElementById(\"d4c888a5-ba38-40de-b940-5ca1aa109deb\")) {\n",
       "                    Plotly.newPlot(\n",
       "                        'd4c888a5-ba38-40de-b940-5ca1aa109deb',\n",
       "                        [{\"name\": \"2010\", \"type\": \"box\", \"xaxis\": \"x\", \"y\": [0.67, 0.61, 0.67, 0.72, 0.67, 0.73, 0.71, 0.64, 0.71, 0.62, 0.67, 0.72, null, 0.75, 0.65, 0.57, null, 0.68, 0.69, 0.67, 0.67, 0.7, 0.62, null, 0.65, 0.61, 0.74, null, 0.53, 0.7, 0.69, 0.69, 0.72, 0.57, 0.69, 0.73, 0.66, 0.68, 0.77, 0.68, 0.71, 0.59, 0.66, 0.7, 0.6, 0.63, 0.83, 0.7, 0.68, 0.66, 0.75, 0.68, 0.69, 0.62, null, 0.71, 0.69, 0.67, 0.85, 0.62, 0.66, 0.59, 0.78, 0.7, 0.68, 0.7, 0.65, 0.6, 0.71, 0.65, 0.63, 0.63, 0.7, null, 0.74, 0.61, 0.77, null, 0.71, 0.72, 0.7, 0.67, 0.68, 0.65, 0.65, 0.57, 0.67, 0.62, 0.65, 0.66, 0.72, 0.72, null, 0.58, 0.73, null, 0.72, 0.61, 0.74, 0.78, 0.72, 0.61, 0.84, 0.6, 0.55, 0.71, 0.68, 0.69, 0.77, 0.7, 0.72, 0.61, 0.68, 0.7, null, 0.57, 0.64, null, 0.69, 0.68, 0.7, 0.75, 0.76, 0.75, 0.64, null, 0.8, 0.76, 0.59, 0.66, 0.68, 0.69, null, 0.74, 0.63, 0.59, 0.72, 0.69, 0.64, 0.75, 0.74, 0.69, 0.69, 0.68, 0.46, 0.63, 0.66], \"yaxis\": \"y\"}, {\"mode\": \"lines\", \"type\": \"scatter\", \"x\": [\"2010\", \"2011\", \"2012\", \"2013\", \"2014\", \"2015\", \"2016\", \"2017\", \"2018\", \"2019\"], \"xaxis\": \"x2\", \"y\": [0.6782835820895521, 0.6792592592592592, 0.6844444444444442, 0.6863235294117643, 0.6924999999999999, 0.6951724137931036, 0.6947887323943664, 0.6977464788732394, 0.6978321678321676, 0.7037241379310339], \"yaxis\": \"y2\"}],\n",
       "                        {\"template\": {\"data\": {\"bar\": [{\"error_x\": {\"color\": \"#f2f5fa\"}, \"error_y\": {\"color\": \"#f2f5fa\"}, \"marker\": {\"line\": {\"color\": \"rgb(17,17,17)\", \"width\": 0.5}}, \"type\": \"bar\"}], \"barpolar\": [{\"marker\": {\"line\": {\"color\": \"rgb(17,17,17)\", \"width\": 0.5}}, \"type\": \"barpolar\"}], \"carpet\": [{\"aaxis\": {\"endlinecolor\": \"#A2B1C6\", \"gridcolor\": \"#506784\", \"linecolor\": \"#506784\", \"minorgridcolor\": \"#506784\", \"startlinecolor\": \"#A2B1C6\"}, \"baxis\": {\"endlinecolor\": \"#A2B1C6\", \"gridcolor\": \"#506784\", \"linecolor\": \"#506784\", \"minorgridcolor\": \"#506784\", \"startlinecolor\": \"#A2B1C6\"}, \"type\": \"carpet\"}], \"choropleth\": [{\"colorbar\": {\"outlinewidth\": 0, \"ticks\": \"\"}, \"type\": \"choropleth\"}], \"contour\": [{\"colorbar\": {\"outlinewidth\": 0, \"ticks\": \"\"}, \"colorscale\": [[0.0, \"#0d0887\"], [0.1111111111111111, \"#46039f\"], [0.2222222222222222, \"#7201a8\"], [0.3333333333333333, \"#9c179e\"], [0.4444444444444444, \"#bd3786\"], [0.5555555555555556, \"#d8576b\"], [0.6666666666666666, \"#ed7953\"], [0.7777777777777778, \"#fb9f3a\"], [0.8888888888888888, \"#fdca26\"], [1.0, \"#f0f921\"]], \"type\": \"contour\"}], \"contourcarpet\": [{\"colorbar\": {\"outlinewidth\": 0, \"ticks\": \"\"}, \"type\": \"contourcarpet\"}], \"heatmap\": [{\"colorbar\": {\"outlinewidth\": 0, \"ticks\": \"\"}, \"colorscale\": [[0.0, \"#0d0887\"], [0.1111111111111111, \"#46039f\"], [0.2222222222222222, \"#7201a8\"], [0.3333333333333333, \"#9c179e\"], [0.4444444444444444, \"#bd3786\"], [0.5555555555555556, \"#d8576b\"], [0.6666666666666666, \"#ed7953\"], [0.7777777777777778, \"#fb9f3a\"], [0.8888888888888888, \"#fdca26\"], [1.0, \"#f0f921\"]], \"type\": \"heatmap\"}], \"heatmapgl\": [{\"colorbar\": {\"outlinewidth\": 0, \"ticks\": \"\"}, \"colorscale\": [[0.0, \"#0d0887\"], [0.1111111111111111, \"#46039f\"], [0.2222222222222222, \"#7201a8\"], [0.3333333333333333, \"#9c179e\"], [0.4444444444444444, \"#bd3786\"], [0.5555555555555556, \"#d8576b\"], [0.6666666666666666, \"#ed7953\"], [0.7777777777777778, \"#fb9f3a\"], [0.8888888888888888, \"#fdca26\"], [1.0, \"#f0f921\"]], \"type\": \"heatmapgl\"}], \"histogram\": [{\"marker\": {\"colorbar\": {\"outlinewidth\": 0, \"ticks\": \"\"}}, \"type\": \"histogram\"}], \"histogram2d\": [{\"colorbar\": {\"outlinewidth\": 0, \"ticks\": \"\"}, \"colorscale\": [[0.0, \"#0d0887\"], [0.1111111111111111, \"#46039f\"], [0.2222222222222222, \"#7201a8\"], [0.3333333333333333, \"#9c179e\"], [0.4444444444444444, \"#bd3786\"], [0.5555555555555556, \"#d8576b\"], [0.6666666666666666, \"#ed7953\"], [0.7777777777777778, \"#fb9f3a\"], [0.8888888888888888, \"#fdca26\"], [1.0, \"#f0f921\"]], \"type\": \"histogram2d\"}], \"histogram2dcontour\": [{\"colorbar\": {\"outlinewidth\": 0, \"ticks\": \"\"}, \"colorscale\": [[0.0, \"#0d0887\"], [0.1111111111111111, \"#46039f\"], [0.2222222222222222, \"#7201a8\"], [0.3333333333333333, \"#9c179e\"], [0.4444444444444444, \"#bd3786\"], [0.5555555555555556, \"#d8576b\"], [0.6666666666666666, \"#ed7953\"], [0.7777777777777778, \"#fb9f3a\"], [0.8888888888888888, \"#fdca26\"], [1.0, \"#f0f921\"]], \"type\": \"histogram2dcontour\"}], \"mesh3d\": [{\"colorbar\": {\"outlinewidth\": 0, \"ticks\": \"\"}, \"type\": \"mesh3d\"}], \"parcoords\": [{\"line\": {\"colorbar\": {\"outlinewidth\": 0, \"ticks\": \"\"}}, \"type\": \"parcoords\"}], \"pie\": [{\"automargin\": true, \"type\": \"pie\"}], \"scatter\": [{\"marker\": {\"line\": {\"color\": \"#283442\"}}, \"type\": \"scatter\"}], \"scatter3d\": [{\"line\": {\"colorbar\": {\"outlinewidth\": 0, \"ticks\": \"\"}}, \"marker\": {\"colorbar\": {\"outlinewidth\": 0, \"ticks\": \"\"}}, \"type\": \"scatter3d\"}], \"scattercarpet\": [{\"marker\": {\"colorbar\": {\"outlinewidth\": 0, \"ticks\": \"\"}}, \"type\": \"scattercarpet\"}], \"scattergeo\": [{\"marker\": {\"colorbar\": {\"outlinewidth\": 0, \"ticks\": \"\"}}, \"type\": \"scattergeo\"}], \"scattergl\": [{\"marker\": {\"line\": {\"color\": \"#283442\"}}, \"type\": \"scattergl\"}], \"scattermapbox\": [{\"marker\": {\"colorbar\": {\"outlinewidth\": 0, \"ticks\": \"\"}}, \"type\": \"scattermapbox\"}], \"scatterpolar\": [{\"marker\": {\"colorbar\": {\"outlinewidth\": 0, \"ticks\": \"\"}}, \"type\": \"scatterpolar\"}], \"scatterpolargl\": [{\"marker\": {\"colorbar\": {\"outlinewidth\": 0, \"ticks\": \"\"}}, \"type\": \"scatterpolargl\"}], \"scatterternary\": [{\"marker\": {\"colorbar\": {\"outlinewidth\": 0, \"ticks\": \"\"}}, \"type\": \"scatterternary\"}], \"surface\": [{\"colorbar\": {\"outlinewidth\": 0, \"ticks\": \"\"}, \"colorscale\": [[0.0, \"#0d0887\"], [0.1111111111111111, \"#46039f\"], [0.2222222222222222, \"#7201a8\"], [0.3333333333333333, \"#9c179e\"], [0.4444444444444444, \"#bd3786\"], [0.5555555555555556, \"#d8576b\"], [0.6666666666666666, \"#ed7953\"], [0.7777777777777778, \"#fb9f3a\"], [0.8888888888888888, \"#fdca26\"], [1.0, \"#f0f921\"]], \"type\": \"surface\"}], \"table\": [{\"cells\": {\"fill\": {\"color\": \"#506784\"}, \"line\": {\"color\": \"rgb(17,17,17)\"}}, \"header\": {\"fill\": {\"color\": \"#2a3f5f\"}, \"line\": {\"color\": \"rgb(17,17,17)\"}}, \"type\": \"table\"}]}, \"layout\": {\"annotationdefaults\": {\"arrowcolor\": \"#f2f5fa\", \"arrowhead\": 0, \"arrowwidth\": 1}, \"coloraxis\": {\"colorbar\": {\"outlinewidth\": 0, \"ticks\": \"\"}}, \"colorscale\": {\"diverging\": [[0, \"#8e0152\"], [0.1, \"#c51b7d\"], [0.2, \"#de77ae\"], [0.3, \"#f1b6da\"], [0.4, \"#fde0ef\"], [0.5, \"#f7f7f7\"], [0.6, \"#e6f5d0\"], [0.7, \"#b8e186\"], [0.8, \"#7fbc41\"], [0.9, \"#4d9221\"], [1, \"#276419\"]], \"sequential\": [[0.0, \"#0d0887\"], [0.1111111111111111, \"#46039f\"], [0.2222222222222222, \"#7201a8\"], [0.3333333333333333, \"#9c179e\"], [0.4444444444444444, \"#bd3786\"], [0.5555555555555556, \"#d8576b\"], [0.6666666666666666, \"#ed7953\"], [0.7777777777777778, \"#fb9f3a\"], [0.8888888888888888, \"#fdca26\"], [1.0, \"#f0f921\"]], \"sequentialminus\": [[0.0, \"#0d0887\"], [0.1111111111111111, \"#46039f\"], [0.2222222222222222, \"#7201a8\"], [0.3333333333333333, \"#9c179e\"], [0.4444444444444444, \"#bd3786\"], [0.5555555555555556, \"#d8576b\"], [0.6666666666666666, \"#ed7953\"], [0.7777777777777778, \"#fb9f3a\"], [0.8888888888888888, \"#fdca26\"], [1.0, \"#f0f921\"]]}, \"colorway\": [\"#636efa\", \"#EF553B\", \"#00cc96\", \"#ab63fa\", \"#FFA15A\", \"#19d3f3\", \"#FF6692\", \"#B6E880\", \"#FF97FF\", \"#FECB52\"], \"font\": {\"color\": \"#f2f5fa\"}, \"geo\": {\"bgcolor\": \"rgb(17,17,17)\", \"lakecolor\": \"rgb(17,17,17)\", \"landcolor\": \"rgb(17,17,17)\", \"showlakes\": true, \"showland\": true, \"subunitcolor\": \"#506784\"}, \"hoverlabel\": {\"align\": \"left\"}, \"hovermode\": \"closest\", \"mapbox\": {\"style\": \"dark\"}, \"paper_bgcolor\": \"rgb(17,17,17)\", \"plot_bgcolor\": \"rgb(17,17,17)\", \"polar\": {\"angularaxis\": {\"gridcolor\": \"#506784\", \"linecolor\": \"#506784\", \"ticks\": \"\"}, \"bgcolor\": \"rgb(17,17,17)\", \"radialaxis\": {\"gridcolor\": \"#506784\", \"linecolor\": \"#506784\", \"ticks\": \"\"}}, \"scene\": {\"xaxis\": {\"backgroundcolor\": \"rgb(17,17,17)\", \"gridcolor\": \"#506784\", \"gridwidth\": 2, \"linecolor\": \"#506784\", \"showbackground\": true, \"ticks\": \"\", \"zerolinecolor\": \"#C8D4E3\"}, \"yaxis\": {\"backgroundcolor\": \"rgb(17,17,17)\", \"gridcolor\": \"#506784\", \"gridwidth\": 2, \"linecolor\": \"#506784\", \"showbackground\": true, \"ticks\": \"\", \"zerolinecolor\": \"#C8D4E3\"}, \"zaxis\": {\"backgroundcolor\": \"rgb(17,17,17)\", \"gridcolor\": \"#506784\", \"gridwidth\": 2, \"linecolor\": \"#506784\", \"showbackground\": true, \"ticks\": \"\", \"zerolinecolor\": \"#C8D4E3\"}}, \"shapedefaults\": {\"line\": {\"color\": \"#f2f5fa\"}}, \"sliderdefaults\": {\"bgcolor\": \"#C8D4E3\", \"bordercolor\": \"rgb(17,17,17)\", \"borderwidth\": 1, \"tickwidth\": 0}, \"ternary\": {\"aaxis\": {\"gridcolor\": \"#506784\", \"linecolor\": \"#506784\", \"ticks\": \"\"}, \"baxis\": {\"gridcolor\": \"#506784\", \"linecolor\": \"#506784\", \"ticks\": \"\"}, \"bgcolor\": \"rgb(17,17,17)\", \"caxis\": {\"gridcolor\": \"#506784\", \"linecolor\": \"#506784\", \"ticks\": \"\"}}, \"title\": {\"x\": 0.05}, \"updatemenudefaults\": {\"bgcolor\": \"#506784\", \"borderwidth\": 0}, \"xaxis\": {\"automargin\": true, \"gridcolor\": \"#283442\", \"linecolor\": \"#506784\", \"ticks\": \"\", \"title\": {\"standoff\": 15}, \"zerolinecolor\": \"#283442\", \"zerolinewidth\": 2}, \"yaxis\": {\"automargin\": true, \"gridcolor\": \"#283442\", \"linecolor\": \"#506784\", \"ticks\": \"\", \"title\": {\"standoff\": 15}, \"zerolinecolor\": \"#283442\", \"zerolinewidth\": 2}}}, \"xaxis\": {\"anchor\": \"y\", \"domain\": [0.0, 0.45]}, \"xaxis2\": {\"anchor\": \"y2\", \"domain\": [0.55, 1.0]}, \"yaxis\": {\"anchor\": \"x\", \"domain\": [0.0, 1.0]}, \"yaxis2\": {\"anchor\": \"x2\", \"domain\": [0.0, 1.0]}},\n",
       "                        {\"responsive\": true}\n",
       "                    ).then(function(){\n",
       "                            \n",
       "var gd = document.getElementById('d4c888a5-ba38-40de-b940-5ca1aa109deb');\n",
       "var x = new MutationObserver(function (mutations, observer) {{\n",
       "        var display = window.getComputedStyle(gd).display;\n",
       "        if (!display || display === 'none') {{\n",
       "            console.log([gd, 'removed!']);\n",
       "            Plotly.purge(gd);\n",
       "            observer.disconnect();\n",
       "        }}\n",
       "}});\n",
       "\n",
       "// Listen for the removal of the full notebook cells\n",
       "var notebookContainer = gd.closest('#notebook-container');\n",
       "if (notebookContainer) {{\n",
       "    x.observe(notebookContainer, {childList: true});\n",
       "}}\n",
       "\n",
       "// Listen for the clearing of the current output cell\n",
       "var outputEl = gd.closest('.output');\n",
       "if (outputEl) {{\n",
       "    x.observe(outputEl, {childList: true});\n",
       "}}\n",
       "\n",
       "                        })\n",
       "                };\n",
       "                });\n",
       "            </script>\n",
       "        </div>"
      ]
     },
     "metadata": {},
     "output_type": "display_data"
    }
   ],
   "source": [
    "from plotly.subplots import make_subplots\n",
    "fig = make_subplots(\n",
    "    rows=1, cols=2,\n",
    "    specs=[[{\"type\": \"Box\", \"rowspan\": 1},{\"type\": \"Scatter\", \"rowspan\": 1}]])\n",
    "\n",
    "\n",
    "       \n",
    "fig.add_trace(go.Box(y = new_df['2010'], name = '2010'),  row=1, col=1)\n",
    "\n",
    "fig.add_trace(go.Scatter(x = new_df.mean(axis = 0).index, y = new_df.mean(axis = 0).values, mode = 'lines' ), row=1, col=2)\n",
    "fig.update_layout(\n",
    "    template=\"plotly_dark\")\n",
    "\n",
    "fig.show()\n",
    "           "
   ]
  },
  {
   "cell_type": "code",
   "execution_count": 13,
   "metadata": {},
   "outputs": [
    {
     "data": {
      "application/vnd.plotly.v1+json": {
       "config": {
        "plotlyServerURL": "https://plot.ly"
       },
       "data": [
        {
         "marker": {
          "color": "LightSeaGreen",
          "size": 20
         },
         "mode": "markers",
         "name": "a",
         "type": "scatter",
         "xaxis": "x",
         "y": [
          4,
          2,
          3.5
         ],
         "yaxis": "y"
        },
        {
         "marker": {
          "color": "MediumPurple"
         },
         "name": "b",
         "type": "bar",
         "xaxis": "x",
         "y": [
          2,
          1,
          3
         ],
         "yaxis": "y"
        },
        {
         "marker": {
          "color": "MediumPurple",
          "size": 20
         },
         "mode": "markers",
         "name": "c",
         "type": "scatter",
         "xaxis": "x2",
         "y": [
          2,
          3.5,
          4
         ],
         "yaxis": "y2"
        },
        {
         "marker": {
          "color": "LightSeaGreen"
         },
         "name": "d",
         "type": "bar",
         "xaxis": "x2",
         "y": [
          1,
          3,
          2
         ],
         "yaxis": "y2"
        }
       ],
       "layout": {
        "template": {
         "data": {
          "bar": [
           {
            "error_x": {
             "color": "#2a3f5f"
            },
            "error_y": {
             "color": "#2a3f5f"
            },
            "marker": {
             "line": {
              "color": "#E5ECF6",
              "width": 0.5
             }
            },
            "type": "bar"
           }
          ],
          "barpolar": [
           {
            "marker": {
             "line": {
              "color": "#E5ECF6",
              "width": 0.5
             }
            },
            "type": "barpolar"
           }
          ],
          "carpet": [
           {
            "aaxis": {
             "endlinecolor": "#2a3f5f",
             "gridcolor": "white",
             "linecolor": "white",
             "minorgridcolor": "white",
             "startlinecolor": "#2a3f5f"
            },
            "baxis": {
             "endlinecolor": "#2a3f5f",
             "gridcolor": "white",
             "linecolor": "white",
             "minorgridcolor": "white",
             "startlinecolor": "#2a3f5f"
            },
            "type": "carpet"
           }
          ],
          "choropleth": [
           {
            "colorbar": {
             "outlinewidth": 0,
             "ticks": ""
            },
            "type": "choropleth"
           }
          ],
          "contour": [
           {
            "colorbar": {
             "outlinewidth": 0,
             "ticks": ""
            },
            "colorscale": [
             [
              0,
              "#0d0887"
             ],
             [
              0.1111111111111111,
              "#46039f"
             ],
             [
              0.2222222222222222,
              "#7201a8"
             ],
             [
              0.3333333333333333,
              "#9c179e"
             ],
             [
              0.4444444444444444,
              "#bd3786"
             ],
             [
              0.5555555555555556,
              "#d8576b"
             ],
             [
              0.6666666666666666,
              "#ed7953"
             ],
             [
              0.7777777777777778,
              "#fb9f3a"
             ],
             [
              0.8888888888888888,
              "#fdca26"
             ],
             [
              1,
              "#f0f921"
             ]
            ],
            "type": "contour"
           }
          ],
          "contourcarpet": [
           {
            "colorbar": {
             "outlinewidth": 0,
             "ticks": ""
            },
            "type": "contourcarpet"
           }
          ],
          "heatmap": [
           {
            "colorbar": {
             "outlinewidth": 0,
             "ticks": ""
            },
            "colorscale": [
             [
              0,
              "#0d0887"
             ],
             [
              0.1111111111111111,
              "#46039f"
             ],
             [
              0.2222222222222222,
              "#7201a8"
             ],
             [
              0.3333333333333333,
              "#9c179e"
             ],
             [
              0.4444444444444444,
              "#bd3786"
             ],
             [
              0.5555555555555556,
              "#d8576b"
             ],
             [
              0.6666666666666666,
              "#ed7953"
             ],
             [
              0.7777777777777778,
              "#fb9f3a"
             ],
             [
              0.8888888888888888,
              "#fdca26"
             ],
             [
              1,
              "#f0f921"
             ]
            ],
            "type": "heatmap"
           }
          ],
          "heatmapgl": [
           {
            "colorbar": {
             "outlinewidth": 0,
             "ticks": ""
            },
            "colorscale": [
             [
              0,
              "#0d0887"
             ],
             [
              0.1111111111111111,
              "#46039f"
             ],
             [
              0.2222222222222222,
              "#7201a8"
             ],
             [
              0.3333333333333333,
              "#9c179e"
             ],
             [
              0.4444444444444444,
              "#bd3786"
             ],
             [
              0.5555555555555556,
              "#d8576b"
             ],
             [
              0.6666666666666666,
              "#ed7953"
             ],
             [
              0.7777777777777778,
              "#fb9f3a"
             ],
             [
              0.8888888888888888,
              "#fdca26"
             ],
             [
              1,
              "#f0f921"
             ]
            ],
            "type": "heatmapgl"
           }
          ],
          "histogram": [
           {
            "marker": {
             "colorbar": {
              "outlinewidth": 0,
              "ticks": ""
             }
            },
            "type": "histogram"
           }
          ],
          "histogram2d": [
           {
            "colorbar": {
             "outlinewidth": 0,
             "ticks": ""
            },
            "colorscale": [
             [
              0,
              "#0d0887"
             ],
             [
              0.1111111111111111,
              "#46039f"
             ],
             [
              0.2222222222222222,
              "#7201a8"
             ],
             [
              0.3333333333333333,
              "#9c179e"
             ],
             [
              0.4444444444444444,
              "#bd3786"
             ],
             [
              0.5555555555555556,
              "#d8576b"
             ],
             [
              0.6666666666666666,
              "#ed7953"
             ],
             [
              0.7777777777777778,
              "#fb9f3a"
             ],
             [
              0.8888888888888888,
              "#fdca26"
             ],
             [
              1,
              "#f0f921"
             ]
            ],
            "type": "histogram2d"
           }
          ],
          "histogram2dcontour": [
           {
            "colorbar": {
             "outlinewidth": 0,
             "ticks": ""
            },
            "colorscale": [
             [
              0,
              "#0d0887"
             ],
             [
              0.1111111111111111,
              "#46039f"
             ],
             [
              0.2222222222222222,
              "#7201a8"
             ],
             [
              0.3333333333333333,
              "#9c179e"
             ],
             [
              0.4444444444444444,
              "#bd3786"
             ],
             [
              0.5555555555555556,
              "#d8576b"
             ],
             [
              0.6666666666666666,
              "#ed7953"
             ],
             [
              0.7777777777777778,
              "#fb9f3a"
             ],
             [
              0.8888888888888888,
              "#fdca26"
             ],
             [
              1,
              "#f0f921"
             ]
            ],
            "type": "histogram2dcontour"
           }
          ],
          "mesh3d": [
           {
            "colorbar": {
             "outlinewidth": 0,
             "ticks": ""
            },
            "type": "mesh3d"
           }
          ],
          "parcoords": [
           {
            "line": {
             "colorbar": {
              "outlinewidth": 0,
              "ticks": ""
             }
            },
            "type": "parcoords"
           }
          ],
          "pie": [
           {
            "automargin": true,
            "type": "pie"
           }
          ],
          "scatter": [
           {
            "marker": {
             "colorbar": {
              "outlinewidth": 0,
              "ticks": ""
             }
            },
            "type": "scatter"
           }
          ],
          "scatter3d": [
           {
            "line": {
             "colorbar": {
              "outlinewidth": 0,
              "ticks": ""
             }
            },
            "marker": {
             "colorbar": {
              "outlinewidth": 0,
              "ticks": ""
             }
            },
            "type": "scatter3d"
           }
          ],
          "scattercarpet": [
           {
            "marker": {
             "colorbar": {
              "outlinewidth": 0,
              "ticks": ""
             }
            },
            "type": "scattercarpet"
           }
          ],
          "scattergeo": [
           {
            "marker": {
             "colorbar": {
              "outlinewidth": 0,
              "ticks": ""
             }
            },
            "type": "scattergeo"
           }
          ],
          "scattergl": [
           {
            "marker": {
             "colorbar": {
              "outlinewidth": 0,
              "ticks": ""
             }
            },
            "type": "scattergl"
           }
          ],
          "scattermapbox": [
           {
            "marker": {
             "colorbar": {
              "outlinewidth": 0,
              "ticks": ""
             }
            },
            "type": "scattermapbox"
           }
          ],
          "scatterpolar": [
           {
            "marker": {
             "colorbar": {
              "outlinewidth": 0,
              "ticks": ""
             }
            },
            "type": "scatterpolar"
           }
          ],
          "scatterpolargl": [
           {
            "marker": {
             "colorbar": {
              "outlinewidth": 0,
              "ticks": ""
             }
            },
            "type": "scatterpolargl"
           }
          ],
          "scatterternary": [
           {
            "marker": {
             "colorbar": {
              "outlinewidth": 0,
              "ticks": ""
             }
            },
            "type": "scatterternary"
           }
          ],
          "surface": [
           {
            "colorbar": {
             "outlinewidth": 0,
             "ticks": ""
            },
            "colorscale": [
             [
              0,
              "#0d0887"
             ],
             [
              0.1111111111111111,
              "#46039f"
             ],
             [
              0.2222222222222222,
              "#7201a8"
             ],
             [
              0.3333333333333333,
              "#9c179e"
             ],
             [
              0.4444444444444444,
              "#bd3786"
             ],
             [
              0.5555555555555556,
              "#d8576b"
             ],
             [
              0.6666666666666666,
              "#ed7953"
             ],
             [
              0.7777777777777778,
              "#fb9f3a"
             ],
             [
              0.8888888888888888,
              "#fdca26"
             ],
             [
              1,
              "#f0f921"
             ]
            ],
            "type": "surface"
           }
          ],
          "table": [
           {
            "cells": {
             "fill": {
              "color": "#EBF0F8"
             },
             "line": {
              "color": "white"
             }
            },
            "header": {
             "fill": {
              "color": "#C8D4E3"
             },
             "line": {
              "color": "white"
             }
            },
            "type": "table"
           }
          ]
         },
         "layout": {
          "annotationdefaults": {
           "arrowcolor": "#2a3f5f",
           "arrowhead": 0,
           "arrowwidth": 1
          },
          "coloraxis": {
           "colorbar": {
            "outlinewidth": 0,
            "ticks": ""
           }
          },
          "colorscale": {
           "diverging": [
            [
             0,
             "#8e0152"
            ],
            [
             0.1,
             "#c51b7d"
            ],
            [
             0.2,
             "#de77ae"
            ],
            [
             0.3,
             "#f1b6da"
            ],
            [
             0.4,
             "#fde0ef"
            ],
            [
             0.5,
             "#f7f7f7"
            ],
            [
             0.6,
             "#e6f5d0"
            ],
            [
             0.7,
             "#b8e186"
            ],
            [
             0.8,
             "#7fbc41"
            ],
            [
             0.9,
             "#4d9221"
            ],
            [
             1,
             "#276419"
            ]
           ],
           "sequential": [
            [
             0,
             "#0d0887"
            ],
            [
             0.1111111111111111,
             "#46039f"
            ],
            [
             0.2222222222222222,
             "#7201a8"
            ],
            [
             0.3333333333333333,
             "#9c179e"
            ],
            [
             0.4444444444444444,
             "#bd3786"
            ],
            [
             0.5555555555555556,
             "#d8576b"
            ],
            [
             0.6666666666666666,
             "#ed7953"
            ],
            [
             0.7777777777777778,
             "#fb9f3a"
            ],
            [
             0.8888888888888888,
             "#fdca26"
            ],
            [
             1,
             "#f0f921"
            ]
           ],
           "sequentialminus": [
            [
             0,
             "#0d0887"
            ],
            [
             0.1111111111111111,
             "#46039f"
            ],
            [
             0.2222222222222222,
             "#7201a8"
            ],
            [
             0.3333333333333333,
             "#9c179e"
            ],
            [
             0.4444444444444444,
             "#bd3786"
            ],
            [
             0.5555555555555556,
             "#d8576b"
            ],
            [
             0.6666666666666666,
             "#ed7953"
            ],
            [
             0.7777777777777778,
             "#fb9f3a"
            ],
            [
             0.8888888888888888,
             "#fdca26"
            ],
            [
             1,
             "#f0f921"
            ]
           ]
          },
          "colorway": [
           "#636efa",
           "#EF553B",
           "#00cc96",
           "#ab63fa",
           "#FFA15A",
           "#19d3f3",
           "#FF6692",
           "#B6E880",
           "#FF97FF",
           "#FECB52"
          ],
          "font": {
           "color": "#2a3f5f"
          },
          "geo": {
           "bgcolor": "white",
           "lakecolor": "white",
           "landcolor": "#E5ECF6",
           "showlakes": true,
           "showland": true,
           "subunitcolor": "white"
          },
          "hoverlabel": {
           "align": "left"
          },
          "hovermode": "closest",
          "mapbox": {
           "style": "light"
          },
          "paper_bgcolor": "white",
          "plot_bgcolor": "#E5ECF6",
          "polar": {
           "angularaxis": {
            "gridcolor": "white",
            "linecolor": "white",
            "ticks": ""
           },
           "bgcolor": "#E5ECF6",
           "radialaxis": {
            "gridcolor": "white",
            "linecolor": "white",
            "ticks": ""
           }
          },
          "scene": {
           "xaxis": {
            "backgroundcolor": "#E5ECF6",
            "gridcolor": "white",
            "gridwidth": 2,
            "linecolor": "white",
            "showbackground": true,
            "ticks": "",
            "zerolinecolor": "white"
           },
           "yaxis": {
            "backgroundcolor": "#E5ECF6",
            "gridcolor": "white",
            "gridwidth": 2,
            "linecolor": "white",
            "showbackground": true,
            "ticks": "",
            "zerolinecolor": "white"
           },
           "zaxis": {
            "backgroundcolor": "#E5ECF6",
            "gridcolor": "white",
            "gridwidth": 2,
            "linecolor": "white",
            "showbackground": true,
            "ticks": "",
            "zerolinecolor": "white"
           }
          },
          "shapedefaults": {
           "line": {
            "color": "#2a3f5f"
           }
          },
          "ternary": {
           "aaxis": {
            "gridcolor": "white",
            "linecolor": "white",
            "ticks": ""
           },
           "baxis": {
            "gridcolor": "white",
            "linecolor": "white",
            "ticks": ""
           },
           "bgcolor": "#E5ECF6",
           "caxis": {
            "gridcolor": "white",
            "linecolor": "white",
            "ticks": ""
           }
          },
          "title": {
           "x": 0.05
          },
          "xaxis": {
           "automargin": true,
           "gridcolor": "white",
           "linecolor": "white",
           "ticks": "",
           "title": {
            "standoff": 15
           },
           "zerolinecolor": "white",
           "zerolinewidth": 2
          },
          "yaxis": {
           "automargin": true,
           "gridcolor": "white",
           "linecolor": "white",
           "ticks": "",
           "title": {
            "standoff": 15
           },
           "zerolinecolor": "white",
           "zerolinewidth": 2
          }
         }
        },
        "xaxis": {
         "anchor": "y",
         "domain": [
          0,
          0.45
         ]
        },
        "xaxis2": {
         "anchor": "y2",
         "domain": [
          0.55,
          1
         ]
        },
        "yaxis": {
         "anchor": "x",
         "domain": [
          0,
          1
         ]
        },
        "yaxis2": {
         "anchor": "x2",
         "domain": [
          0,
          1
         ]
        }
       }
      },
      "text/html": [
       "<div>\n",
       "        \n",
       "        \n",
       "            <div id=\"5a18e1ae-ab91-4f89-a648-2be7ca0bdca0\" class=\"plotly-graph-div\" style=\"height:525px; width:100%;\"></div>\n",
       "            <script type=\"text/javascript\">\n",
       "                require([\"plotly\"], function(Plotly) {\n",
       "                    window.PLOTLYENV=window.PLOTLYENV || {};\n",
       "                    \n",
       "                if (document.getElementById(\"5a18e1ae-ab91-4f89-a648-2be7ca0bdca0\")) {\n",
       "                    Plotly.newPlot(\n",
       "                        '5a18e1ae-ab91-4f89-a648-2be7ca0bdca0',\n",
       "                        [{\"marker\": {\"color\": \"LightSeaGreen\", \"size\": 20}, \"mode\": \"markers\", \"name\": \"a\", \"type\": \"scatter\", \"xaxis\": \"x\", \"y\": [4, 2, 3.5], \"yaxis\": \"y\"}, {\"marker\": {\"color\": \"MediumPurple\"}, \"name\": \"b\", \"type\": \"bar\", \"xaxis\": \"x\", \"y\": [2, 1, 3], \"yaxis\": \"y\"}, {\"marker\": {\"color\": \"MediumPurple\", \"size\": 20}, \"mode\": \"markers\", \"name\": \"c\", \"type\": \"scatter\", \"xaxis\": \"x2\", \"y\": [2, 3.5, 4], \"yaxis\": \"y2\"}, {\"marker\": {\"color\": \"LightSeaGreen\"}, \"name\": \"d\", \"type\": \"bar\", \"xaxis\": \"x2\", \"y\": [1, 3, 2], \"yaxis\": \"y2\"}],\n",
       "                        {\"template\": {\"data\": {\"bar\": [{\"error_x\": {\"color\": \"#2a3f5f\"}, \"error_y\": {\"color\": \"#2a3f5f\"}, \"marker\": {\"line\": {\"color\": \"#E5ECF6\", \"width\": 0.5}}, \"type\": \"bar\"}], \"barpolar\": [{\"marker\": {\"line\": {\"color\": \"#E5ECF6\", \"width\": 0.5}}, \"type\": \"barpolar\"}], \"carpet\": [{\"aaxis\": {\"endlinecolor\": \"#2a3f5f\", \"gridcolor\": \"white\", \"linecolor\": \"white\", \"minorgridcolor\": \"white\", \"startlinecolor\": \"#2a3f5f\"}, \"baxis\": {\"endlinecolor\": \"#2a3f5f\", \"gridcolor\": \"white\", \"linecolor\": \"white\", \"minorgridcolor\": \"white\", \"startlinecolor\": \"#2a3f5f\"}, \"type\": \"carpet\"}], \"choropleth\": [{\"colorbar\": {\"outlinewidth\": 0, \"ticks\": \"\"}, \"type\": \"choropleth\"}], \"contour\": [{\"colorbar\": {\"outlinewidth\": 0, \"ticks\": \"\"}, \"colorscale\": [[0.0, \"#0d0887\"], [0.1111111111111111, \"#46039f\"], [0.2222222222222222, \"#7201a8\"], [0.3333333333333333, \"#9c179e\"], [0.4444444444444444, \"#bd3786\"], [0.5555555555555556, \"#d8576b\"], [0.6666666666666666, \"#ed7953\"], [0.7777777777777778, \"#fb9f3a\"], [0.8888888888888888, \"#fdca26\"], [1.0, \"#f0f921\"]], \"type\": \"contour\"}], \"contourcarpet\": [{\"colorbar\": {\"outlinewidth\": 0, \"ticks\": \"\"}, \"type\": \"contourcarpet\"}], \"heatmap\": [{\"colorbar\": {\"outlinewidth\": 0, \"ticks\": \"\"}, \"colorscale\": [[0.0, \"#0d0887\"], [0.1111111111111111, \"#46039f\"], [0.2222222222222222, \"#7201a8\"], [0.3333333333333333, \"#9c179e\"], [0.4444444444444444, \"#bd3786\"], [0.5555555555555556, \"#d8576b\"], [0.6666666666666666, \"#ed7953\"], [0.7777777777777778, \"#fb9f3a\"], [0.8888888888888888, \"#fdca26\"], [1.0, \"#f0f921\"]], \"type\": \"heatmap\"}], \"heatmapgl\": [{\"colorbar\": {\"outlinewidth\": 0, \"ticks\": \"\"}, \"colorscale\": [[0.0, \"#0d0887\"], [0.1111111111111111, \"#46039f\"], [0.2222222222222222, \"#7201a8\"], [0.3333333333333333, \"#9c179e\"], [0.4444444444444444, \"#bd3786\"], [0.5555555555555556, \"#d8576b\"], [0.6666666666666666, \"#ed7953\"], [0.7777777777777778, \"#fb9f3a\"], [0.8888888888888888, \"#fdca26\"], [1.0, \"#f0f921\"]], \"type\": \"heatmapgl\"}], \"histogram\": [{\"marker\": {\"colorbar\": {\"outlinewidth\": 0, \"ticks\": \"\"}}, \"type\": \"histogram\"}], \"histogram2d\": [{\"colorbar\": {\"outlinewidth\": 0, \"ticks\": \"\"}, \"colorscale\": [[0.0, \"#0d0887\"], [0.1111111111111111, \"#46039f\"], [0.2222222222222222, \"#7201a8\"], [0.3333333333333333, \"#9c179e\"], [0.4444444444444444, \"#bd3786\"], [0.5555555555555556, \"#d8576b\"], [0.6666666666666666, \"#ed7953\"], [0.7777777777777778, \"#fb9f3a\"], [0.8888888888888888, \"#fdca26\"], [1.0, \"#f0f921\"]], \"type\": \"histogram2d\"}], \"histogram2dcontour\": [{\"colorbar\": {\"outlinewidth\": 0, \"ticks\": \"\"}, \"colorscale\": [[0.0, \"#0d0887\"], [0.1111111111111111, \"#46039f\"], [0.2222222222222222, \"#7201a8\"], [0.3333333333333333, \"#9c179e\"], [0.4444444444444444, \"#bd3786\"], [0.5555555555555556, \"#d8576b\"], [0.6666666666666666, \"#ed7953\"], [0.7777777777777778, \"#fb9f3a\"], [0.8888888888888888, \"#fdca26\"], [1.0, \"#f0f921\"]], \"type\": \"histogram2dcontour\"}], \"mesh3d\": [{\"colorbar\": {\"outlinewidth\": 0, \"ticks\": \"\"}, \"type\": \"mesh3d\"}], \"parcoords\": [{\"line\": {\"colorbar\": {\"outlinewidth\": 0, \"ticks\": \"\"}}, \"type\": \"parcoords\"}], \"pie\": [{\"automargin\": true, \"type\": \"pie\"}], \"scatter\": [{\"marker\": {\"colorbar\": {\"outlinewidth\": 0, \"ticks\": \"\"}}, \"type\": \"scatter\"}], \"scatter3d\": [{\"line\": {\"colorbar\": {\"outlinewidth\": 0, \"ticks\": \"\"}}, \"marker\": {\"colorbar\": {\"outlinewidth\": 0, \"ticks\": \"\"}}, \"type\": \"scatter3d\"}], \"scattercarpet\": [{\"marker\": {\"colorbar\": {\"outlinewidth\": 0, \"ticks\": \"\"}}, \"type\": \"scattercarpet\"}], \"scattergeo\": [{\"marker\": {\"colorbar\": {\"outlinewidth\": 0, \"ticks\": \"\"}}, \"type\": \"scattergeo\"}], \"scattergl\": [{\"marker\": {\"colorbar\": {\"outlinewidth\": 0, \"ticks\": \"\"}}, \"type\": \"scattergl\"}], \"scattermapbox\": [{\"marker\": {\"colorbar\": {\"outlinewidth\": 0, \"ticks\": \"\"}}, \"type\": \"scattermapbox\"}], \"scatterpolar\": [{\"marker\": {\"colorbar\": {\"outlinewidth\": 0, \"ticks\": \"\"}}, \"type\": \"scatterpolar\"}], \"scatterpolargl\": [{\"marker\": {\"colorbar\": {\"outlinewidth\": 0, \"ticks\": \"\"}}, \"type\": \"scatterpolargl\"}], \"scatterternary\": [{\"marker\": {\"colorbar\": {\"outlinewidth\": 0, \"ticks\": \"\"}}, \"type\": \"scatterternary\"}], \"surface\": [{\"colorbar\": {\"outlinewidth\": 0, \"ticks\": \"\"}, \"colorscale\": [[0.0, \"#0d0887\"], [0.1111111111111111, \"#46039f\"], [0.2222222222222222, \"#7201a8\"], [0.3333333333333333, \"#9c179e\"], [0.4444444444444444, \"#bd3786\"], [0.5555555555555556, \"#d8576b\"], [0.6666666666666666, \"#ed7953\"], [0.7777777777777778, \"#fb9f3a\"], [0.8888888888888888, \"#fdca26\"], [1.0, \"#f0f921\"]], \"type\": \"surface\"}], \"table\": [{\"cells\": {\"fill\": {\"color\": \"#EBF0F8\"}, \"line\": {\"color\": \"white\"}}, \"header\": {\"fill\": {\"color\": \"#C8D4E3\"}, \"line\": {\"color\": \"white\"}}, \"type\": \"table\"}]}, \"layout\": {\"annotationdefaults\": {\"arrowcolor\": \"#2a3f5f\", \"arrowhead\": 0, \"arrowwidth\": 1}, \"coloraxis\": {\"colorbar\": {\"outlinewidth\": 0, \"ticks\": \"\"}}, \"colorscale\": {\"diverging\": [[0, \"#8e0152\"], [0.1, \"#c51b7d\"], [0.2, \"#de77ae\"], [0.3, \"#f1b6da\"], [0.4, \"#fde0ef\"], [0.5, \"#f7f7f7\"], [0.6, \"#e6f5d0\"], [0.7, \"#b8e186\"], [0.8, \"#7fbc41\"], [0.9, \"#4d9221\"], [1, \"#276419\"]], \"sequential\": [[0.0, \"#0d0887\"], [0.1111111111111111, \"#46039f\"], [0.2222222222222222, \"#7201a8\"], [0.3333333333333333, \"#9c179e\"], [0.4444444444444444, \"#bd3786\"], [0.5555555555555556, \"#d8576b\"], [0.6666666666666666, \"#ed7953\"], [0.7777777777777778, \"#fb9f3a\"], [0.8888888888888888, \"#fdca26\"], [1.0, \"#f0f921\"]], \"sequentialminus\": [[0.0, \"#0d0887\"], [0.1111111111111111, \"#46039f\"], [0.2222222222222222, \"#7201a8\"], [0.3333333333333333, \"#9c179e\"], [0.4444444444444444, \"#bd3786\"], [0.5555555555555556, \"#d8576b\"], [0.6666666666666666, \"#ed7953\"], [0.7777777777777778, \"#fb9f3a\"], [0.8888888888888888, \"#fdca26\"], [1.0, \"#f0f921\"]]}, \"colorway\": [\"#636efa\", \"#EF553B\", \"#00cc96\", \"#ab63fa\", \"#FFA15A\", \"#19d3f3\", \"#FF6692\", \"#B6E880\", \"#FF97FF\", \"#FECB52\"], \"font\": {\"color\": \"#2a3f5f\"}, \"geo\": {\"bgcolor\": \"white\", \"lakecolor\": \"white\", \"landcolor\": \"#E5ECF6\", \"showlakes\": true, \"showland\": true, \"subunitcolor\": \"white\"}, \"hoverlabel\": {\"align\": \"left\"}, \"hovermode\": \"closest\", \"mapbox\": {\"style\": \"light\"}, \"paper_bgcolor\": \"white\", \"plot_bgcolor\": \"#E5ECF6\", \"polar\": {\"angularaxis\": {\"gridcolor\": \"white\", \"linecolor\": \"white\", \"ticks\": \"\"}, \"bgcolor\": \"#E5ECF6\", \"radialaxis\": {\"gridcolor\": \"white\", \"linecolor\": \"white\", \"ticks\": \"\"}}, \"scene\": {\"xaxis\": {\"backgroundcolor\": \"#E5ECF6\", \"gridcolor\": \"white\", \"gridwidth\": 2, \"linecolor\": \"white\", \"showbackground\": true, \"ticks\": \"\", \"zerolinecolor\": \"white\"}, \"yaxis\": {\"backgroundcolor\": \"#E5ECF6\", \"gridcolor\": \"white\", \"gridwidth\": 2, \"linecolor\": \"white\", \"showbackground\": true, \"ticks\": \"\", \"zerolinecolor\": \"white\"}, \"zaxis\": {\"backgroundcolor\": \"#E5ECF6\", \"gridcolor\": \"white\", \"gridwidth\": 2, \"linecolor\": \"white\", \"showbackground\": true, \"ticks\": \"\", \"zerolinecolor\": \"white\"}}, \"shapedefaults\": {\"line\": {\"color\": \"#2a3f5f\"}}, \"ternary\": {\"aaxis\": {\"gridcolor\": \"white\", \"linecolor\": \"white\", \"ticks\": \"\"}, \"baxis\": {\"gridcolor\": \"white\", \"linecolor\": \"white\", \"ticks\": \"\"}, \"bgcolor\": \"#E5ECF6\", \"caxis\": {\"gridcolor\": \"white\", \"linecolor\": \"white\", \"ticks\": \"\"}}, \"title\": {\"x\": 0.05}, \"xaxis\": {\"automargin\": true, \"gridcolor\": \"white\", \"linecolor\": \"white\", \"ticks\": \"\", \"title\": {\"standoff\": 15}, \"zerolinecolor\": \"white\", \"zerolinewidth\": 2}, \"yaxis\": {\"automargin\": true, \"gridcolor\": \"white\", \"linecolor\": \"white\", \"ticks\": \"\", \"title\": {\"standoff\": 15}, \"zerolinecolor\": \"white\", \"zerolinewidth\": 2}}}, \"xaxis\": {\"anchor\": \"y\", \"domain\": [0.0, 0.45]}, \"xaxis2\": {\"anchor\": \"y2\", \"domain\": [0.55, 1.0]}, \"yaxis\": {\"anchor\": \"x\", \"domain\": [0.0, 1.0]}, \"yaxis2\": {\"anchor\": \"x2\", \"domain\": [0.0, 1.0]}},\n",
       "                        {\"responsive\": true}\n",
       "                    ).then(function(){\n",
       "                            \n",
       "var gd = document.getElementById('5a18e1ae-ab91-4f89-a648-2be7ca0bdca0');\n",
       "var x = new MutationObserver(function (mutations, observer) {{\n",
       "        var display = window.getComputedStyle(gd).display;\n",
       "        if (!display || display === 'none') {{\n",
       "            console.log([gd, 'removed!']);\n",
       "            Plotly.purge(gd);\n",
       "            observer.disconnect();\n",
       "        }}\n",
       "}});\n",
       "\n",
       "// Listen for the removal of the full notebook cells\n",
       "var notebookContainer = gd.closest('#notebook-container');\n",
       "if (notebookContainer) {{\n",
       "    x.observe(notebookContainer, {childList: true});\n",
       "}}\n",
       "\n",
       "// Listen for the clearing of the current output cell\n",
       "var outputEl = gd.closest('.output');\n",
       "if (outputEl) {{\n",
       "    x.observe(outputEl, {childList: true});\n",
       "}}\n",
       "\n",
       "                        })\n",
       "                };\n",
       "                });\n",
       "            </script>\n",
       "        </div>"
      ]
     },
     "metadata": {},
     "output_type": "display_data"
    }
   ],
   "source": [
    "from plotly.subplots import make_subplots\n",
    "fig = make_subplots(rows=1, cols=2)\n",
    "\n",
    "fig.add_scatter(y=[4, 2, 3.5], mode=\"markers\",\n",
    "                marker=dict(size=20, color=\"LightSeaGreen\"),\n",
    "                name=\"a\", row=1, col=1)\n",
    "\n",
    "fig.add_bar(y=[2, 1, 3],\n",
    "            marker=dict(color=\"MediumPurple\"),\n",
    "            name=\"b\", row=1, col=1)\n",
    "\n",
    "fig.add_scatter(y=[2, 3.5, 4], mode=\"markers\",\n",
    "                marker=dict(size=20, color=\"MediumPurple\"),\n",
    "                name=\"c\", row=1, col=2)\n",
    "\n",
    "fig.add_bar(y=[1, 3, 2],\n",
    "            marker=dict(color=\"LightSeaGreen\"),\n",
    "            name=\"d\", row=1, col=2)\n",
    "\n",
    "fig.show()"
   ]
  },
  {
   "cell_type": "code",
   "execution_count": 156,
   "metadata": {},
   "outputs": [
    {
     "data": {
      "application/vnd.plotly.v1+json": {
       "config": {
        "plotlyServerURL": "https://plot.ly"
       },
       "data": [
        {
         "name": "2010",
         "type": "box",
         "xaxis": "x",
         "y": [
          0.67,
          0.61,
          0.67,
          0.72,
          0.67,
          0.73,
          0.71,
          0.64,
          0.71,
          0.62,
          0.67,
          0.72,
          null,
          0.75,
          0.65,
          0.57,
          null,
          0.68,
          0.69,
          0.67,
          0.67,
          0.7,
          0.62,
          null,
          0.65,
          0.61,
          0.74,
          null,
          0.53,
          0.7,
          0.69,
          0.69,
          0.72,
          0.57,
          0.69,
          0.73,
          0.66,
          0.68,
          0.77,
          0.68,
          0.71,
          0.59,
          0.66,
          0.7,
          0.6,
          0.63,
          0.83,
          0.7,
          0.68,
          0.66,
          0.75,
          0.68,
          0.69,
          0.62,
          null,
          0.71,
          0.69,
          0.67,
          0.85,
          0.62,
          0.66,
          0.59,
          0.78,
          0.7,
          0.68,
          0.7,
          0.65,
          0.6,
          0.71,
          0.65,
          0.63,
          0.63,
          0.7,
          null,
          0.74,
          0.61,
          0.77,
          null,
          0.71,
          0.72,
          0.7,
          0.67,
          0.68,
          0.65,
          0.65,
          0.57,
          0.67,
          0.62,
          0.65,
          0.66,
          0.72,
          0.72,
          null,
          0.58,
          0.73,
          null,
          0.72,
          0.61,
          0.74,
          0.78,
          0.72,
          0.61,
          0.84,
          0.6,
          0.55,
          0.71,
          0.68,
          0.69,
          0.77,
          0.7,
          0.72,
          0.61,
          0.68,
          0.7,
          null,
          0.57,
          0.64,
          null,
          0.69,
          0.68,
          0.7,
          0.75,
          0.76,
          0.75,
          0.64,
          null,
          0.8,
          0.76,
          0.59,
          0.66,
          0.68,
          0.69,
          null,
          0.74,
          0.63,
          0.59,
          0.72,
          0.69,
          0.64,
          0.75,
          0.74,
          0.69,
          0.69,
          0.68,
          0.46,
          0.63,
          0.66
         ],
         "yaxis": "y"
        },
        {
         "name": "2011",
         "type": "box",
         "xaxis": "x",
         "y": [
          0.67,
          0.6,
          0.66,
          0.72,
          0.67,
          0.73,
          0.72,
          0.66,
          0.73,
          0.62,
          0.68,
          0.72,
          null,
          0.75,
          0.65,
          0.58,
          null,
          0.69,
          0.68,
          0.67,
          0.68,
          0.7,
          0.62,
          0.73,
          0.65,
          0.61,
          0.74,
          null,
          0.53,
          0.7,
          0.69,
          0.67,
          0.73,
          0.58,
          0.7,
          0.74,
          0.66,
          0.68,
          0.78,
          0.67,
          0.7,
          0.59,
          0.66,
          0.7,
          0.61,
          0.63,
          0.84,
          0.7,
          0.68,
          0.66,
          0.76,
          0.68,
          0.69,
          0.62,
          null,
          0.71,
          0.69,
          0.66,
          0.85,
          0.62,
          0.66,
          0.59,
          0.78,
          0.69,
          0.68,
          0.7,
          0.65,
          0.61,
          0.7,
          0.65,
          0.63,
          0.63,
          0.7,
          null,
          0.74,
          0.61,
          0.77,
          null,
          0.71,
          0.72,
          0.7,
          0.68,
          0.68,
          0.65,
          0.65,
          0.58,
          0.67,
          0.62,
          0.65,
          0.66,
          0.71,
          0.71,
          null,
          0.58,
          0.73,
          null,
          0.72,
          0.59,
          0.75,
          0.78,
          0.72,
          0.6,
          0.84,
          0.59,
          0.56,
          0.7,
          0.68,
          0.68,
          0.77,
          0.7,
          0.71,
          0.62,
          0.68,
          0.7,
          null,
          0.58,
          0.66,
          null,
          0.69,
          0.68,
          0.7,
          0.75,
          0.76,
          0.72,
          0.64,
          null,
          0.8,
          0.76,
          0.59,
          0.65,
          0.69,
          0.69,
          null,
          0.74,
          0.63,
          0.6,
          0.72,
          0.69,
          0.65,
          0.75,
          0.74,
          0.69,
          0.69,
          0.67,
          0.49,
          0.63,
          0.66
         ],
         "yaxis": "y"
        },
        {
         "name": "2012",
         "type": "box",
         "xaxis": "x",
         "y": [
          0.67,
          0.61,
          null,
          0.72,
          0.66,
          0.73,
          0.74,
          0.65,
          0.72,
          0.63,
          0.67,
          0.72,
          null,
          0.77,
          0.65,
          0.63,
          null,
          0.72,
          0.67,
          0.69,
          0.68,
          0.7,
          0.65,
          0.73,
          0.65,
          0.63,
          0.74,
          0.72,
          0.56,
          0.67,
          0.69,
          0.69,
          0.72,
          0.58,
          0.71,
          0.74,
          0.67,
          0.68,
          0.78,
          0.67,
          0.72,
          0.6,
          0.66,
          0.7,
          0.62,
          0.63,
          0.85,
          0.7,
          0.66,
          0.67,
          0.76,
          0.68,
          0.67,
          0.63,
          null,
          0.71,
          0.68,
          0.67,
          0.86,
          0.64,
          0.66,
          0.59,
          0.78,
          0.7,
          0.67,
          0.7,
          0.65,
          0.61,
          0.72,
          0.68,
          0.64,
          0.63,
          0.7,
          null,
          0.76,
          0.6,
          0.76,
          null,
          0.72,
          0.74,
          0.7,
          0.7,
          0.72,
          0.65,
          0.66,
          0.58,
          0.67,
          0.61,
          0.65,
          0.67,
          0.71,
          0.71,
          null,
          0.58,
          0.74,
          null,
          0.71,
          0.6,
          0.77,
          0.78,
          0.77,
          0.63,
          0.84,
          0.6,
          0.55,
          0.71,
          0.67,
          0.67,
          0.78,
          0.7,
          0.71,
          0.63,
          0.69,
          0.7,
          null,
          0.57,
          0.67,
          0.7,
          0.7,
          0.68,
          0.71,
          0.75,
          0.73,
          0.71,
          0.64,
          null,
          0.82,
          0.77,
          0.56,
          0.66,
          0.71,
          0.69,
          0.69,
          0.71,
          null,
          0.6,
          0.72,
          0.69,
          0.64,
          0.74,
          0.74,
          0.67,
          0.71,
          0.69,
          0.51,
          0.63,
          null
         ],
         "yaxis": "y"
        },
        {
         "name": "2013",
         "type": "box",
         "xaxis": "x",
         "y": [
          0.64,
          0.6,
          0.67,
          0.72,
          0.66,
          0.74,
          0.74,
          0.66,
          0.71,
          0.63,
          0.68,
          0.73,
          null,
          0.77,
          0.64,
          0.59,
          0.67,
          0.73,
          0.68,
          0.69,
          0.67,
          0.71,
          0.65,
          0.74,
          0.65,
          0.66,
          0.74,
          0.71,
          0.56,
          0.67,
          0.69,
          0.72,
          0.72,
          0.58,
          0.71,
          0.75,
          0.68,
          0.68,
          0.78,
          0.69,
          0.74,
          0.59,
          0.66,
          0.7,
          0.62,
          0.63,
          0.84,
          0.71,
          null,
          0.68,
          0.76,
          0.68,
          0.68,
          0.63,
          null,
          0.71,
          0.68,
          0.67,
          0.87,
          0.66,
          0.66,
          0.58,
          0.78,
          0.7,
          0.69,
          0.71,
          0.65,
          0.61,
          0.72,
          0.68,
          0.64,
          0.63,
          0.69,
          0.7,
          0.76,
          0.6,
          0.75,
          null,
          0.73,
          0.74,
          0.7,
          0.7,
          0.71,
          0.65,
          0.66,
          0.59,
          0.68,
          0.58,
          0.66,
          0.69,
          0.7,
          0.72,
          null,
          0.58,
          0.73,
          null,
          0.71,
          0.61,
          0.76,
          0.78,
          0.77,
          0.65,
          0.84,
          0.61,
          0.55,
          0.72,
          0.67,
          0.68,
          0.78,
          0.7,
          0.71,
          0.63,
          0.69,
          0.7,
          null,
          0.59,
          0.69,
          0.71,
          0.7,
          0.69,
          0.72,
          0.75,
          0.73,
          0.7,
          0.64,
          null,
          0.81,
          0.77,
          0.57,
          0.67,
          0.69,
          0.69,
          null,
          0.72,
          null,
          0.61,
          0.71,
          0.69,
          0.64,
          0.74,
          0.74,
          0.68,
          0.71,
          0.69,
          0.51,
          0.63,
          null
         ],
         "yaxis": "y"
        },
        {
         "name": "2014",
         "type": "box",
         "xaxis": "x",
         "y": [
          0.69,
          0.62,
          0.63,
          0.73,
          0.66,
          0.74,
          0.73,
          0.68,
          0.73,
          0.63,
          0.7,
          0.73,
          null,
          0.78,
          0.67,
          null,
          0.64,
          0.7,
          0.71,
          0.69,
          0.67,
          0.74,
          0.65,
          0.76,
          0.65,
          null,
          0.75,
          0.71,
          0.58,
          0.7,
          0.68,
          0.71,
          0.72,
          0.59,
          0.71,
          0.73,
          0.67,
          0.67,
          0.8,
          0.69,
          0.75,
          0.61,
          0.69,
          0.7,
          0.61,
          0.63,
          0.85,
          0.76,
          null,
          0.69,
          0.78,
          0.67,
          0.68,
          0.68,
          null,
          0.7,
          0.69,
          0.68,
          0.86,
          0.65,
          0.67,
          0.58,
          0.78,
          0.7,
          0.7,
          0.71,
          0.66,
          0.6,
          0.72,
          0.73,
          0.64,
          0.65,
          0.7,
          0.7,
          0.77,
          0.59,
          0.73,
          null,
          0.72,
          0.73,
          0.69,
          0.72,
          0.73,
          0.65,
          0.66,
          0.58,
          0.67,
          0.6,
          0.65,
          0.69,
          0.74,
          0.72,
          null,
          0.6,
          0.74,
          null,
          0.72,
          0.65,
          0.77,
          0.78,
          0.79,
          0.64,
          0.84,
          0.61,
          0.55,
          0.72,
          0.69,
          0.72,
          0.78,
          0.71,
          0.72,
          0.64,
          0.69,
          0.69,
          null,
          0.61,
          0.69,
          0.71,
          0.7,
          0.68,
          0.74,
          0.75,
          0.73,
          0.69,
          0.65,
          null,
          0.82,
          0.78,
          0.58,
          0.67,
          0.72,
          0.7,
          null,
          0.72,
          0.63,
          0.62,
          0.68,
          0.71,
          0.64,
          0.74,
          0.75,
          0.69,
          0.69,
          0.69,
          0.51,
          0.64,
          0.7
         ],
         "yaxis": "y"
        },
        {
         "name": "2015",
         "type": "box",
         "xaxis": "x",
         "y": [
          0.7,
          0.63,
          0.64,
          0.73,
          0.67,
          0.73,
          0.73,
          0.68,
          0.73,
          0.64,
          0.7,
          0.74,
          0.73,
          0.75,
          0.67,
          0.62,
          0.65,
          0.75,
          0.71,
          0.69,
          0.68,
          0.72,
          0.65,
          0.75,
          0.66,
          0.68,
          0.74,
          0.72,
          0.58,
          0.7,
          0.68,
          0.72,
          0.73,
          0.61,
          0.71,
          0.74,
          0.67,
          0.69,
          0.77,
          0.69,
          0.74,
          0.6,
          0.71,
          0.75,
          0.64,
          0.64,
          0.85,
          0.76,
          0.67,
          0.69,
          0.78,
          0.7,
          0.68,
          0.67,
          0.62,
          0.7,
          0.69,
          0.67,
          0.88,
          0.66,
          0.68,
          0.58,
          0.81,
          0.71,
          0.73,
          0.7,
          0.67,
          0.59,
          0.72,
          0.72,
          0.65,
          0.65,
          0.69,
          0.71,
          0.75,
          0.6,
          0.71,
          0.65,
          0.74,
          0.74,
          0.7,
          0.7,
          0.7,
          0.66,
          0.65,
          0.6,
          0.67,
          0.61,
          0.65,
          0.7,
          0.74,
          0.71,
          0.69,
          0.59,
          0.74,
          null,
          0.76,
          0.66,
          0.78,
          0.78,
          0.78,
          0.64,
          0.85,
          0.6,
          0.56,
          0.77,
          0.67,
          0.68,
          0.79,
          0.72,
          0.73,
          0.64,
          0.69,
          0.69,
          0.79,
          0.6,
          0.7,
          0.72,
          0.71,
          0.68,
          0.78,
          0.76,
          0.74,
          0.69,
          0.67,
          0.67,
          0.82,
          0.78,
          0.57,
          0.68,
          0.72,
          0.71,
          null,
          0.72,
          0.63,
          0.62,
          0.71,
          0.7,
          0.65,
          0.76,
          0.74,
          0.68,
          0.69,
          0.69,
          0.48,
          0.65,
          0.71
         ],
         "yaxis": "y"
        },
        {
         "name": "2016",
         "type": "box",
         "xaxis": "x",
         "y": [
          0.7,
          0.64,
          0.64,
          0.74,
          0.67,
          0.72,
          0.72,
          0.68,
          0.73,
          0.62,
          0.7,
          0.74,
          0.74,
          0.74,
          0.68,
          0.64,
          0.64,
          0.75,
          0.72,
          0.69,
          0.67,
          0.73,
          0.64,
          0.77,
          0.66,
          0.68,
          0.73,
          0.73,
          0.59,
          0.7,
          0.68,
          0.73,
          0.74,
          0.6,
          0.7,
          0.74,
          0.68,
          0.69,
          0.75,
          0.68,
          0.73,
          0.61,
          0.7,
          0.75,
          0.66,
          null,
          0.84,
          0.76,
          0.67,
          0.68,
          0.77,
          0.7,
          0.68,
          0.67,
          0.64,
          null,
          0.69,
          0.67,
          0.87,
          0.68,
          0.68,
          0.59,
          0.8,
          0.72,
          0.72,
          0.72,
          0.66,
          0.6,
          0.72,
          0.7,
          0.65,
          0.62,
          0.69,
          null,
          0.76,
          0.6,
          0.71,
          0.65,
          0.74,
          0.73,
          0.7,
          0.7,
          0.7,
          0.67,
          0.65,
          0.59,
          0.66,
          0.62,
          0.65,
          0.7,
          0.74,
          0.7,
          0.68,
          0.6,
          0.75,
          null,
          0.76,
          0.66,
          0.76,
          0.78,
          0.78,
          0.64,
          0.84,
          0.61,
          0.56,
          0.72,
          0.68,
          0.69,
          0.79,
          0.73,
          0.74,
          0.64,
          0.69,
          0.69,
          0.8,
          0.58,
          0.68,
          0.72,
          0.71,
          0.68,
          0.79,
          0.76,
          0.74,
          0.67,
          0.68,
          0.66,
          0.82,
          0.78,
          0.57,
          0.68,
          0.72,
          0.7,
          0.64,
          0.72,
          0.64,
          0.62,
          0.7,
          0.7,
          0.64,
          0.75,
          0.72,
          0.68,
          0.69,
          0.7,
          0.52,
          null,
          0.71
         ],
         "yaxis": "y"
        },
        {
         "name": "2017",
         "type": "box",
         "xaxis": "x",
         "y": [
          0.73,
          0.63,
          0.64,
          0.73,
          0.68,
          0.73,
          0.71,
          0.68,
          0.74,
          0.63,
          0.72,
          0.75,
          0.74,
          0.74,
          0.69,
          0.65,
          0.64,
          0.76,
          0.72,
          0.68,
          0.67,
          0.76,
          0.65,
          0.76,
          0.68,
          0.69,
          0.77,
          0.69,
          0.57,
          0.7,
          0.67,
          0.73,
          0.73,
          0.61,
          0.71,
          0.74,
          0.68,
          0.69,
          0.78,
          0.7,
          0.72,
          0.61,
          0.7,
          0.73,
          0.66,
          null,
          0.82,
          0.78,
          0.65,
          0.68,
          0.78,
          0.7,
          0.69,
          0.67,
          0.66,
          null,
          0.71,
          0.67,
          0.88,
          0.67,
          0.69,
          0.58,
          0.79,
          0.72,
          0.69,
          0.72,
          0.66,
          0.6,
          0.71,
          0.69,
          0.65,
          0.68,
          0.69,
          0.7,
          0.76,
          0.6,
          0.7,
          0.67,
          0.74,
          0.71,
          0.7,
          0.69,
          0.67,
          0.67,
          0.67,
          0.58,
          0.68,
          0.61,
          0.66,
          0.69,
          0.74,
          0.71,
          0.69,
          0.6,
          0.74,
          0.69,
          0.78,
          0.66,
          0.74,
          0.79,
          0.81,
          0.64,
          0.83,
          null,
          0.55,
          0.72,
          0.68,
          0.72,
          0.79,
          0.73,
          0.73,
          0.63,
          0.71,
          0.7,
          0.82,
          0.58,
          0.68,
          0.73,
          0.7,
          0.69,
          0.8,
          0.76,
          0.75,
          0.67,
          0.69,
          0.67,
          0.82,
          0.76,
          0.57,
          0.68,
          0.7,
          0.69,
          0.63,
          null,
          0.65,
          0.62,
          0.72,
          0.7,
          0.65,
          0.77,
          0.72,
          0.71,
          0.71,
          0.7,
          0.52,
          null,
          0.72
         ],
         "yaxis": "y"
        },
        {
         "name": "2018",
         "type": "box",
         "xaxis": "x",
         "y": [
          0.73,
          0.63,
          0.63,
          0.73,
          0.68,
          0.73,
          0.72,
          0.68,
          0.74,
          0.63,
          0.72,
          0.75,
          0.75,
          0.74,
          0.66,
          0.65,
          0.64,
          0.75,
          0.72,
          0.68,
          0.69,
          0.76,
          0.63,
          0.74,
          0.68,
          0.71,
          0.77,
          0.7,
          0.58,
          0.72,
          0.67,
          0.73,
          0.75,
          0.63,
          0.71,
          0.75,
          0.68,
          0.69,
          0.78,
          0.7,
          0.73,
          0.61,
          0.69,
          0.73,
          0.66,
          0.67,
          0.82,
          0.78,
          0.64,
          0.68,
          0.78,
          0.69,
          0.7,
          0.67,
          0.66,
          null,
          0.71,
          0.67,
          0.86,
          0.66,
          0.69,
          0.59,
          0.8,
          0.72,
          0.71,
          0.72,
          0.66,
          0.6,
          0.71,
          0.7,
          0.66,
          0.63,
          0.69,
          0.75,
          0.76,
          0.6,
          0.69,
          0.68,
          0.75,
          0.71,
          0.71,
          0.69,
          0.66,
          0.68,
          0.66,
          0.58,
          0.69,
          0.61,
          0.66,
          0.72,
          0.73,
          0.71,
          0.71,
          0.61,
          0.72,
          0.69,
          0.79,
          0.67,
          0.75,
          0.8,
          0.81,
          0.62,
          0.84,
          0.6,
          0.55,
          0.72,
          0.67,
          0.72,
          0.8,
          0.73,
          0.73,
          0.63,
          0.71,
          0.7,
          0.8,
          0.59,
          0.68,
          0.73,
          0.71,
          0.69,
          0.78,
          0.76,
          0.75,
          0.68,
          0.7,
          null,
          0.82,
          0.76,
          0.57,
          0.64,
          0.7,
          0.7,
          0.64,
          null,
          0.65,
          0.63,
          0.72,
          0.71,
          0.64,
          0.74,
          0.72,
          0.72,
          0.71,
          0.7,
          0.5,
          null,
          0.72
         ],
         "yaxis": "y"
        },
        {
         "name": "2019",
         "type": "box",
         "xaxis": "x",
         "y": [
          0.77,
          0.63,
          0.66,
          0.75,
          0.68,
          0.73,
          0.74,
          0.69,
          0.72,
          0.63,
          0.73,
          0.75,
          0.75,
          0.75,
          0.67,
          0.66,
          0.64,
          0.73,
          0.71,
          0.69,
          0.69,
          0.73,
          0.64,
          0.74,
          0.69,
          0.69,
          0.77,
          0.72,
          0.6,
          0.72,
          0.68,
          0.76,
          0.78,
          0.61,
          0.72,
          0.75,
          0.69,
          0.71,
          0.78,
          0.7,
          0.73,
          0.63,
          0.71,
          0.75,
          0.7,
          0.68,
          0.83,
          0.78,
          0.63,
          0.71,
          0.79,
          0.67,
          0.7,
          0.67,
          0.64,
          null,
          0.72,
          0.68,
          0.88,
          0.67,
          0.7,
          0.58,
          0.8,
          0.72,
          0.71,
          0.74,
          0.65,
          0.62,
          0.71,
          0.67,
          0.67,
          0.65,
          0.69,
          0.73,
          0.78,
          0.6,
          0.7,
          0.68,
          0.74,
          0.72,
          0.71,
          0.72,
          0.66,
          0.68,
          0.65,
          0.62,
          0.69,
          0.61,
          0.66,
          0.75,
          0.76,
          0.71,
          0.71,
          0.6,
          0.72,
          0.66,
          0.78,
          0.68,
          0.74,
          0.8,
          0.8,
          0.64,
          0.84,
          0.6,
          0.56,
          0.73,
          0.68,
          0.71,
          0.78,
          0.74,
          0.74,
          0.63,
          0.72,
          0.71,
          0.79,
          0.6,
          0.68,
          0.74,
          0.72,
          0.72,
          0.74,
          0.78,
          0.8,
          0.68,
          0.71,
          null,
          0.82,
          0.78,
          0.57,
          0.63,
          0.71,
          0.71,
          0.66,
          0.76,
          0.64,
          0.64,
          0.72,
          0.72,
          0.66,
          0.77,
          0.72,
          0.74,
          0.71,
          0.7,
          0.49,
          0.73,
          0.73
         ],
         "yaxis": "y"
        },
        {
         "mode": "lines",
         "type": "scatter",
         "x": [
          "2010",
          "2011",
          "2012",
          "2013",
          "2014",
          "2015",
          "2016",
          "2017",
          "2018",
          "2019"
         ],
         "xaxis": "x2",
         "y": [
          0.68,
          0.68,
          0.68,
          0.69,
          0.69,
          0.7,
          0.69,
          0.7,
          0.7,
          0.7
         ],
         "yaxis": "y2"
        }
       ],
       "layout": {
        "annotations": [
         {
          "font": {
           "size": 16
          },
          "showarrow": false,
          "text": "The distribution of the gender gap index overtime",
          "x": 0.225,
          "xanchor": "center",
          "xref": "paper",
          "y": 1,
          "yanchor": "bottom",
          "yref": "paper"
         },
         {
          "font": {
           "size": 16
          },
          "showarrow": false,
          "text": "The Average Gender gap index trend",
          "x": 0.775,
          "xanchor": "center",
          "xref": "paper",
          "y": 1,
          "yanchor": "bottom",
          "yref": "paper"
         }
        ],
        "template": {
         "data": {
          "bar": [
           {
            "error_x": {
             "color": "#f2f5fa"
            },
            "error_y": {
             "color": "#f2f5fa"
            },
            "marker": {
             "line": {
              "color": "rgb(17,17,17)",
              "width": 0.5
             }
            },
            "type": "bar"
           }
          ],
          "barpolar": [
           {
            "marker": {
             "line": {
              "color": "rgb(17,17,17)",
              "width": 0.5
             }
            },
            "type": "barpolar"
           }
          ],
          "carpet": [
           {
            "aaxis": {
             "endlinecolor": "#A2B1C6",
             "gridcolor": "#506784",
             "linecolor": "#506784",
             "minorgridcolor": "#506784",
             "startlinecolor": "#A2B1C6"
            },
            "baxis": {
             "endlinecolor": "#A2B1C6",
             "gridcolor": "#506784",
             "linecolor": "#506784",
             "minorgridcolor": "#506784",
             "startlinecolor": "#A2B1C6"
            },
            "type": "carpet"
           }
          ],
          "choropleth": [
           {
            "colorbar": {
             "outlinewidth": 0,
             "ticks": ""
            },
            "type": "choropleth"
           }
          ],
          "contour": [
           {
            "colorbar": {
             "outlinewidth": 0,
             "ticks": ""
            },
            "colorscale": [
             [
              0,
              "#0d0887"
             ],
             [
              0.1111111111111111,
              "#46039f"
             ],
             [
              0.2222222222222222,
              "#7201a8"
             ],
             [
              0.3333333333333333,
              "#9c179e"
             ],
             [
              0.4444444444444444,
              "#bd3786"
             ],
             [
              0.5555555555555556,
              "#d8576b"
             ],
             [
              0.6666666666666666,
              "#ed7953"
             ],
             [
              0.7777777777777778,
              "#fb9f3a"
             ],
             [
              0.8888888888888888,
              "#fdca26"
             ],
             [
              1,
              "#f0f921"
             ]
            ],
            "type": "contour"
           }
          ],
          "contourcarpet": [
           {
            "colorbar": {
             "outlinewidth": 0,
             "ticks": ""
            },
            "type": "contourcarpet"
           }
          ],
          "heatmap": [
           {
            "colorbar": {
             "outlinewidth": 0,
             "ticks": ""
            },
            "colorscale": [
             [
              0,
              "#0d0887"
             ],
             [
              0.1111111111111111,
              "#46039f"
             ],
             [
              0.2222222222222222,
              "#7201a8"
             ],
             [
              0.3333333333333333,
              "#9c179e"
             ],
             [
              0.4444444444444444,
              "#bd3786"
             ],
             [
              0.5555555555555556,
              "#d8576b"
             ],
             [
              0.6666666666666666,
              "#ed7953"
             ],
             [
              0.7777777777777778,
              "#fb9f3a"
             ],
             [
              0.8888888888888888,
              "#fdca26"
             ],
             [
              1,
              "#f0f921"
             ]
            ],
            "type": "heatmap"
           }
          ],
          "heatmapgl": [
           {
            "colorbar": {
             "outlinewidth": 0,
             "ticks": ""
            },
            "colorscale": [
             [
              0,
              "#0d0887"
             ],
             [
              0.1111111111111111,
              "#46039f"
             ],
             [
              0.2222222222222222,
              "#7201a8"
             ],
             [
              0.3333333333333333,
              "#9c179e"
             ],
             [
              0.4444444444444444,
              "#bd3786"
             ],
             [
              0.5555555555555556,
              "#d8576b"
             ],
             [
              0.6666666666666666,
              "#ed7953"
             ],
             [
              0.7777777777777778,
              "#fb9f3a"
             ],
             [
              0.8888888888888888,
              "#fdca26"
             ],
             [
              1,
              "#f0f921"
             ]
            ],
            "type": "heatmapgl"
           }
          ],
          "histogram": [
           {
            "marker": {
             "colorbar": {
              "outlinewidth": 0,
              "ticks": ""
             }
            },
            "type": "histogram"
           }
          ],
          "histogram2d": [
           {
            "colorbar": {
             "outlinewidth": 0,
             "ticks": ""
            },
            "colorscale": [
             [
              0,
              "#0d0887"
             ],
             [
              0.1111111111111111,
              "#46039f"
             ],
             [
              0.2222222222222222,
              "#7201a8"
             ],
             [
              0.3333333333333333,
              "#9c179e"
             ],
             [
              0.4444444444444444,
              "#bd3786"
             ],
             [
              0.5555555555555556,
              "#d8576b"
             ],
             [
              0.6666666666666666,
              "#ed7953"
             ],
             [
              0.7777777777777778,
              "#fb9f3a"
             ],
             [
              0.8888888888888888,
              "#fdca26"
             ],
             [
              1,
              "#f0f921"
             ]
            ],
            "type": "histogram2d"
           }
          ],
          "histogram2dcontour": [
           {
            "colorbar": {
             "outlinewidth": 0,
             "ticks": ""
            },
            "colorscale": [
             [
              0,
              "#0d0887"
             ],
             [
              0.1111111111111111,
              "#46039f"
             ],
             [
              0.2222222222222222,
              "#7201a8"
             ],
             [
              0.3333333333333333,
              "#9c179e"
             ],
             [
              0.4444444444444444,
              "#bd3786"
             ],
             [
              0.5555555555555556,
              "#d8576b"
             ],
             [
              0.6666666666666666,
              "#ed7953"
             ],
             [
              0.7777777777777778,
              "#fb9f3a"
             ],
             [
              0.8888888888888888,
              "#fdca26"
             ],
             [
              1,
              "#f0f921"
             ]
            ],
            "type": "histogram2dcontour"
           }
          ],
          "mesh3d": [
           {
            "colorbar": {
             "outlinewidth": 0,
             "ticks": ""
            },
            "type": "mesh3d"
           }
          ],
          "parcoords": [
           {
            "line": {
             "colorbar": {
              "outlinewidth": 0,
              "ticks": ""
             }
            },
            "type": "parcoords"
           }
          ],
          "pie": [
           {
            "automargin": true,
            "type": "pie"
           }
          ],
          "scatter": [
           {
            "marker": {
             "line": {
              "color": "#283442"
             }
            },
            "type": "scatter"
           }
          ],
          "scatter3d": [
           {
            "line": {
             "colorbar": {
              "outlinewidth": 0,
              "ticks": ""
             }
            },
            "marker": {
             "colorbar": {
              "outlinewidth": 0,
              "ticks": ""
             }
            },
            "type": "scatter3d"
           }
          ],
          "scattercarpet": [
           {
            "marker": {
             "colorbar": {
              "outlinewidth": 0,
              "ticks": ""
             }
            },
            "type": "scattercarpet"
           }
          ],
          "scattergeo": [
           {
            "marker": {
             "colorbar": {
              "outlinewidth": 0,
              "ticks": ""
             }
            },
            "type": "scattergeo"
           }
          ],
          "scattergl": [
           {
            "marker": {
             "line": {
              "color": "#283442"
             }
            },
            "type": "scattergl"
           }
          ],
          "scattermapbox": [
           {
            "marker": {
             "colorbar": {
              "outlinewidth": 0,
              "ticks": ""
             }
            },
            "type": "scattermapbox"
           }
          ],
          "scatterpolar": [
           {
            "marker": {
             "colorbar": {
              "outlinewidth": 0,
              "ticks": ""
             }
            },
            "type": "scatterpolar"
           }
          ],
          "scatterpolargl": [
           {
            "marker": {
             "colorbar": {
              "outlinewidth": 0,
              "ticks": ""
             }
            },
            "type": "scatterpolargl"
           }
          ],
          "scatterternary": [
           {
            "marker": {
             "colorbar": {
              "outlinewidth": 0,
              "ticks": ""
             }
            },
            "type": "scatterternary"
           }
          ],
          "surface": [
           {
            "colorbar": {
             "outlinewidth": 0,
             "ticks": ""
            },
            "colorscale": [
             [
              0,
              "#0d0887"
             ],
             [
              0.1111111111111111,
              "#46039f"
             ],
             [
              0.2222222222222222,
              "#7201a8"
             ],
             [
              0.3333333333333333,
              "#9c179e"
             ],
             [
              0.4444444444444444,
              "#bd3786"
             ],
             [
              0.5555555555555556,
              "#d8576b"
             ],
             [
              0.6666666666666666,
              "#ed7953"
             ],
             [
              0.7777777777777778,
              "#fb9f3a"
             ],
             [
              0.8888888888888888,
              "#fdca26"
             ],
             [
              1,
              "#f0f921"
             ]
            ],
            "type": "surface"
           }
          ],
          "table": [
           {
            "cells": {
             "fill": {
              "color": "#506784"
             },
             "line": {
              "color": "rgb(17,17,17)"
             }
            },
            "header": {
             "fill": {
              "color": "#2a3f5f"
             },
             "line": {
              "color": "rgb(17,17,17)"
             }
            },
            "type": "table"
           }
          ]
         },
         "layout": {
          "annotationdefaults": {
           "arrowcolor": "#f2f5fa",
           "arrowhead": 0,
           "arrowwidth": 1
          },
          "coloraxis": {
           "colorbar": {
            "outlinewidth": 0,
            "ticks": ""
           }
          },
          "colorscale": {
           "diverging": [
            [
             0,
             "#8e0152"
            ],
            [
             0.1,
             "#c51b7d"
            ],
            [
             0.2,
             "#de77ae"
            ],
            [
             0.3,
             "#f1b6da"
            ],
            [
             0.4,
             "#fde0ef"
            ],
            [
             0.5,
             "#f7f7f7"
            ],
            [
             0.6,
             "#e6f5d0"
            ],
            [
             0.7,
             "#b8e186"
            ],
            [
             0.8,
             "#7fbc41"
            ],
            [
             0.9,
             "#4d9221"
            ],
            [
             1,
             "#276419"
            ]
           ],
           "sequential": [
            [
             0,
             "#0d0887"
            ],
            [
             0.1111111111111111,
             "#46039f"
            ],
            [
             0.2222222222222222,
             "#7201a8"
            ],
            [
             0.3333333333333333,
             "#9c179e"
            ],
            [
             0.4444444444444444,
             "#bd3786"
            ],
            [
             0.5555555555555556,
             "#d8576b"
            ],
            [
             0.6666666666666666,
             "#ed7953"
            ],
            [
             0.7777777777777778,
             "#fb9f3a"
            ],
            [
             0.8888888888888888,
             "#fdca26"
            ],
            [
             1,
             "#f0f921"
            ]
           ],
           "sequentialminus": [
            [
             0,
             "#0d0887"
            ],
            [
             0.1111111111111111,
             "#46039f"
            ],
            [
             0.2222222222222222,
             "#7201a8"
            ],
            [
             0.3333333333333333,
             "#9c179e"
            ],
            [
             0.4444444444444444,
             "#bd3786"
            ],
            [
             0.5555555555555556,
             "#d8576b"
            ],
            [
             0.6666666666666666,
             "#ed7953"
            ],
            [
             0.7777777777777778,
             "#fb9f3a"
            ],
            [
             0.8888888888888888,
             "#fdca26"
            ],
            [
             1,
             "#f0f921"
            ]
           ]
          },
          "colorway": [
           "#636efa",
           "#EF553B",
           "#00cc96",
           "#ab63fa",
           "#FFA15A",
           "#19d3f3",
           "#FF6692",
           "#B6E880",
           "#FF97FF",
           "#FECB52"
          ],
          "font": {
           "color": "#f2f5fa"
          },
          "geo": {
           "bgcolor": "rgb(17,17,17)",
           "lakecolor": "rgb(17,17,17)",
           "landcolor": "rgb(17,17,17)",
           "showlakes": true,
           "showland": true,
           "subunitcolor": "#506784"
          },
          "hoverlabel": {
           "align": "left"
          },
          "hovermode": "closest",
          "mapbox": {
           "style": "dark"
          },
          "paper_bgcolor": "rgb(17,17,17)",
          "plot_bgcolor": "rgb(17,17,17)",
          "polar": {
           "angularaxis": {
            "gridcolor": "#506784",
            "linecolor": "#506784",
            "ticks": ""
           },
           "bgcolor": "rgb(17,17,17)",
           "radialaxis": {
            "gridcolor": "#506784",
            "linecolor": "#506784",
            "ticks": ""
           }
          },
          "scene": {
           "xaxis": {
            "backgroundcolor": "rgb(17,17,17)",
            "gridcolor": "#506784",
            "gridwidth": 2,
            "linecolor": "#506784",
            "showbackground": true,
            "ticks": "",
            "zerolinecolor": "#C8D4E3"
           },
           "yaxis": {
            "backgroundcolor": "rgb(17,17,17)",
            "gridcolor": "#506784",
            "gridwidth": 2,
            "linecolor": "#506784",
            "showbackground": true,
            "ticks": "",
            "zerolinecolor": "#C8D4E3"
           },
           "zaxis": {
            "backgroundcolor": "rgb(17,17,17)",
            "gridcolor": "#506784",
            "gridwidth": 2,
            "linecolor": "#506784",
            "showbackground": true,
            "ticks": "",
            "zerolinecolor": "#C8D4E3"
           }
          },
          "shapedefaults": {
           "line": {
            "color": "#f2f5fa"
           }
          },
          "sliderdefaults": {
           "bgcolor": "#C8D4E3",
           "bordercolor": "rgb(17,17,17)",
           "borderwidth": 1,
           "tickwidth": 0
          },
          "ternary": {
           "aaxis": {
            "gridcolor": "#506784",
            "linecolor": "#506784",
            "ticks": ""
           },
           "baxis": {
            "gridcolor": "#506784",
            "linecolor": "#506784",
            "ticks": ""
           },
           "bgcolor": "rgb(17,17,17)",
           "caxis": {
            "gridcolor": "#506784",
            "linecolor": "#506784",
            "ticks": ""
           }
          },
          "title": {
           "x": 0.05
          },
          "updatemenudefaults": {
           "bgcolor": "#506784",
           "borderwidth": 0
          },
          "xaxis": {
           "automargin": true,
           "gridcolor": "#283442",
           "linecolor": "#506784",
           "ticks": "",
           "title": {
            "standoff": 15
           },
           "zerolinecolor": "#283442",
           "zerolinewidth": 2
          },
          "yaxis": {
           "automargin": true,
           "gridcolor": "#283442",
           "linecolor": "#506784",
           "ticks": "",
           "title": {
            "standoff": 15
           },
           "zerolinecolor": "#283442",
           "zerolinewidth": 2
          }
         }
        },
        "title": {
         "text": " World Gender Gap Progress"
        },
        "xaxis": {
         "anchor": "y",
         "domain": [
          0,
          0.45
         ]
        },
        "xaxis2": {
         "anchor": "y2",
         "domain": [
          0.55,
          1
         ]
        },
        "yaxis": {
         "anchor": "x",
         "domain": [
          0,
          1
         ]
        },
        "yaxis2": {
         "anchor": "x2",
         "domain": [
          0,
          1
         ],
         "matches": "y",
         "showticklabels": false
        }
       }
      },
      "text/html": [
       "<div>\n",
       "        \n",
       "        \n",
       "            <div id=\"920af3d6-fe76-4b32-a64a-7fdbdd786c84\" class=\"plotly-graph-div\" style=\"height:525px; width:100%;\"></div>\n",
       "            <script type=\"text/javascript\">\n",
       "                require([\"plotly\"], function(Plotly) {\n",
       "                    window.PLOTLYENV=window.PLOTLYENV || {};\n",
       "                    \n",
       "                if (document.getElementById(\"920af3d6-fe76-4b32-a64a-7fdbdd786c84\")) {\n",
       "                    Plotly.newPlot(\n",
       "                        '920af3d6-fe76-4b32-a64a-7fdbdd786c84',\n",
       "                        [{\"name\": \"2010\", \"type\": \"box\", \"xaxis\": \"x\", \"y\": [0.67, 0.61, 0.67, 0.72, 0.67, 0.73, 0.71, 0.64, 0.71, 0.62, 0.67, 0.72, null, 0.75, 0.65, 0.57, null, 0.68, 0.69, 0.67, 0.67, 0.7, 0.62, null, 0.65, 0.61, 0.74, null, 0.53, 0.7, 0.69, 0.69, 0.72, 0.57, 0.69, 0.73, 0.66, 0.68, 0.77, 0.68, 0.71, 0.59, 0.66, 0.7, 0.6, 0.63, 0.83, 0.7, 0.68, 0.66, 0.75, 0.68, 0.69, 0.62, null, 0.71, 0.69, 0.67, 0.85, 0.62, 0.66, 0.59, 0.78, 0.7, 0.68, 0.7, 0.65, 0.6, 0.71, 0.65, 0.63, 0.63, 0.7, null, 0.74, 0.61, 0.77, null, 0.71, 0.72, 0.7, 0.67, 0.68, 0.65, 0.65, 0.57, 0.67, 0.62, 0.65, 0.66, 0.72, 0.72, null, 0.58, 0.73, null, 0.72, 0.61, 0.74, 0.78, 0.72, 0.61, 0.84, 0.6, 0.55, 0.71, 0.68, 0.69, 0.77, 0.7, 0.72, 0.61, 0.68, 0.7, null, 0.57, 0.64, null, 0.69, 0.68, 0.7, 0.75, 0.76, 0.75, 0.64, null, 0.8, 0.76, 0.59, 0.66, 0.68, 0.69, null, 0.74, 0.63, 0.59, 0.72, 0.69, 0.64, 0.75, 0.74, 0.69, 0.69, 0.68, 0.46, 0.63, 0.66], \"yaxis\": \"y\"}, {\"name\": \"2011\", \"type\": \"box\", \"xaxis\": \"x\", \"y\": [0.67, 0.6, 0.66, 0.72, 0.67, 0.73, 0.72, 0.66, 0.73, 0.62, 0.68, 0.72, null, 0.75, 0.65, 0.58, null, 0.69, 0.68, 0.67, 0.68, 0.7, 0.62, 0.73, 0.65, 0.61, 0.74, null, 0.53, 0.7, 0.69, 0.67, 0.73, 0.58, 0.7, 0.74, 0.66, 0.68, 0.78, 0.67, 0.7, 0.59, 0.66, 0.7, 0.61, 0.63, 0.84, 0.7, 0.68, 0.66, 0.76, 0.68, 0.69, 0.62, null, 0.71, 0.69, 0.66, 0.85, 0.62, 0.66, 0.59, 0.78, 0.69, 0.68, 0.7, 0.65, 0.61, 0.7, 0.65, 0.63, 0.63, 0.7, null, 0.74, 0.61, 0.77, null, 0.71, 0.72, 0.7, 0.68, 0.68, 0.65, 0.65, 0.58, 0.67, 0.62, 0.65, 0.66, 0.71, 0.71, null, 0.58, 0.73, null, 0.72, 0.59, 0.75, 0.78, 0.72, 0.6, 0.84, 0.59, 0.56, 0.7, 0.68, 0.68, 0.77, 0.7, 0.71, 0.62, 0.68, 0.7, null, 0.58, 0.66, null, 0.69, 0.68, 0.7, 0.75, 0.76, 0.72, 0.64, null, 0.8, 0.76, 0.59, 0.65, 0.69, 0.69, null, 0.74, 0.63, 0.6, 0.72, 0.69, 0.65, 0.75, 0.74, 0.69, 0.69, 0.67, 0.49, 0.63, 0.66], \"yaxis\": \"y\"}, {\"name\": \"2012\", \"type\": \"box\", \"xaxis\": \"x\", \"y\": [0.67, 0.61, null, 0.72, 0.66, 0.73, 0.74, 0.65, 0.72, 0.63, 0.67, 0.72, null, 0.77, 0.65, 0.63, null, 0.72, 0.67, 0.69, 0.68, 0.7, 0.65, 0.73, 0.65, 0.63, 0.74, 0.72, 0.56, 0.67, 0.69, 0.69, 0.72, 0.58, 0.71, 0.74, 0.67, 0.68, 0.78, 0.67, 0.72, 0.6, 0.66, 0.7, 0.62, 0.63, 0.85, 0.7, 0.66, 0.67, 0.76, 0.68, 0.67, 0.63, null, 0.71, 0.68, 0.67, 0.86, 0.64, 0.66, 0.59, 0.78, 0.7, 0.67, 0.7, 0.65, 0.61, 0.72, 0.68, 0.64, 0.63, 0.7, null, 0.76, 0.6, 0.76, null, 0.72, 0.74, 0.7, 0.7, 0.72, 0.65, 0.66, 0.58, 0.67, 0.61, 0.65, 0.67, 0.71, 0.71, null, 0.58, 0.74, null, 0.71, 0.6, 0.77, 0.78, 0.77, 0.63, 0.84, 0.6, 0.55, 0.71, 0.67, 0.67, 0.78, 0.7, 0.71, 0.63, 0.69, 0.7, null, 0.57, 0.67, 0.7, 0.7, 0.68, 0.71, 0.75, 0.73, 0.71, 0.64, null, 0.82, 0.77, 0.56, 0.66, 0.71, 0.69, 0.69, 0.71, null, 0.6, 0.72, 0.69, 0.64, 0.74, 0.74, 0.67, 0.71, 0.69, 0.51, 0.63, null], \"yaxis\": \"y\"}, {\"name\": \"2013\", \"type\": \"box\", \"xaxis\": \"x\", \"y\": [0.64, 0.6, 0.67, 0.72, 0.66, 0.74, 0.74, 0.66, 0.71, 0.63, 0.68, 0.73, null, 0.77, 0.64, 0.59, 0.67, 0.73, 0.68, 0.69, 0.67, 0.71, 0.65, 0.74, 0.65, 0.66, 0.74, 0.71, 0.56, 0.67, 0.69, 0.72, 0.72, 0.58, 0.71, 0.75, 0.68, 0.68, 0.78, 0.69, 0.74, 0.59, 0.66, 0.7, 0.62, 0.63, 0.84, 0.71, null, 0.68, 0.76, 0.68, 0.68, 0.63, null, 0.71, 0.68, 0.67, 0.87, 0.66, 0.66, 0.58, 0.78, 0.7, 0.69, 0.71, 0.65, 0.61, 0.72, 0.68, 0.64, 0.63, 0.69, 0.7, 0.76, 0.6, 0.75, null, 0.73, 0.74, 0.7, 0.7, 0.71, 0.65, 0.66, 0.59, 0.68, 0.58, 0.66, 0.69, 0.7, 0.72, null, 0.58, 0.73, null, 0.71, 0.61, 0.76, 0.78, 0.77, 0.65, 0.84, 0.61, 0.55, 0.72, 0.67, 0.68, 0.78, 0.7, 0.71, 0.63, 0.69, 0.7, null, 0.59, 0.69, 0.71, 0.7, 0.69, 0.72, 0.75, 0.73, 0.7, 0.64, null, 0.81, 0.77, 0.57, 0.67, 0.69, 0.69, null, 0.72, null, 0.61, 0.71, 0.69, 0.64, 0.74, 0.74, 0.68, 0.71, 0.69, 0.51, 0.63, null], \"yaxis\": \"y\"}, {\"name\": \"2014\", \"type\": \"box\", \"xaxis\": \"x\", \"y\": [0.69, 0.62, 0.63, 0.73, 0.66, 0.74, 0.73, 0.68, 0.73, 0.63, 0.7, 0.73, null, 0.78, 0.67, null, 0.64, 0.7, 0.71, 0.69, 0.67, 0.74, 0.65, 0.76, 0.65, null, 0.75, 0.71, 0.58, 0.7, 0.68, 0.71, 0.72, 0.59, 0.71, 0.73, 0.67, 0.67, 0.8, 0.69, 0.75, 0.61, 0.69, 0.7, 0.61, 0.63, 0.85, 0.76, null, 0.69, 0.78, 0.67, 0.68, 0.68, null, 0.7, 0.69, 0.68, 0.86, 0.65, 0.67, 0.58, 0.78, 0.7, 0.7, 0.71, 0.66, 0.6, 0.72, 0.73, 0.64, 0.65, 0.7, 0.7, 0.77, 0.59, 0.73, null, 0.72, 0.73, 0.69, 0.72, 0.73, 0.65, 0.66, 0.58, 0.67, 0.6, 0.65, 0.69, 0.74, 0.72, null, 0.6, 0.74, null, 0.72, 0.65, 0.77, 0.78, 0.79, 0.64, 0.84, 0.61, 0.55, 0.72, 0.69, 0.72, 0.78, 0.71, 0.72, 0.64, 0.69, 0.69, null, 0.61, 0.69, 0.71, 0.7, 0.68, 0.74, 0.75, 0.73, 0.69, 0.65, null, 0.82, 0.78, 0.58, 0.67, 0.72, 0.7, null, 0.72, 0.63, 0.62, 0.68, 0.71, 0.64, 0.74, 0.75, 0.69, 0.69, 0.69, 0.51, 0.64, 0.7], \"yaxis\": \"y\"}, {\"name\": \"2015\", \"type\": \"box\", \"xaxis\": \"x\", \"y\": [0.7, 0.63, 0.64, 0.73, 0.67, 0.73, 0.73, 0.68, 0.73, 0.64, 0.7, 0.74, 0.73, 0.75, 0.67, 0.62, 0.65, 0.75, 0.71, 0.69, 0.68, 0.72, 0.65, 0.75, 0.66, 0.68, 0.74, 0.72, 0.58, 0.7, 0.68, 0.72, 0.73, 0.61, 0.71, 0.74, 0.67, 0.69, 0.77, 0.69, 0.74, 0.6, 0.71, 0.75, 0.64, 0.64, 0.85, 0.76, 0.67, 0.69, 0.78, 0.7, 0.68, 0.67, 0.62, 0.7, 0.69, 0.67, 0.88, 0.66, 0.68, 0.58, 0.81, 0.71, 0.73, 0.7, 0.67, 0.59, 0.72, 0.72, 0.65, 0.65, 0.69, 0.71, 0.75, 0.6, 0.71, 0.65, 0.74, 0.74, 0.7, 0.7, 0.7, 0.66, 0.65, 0.6, 0.67, 0.61, 0.65, 0.7, 0.74, 0.71, 0.69, 0.59, 0.74, null, 0.76, 0.66, 0.78, 0.78, 0.78, 0.64, 0.85, 0.6, 0.56, 0.77, 0.67, 0.68, 0.79, 0.72, 0.73, 0.64, 0.69, 0.69, 0.79, 0.6, 0.7, 0.72, 0.71, 0.68, 0.78, 0.76, 0.74, 0.69, 0.67, 0.67, 0.82, 0.78, 0.57, 0.68, 0.72, 0.71, null, 0.72, 0.63, 0.62, 0.71, 0.7, 0.65, 0.76, 0.74, 0.68, 0.69, 0.69, 0.48, 0.65, 0.71], \"yaxis\": \"y\"}, {\"name\": \"2016\", \"type\": \"box\", \"xaxis\": \"x\", \"y\": [0.7, 0.64, 0.64, 0.74, 0.67, 0.72, 0.72, 0.68, 0.73, 0.62, 0.7, 0.74, 0.74, 0.74, 0.68, 0.64, 0.64, 0.75, 0.72, 0.69, 0.67, 0.73, 0.64, 0.77, 0.66, 0.68, 0.73, 0.73, 0.59, 0.7, 0.68, 0.73, 0.74, 0.6, 0.7, 0.74, 0.68, 0.69, 0.75, 0.68, 0.73, 0.61, 0.7, 0.75, 0.66, null, 0.84, 0.76, 0.67, 0.68, 0.77, 0.7, 0.68, 0.67, 0.64, null, 0.69, 0.67, 0.87, 0.68, 0.68, 0.59, 0.8, 0.72, 0.72, 0.72, 0.66, 0.6, 0.72, 0.7, 0.65, 0.62, 0.69, null, 0.76, 0.6, 0.71, 0.65, 0.74, 0.73, 0.7, 0.7, 0.7, 0.67, 0.65, 0.59, 0.66, 0.62, 0.65, 0.7, 0.74, 0.7, 0.68, 0.6, 0.75, null, 0.76, 0.66, 0.76, 0.78, 0.78, 0.64, 0.84, 0.61, 0.56, 0.72, 0.68, 0.69, 0.79, 0.73, 0.74, 0.64, 0.69, 0.69, 0.8, 0.58, 0.68, 0.72, 0.71, 0.68, 0.79, 0.76, 0.74, 0.67, 0.68, 0.66, 0.82, 0.78, 0.57, 0.68, 0.72, 0.7, 0.64, 0.72, 0.64, 0.62, 0.7, 0.7, 0.64, 0.75, 0.72, 0.68, 0.69, 0.7, 0.52, null, 0.71], \"yaxis\": \"y\"}, {\"name\": \"2017\", \"type\": \"box\", \"xaxis\": \"x\", \"y\": [0.73, 0.63, 0.64, 0.73, 0.68, 0.73, 0.71, 0.68, 0.74, 0.63, 0.72, 0.75, 0.74, 0.74, 0.69, 0.65, 0.64, 0.76, 0.72, 0.68, 0.67, 0.76, 0.65, 0.76, 0.68, 0.69, 0.77, 0.69, 0.57, 0.7, 0.67, 0.73, 0.73, 0.61, 0.71, 0.74, 0.68, 0.69, 0.78, 0.7, 0.72, 0.61, 0.7, 0.73, 0.66, null, 0.82, 0.78, 0.65, 0.68, 0.78, 0.7, 0.69, 0.67, 0.66, null, 0.71, 0.67, 0.88, 0.67, 0.69, 0.58, 0.79, 0.72, 0.69, 0.72, 0.66, 0.6, 0.71, 0.69, 0.65, 0.68, 0.69, 0.7, 0.76, 0.6, 0.7, 0.67, 0.74, 0.71, 0.7, 0.69, 0.67, 0.67, 0.67, 0.58, 0.68, 0.61, 0.66, 0.69, 0.74, 0.71, 0.69, 0.6, 0.74, 0.69, 0.78, 0.66, 0.74, 0.79, 0.81, 0.64, 0.83, null, 0.55, 0.72, 0.68, 0.72, 0.79, 0.73, 0.73, 0.63, 0.71, 0.7, 0.82, 0.58, 0.68, 0.73, 0.7, 0.69, 0.8, 0.76, 0.75, 0.67, 0.69, 0.67, 0.82, 0.76, 0.57, 0.68, 0.7, 0.69, 0.63, null, 0.65, 0.62, 0.72, 0.7, 0.65, 0.77, 0.72, 0.71, 0.71, 0.7, 0.52, null, 0.72], \"yaxis\": \"y\"}, {\"name\": \"2018\", \"type\": \"box\", \"xaxis\": \"x\", \"y\": [0.73, 0.63, 0.63, 0.73, 0.68, 0.73, 0.72, 0.68, 0.74, 0.63, 0.72, 0.75, 0.75, 0.74, 0.66, 0.65, 0.64, 0.75, 0.72, 0.68, 0.69, 0.76, 0.63, 0.74, 0.68, 0.71, 0.77, 0.7, 0.58, 0.72, 0.67, 0.73, 0.75, 0.63, 0.71, 0.75, 0.68, 0.69, 0.78, 0.7, 0.73, 0.61, 0.69, 0.73, 0.66, 0.67, 0.82, 0.78, 0.64, 0.68, 0.78, 0.69, 0.7, 0.67, 0.66, null, 0.71, 0.67, 0.86, 0.66, 0.69, 0.59, 0.8, 0.72, 0.71, 0.72, 0.66, 0.6, 0.71, 0.7, 0.66, 0.63, 0.69, 0.75, 0.76, 0.6, 0.69, 0.68, 0.75, 0.71, 0.71, 0.69, 0.66, 0.68, 0.66, 0.58, 0.69, 0.61, 0.66, 0.72, 0.73, 0.71, 0.71, 0.61, 0.72, 0.69, 0.79, 0.67, 0.75, 0.8, 0.81, 0.62, 0.84, 0.6, 0.55, 0.72, 0.67, 0.72, 0.8, 0.73, 0.73, 0.63, 0.71, 0.7, 0.8, 0.59, 0.68, 0.73, 0.71, 0.69, 0.78, 0.76, 0.75, 0.68, 0.7, null, 0.82, 0.76, 0.57, 0.64, 0.7, 0.7, 0.64, null, 0.65, 0.63, 0.72, 0.71, 0.64, 0.74, 0.72, 0.72, 0.71, 0.7, 0.5, null, 0.72], \"yaxis\": \"y\"}, {\"name\": \"2019\", \"type\": \"box\", \"xaxis\": \"x\", \"y\": [0.77, 0.63, 0.66, 0.75, 0.68, 0.73, 0.74, 0.69, 0.72, 0.63, 0.73, 0.75, 0.75, 0.75, 0.67, 0.66, 0.64, 0.73, 0.71, 0.69, 0.69, 0.73, 0.64, 0.74, 0.69, 0.69, 0.77, 0.72, 0.6, 0.72, 0.68, 0.76, 0.78, 0.61, 0.72, 0.75, 0.69, 0.71, 0.78, 0.7, 0.73, 0.63, 0.71, 0.75, 0.7, 0.68, 0.83, 0.78, 0.63, 0.71, 0.79, 0.67, 0.7, 0.67, 0.64, null, 0.72, 0.68, 0.88, 0.67, 0.7, 0.58, 0.8, 0.72, 0.71, 0.74, 0.65, 0.62, 0.71, 0.67, 0.67, 0.65, 0.69, 0.73, 0.78, 0.6, 0.7, 0.68, 0.74, 0.72, 0.71, 0.72, 0.66, 0.68, 0.65, 0.62, 0.69, 0.61, 0.66, 0.75, 0.76, 0.71, 0.71, 0.6, 0.72, 0.66, 0.78, 0.68, 0.74, 0.8, 0.8, 0.64, 0.84, 0.6, 0.56, 0.73, 0.68, 0.71, 0.78, 0.74, 0.74, 0.63, 0.72, 0.71, 0.79, 0.6, 0.68, 0.74, 0.72, 0.72, 0.74, 0.78, 0.8, 0.68, 0.71, null, 0.82, 0.78, 0.57, 0.63, 0.71, 0.71, 0.66, 0.76, 0.64, 0.64, 0.72, 0.72, 0.66, 0.77, 0.72, 0.74, 0.71, 0.7, 0.49, 0.73, 0.73], \"yaxis\": \"y\"}, {\"mode\": \"lines\", \"type\": \"scatter\", \"x\": [\"2010\", \"2011\", \"2012\", \"2013\", \"2014\", \"2015\", \"2016\", \"2017\", \"2018\", \"2019\"], \"xaxis\": \"x2\", \"y\": [0.68, 0.68, 0.68, 0.69, 0.69, 0.7, 0.69, 0.7, 0.7, 0.7], \"yaxis\": \"y2\"}],\n",
       "                        {\"annotations\": [{\"font\": {\"size\": 16}, \"showarrow\": false, \"text\": \"The distribution of the gender gap index overtime\", \"x\": 0.225, \"xanchor\": \"center\", \"xref\": \"paper\", \"y\": 1.0, \"yanchor\": \"bottom\", \"yref\": \"paper\"}, {\"font\": {\"size\": 16}, \"showarrow\": false, \"text\": \"The Average Gender gap index trend\", \"x\": 0.775, \"xanchor\": \"center\", \"xref\": \"paper\", \"y\": 1.0, \"yanchor\": \"bottom\", \"yref\": \"paper\"}], \"template\": {\"data\": {\"bar\": [{\"error_x\": {\"color\": \"#f2f5fa\"}, \"error_y\": {\"color\": \"#f2f5fa\"}, \"marker\": {\"line\": {\"color\": \"rgb(17,17,17)\", \"width\": 0.5}}, \"type\": \"bar\"}], \"barpolar\": [{\"marker\": {\"line\": {\"color\": \"rgb(17,17,17)\", \"width\": 0.5}}, \"type\": \"barpolar\"}], \"carpet\": [{\"aaxis\": {\"endlinecolor\": \"#A2B1C6\", \"gridcolor\": \"#506784\", \"linecolor\": \"#506784\", \"minorgridcolor\": \"#506784\", \"startlinecolor\": \"#A2B1C6\"}, \"baxis\": {\"endlinecolor\": \"#A2B1C6\", \"gridcolor\": \"#506784\", \"linecolor\": \"#506784\", \"minorgridcolor\": \"#506784\", \"startlinecolor\": \"#A2B1C6\"}, \"type\": \"carpet\"}], \"choropleth\": [{\"colorbar\": {\"outlinewidth\": 0, \"ticks\": \"\"}, \"type\": \"choropleth\"}], \"contour\": [{\"colorbar\": {\"outlinewidth\": 0, \"ticks\": \"\"}, \"colorscale\": [[0.0, \"#0d0887\"], [0.1111111111111111, \"#46039f\"], [0.2222222222222222, \"#7201a8\"], [0.3333333333333333, \"#9c179e\"], [0.4444444444444444, \"#bd3786\"], [0.5555555555555556, \"#d8576b\"], [0.6666666666666666, \"#ed7953\"], [0.7777777777777778, \"#fb9f3a\"], [0.8888888888888888, \"#fdca26\"], [1.0, \"#f0f921\"]], \"type\": \"contour\"}], \"contourcarpet\": [{\"colorbar\": {\"outlinewidth\": 0, \"ticks\": \"\"}, \"type\": \"contourcarpet\"}], \"heatmap\": [{\"colorbar\": {\"outlinewidth\": 0, \"ticks\": \"\"}, \"colorscale\": [[0.0, \"#0d0887\"], [0.1111111111111111, \"#46039f\"], [0.2222222222222222, \"#7201a8\"], [0.3333333333333333, \"#9c179e\"], [0.4444444444444444, \"#bd3786\"], [0.5555555555555556, \"#d8576b\"], [0.6666666666666666, \"#ed7953\"], [0.7777777777777778, \"#fb9f3a\"], [0.8888888888888888, \"#fdca26\"], [1.0, \"#f0f921\"]], \"type\": \"heatmap\"}], \"heatmapgl\": [{\"colorbar\": {\"outlinewidth\": 0, \"ticks\": \"\"}, \"colorscale\": [[0.0, \"#0d0887\"], [0.1111111111111111, \"#46039f\"], [0.2222222222222222, \"#7201a8\"], [0.3333333333333333, \"#9c179e\"], [0.4444444444444444, \"#bd3786\"], [0.5555555555555556, \"#d8576b\"], [0.6666666666666666, \"#ed7953\"], [0.7777777777777778, \"#fb9f3a\"], [0.8888888888888888, \"#fdca26\"], [1.0, \"#f0f921\"]], \"type\": \"heatmapgl\"}], \"histogram\": [{\"marker\": {\"colorbar\": {\"outlinewidth\": 0, \"ticks\": \"\"}}, \"type\": \"histogram\"}], \"histogram2d\": [{\"colorbar\": {\"outlinewidth\": 0, \"ticks\": \"\"}, \"colorscale\": [[0.0, \"#0d0887\"], [0.1111111111111111, \"#46039f\"], [0.2222222222222222, \"#7201a8\"], [0.3333333333333333, \"#9c179e\"], [0.4444444444444444, \"#bd3786\"], [0.5555555555555556, \"#d8576b\"], [0.6666666666666666, \"#ed7953\"], [0.7777777777777778, \"#fb9f3a\"], [0.8888888888888888, \"#fdca26\"], [1.0, \"#f0f921\"]], \"type\": \"histogram2d\"}], \"histogram2dcontour\": [{\"colorbar\": {\"outlinewidth\": 0, \"ticks\": \"\"}, \"colorscale\": [[0.0, \"#0d0887\"], [0.1111111111111111, \"#46039f\"], [0.2222222222222222, \"#7201a8\"], [0.3333333333333333, \"#9c179e\"], [0.4444444444444444, \"#bd3786\"], [0.5555555555555556, \"#d8576b\"], [0.6666666666666666, \"#ed7953\"], [0.7777777777777778, \"#fb9f3a\"], [0.8888888888888888, \"#fdca26\"], [1.0, \"#f0f921\"]], \"type\": \"histogram2dcontour\"}], \"mesh3d\": [{\"colorbar\": {\"outlinewidth\": 0, \"ticks\": \"\"}, \"type\": \"mesh3d\"}], \"parcoords\": [{\"line\": {\"colorbar\": {\"outlinewidth\": 0, \"ticks\": \"\"}}, \"type\": \"parcoords\"}], \"pie\": [{\"automargin\": true, \"type\": \"pie\"}], \"scatter\": [{\"marker\": {\"line\": {\"color\": \"#283442\"}}, \"type\": \"scatter\"}], \"scatter3d\": [{\"line\": {\"colorbar\": {\"outlinewidth\": 0, \"ticks\": \"\"}}, \"marker\": {\"colorbar\": {\"outlinewidth\": 0, \"ticks\": \"\"}}, \"type\": \"scatter3d\"}], \"scattercarpet\": [{\"marker\": {\"colorbar\": {\"outlinewidth\": 0, \"ticks\": \"\"}}, \"type\": \"scattercarpet\"}], \"scattergeo\": [{\"marker\": {\"colorbar\": {\"outlinewidth\": 0, \"ticks\": \"\"}}, \"type\": \"scattergeo\"}], \"scattergl\": [{\"marker\": {\"line\": {\"color\": \"#283442\"}}, \"type\": \"scattergl\"}], \"scattermapbox\": [{\"marker\": {\"colorbar\": {\"outlinewidth\": 0, \"ticks\": \"\"}}, \"type\": \"scattermapbox\"}], \"scatterpolar\": [{\"marker\": {\"colorbar\": {\"outlinewidth\": 0, \"ticks\": \"\"}}, \"type\": \"scatterpolar\"}], \"scatterpolargl\": [{\"marker\": {\"colorbar\": {\"outlinewidth\": 0, \"ticks\": \"\"}}, \"type\": \"scatterpolargl\"}], \"scatterternary\": [{\"marker\": {\"colorbar\": {\"outlinewidth\": 0, \"ticks\": \"\"}}, \"type\": \"scatterternary\"}], \"surface\": [{\"colorbar\": {\"outlinewidth\": 0, \"ticks\": \"\"}, \"colorscale\": [[0.0, \"#0d0887\"], [0.1111111111111111, \"#46039f\"], [0.2222222222222222, \"#7201a8\"], [0.3333333333333333, \"#9c179e\"], [0.4444444444444444, \"#bd3786\"], [0.5555555555555556, \"#d8576b\"], [0.6666666666666666, \"#ed7953\"], [0.7777777777777778, \"#fb9f3a\"], [0.8888888888888888, \"#fdca26\"], [1.0, \"#f0f921\"]], \"type\": \"surface\"}], \"table\": [{\"cells\": {\"fill\": {\"color\": \"#506784\"}, \"line\": {\"color\": \"rgb(17,17,17)\"}}, \"header\": {\"fill\": {\"color\": \"#2a3f5f\"}, \"line\": {\"color\": \"rgb(17,17,17)\"}}, \"type\": \"table\"}]}, \"layout\": {\"annotationdefaults\": {\"arrowcolor\": \"#f2f5fa\", \"arrowhead\": 0, \"arrowwidth\": 1}, \"coloraxis\": {\"colorbar\": {\"outlinewidth\": 0, \"ticks\": \"\"}}, \"colorscale\": {\"diverging\": [[0, \"#8e0152\"], [0.1, \"#c51b7d\"], [0.2, \"#de77ae\"], [0.3, \"#f1b6da\"], [0.4, \"#fde0ef\"], [0.5, \"#f7f7f7\"], [0.6, \"#e6f5d0\"], [0.7, \"#b8e186\"], [0.8, \"#7fbc41\"], [0.9, \"#4d9221\"], [1, \"#276419\"]], \"sequential\": [[0.0, \"#0d0887\"], [0.1111111111111111, \"#46039f\"], [0.2222222222222222, \"#7201a8\"], [0.3333333333333333, \"#9c179e\"], [0.4444444444444444, \"#bd3786\"], [0.5555555555555556, \"#d8576b\"], [0.6666666666666666, \"#ed7953\"], [0.7777777777777778, \"#fb9f3a\"], [0.8888888888888888, \"#fdca26\"], [1.0, \"#f0f921\"]], \"sequentialminus\": [[0.0, \"#0d0887\"], [0.1111111111111111, \"#46039f\"], [0.2222222222222222, \"#7201a8\"], [0.3333333333333333, \"#9c179e\"], [0.4444444444444444, \"#bd3786\"], [0.5555555555555556, \"#d8576b\"], [0.6666666666666666, \"#ed7953\"], [0.7777777777777778, \"#fb9f3a\"], [0.8888888888888888, \"#fdca26\"], [1.0, \"#f0f921\"]]}, \"colorway\": [\"#636efa\", \"#EF553B\", \"#00cc96\", \"#ab63fa\", \"#FFA15A\", \"#19d3f3\", \"#FF6692\", \"#B6E880\", \"#FF97FF\", \"#FECB52\"], \"font\": {\"color\": \"#f2f5fa\"}, \"geo\": {\"bgcolor\": \"rgb(17,17,17)\", \"lakecolor\": \"rgb(17,17,17)\", \"landcolor\": \"rgb(17,17,17)\", \"showlakes\": true, \"showland\": true, \"subunitcolor\": \"#506784\"}, \"hoverlabel\": {\"align\": \"left\"}, \"hovermode\": \"closest\", \"mapbox\": {\"style\": \"dark\"}, \"paper_bgcolor\": \"rgb(17,17,17)\", \"plot_bgcolor\": \"rgb(17,17,17)\", \"polar\": {\"angularaxis\": {\"gridcolor\": \"#506784\", \"linecolor\": \"#506784\", \"ticks\": \"\"}, \"bgcolor\": \"rgb(17,17,17)\", \"radialaxis\": {\"gridcolor\": \"#506784\", \"linecolor\": \"#506784\", \"ticks\": \"\"}}, \"scene\": {\"xaxis\": {\"backgroundcolor\": \"rgb(17,17,17)\", \"gridcolor\": \"#506784\", \"gridwidth\": 2, \"linecolor\": \"#506784\", \"showbackground\": true, \"ticks\": \"\", \"zerolinecolor\": \"#C8D4E3\"}, \"yaxis\": {\"backgroundcolor\": \"rgb(17,17,17)\", \"gridcolor\": \"#506784\", \"gridwidth\": 2, \"linecolor\": \"#506784\", \"showbackground\": true, \"ticks\": \"\", \"zerolinecolor\": \"#C8D4E3\"}, \"zaxis\": {\"backgroundcolor\": \"rgb(17,17,17)\", \"gridcolor\": \"#506784\", \"gridwidth\": 2, \"linecolor\": \"#506784\", \"showbackground\": true, \"ticks\": \"\", \"zerolinecolor\": \"#C8D4E3\"}}, \"shapedefaults\": {\"line\": {\"color\": \"#f2f5fa\"}}, \"sliderdefaults\": {\"bgcolor\": \"#C8D4E3\", \"bordercolor\": \"rgb(17,17,17)\", \"borderwidth\": 1, \"tickwidth\": 0}, \"ternary\": {\"aaxis\": {\"gridcolor\": \"#506784\", \"linecolor\": \"#506784\", \"ticks\": \"\"}, \"baxis\": {\"gridcolor\": \"#506784\", \"linecolor\": \"#506784\", \"ticks\": \"\"}, \"bgcolor\": \"rgb(17,17,17)\", \"caxis\": {\"gridcolor\": \"#506784\", \"linecolor\": \"#506784\", \"ticks\": \"\"}}, \"title\": {\"x\": 0.05}, \"updatemenudefaults\": {\"bgcolor\": \"#506784\", \"borderwidth\": 0}, \"xaxis\": {\"automargin\": true, \"gridcolor\": \"#283442\", \"linecolor\": \"#506784\", \"ticks\": \"\", \"title\": {\"standoff\": 15}, \"zerolinecolor\": \"#283442\", \"zerolinewidth\": 2}, \"yaxis\": {\"automargin\": true, \"gridcolor\": \"#283442\", \"linecolor\": \"#506784\", \"ticks\": \"\", \"title\": {\"standoff\": 15}, \"zerolinecolor\": \"#283442\", \"zerolinewidth\": 2}}}, \"title\": {\"text\": \" World Gender Gap Progress\"}, \"xaxis\": {\"anchor\": \"y\", \"domain\": [0.0, 0.45]}, \"xaxis2\": {\"anchor\": \"y2\", \"domain\": [0.55, 1.0]}, \"yaxis\": {\"anchor\": \"x\", \"domain\": [0.0, 1.0]}, \"yaxis2\": {\"anchor\": \"x2\", \"domain\": [0.0, 1.0], \"matches\": \"y\", \"showticklabels\": false}},\n",
       "                        {\"responsive\": true}\n",
       "                    ).then(function(){\n",
       "                            \n",
       "var gd = document.getElementById('920af3d6-fe76-4b32-a64a-7fdbdd786c84');\n",
       "var x = new MutationObserver(function (mutations, observer) {{\n",
       "        var display = window.getComputedStyle(gd).display;\n",
       "        if (!display || display === 'none') {{\n",
       "            console.log([gd, 'removed!']);\n",
       "            Plotly.purge(gd);\n",
       "            observer.disconnect();\n",
       "        }}\n",
       "}});\n",
       "\n",
       "// Listen for the removal of the full notebook cells\n",
       "var notebookContainer = gd.closest('#notebook-container');\n",
       "if (notebookContainer) {{\n",
       "    x.observe(notebookContainer, {childList: true});\n",
       "}}\n",
       "\n",
       "// Listen for the clearing of the current output cell\n",
       "var outputEl = gd.closest('.output');\n",
       "if (outputEl) {{\n",
       "    x.observe(outputEl, {childList: true});\n",
       "}}\n",
       "\n",
       "                        })\n",
       "                };\n",
       "                });\n",
       "            </script>\n",
       "        </div>"
      ]
     },
     "metadata": {},
     "output_type": "display_data"
    }
   ],
   "source": [
    "from plotly.subplots import make_subplots\n",
    "fig = make_subplots(rows=1, cols=2, specs=[[{\"type\": \"Box\", \"colspan\": 1}, {\"type\": \"Scatter\", \"colspan\": 1}]],\n",
    "                    subplot_titles=('The distribution of the gender gap index overtime', \"The Average Gender gap index trend\"), \n",
    "    \n",
    "                    shared_yaxes=True)\n",
    "\n",
    "fig.add_box(y = new_df['2010'], name = '2010', row=1, col=1)\n",
    "fig.add_box(y = new_df['2011'], name = '2011', row=1, col=1)\n",
    "fig.add_box(y = new_df['2012'], name = '2012', row=1, col=1)\n",
    "fig.add_box(y = new_df['2013'], name = '2013', row=1, col=1)\n",
    "fig.add_box(y = new_df['2014'], name = '2014', row=1, col=1)\n",
    "fig.add_box(y = new_df['2015'], name = '2015', row=1, col=1)\n",
    "fig.add_box(y = new_df['2016'], name = '2016', row=1, col=1)\n",
    "fig.add_box(y = new_df['2017'], name = '2017', row=1, col=1)\n",
    "fig.add_box(y = new_df['2018'], name = '2018', row=1, col=1)\n",
    "fig.add_box(y = new_df['2019'], name = '2019', row=1, col=1)\n",
    "\n",
    "# fig.add_scatter(y=[2, 3.5, 4], mode=\"markers\",\n",
    "#                 marker=dict(size=20, color=\"MediumPurple\"),\n",
    "#                 name=\"c\", row=1, col=2)\n",
    "\n",
    "fig.add_scatter(x = new_df.mean(axis = 0).index, y = new_df.mean(axis = 0).round(2).values, mode = 'lines', row=1, col=2)\n",
    "fig.update_layout(\n",
    "    template=\"plotly_dark\", \n",
    "    title_text=\" Global Gender Gap Progress\")\n",
    "fig.show()"
   ]
  },
  {
   "cell_type": "code",
   "execution_count": 15,
   "metadata": {},
   "outputs": [
    {
     "data": {
      "application/vnd.plotly.v1+json": {
       "config": {
        "plotlyServerURL": "https://plot.ly"
       },
       "data": [
        {
         "name": "2010",
         "type": "box",
         "xaxis": "x",
         "y": [
          0.67,
          0.61,
          0.67,
          0.72,
          0.67,
          0.73,
          0.71,
          0.64,
          0.71,
          0.62,
          0.67,
          0.72,
          null,
          0.75,
          0.65,
          0.57,
          null,
          0.68,
          0.69,
          0.67,
          0.67,
          0.7,
          0.62,
          null,
          0.65,
          0.61,
          0.74,
          null,
          0.53,
          0.7,
          0.69,
          0.69,
          0.72,
          0.57,
          0.69,
          0.73,
          0.66,
          0.68,
          0.77,
          0.68,
          0.71,
          0.59,
          0.66,
          0.7,
          0.6,
          0.63,
          0.83,
          0.7,
          0.68,
          0.66,
          0.75,
          0.68,
          0.69,
          0.62,
          null,
          0.71,
          0.69,
          0.67,
          0.85,
          0.62,
          0.66,
          0.59,
          0.78,
          0.7,
          0.68,
          0.7,
          0.65,
          0.6,
          0.71,
          0.65,
          0.63,
          0.63,
          0.7,
          null,
          0.74,
          0.61,
          0.77,
          null,
          0.71,
          0.72,
          0.7,
          0.67,
          0.68,
          0.65,
          0.65,
          0.57,
          0.67,
          0.62,
          0.65,
          0.66,
          0.72,
          0.72,
          null,
          0.58,
          0.73,
          null,
          0.72,
          0.61,
          0.74,
          0.78,
          0.72,
          0.61,
          0.84,
          0.6,
          0.55,
          0.71,
          0.68,
          0.69,
          0.77,
          0.7,
          0.72,
          0.61,
          0.68,
          0.7,
          null,
          0.57,
          0.64,
          null,
          0.69,
          0.68,
          0.7,
          0.75,
          0.76,
          0.75,
          0.64,
          null,
          0.8,
          0.76,
          0.59,
          0.66,
          0.68,
          0.69,
          null,
          0.74,
          0.63,
          0.59,
          0.72,
          0.69,
          0.64,
          0.75,
          0.74,
          0.69,
          0.69,
          0.68,
          0.46,
          0.63,
          0.66
         ],
         "yaxis": "y"
        },
        {
         "name": "2011",
         "type": "box",
         "xaxis": "x",
         "y": [
          0.67,
          0.6,
          0.66,
          0.72,
          0.67,
          0.73,
          0.72,
          0.66,
          0.73,
          0.62,
          0.68,
          0.72,
          null,
          0.75,
          0.65,
          0.58,
          null,
          0.69,
          0.68,
          0.67,
          0.68,
          0.7,
          0.62,
          0.73,
          0.65,
          0.61,
          0.74,
          null,
          0.53,
          0.7,
          0.69,
          0.67,
          0.73,
          0.58,
          0.7,
          0.74,
          0.66,
          0.68,
          0.78,
          0.67,
          0.7,
          0.59,
          0.66,
          0.7,
          0.61,
          0.63,
          0.84,
          0.7,
          0.68,
          0.66,
          0.76,
          0.68,
          0.69,
          0.62,
          null,
          0.71,
          0.69,
          0.66,
          0.85,
          0.62,
          0.66,
          0.59,
          0.78,
          0.69,
          0.68,
          0.7,
          0.65,
          0.61,
          0.7,
          0.65,
          0.63,
          0.63,
          0.7,
          null,
          0.74,
          0.61,
          0.77,
          null,
          0.71,
          0.72,
          0.7,
          0.68,
          0.68,
          0.65,
          0.65,
          0.58,
          0.67,
          0.62,
          0.65,
          0.66,
          0.71,
          0.71,
          null,
          0.58,
          0.73,
          null,
          0.72,
          0.59,
          0.75,
          0.78,
          0.72,
          0.6,
          0.84,
          0.59,
          0.56,
          0.7,
          0.68,
          0.68,
          0.77,
          0.7,
          0.71,
          0.62,
          0.68,
          0.7,
          null,
          0.58,
          0.66,
          null,
          0.69,
          0.68,
          0.7,
          0.75,
          0.76,
          0.72,
          0.64,
          null,
          0.8,
          0.76,
          0.59,
          0.65,
          0.69,
          0.69,
          null,
          0.74,
          0.63,
          0.6,
          0.72,
          0.69,
          0.65,
          0.75,
          0.74,
          0.69,
          0.69,
          0.67,
          0.49,
          0.63,
          0.66
         ],
         "yaxis": "y"
        },
        {
         "mode": "lines",
         "type": "scatter",
         "x": [
          "2010",
          "2011",
          "2012",
          "2013",
          "2014",
          "2015",
          "2016",
          "2017",
          "2018",
          "2019"
         ],
         "xaxis": "x2",
         "y": [
          0.6782835820895521,
          0.6792592592592592,
          0.6844444444444442,
          0.6863235294117643,
          0.6924999999999999,
          0.6951724137931036,
          0.6947887323943664,
          0.6977464788732394,
          0.6978321678321676,
          0.7037241379310339
         ],
         "yaxis": "y2"
        }
       ],
       "layout": {
        "template": {
         "data": {
          "bar": [
           {
            "error_x": {
             "color": "#f2f5fa"
            },
            "error_y": {
             "color": "#f2f5fa"
            },
            "marker": {
             "line": {
              "color": "rgb(17,17,17)",
              "width": 0.5
             }
            },
            "type": "bar"
           }
          ],
          "barpolar": [
           {
            "marker": {
             "line": {
              "color": "rgb(17,17,17)",
              "width": 0.5
             }
            },
            "type": "barpolar"
           }
          ],
          "carpet": [
           {
            "aaxis": {
             "endlinecolor": "#A2B1C6",
             "gridcolor": "#506784",
             "linecolor": "#506784",
             "minorgridcolor": "#506784",
             "startlinecolor": "#A2B1C6"
            },
            "baxis": {
             "endlinecolor": "#A2B1C6",
             "gridcolor": "#506784",
             "linecolor": "#506784",
             "minorgridcolor": "#506784",
             "startlinecolor": "#A2B1C6"
            },
            "type": "carpet"
           }
          ],
          "choropleth": [
           {
            "colorbar": {
             "outlinewidth": 0,
             "ticks": ""
            },
            "type": "choropleth"
           }
          ],
          "contour": [
           {
            "colorbar": {
             "outlinewidth": 0,
             "ticks": ""
            },
            "colorscale": [
             [
              0,
              "#0d0887"
             ],
             [
              0.1111111111111111,
              "#46039f"
             ],
             [
              0.2222222222222222,
              "#7201a8"
             ],
             [
              0.3333333333333333,
              "#9c179e"
             ],
             [
              0.4444444444444444,
              "#bd3786"
             ],
             [
              0.5555555555555556,
              "#d8576b"
             ],
             [
              0.6666666666666666,
              "#ed7953"
             ],
             [
              0.7777777777777778,
              "#fb9f3a"
             ],
             [
              0.8888888888888888,
              "#fdca26"
             ],
             [
              1,
              "#f0f921"
             ]
            ],
            "type": "contour"
           }
          ],
          "contourcarpet": [
           {
            "colorbar": {
             "outlinewidth": 0,
             "ticks": ""
            },
            "type": "contourcarpet"
           }
          ],
          "heatmap": [
           {
            "colorbar": {
             "outlinewidth": 0,
             "ticks": ""
            },
            "colorscale": [
             [
              0,
              "#0d0887"
             ],
             [
              0.1111111111111111,
              "#46039f"
             ],
             [
              0.2222222222222222,
              "#7201a8"
             ],
             [
              0.3333333333333333,
              "#9c179e"
             ],
             [
              0.4444444444444444,
              "#bd3786"
             ],
             [
              0.5555555555555556,
              "#d8576b"
             ],
             [
              0.6666666666666666,
              "#ed7953"
             ],
             [
              0.7777777777777778,
              "#fb9f3a"
             ],
             [
              0.8888888888888888,
              "#fdca26"
             ],
             [
              1,
              "#f0f921"
             ]
            ],
            "type": "heatmap"
           }
          ],
          "heatmapgl": [
           {
            "colorbar": {
             "outlinewidth": 0,
             "ticks": ""
            },
            "colorscale": [
             [
              0,
              "#0d0887"
             ],
             [
              0.1111111111111111,
              "#46039f"
             ],
             [
              0.2222222222222222,
              "#7201a8"
             ],
             [
              0.3333333333333333,
              "#9c179e"
             ],
             [
              0.4444444444444444,
              "#bd3786"
             ],
             [
              0.5555555555555556,
              "#d8576b"
             ],
             [
              0.6666666666666666,
              "#ed7953"
             ],
             [
              0.7777777777777778,
              "#fb9f3a"
             ],
             [
              0.8888888888888888,
              "#fdca26"
             ],
             [
              1,
              "#f0f921"
             ]
            ],
            "type": "heatmapgl"
           }
          ],
          "histogram": [
           {
            "marker": {
             "colorbar": {
              "outlinewidth": 0,
              "ticks": ""
             }
            },
            "type": "histogram"
           }
          ],
          "histogram2d": [
           {
            "colorbar": {
             "outlinewidth": 0,
             "ticks": ""
            },
            "colorscale": [
             [
              0,
              "#0d0887"
             ],
             [
              0.1111111111111111,
              "#46039f"
             ],
             [
              0.2222222222222222,
              "#7201a8"
             ],
             [
              0.3333333333333333,
              "#9c179e"
             ],
             [
              0.4444444444444444,
              "#bd3786"
             ],
             [
              0.5555555555555556,
              "#d8576b"
             ],
             [
              0.6666666666666666,
              "#ed7953"
             ],
             [
              0.7777777777777778,
              "#fb9f3a"
             ],
             [
              0.8888888888888888,
              "#fdca26"
             ],
             [
              1,
              "#f0f921"
             ]
            ],
            "type": "histogram2d"
           }
          ],
          "histogram2dcontour": [
           {
            "colorbar": {
             "outlinewidth": 0,
             "ticks": ""
            },
            "colorscale": [
             [
              0,
              "#0d0887"
             ],
             [
              0.1111111111111111,
              "#46039f"
             ],
             [
              0.2222222222222222,
              "#7201a8"
             ],
             [
              0.3333333333333333,
              "#9c179e"
             ],
             [
              0.4444444444444444,
              "#bd3786"
             ],
             [
              0.5555555555555556,
              "#d8576b"
             ],
             [
              0.6666666666666666,
              "#ed7953"
             ],
             [
              0.7777777777777778,
              "#fb9f3a"
             ],
             [
              0.8888888888888888,
              "#fdca26"
             ],
             [
              1,
              "#f0f921"
             ]
            ],
            "type": "histogram2dcontour"
           }
          ],
          "mesh3d": [
           {
            "colorbar": {
             "outlinewidth": 0,
             "ticks": ""
            },
            "type": "mesh3d"
           }
          ],
          "parcoords": [
           {
            "line": {
             "colorbar": {
              "outlinewidth": 0,
              "ticks": ""
             }
            },
            "type": "parcoords"
           }
          ],
          "pie": [
           {
            "automargin": true,
            "type": "pie"
           }
          ],
          "scatter": [
           {
            "marker": {
             "line": {
              "color": "#283442"
             }
            },
            "type": "scatter"
           }
          ],
          "scatter3d": [
           {
            "line": {
             "colorbar": {
              "outlinewidth": 0,
              "ticks": ""
             }
            },
            "marker": {
             "colorbar": {
              "outlinewidth": 0,
              "ticks": ""
             }
            },
            "type": "scatter3d"
           }
          ],
          "scattercarpet": [
           {
            "marker": {
             "colorbar": {
              "outlinewidth": 0,
              "ticks": ""
             }
            },
            "type": "scattercarpet"
           }
          ],
          "scattergeo": [
           {
            "marker": {
             "colorbar": {
              "outlinewidth": 0,
              "ticks": ""
             }
            },
            "type": "scattergeo"
           }
          ],
          "scattergl": [
           {
            "marker": {
             "line": {
              "color": "#283442"
             }
            },
            "type": "scattergl"
           }
          ],
          "scattermapbox": [
           {
            "marker": {
             "colorbar": {
              "outlinewidth": 0,
              "ticks": ""
             }
            },
            "type": "scattermapbox"
           }
          ],
          "scatterpolar": [
           {
            "marker": {
             "colorbar": {
              "outlinewidth": 0,
              "ticks": ""
             }
            },
            "type": "scatterpolar"
           }
          ],
          "scatterpolargl": [
           {
            "marker": {
             "colorbar": {
              "outlinewidth": 0,
              "ticks": ""
             }
            },
            "type": "scatterpolargl"
           }
          ],
          "scatterternary": [
           {
            "marker": {
             "colorbar": {
              "outlinewidth": 0,
              "ticks": ""
             }
            },
            "type": "scatterternary"
           }
          ],
          "surface": [
           {
            "colorbar": {
             "outlinewidth": 0,
             "ticks": ""
            },
            "colorscale": [
             [
              0,
              "#0d0887"
             ],
             [
              0.1111111111111111,
              "#46039f"
             ],
             [
              0.2222222222222222,
              "#7201a8"
             ],
             [
              0.3333333333333333,
              "#9c179e"
             ],
             [
              0.4444444444444444,
              "#bd3786"
             ],
             [
              0.5555555555555556,
              "#d8576b"
             ],
             [
              0.6666666666666666,
              "#ed7953"
             ],
             [
              0.7777777777777778,
              "#fb9f3a"
             ],
             [
              0.8888888888888888,
              "#fdca26"
             ],
             [
              1,
              "#f0f921"
             ]
            ],
            "type": "surface"
           }
          ],
          "table": [
           {
            "cells": {
             "fill": {
              "color": "#506784"
             },
             "line": {
              "color": "rgb(17,17,17)"
             }
            },
            "header": {
             "fill": {
              "color": "#2a3f5f"
             },
             "line": {
              "color": "rgb(17,17,17)"
             }
            },
            "type": "table"
           }
          ]
         },
         "layout": {
          "annotationdefaults": {
           "arrowcolor": "#f2f5fa",
           "arrowhead": 0,
           "arrowwidth": 1
          },
          "coloraxis": {
           "colorbar": {
            "outlinewidth": 0,
            "ticks": ""
           }
          },
          "colorscale": {
           "diverging": [
            [
             0,
             "#8e0152"
            ],
            [
             0.1,
             "#c51b7d"
            ],
            [
             0.2,
             "#de77ae"
            ],
            [
             0.3,
             "#f1b6da"
            ],
            [
             0.4,
             "#fde0ef"
            ],
            [
             0.5,
             "#f7f7f7"
            ],
            [
             0.6,
             "#e6f5d0"
            ],
            [
             0.7,
             "#b8e186"
            ],
            [
             0.8,
             "#7fbc41"
            ],
            [
             0.9,
             "#4d9221"
            ],
            [
             1,
             "#276419"
            ]
           ],
           "sequential": [
            [
             0,
             "#0d0887"
            ],
            [
             0.1111111111111111,
             "#46039f"
            ],
            [
             0.2222222222222222,
             "#7201a8"
            ],
            [
             0.3333333333333333,
             "#9c179e"
            ],
            [
             0.4444444444444444,
             "#bd3786"
            ],
            [
             0.5555555555555556,
             "#d8576b"
            ],
            [
             0.6666666666666666,
             "#ed7953"
            ],
            [
             0.7777777777777778,
             "#fb9f3a"
            ],
            [
             0.8888888888888888,
             "#fdca26"
            ],
            [
             1,
             "#f0f921"
            ]
           ],
           "sequentialminus": [
            [
             0,
             "#0d0887"
            ],
            [
             0.1111111111111111,
             "#46039f"
            ],
            [
             0.2222222222222222,
             "#7201a8"
            ],
            [
             0.3333333333333333,
             "#9c179e"
            ],
            [
             0.4444444444444444,
             "#bd3786"
            ],
            [
             0.5555555555555556,
             "#d8576b"
            ],
            [
             0.6666666666666666,
             "#ed7953"
            ],
            [
             0.7777777777777778,
             "#fb9f3a"
            ],
            [
             0.8888888888888888,
             "#fdca26"
            ],
            [
             1,
             "#f0f921"
            ]
           ]
          },
          "colorway": [
           "#636efa",
           "#EF553B",
           "#00cc96",
           "#ab63fa",
           "#FFA15A",
           "#19d3f3",
           "#FF6692",
           "#B6E880",
           "#FF97FF",
           "#FECB52"
          ],
          "font": {
           "color": "#f2f5fa"
          },
          "geo": {
           "bgcolor": "rgb(17,17,17)",
           "lakecolor": "rgb(17,17,17)",
           "landcolor": "rgb(17,17,17)",
           "showlakes": true,
           "showland": true,
           "subunitcolor": "#506784"
          },
          "hoverlabel": {
           "align": "left"
          },
          "hovermode": "closest",
          "mapbox": {
           "style": "dark"
          },
          "paper_bgcolor": "rgb(17,17,17)",
          "plot_bgcolor": "rgb(17,17,17)",
          "polar": {
           "angularaxis": {
            "gridcolor": "#506784",
            "linecolor": "#506784",
            "ticks": ""
           },
           "bgcolor": "rgb(17,17,17)",
           "radialaxis": {
            "gridcolor": "#506784",
            "linecolor": "#506784",
            "ticks": ""
           }
          },
          "scene": {
           "xaxis": {
            "backgroundcolor": "rgb(17,17,17)",
            "gridcolor": "#506784",
            "gridwidth": 2,
            "linecolor": "#506784",
            "showbackground": true,
            "ticks": "",
            "zerolinecolor": "#C8D4E3"
           },
           "yaxis": {
            "backgroundcolor": "rgb(17,17,17)",
            "gridcolor": "#506784",
            "gridwidth": 2,
            "linecolor": "#506784",
            "showbackground": true,
            "ticks": "",
            "zerolinecolor": "#C8D4E3"
           },
           "zaxis": {
            "backgroundcolor": "rgb(17,17,17)",
            "gridcolor": "#506784",
            "gridwidth": 2,
            "linecolor": "#506784",
            "showbackground": true,
            "ticks": "",
            "zerolinecolor": "#C8D4E3"
           }
          },
          "shapedefaults": {
           "line": {
            "color": "#f2f5fa"
           }
          },
          "sliderdefaults": {
           "bgcolor": "#C8D4E3",
           "bordercolor": "rgb(17,17,17)",
           "borderwidth": 1,
           "tickwidth": 0
          },
          "ternary": {
           "aaxis": {
            "gridcolor": "#506784",
            "linecolor": "#506784",
            "ticks": ""
           },
           "baxis": {
            "gridcolor": "#506784",
            "linecolor": "#506784",
            "ticks": ""
           },
           "bgcolor": "rgb(17,17,17)",
           "caxis": {
            "gridcolor": "#506784",
            "linecolor": "#506784",
            "ticks": ""
           }
          },
          "title": {
           "x": 0.05
          },
          "updatemenudefaults": {
           "bgcolor": "#506784",
           "borderwidth": 0
          },
          "xaxis": {
           "automargin": true,
           "gridcolor": "#283442",
           "linecolor": "#506784",
           "ticks": "",
           "title": {
            "standoff": 15
           },
           "zerolinecolor": "#283442",
           "zerolinewidth": 2
          },
          "yaxis": {
           "automargin": true,
           "gridcolor": "#283442",
           "linecolor": "#506784",
           "ticks": "",
           "title": {
            "standoff": 15
           },
           "zerolinecolor": "#283442",
           "zerolinewidth": 2
          }
         }
        },
        "xaxis": {
         "anchor": "y",
         "domain": [
          0,
          0.45
         ]
        },
        "xaxis2": {
         "anchor": "y2",
         "domain": [
          0.55,
          1
         ]
        },
        "yaxis": {
         "anchor": "x",
         "domain": [
          0,
          1
         ]
        },
        "yaxis2": {
         "anchor": "x2",
         "domain": [
          0,
          1
         ]
        }
       }
      },
      "text/html": [
       "<div>\n",
       "        \n",
       "        \n",
       "            <div id=\"34b11b8a-ec70-4434-be6d-a5a2e8cd15f0\" class=\"plotly-graph-div\" style=\"height:525px; width:100%;\"></div>\n",
       "            <script type=\"text/javascript\">\n",
       "                require([\"plotly\"], function(Plotly) {\n",
       "                    window.PLOTLYENV=window.PLOTLYENV || {};\n",
       "                    \n",
       "                if (document.getElementById(\"34b11b8a-ec70-4434-be6d-a5a2e8cd15f0\")) {\n",
       "                    Plotly.newPlot(\n",
       "                        '34b11b8a-ec70-4434-be6d-a5a2e8cd15f0',\n",
       "                        [{\"name\": \"2010\", \"type\": \"box\", \"xaxis\": \"x\", \"y\": [0.67, 0.61, 0.67, 0.72, 0.67, 0.73, 0.71, 0.64, 0.71, 0.62, 0.67, 0.72, null, 0.75, 0.65, 0.57, null, 0.68, 0.69, 0.67, 0.67, 0.7, 0.62, null, 0.65, 0.61, 0.74, null, 0.53, 0.7, 0.69, 0.69, 0.72, 0.57, 0.69, 0.73, 0.66, 0.68, 0.77, 0.68, 0.71, 0.59, 0.66, 0.7, 0.6, 0.63, 0.83, 0.7, 0.68, 0.66, 0.75, 0.68, 0.69, 0.62, null, 0.71, 0.69, 0.67, 0.85, 0.62, 0.66, 0.59, 0.78, 0.7, 0.68, 0.7, 0.65, 0.6, 0.71, 0.65, 0.63, 0.63, 0.7, null, 0.74, 0.61, 0.77, null, 0.71, 0.72, 0.7, 0.67, 0.68, 0.65, 0.65, 0.57, 0.67, 0.62, 0.65, 0.66, 0.72, 0.72, null, 0.58, 0.73, null, 0.72, 0.61, 0.74, 0.78, 0.72, 0.61, 0.84, 0.6, 0.55, 0.71, 0.68, 0.69, 0.77, 0.7, 0.72, 0.61, 0.68, 0.7, null, 0.57, 0.64, null, 0.69, 0.68, 0.7, 0.75, 0.76, 0.75, 0.64, null, 0.8, 0.76, 0.59, 0.66, 0.68, 0.69, null, 0.74, 0.63, 0.59, 0.72, 0.69, 0.64, 0.75, 0.74, 0.69, 0.69, 0.68, 0.46, 0.63, 0.66], \"yaxis\": \"y\"}, {\"name\": \"2011\", \"type\": \"box\", \"xaxis\": \"x\", \"y\": [0.67, 0.6, 0.66, 0.72, 0.67, 0.73, 0.72, 0.66, 0.73, 0.62, 0.68, 0.72, null, 0.75, 0.65, 0.58, null, 0.69, 0.68, 0.67, 0.68, 0.7, 0.62, 0.73, 0.65, 0.61, 0.74, null, 0.53, 0.7, 0.69, 0.67, 0.73, 0.58, 0.7, 0.74, 0.66, 0.68, 0.78, 0.67, 0.7, 0.59, 0.66, 0.7, 0.61, 0.63, 0.84, 0.7, 0.68, 0.66, 0.76, 0.68, 0.69, 0.62, null, 0.71, 0.69, 0.66, 0.85, 0.62, 0.66, 0.59, 0.78, 0.69, 0.68, 0.7, 0.65, 0.61, 0.7, 0.65, 0.63, 0.63, 0.7, null, 0.74, 0.61, 0.77, null, 0.71, 0.72, 0.7, 0.68, 0.68, 0.65, 0.65, 0.58, 0.67, 0.62, 0.65, 0.66, 0.71, 0.71, null, 0.58, 0.73, null, 0.72, 0.59, 0.75, 0.78, 0.72, 0.6, 0.84, 0.59, 0.56, 0.7, 0.68, 0.68, 0.77, 0.7, 0.71, 0.62, 0.68, 0.7, null, 0.58, 0.66, null, 0.69, 0.68, 0.7, 0.75, 0.76, 0.72, 0.64, null, 0.8, 0.76, 0.59, 0.65, 0.69, 0.69, null, 0.74, 0.63, 0.6, 0.72, 0.69, 0.65, 0.75, 0.74, 0.69, 0.69, 0.67, 0.49, 0.63, 0.66], \"yaxis\": \"y\"}, {\"mode\": \"lines\", \"type\": \"scatter\", \"x\": [\"2010\", \"2011\", \"2012\", \"2013\", \"2014\", \"2015\", \"2016\", \"2017\", \"2018\", \"2019\"], \"xaxis\": \"x2\", \"y\": [0.6782835820895521, 0.6792592592592592, 0.6844444444444442, 0.6863235294117643, 0.6924999999999999, 0.6951724137931036, 0.6947887323943664, 0.6977464788732394, 0.6978321678321676, 0.7037241379310339], \"yaxis\": \"y2\"}],\n",
       "                        {\"template\": {\"data\": {\"bar\": [{\"error_x\": {\"color\": \"#f2f5fa\"}, \"error_y\": {\"color\": \"#f2f5fa\"}, \"marker\": {\"line\": {\"color\": \"rgb(17,17,17)\", \"width\": 0.5}}, \"type\": \"bar\"}], \"barpolar\": [{\"marker\": {\"line\": {\"color\": \"rgb(17,17,17)\", \"width\": 0.5}}, \"type\": \"barpolar\"}], \"carpet\": [{\"aaxis\": {\"endlinecolor\": \"#A2B1C6\", \"gridcolor\": \"#506784\", \"linecolor\": \"#506784\", \"minorgridcolor\": \"#506784\", \"startlinecolor\": \"#A2B1C6\"}, \"baxis\": {\"endlinecolor\": \"#A2B1C6\", \"gridcolor\": \"#506784\", \"linecolor\": \"#506784\", \"minorgridcolor\": \"#506784\", \"startlinecolor\": \"#A2B1C6\"}, \"type\": \"carpet\"}], \"choropleth\": [{\"colorbar\": {\"outlinewidth\": 0, \"ticks\": \"\"}, \"type\": \"choropleth\"}], \"contour\": [{\"colorbar\": {\"outlinewidth\": 0, \"ticks\": \"\"}, \"colorscale\": [[0.0, \"#0d0887\"], [0.1111111111111111, \"#46039f\"], [0.2222222222222222, \"#7201a8\"], [0.3333333333333333, \"#9c179e\"], [0.4444444444444444, \"#bd3786\"], [0.5555555555555556, \"#d8576b\"], [0.6666666666666666, \"#ed7953\"], [0.7777777777777778, \"#fb9f3a\"], [0.8888888888888888, \"#fdca26\"], [1.0, \"#f0f921\"]], \"type\": \"contour\"}], \"contourcarpet\": [{\"colorbar\": {\"outlinewidth\": 0, \"ticks\": \"\"}, \"type\": \"contourcarpet\"}], \"heatmap\": [{\"colorbar\": {\"outlinewidth\": 0, \"ticks\": \"\"}, \"colorscale\": [[0.0, \"#0d0887\"], [0.1111111111111111, \"#46039f\"], [0.2222222222222222, \"#7201a8\"], [0.3333333333333333, \"#9c179e\"], [0.4444444444444444, \"#bd3786\"], [0.5555555555555556, \"#d8576b\"], [0.6666666666666666, \"#ed7953\"], [0.7777777777777778, \"#fb9f3a\"], [0.8888888888888888, \"#fdca26\"], [1.0, \"#f0f921\"]], \"type\": \"heatmap\"}], \"heatmapgl\": [{\"colorbar\": {\"outlinewidth\": 0, \"ticks\": \"\"}, \"colorscale\": [[0.0, \"#0d0887\"], [0.1111111111111111, \"#46039f\"], [0.2222222222222222, \"#7201a8\"], [0.3333333333333333, \"#9c179e\"], [0.4444444444444444, \"#bd3786\"], [0.5555555555555556, \"#d8576b\"], [0.6666666666666666, \"#ed7953\"], [0.7777777777777778, \"#fb9f3a\"], [0.8888888888888888, \"#fdca26\"], [1.0, \"#f0f921\"]], \"type\": \"heatmapgl\"}], \"histogram\": [{\"marker\": {\"colorbar\": {\"outlinewidth\": 0, \"ticks\": \"\"}}, \"type\": \"histogram\"}], \"histogram2d\": [{\"colorbar\": {\"outlinewidth\": 0, \"ticks\": \"\"}, \"colorscale\": [[0.0, \"#0d0887\"], [0.1111111111111111, \"#46039f\"], [0.2222222222222222, \"#7201a8\"], [0.3333333333333333, \"#9c179e\"], [0.4444444444444444, \"#bd3786\"], [0.5555555555555556, \"#d8576b\"], [0.6666666666666666, \"#ed7953\"], [0.7777777777777778, \"#fb9f3a\"], [0.8888888888888888, \"#fdca26\"], [1.0, \"#f0f921\"]], \"type\": \"histogram2d\"}], \"histogram2dcontour\": [{\"colorbar\": {\"outlinewidth\": 0, \"ticks\": \"\"}, \"colorscale\": [[0.0, \"#0d0887\"], [0.1111111111111111, \"#46039f\"], [0.2222222222222222, \"#7201a8\"], [0.3333333333333333, \"#9c179e\"], [0.4444444444444444, \"#bd3786\"], [0.5555555555555556, \"#d8576b\"], [0.6666666666666666, \"#ed7953\"], [0.7777777777777778, \"#fb9f3a\"], [0.8888888888888888, \"#fdca26\"], [1.0, \"#f0f921\"]], \"type\": \"histogram2dcontour\"}], \"mesh3d\": [{\"colorbar\": {\"outlinewidth\": 0, \"ticks\": \"\"}, \"type\": \"mesh3d\"}], \"parcoords\": [{\"line\": {\"colorbar\": {\"outlinewidth\": 0, \"ticks\": \"\"}}, \"type\": \"parcoords\"}], \"pie\": [{\"automargin\": true, \"type\": \"pie\"}], \"scatter\": [{\"marker\": {\"line\": {\"color\": \"#283442\"}}, \"type\": \"scatter\"}], \"scatter3d\": [{\"line\": {\"colorbar\": {\"outlinewidth\": 0, \"ticks\": \"\"}}, \"marker\": {\"colorbar\": {\"outlinewidth\": 0, \"ticks\": \"\"}}, \"type\": \"scatter3d\"}], \"scattercarpet\": [{\"marker\": {\"colorbar\": {\"outlinewidth\": 0, \"ticks\": \"\"}}, \"type\": \"scattercarpet\"}], \"scattergeo\": [{\"marker\": {\"colorbar\": {\"outlinewidth\": 0, \"ticks\": \"\"}}, \"type\": \"scattergeo\"}], \"scattergl\": [{\"marker\": {\"line\": {\"color\": \"#283442\"}}, \"type\": \"scattergl\"}], \"scattermapbox\": [{\"marker\": {\"colorbar\": {\"outlinewidth\": 0, \"ticks\": \"\"}}, \"type\": \"scattermapbox\"}], \"scatterpolar\": [{\"marker\": {\"colorbar\": {\"outlinewidth\": 0, \"ticks\": \"\"}}, \"type\": \"scatterpolar\"}], \"scatterpolargl\": [{\"marker\": {\"colorbar\": {\"outlinewidth\": 0, \"ticks\": \"\"}}, \"type\": \"scatterpolargl\"}], \"scatterternary\": [{\"marker\": {\"colorbar\": {\"outlinewidth\": 0, \"ticks\": \"\"}}, \"type\": \"scatterternary\"}], \"surface\": [{\"colorbar\": {\"outlinewidth\": 0, \"ticks\": \"\"}, \"colorscale\": [[0.0, \"#0d0887\"], [0.1111111111111111, \"#46039f\"], [0.2222222222222222, \"#7201a8\"], [0.3333333333333333, \"#9c179e\"], [0.4444444444444444, \"#bd3786\"], [0.5555555555555556, \"#d8576b\"], [0.6666666666666666, \"#ed7953\"], [0.7777777777777778, \"#fb9f3a\"], [0.8888888888888888, \"#fdca26\"], [1.0, \"#f0f921\"]], \"type\": \"surface\"}], \"table\": [{\"cells\": {\"fill\": {\"color\": \"#506784\"}, \"line\": {\"color\": \"rgb(17,17,17)\"}}, \"header\": {\"fill\": {\"color\": \"#2a3f5f\"}, \"line\": {\"color\": \"rgb(17,17,17)\"}}, \"type\": \"table\"}]}, \"layout\": {\"annotationdefaults\": {\"arrowcolor\": \"#f2f5fa\", \"arrowhead\": 0, \"arrowwidth\": 1}, \"coloraxis\": {\"colorbar\": {\"outlinewidth\": 0, \"ticks\": \"\"}}, \"colorscale\": {\"diverging\": [[0, \"#8e0152\"], [0.1, \"#c51b7d\"], [0.2, \"#de77ae\"], [0.3, \"#f1b6da\"], [0.4, \"#fde0ef\"], [0.5, \"#f7f7f7\"], [0.6, \"#e6f5d0\"], [0.7, \"#b8e186\"], [0.8, \"#7fbc41\"], [0.9, \"#4d9221\"], [1, \"#276419\"]], \"sequential\": [[0.0, \"#0d0887\"], [0.1111111111111111, \"#46039f\"], [0.2222222222222222, \"#7201a8\"], [0.3333333333333333, \"#9c179e\"], [0.4444444444444444, \"#bd3786\"], [0.5555555555555556, \"#d8576b\"], [0.6666666666666666, \"#ed7953\"], [0.7777777777777778, \"#fb9f3a\"], [0.8888888888888888, \"#fdca26\"], [1.0, \"#f0f921\"]], \"sequentialminus\": [[0.0, \"#0d0887\"], [0.1111111111111111, \"#46039f\"], [0.2222222222222222, \"#7201a8\"], [0.3333333333333333, \"#9c179e\"], [0.4444444444444444, \"#bd3786\"], [0.5555555555555556, \"#d8576b\"], [0.6666666666666666, \"#ed7953\"], [0.7777777777777778, \"#fb9f3a\"], [0.8888888888888888, \"#fdca26\"], [1.0, \"#f0f921\"]]}, \"colorway\": [\"#636efa\", \"#EF553B\", \"#00cc96\", \"#ab63fa\", \"#FFA15A\", \"#19d3f3\", \"#FF6692\", \"#B6E880\", \"#FF97FF\", \"#FECB52\"], \"font\": {\"color\": \"#f2f5fa\"}, \"geo\": {\"bgcolor\": \"rgb(17,17,17)\", \"lakecolor\": \"rgb(17,17,17)\", \"landcolor\": \"rgb(17,17,17)\", \"showlakes\": true, \"showland\": true, \"subunitcolor\": \"#506784\"}, \"hoverlabel\": {\"align\": \"left\"}, \"hovermode\": \"closest\", \"mapbox\": {\"style\": \"dark\"}, \"paper_bgcolor\": \"rgb(17,17,17)\", \"plot_bgcolor\": \"rgb(17,17,17)\", \"polar\": {\"angularaxis\": {\"gridcolor\": \"#506784\", \"linecolor\": \"#506784\", \"ticks\": \"\"}, \"bgcolor\": \"rgb(17,17,17)\", \"radialaxis\": {\"gridcolor\": \"#506784\", \"linecolor\": \"#506784\", \"ticks\": \"\"}}, \"scene\": {\"xaxis\": {\"backgroundcolor\": \"rgb(17,17,17)\", \"gridcolor\": \"#506784\", \"gridwidth\": 2, \"linecolor\": \"#506784\", \"showbackground\": true, \"ticks\": \"\", \"zerolinecolor\": \"#C8D4E3\"}, \"yaxis\": {\"backgroundcolor\": \"rgb(17,17,17)\", \"gridcolor\": \"#506784\", \"gridwidth\": 2, \"linecolor\": \"#506784\", \"showbackground\": true, \"ticks\": \"\", \"zerolinecolor\": \"#C8D4E3\"}, \"zaxis\": {\"backgroundcolor\": \"rgb(17,17,17)\", \"gridcolor\": \"#506784\", \"gridwidth\": 2, \"linecolor\": \"#506784\", \"showbackground\": true, \"ticks\": \"\", \"zerolinecolor\": \"#C8D4E3\"}}, \"shapedefaults\": {\"line\": {\"color\": \"#f2f5fa\"}}, \"sliderdefaults\": {\"bgcolor\": \"#C8D4E3\", \"bordercolor\": \"rgb(17,17,17)\", \"borderwidth\": 1, \"tickwidth\": 0}, \"ternary\": {\"aaxis\": {\"gridcolor\": \"#506784\", \"linecolor\": \"#506784\", \"ticks\": \"\"}, \"baxis\": {\"gridcolor\": \"#506784\", \"linecolor\": \"#506784\", \"ticks\": \"\"}, \"bgcolor\": \"rgb(17,17,17)\", \"caxis\": {\"gridcolor\": \"#506784\", \"linecolor\": \"#506784\", \"ticks\": \"\"}}, \"title\": {\"x\": 0.05}, \"updatemenudefaults\": {\"bgcolor\": \"#506784\", \"borderwidth\": 0}, \"xaxis\": {\"automargin\": true, \"gridcolor\": \"#283442\", \"linecolor\": \"#506784\", \"ticks\": \"\", \"title\": {\"standoff\": 15}, \"zerolinecolor\": \"#283442\", \"zerolinewidth\": 2}, \"yaxis\": {\"automargin\": true, \"gridcolor\": \"#283442\", \"linecolor\": \"#506784\", \"ticks\": \"\", \"title\": {\"standoff\": 15}, \"zerolinecolor\": \"#283442\", \"zerolinewidth\": 2}}}, \"xaxis\": {\"anchor\": \"y\", \"domain\": [0.0, 0.45]}, \"xaxis2\": {\"anchor\": \"y2\", \"domain\": [0.55, 1.0]}, \"yaxis\": {\"anchor\": \"x\", \"domain\": [0.0, 1.0]}, \"yaxis2\": {\"anchor\": \"x2\", \"domain\": [0.0, 1.0]}},\n",
       "                        {\"responsive\": true}\n",
       "                    ).then(function(){\n",
       "                            \n",
       "var gd = document.getElementById('34b11b8a-ec70-4434-be6d-a5a2e8cd15f0');\n",
       "var x = new MutationObserver(function (mutations, observer) {{\n",
       "        var display = window.getComputedStyle(gd).display;\n",
       "        if (!display || display === 'none') {{\n",
       "            console.log([gd, 'removed!']);\n",
       "            Plotly.purge(gd);\n",
       "            observer.disconnect();\n",
       "        }}\n",
       "}});\n",
       "\n",
       "// Listen for the removal of the full notebook cells\n",
       "var notebookContainer = gd.closest('#notebook-container');\n",
       "if (notebookContainer) {{\n",
       "    x.observe(notebookContainer, {childList: true});\n",
       "}}\n",
       "\n",
       "// Listen for the clearing of the current output cell\n",
       "var outputEl = gd.closest('.output');\n",
       "if (outputEl) {{\n",
       "    x.observe(outputEl, {childList: true});\n",
       "}}\n",
       "\n",
       "                        })\n",
       "                };\n",
       "                });\n",
       "            </script>\n",
       "        </div>"
      ]
     },
     "metadata": {},
     "output_type": "display_data"
    }
   ],
   "source": [
    "from plotly.subplots import make_subplots\n",
    "fig = make_subplots(\n",
    "    rows=1, cols=2,\n",
    "    specs=[[{\"type\": \"Box\", \"rowspan\": 1},{\"type\": \"Scatter\", \"rowspan\": 1}]])\n",
    "\n",
    "\n",
    "       \n",
    "fig.add_box(y = new_df['2010'], name = '2010',  row=1, col=1)\n",
    "fig.add_box(y = new_df['2011'], name = '2011',  row=1, col=1)\n",
    "\n",
    "fig.add_scatter(x = new_df.mean(axis = 0).index, y = new_df.mean(axis = 0).values, mode = 'lines' , row=1, col=2)\n",
    "fig.update_layout(\n",
    "    template=\"plotly_dark\")\n",
    "\n",
    "fig.show()\n",
    "           "
   ]
  },
  {
   "cell_type": "code",
   "execution_count": 16,
   "metadata": {},
   "outputs": [],
   "source": [
    "# from plotly.subplots import make_subplots\n",
    "# fig = make_subplots(\n",
    "#     rows=1, cols=2,\n",
    "#     specs=[[{\"type\": \"Box\", \"rowspan\": 1},{\"type\": \"Scatter\", \"rowspan\": 1}]])\n",
    "\n",
    "# data = [go.Box(y = new_df['2010'], name = '2010'),go.Box(y = new_df['2011'], name = '2011')]\n",
    "       \n",
    "# fig.add_trace(data,row=1, col=1 )\n",
    "# # fig.add_box(y = new_df['2011'], name = '2011',  row=1, col=1)\n",
    "# fig.add_scatter(x = new_df.mean(axis = 0).index, y = new_df.mean(axis = 0).values, mode = 'lines' , row=1, col=2)\n",
    "# fig.update_layout(\n",
    "#     template=\"plotly_dark\")\n",
    "\n",
    "# fig.show()"
   ]
  },
  {
   "cell_type": "code",
   "execution_count": 17,
   "metadata": {},
   "outputs": [],
   "source": [
    "# schools = [\"Brown\", \"NYU\", \"Notre Dame\", \"Cornell\", \"Tufts\", \"Yale\",\n",
    "#            \"Dartmouth\", \"Chicago\", \"Columbia\", \"Duke\", \"Georgetown\",\n",
    "#            \"Princeton\", \"U.Penn\", \"Stanford\", \"MIT\", \"Harvard\"]\n",
    "# fig = go.Figure()\n",
    "# fig.add_(x = [72, 67, 73, 80, 76, 79, 84, 78, 86, 93, 94, 90, 92, 96, 94, 112] , xend = [92, 94, 100, 107, 112, 114, 114, 118, 119, 124, 131, 137, 141, 151, 152, 165], y = School, yend = School, showlegend = FALSE)\n",
    "# fig.add_trace(go.Scatter(\n",
    "#     x=[72, 67, 73, 80, 76, 79, 84, 78, 86, 93, 94, 90, 92, 96, 94, 112],\n",
    "#     y=schools,\n",
    "#     marker=dict(color=\"crimson\", size=12),\n",
    "#     mode=\"markers\",\n",
    "#     name=\"Women\",\n",
    "# ))\n",
    "\n",
    "# fig.add_trace(go.Scatter(\n",
    "#     x=[92, 94, 100, 107, 112, 114, 114, 118, 119, 124, 131, 137, 141, 151, 152, 165],\n",
    "#     y=schools,\n",
    "#     marker=dict(color=\"gold\", size=12),\n",
    "#     mode=\"markers\",\n",
    "#     name=\"Men\",\n",
    "# ))\n",
    "\n",
    "# fig.update_layout(title=\"Gender Earnings Disparity\",\n",
    "#                   xaxis_title=\"Annual Salary (in thousands)\",\n",
    "#                   yaxis_title=\"School\")\n",
    "\n",
    "# fig.show()"
   ]
  },
  {
   "cell_type": "code",
   "execution_count": 18,
   "metadata": {},
   "outputs": [
    {
     "data": {
      "text/html": [
       "\n",
       "        <iframe\n",
       "            width=\"100%\"\n",
       "            height=\"950px\"\n",
       "            src=\"https://dash-simple-apps.plotly.host/dash-choroplethplot/?frameBorder=0\"\n",
       "            frameborder=\"0\"\n",
       "            allowfullscreen\n",
       "        ></iframe>\n",
       "        "
      ],
      "text/plain": [
       "<IPython.lib.display.IFrame at 0x113917e10>"
      ]
     },
     "execution_count": 18,
     "metadata": {},
     "output_type": "execute_result"
    }
   ],
   "source": [
    "from IPython.display import IFrame\n",
    "IFrame(src= \"https://dash-simple-apps.plotly.host/dash-choroplethplot/\", width=\"100%\", height=\"950px\", frameBorder=\"0\")"
   ]
  },
  {
   "cell_type": "code",
   "execution_count": 19,
   "metadata": {},
   "outputs": [
    {
     "data": {
      "text/plain": [
       "<matplotlib.axes._subplots.AxesSubplot at 0x11392f610>"
      ]
     },
     "execution_count": 19,
     "metadata": {},
     "output_type": "execute_result"
    },
    {
     "data": {
      "image/png": "[encoded data removed]",
      "text/plain": [
       "<Figure size 432x288 with 1 Axes>"
      ]
     },
     "metadata": {
      "needs_background": "light"
     },
     "output_type": "display_data"
    }
   ],
   "source": [
    "df.groupby('Region')['2010', '2019'].mean().round(2).plot.bar()"
   ]
  },
  {
   "cell_type": "code",
   "execution_count": 58,
   "metadata": {},
   "outputs": [
    {
     "data": {
      "application/javascript": [
       "\n",
       "        if (window._pyforest_update_imports_cell) { window._pyforest_update_imports_cell('import numpy as np\\nimport plotly.graph_objs as go\\nimport plotly as py'); }\n",
       "    "
      ],
      "text/plain": [
       "<IPython.core.display.Javascript object>"
      ]
     },
     "metadata": {},
     "output_type": "display_data"
    },
    {
     "data": {
      "application/javascript": [
       "\n",
       "        if (window._pyforest_update_imports_cell) { window._pyforest_update_imports_cell('import numpy as np\\nimport plotly.graph_objs as go\\nimport plotly as py'); }\n",
       "    "
      ],
      "text/plain": [
       "<IPython.core.display.Javascript object>"
      ]
     },
     "metadata": {},
     "output_type": "display_data"
    },
    {
     "data": {
      "application/javascript": [
       "\n",
       "        if (window._pyforest_update_imports_cell) { window._pyforest_update_imports_cell('import numpy as np\\nimport plotly.graph_objs as go\\nimport plotly as py'); }\n",
       "    "
      ],
      "text/plain": [
       "<IPython.core.display.Javascript object>"
      ]
     },
     "metadata": {},
     "output_type": "display_data"
    },
    {
     "data": {
      "application/vnd.plotly.v1+json": {
       "config": {
        "plotlyServerURL": "https://plot.ly"
       },
       "data": [
        {
         "autocolorscale": false,
         "colorbar": {
          "title": {
           "text": "Millions USD"
          }
         },
         "colorscale": [
          [
           0,
           "#440154"
          ],
          [
           0.1111111111111111,
           "#482878"
          ],
          [
           0.2222222222222222,
           "#3e4989"
          ],
          [
           0.3333333333333333,
           "#31688e"
          ],
          [
           0.4444444444444444,
           "#26828e"
          ],
          [
           0.5555555555555556,
           "#1f9e89"
          ],
          [
           0.6666666666666666,
           "#35b779"
          ],
          [
           0.7777777777777778,
           "#6ece58"
          ],
          [
           0.8888888888888888,
           "#b5de2b"
          ],
          [
           1,
           "#fde725"
          ]
         ],
         "locationmode": "country names",
         "locations": [
          "Albania",
          "Algeria",
          "Angola",
          "Argentina",
          "Armenia",
          "Australia",
          "Austria",
          "Azerbaijan",
          "Bahamas",
          "Bahrain",
          "Bangladesh",
          "Barbados",
          "Belarus",
          "Belgium",
          "Belize",
          "Benin",
          "Bhutan",
          "Bolivia",
          "Botswana",
          "Brazil",
          "Brunei Darussalam",
          "Bulgaria",
          "Burkina Faso",
          "Burundi",
          "Cambodia",
          "Cameroon",
          "Canada",
          "Cape Verde",
          "Chad",
          "Chile",
          "China",
          "Colombia",
          "Costa Rica",
          "Côte d'Ivoire",
          "Croatia",
          "Cuba",
          "Cyprus",
          "Czech Republic",
          "Denmark",
          "Dominican Republic",
          "Ecuador",
          "Egypt",
          "El Salvador",
          "Estonia",
          "Ethiopia",
          "Fiji",
          "Finland",
          "France",
          "Gambia, The",
          "Georgia",
          "Germany",
          "Ghana",
          "Greece",
          "Guatemala",
          "Guinea",
          "Guyana",
          "Honduras",
          "Hungary",
          "Iceland",
          "India",
          "Indonesia",
          "Iran, Islamic Rep.",
          "Ireland",
          "Israel",
          "Italy",
          "Jamaica",
          "Japan",
          "Jordan",
          "Kazakhstan",
          "Kenya",
          "Korea, Rep.",
          "Kuwait",
          "Kyrgyz Republic",
          "Laos",
          "Latvia",
          "Lebanon",
          "Lesotho",
          "Liberia",
          "Lithuania",
          "Luxembourg",
          "Macedonia",
          "Madagascar",
          "Malawi",
          "Malaysia",
          "Maldives",
          "Mali",
          "Malta",
          "Mauritania",
          "Mauritius",
          "Mexico",
          "Moldova",
          "Mongolia",
          "Montenegro",
          "Morocco",
          "Mozambique",
          "Myanmar",
          "Namibia",
          "Nepal",
          "Netherlands",
          "New Zealand",
          "Nicaragua",
          "Nigeria",
          "Norway",
          "Oman",
          "Pakistan",
          "Panama",
          "Paraguay",
          "Peru",
          "Philippines",
          "Poland",
          "Portugal",
          "Qatar",
          "Romania",
          "Russian Federation",
          "Rwanda",
          "Saudi Arabia",
          "Senegal",
          "Serbia",
          "Singapore",
          "Slovakia",
          "Slovenia",
          "South Africa",
          "Spain",
          "Sri Lanka",
          "Suriname",
          "Swaziland",
          "Sweden",
          "Switzerland",
          "Syria",
          "Tajikistan",
          "Tanzania",
          "Thailand",
          "Timor-Leste",
          "Trinidad and Tobago",
          "Tunisia",
          "Turkey",
          "Uganda",
          "Ukraine",
          "United Arab Emirates",
          "United Kingdom",
          "United States",
          "Uruguay",
          "Venezuela",
          "Vietnam",
          "Yemen",
          "Zambia",
          "Zimbabwe"
         ],
         "marker": {
          "line": {
           "color": "white"
          }
         },
         "type": "choropleth",
         "z": [
          0.77,
          0.63,
          0.66,
          0.75,
          0.68,
          0.73,
          0.74,
          0.69,
          0.72,
          0.63,
          0.73,
          0.75,
          0.75,
          0.75,
          0.67,
          0.66,
          0.64,
          0.73,
          0.71,
          0.69,
          0.69,
          0.73,
          0.64,
          0.74,
          0.69,
          0.69,
          0.77,
          0.72,
          0.6,
          0.72,
          0.68,
          0.76,
          0.78,
          0.61,
          0.72,
          0.75,
          0.69,
          0.71,
          0.78,
          0.7,
          0.73,
          0.63,
          0.71,
          0.75,
          0.7,
          0.68,
          0.83,
          0.78,
          0.63,
          0.71,
          0.79,
          0.67,
          0.7,
          0.67,
          0.64,
          null,
          0.72,
          0.68,
          0.88,
          0.67,
          0.7,
          0.58,
          0.8,
          0.72,
          0.71,
          0.74,
          0.65,
          0.62,
          0.71,
          0.67,
          0.67,
          0.65,
          0.69,
          0.73,
          0.78,
          0.6,
          0.7,
          0.68,
          0.74,
          0.72,
          0.71,
          0.72,
          0.66,
          0.68,
          0.65,
          0.62,
          0.69,
          0.61,
          0.66,
          0.75,
          0.76,
          0.71,
          0.71,
          0.6,
          0.72,
          0.66,
          0.78,
          0.68,
          0.74,
          0.8,
          0.8,
          0.64,
          0.84,
          0.6,
          0.56,
          0.73,
          0.68,
          0.71,
          0.78,
          0.74,
          0.74,
          0.63,
          0.72,
          0.71,
          0.79,
          0.6,
          0.68,
          0.74,
          0.72,
          0.72,
          0.74,
          0.78,
          0.8,
          0.68,
          0.71,
          null,
          0.82,
          0.78,
          0.57,
          0.63,
          0.71,
          0.71,
          0.66,
          0.76,
          0.64,
          0.64,
          0.72,
          0.72,
          0.66,
          0.77,
          0.72,
          0.74,
          0.71,
          0.7,
          0.49,
          0.73,
          0.73
         ]
        }
       ],
       "layout": {
        "geo": {
         "lakecolor": "rgb(255, 255, 255)",
         "projection": {
          "type": "equirectangular"
         },
         "scope": "world",
         "showcoastlines": false,
         "showframe": false,
         "showlakes": true
        },
        "template": {
         "data": {
          "bar": [
           {
            "error_x": {
             "color": "#f2f5fa"
            },
            "error_y": {
             "color": "#f2f5fa"
            },
            "marker": {
             "line": {
              "color": "rgb(17,17,17)",
              "width": 0.5
             }
            },
            "type": "bar"
           }
          ],
          "barpolar": [
           {
            "marker": {
             "line": {
              "color": "rgb(17,17,17)",
              "width": 0.5
             }
            },
            "type": "barpolar"
           }
          ],
          "carpet": [
           {
            "aaxis": {
             "endlinecolor": "#A2B1C6",
             "gridcolor": "#506784",
             "linecolor": "#506784",
             "minorgridcolor": "#506784",
             "startlinecolor": "#A2B1C6"
            },
            "baxis": {
             "endlinecolor": "#A2B1C6",
             "gridcolor": "#506784",
             "linecolor": "#506784",
             "minorgridcolor": "#506784",
             "startlinecolor": "#A2B1C6"
            },
            "type": "carpet"
           }
          ],
          "choropleth": [
           {
            "colorbar": {
             "outlinewidth": 0,
             "ticks": ""
            },
            "type": "choropleth"
           }
          ],
          "contour": [
           {
            "colorbar": {
             "outlinewidth": 0,
             "ticks": ""
            },
            "colorscale": [
             [
              0,
              "#0d0887"
             ],
             [
              0.1111111111111111,
              "#46039f"
             ],
             [
              0.2222222222222222,
              "#7201a8"
             ],
             [
              0.3333333333333333,
              "#9c179e"
             ],
             [
              0.4444444444444444,
              "#bd3786"
             ],
             [
              0.5555555555555556,
              "#d8576b"
             ],
             [
              0.6666666666666666,
              "#ed7953"
             ],
             [
              0.7777777777777778,
              "#fb9f3a"
             ],
             [
              0.8888888888888888,
              "#fdca26"
             ],
             [
              1,
              "#f0f921"
             ]
            ],
            "type": "contour"
           }
          ],
          "contourcarpet": [
           {
            "colorbar": {
             "outlinewidth": 0,
             "ticks": ""
            },
            "type": "contourcarpet"
           }
          ],
          "heatmap": [
           {
            "colorbar": {
             "outlinewidth": 0,
             "ticks": ""
            },
            "colorscale": [
             [
              0,
              "#0d0887"
             ],
             [
              0.1111111111111111,
              "#46039f"
             ],
             [
              0.2222222222222222,
              "#7201a8"
             ],
             [
              0.3333333333333333,
              "#9c179e"
             ],
             [
              0.4444444444444444,
              "#bd3786"
             ],
             [
              0.5555555555555556,
              "#d8576b"
             ],
             [
              0.6666666666666666,
              "#ed7953"
             ],
             [
              0.7777777777777778,
              "#fb9f3a"
             ],
             [
              0.8888888888888888,
              "#fdca26"
             ],
             [
              1,
              "#f0f921"
             ]
            ],
            "type": "heatmap"
           }
          ],
          "heatmapgl": [
           {
            "colorbar": {
             "outlinewidth": 0,
             "ticks": ""
            },
            "colorscale": [
             [
              0,
              "#0d0887"
             ],
             [
              0.1111111111111111,
              "#46039f"
             ],
             [
              0.2222222222222222,
              "#7201a8"
             ],
             [
              0.3333333333333333,
              "#9c179e"
             ],
             [
              0.4444444444444444,
              "#bd3786"
             ],
             [
              0.5555555555555556,
              "#d8576b"
             ],
             [
              0.6666666666666666,
              "#ed7953"
             ],
             [
              0.7777777777777778,
              "#fb9f3a"
             ],
             [
              0.8888888888888888,
              "#fdca26"
             ],
             [
              1,
              "#f0f921"
             ]
            ],
            "type": "heatmapgl"
           }
          ],
          "histogram": [
           {
            "marker": {
             "colorbar": {
              "outlinewidth": 0,
              "ticks": ""
             }
            },
            "type": "histogram"
           }
          ],
          "histogram2d": [
           {
            "colorbar": {
             "outlinewidth": 0,
             "ticks": ""
            },
            "colorscale": [
             [
              0,
              "#0d0887"
             ],
             [
              0.1111111111111111,
              "#46039f"
             ],
             [
              0.2222222222222222,
              "#7201a8"
             ],
             [
              0.3333333333333333,
              "#9c179e"
             ],
             [
              0.4444444444444444,
              "#bd3786"
             ],
             [
              0.5555555555555556,
              "#d8576b"
             ],
             [
              0.6666666666666666,
              "#ed7953"
             ],
             [
              0.7777777777777778,
              "#fb9f3a"
             ],
             [
              0.8888888888888888,
              "#fdca26"
             ],
             [
              1,
              "#f0f921"
             ]
            ],
            "type": "histogram2d"
           }
          ],
          "histogram2dcontour": [
           {
            "colorbar": {
             "outlinewidth": 0,
             "ticks": ""
            },
            "colorscale": [
             [
              0,
              "#0d0887"
             ],
             [
              0.1111111111111111,
              "#46039f"
             ],
             [
              0.2222222222222222,
              "#7201a8"
             ],
             [
              0.3333333333333333,
              "#9c179e"
             ],
             [
              0.4444444444444444,
              "#bd3786"
             ],
             [
              0.5555555555555556,
              "#d8576b"
             ],
             [
              0.6666666666666666,
              "#ed7953"
             ],
             [
              0.7777777777777778,
              "#fb9f3a"
             ],
             [
              0.8888888888888888,
              "#fdca26"
             ],
             [
              1,
              "#f0f921"
             ]
            ],
            "type": "histogram2dcontour"
           }
          ],
          "mesh3d": [
           {
            "colorbar": {
             "outlinewidth": 0,
             "ticks": ""
            },
            "type": "mesh3d"
           }
          ],
          "parcoords": [
           {
            "line": {
             "colorbar": {
              "outlinewidth": 0,
              "ticks": ""
             }
            },
            "type": "parcoords"
           }
          ],
          "pie": [
           {
            "automargin": true,
            "type": "pie"
           }
          ],
          "scatter": [
           {
            "marker": {
             "line": {
              "color": "#283442"
             }
            },
            "type": "scatter"
           }
          ],
          "scatter3d": [
           {
            "line": {
             "colorbar": {
              "outlinewidth": 0,
              "ticks": ""
             }
            },
            "marker": {
             "colorbar": {
              "outlinewidth": 0,
              "ticks": ""
             }
            },
            "type": "scatter3d"
           }
          ],
          "scattercarpet": [
           {
            "marker": {
             "colorbar": {
              "outlinewidth": 0,
              "ticks": ""
             }
            },
            "type": "scattercarpet"
           }
          ],
          "scattergeo": [
           {
            "marker": {
             "colorbar": {
              "outlinewidth": 0,
              "ticks": ""
             }
            },
            "type": "scattergeo"
           }
          ],
          "scattergl": [
           {
            "marker": {
             "line": {
              "color": "#283442"
             }
            },
            "type": "scattergl"
           }
          ],
          "scattermapbox": [
           {
            "marker": {
             "colorbar": {
              "outlinewidth": 0,
              "ticks": ""
             }
            },
            "type": "scattermapbox"
           }
          ],
          "scatterpolar": [
           {
            "marker": {
             "colorbar": {
              "outlinewidth": 0,
              "ticks": ""
             }
            },
            "type": "scatterpolar"
           }
          ],
          "scatterpolargl": [
           {
            "marker": {
             "colorbar": {
              "outlinewidth": 0,
              "ticks": ""
             }
            },
            "type": "scatterpolargl"
           }
          ],
          "scatterternary": [
           {
            "marker": {
             "colorbar": {
              "outlinewidth": 0,
              "ticks": ""
             }
            },
            "type": "scatterternary"
           }
          ],
          "surface": [
           {
            "colorbar": {
             "outlinewidth": 0,
             "ticks": ""
            },
            "colorscale": [
             [
              0,
              "#0d0887"
             ],
             [
              0.1111111111111111,
              "#46039f"
             ],
             [
              0.2222222222222222,
              "#7201a8"
             ],
             [
              0.3333333333333333,
              "#9c179e"
             ],
             [
              0.4444444444444444,
              "#bd3786"
             ],
             [
              0.5555555555555556,
              "#d8576b"
             ],
             [
              0.6666666666666666,
              "#ed7953"
             ],
             [
              0.7777777777777778,
              "#fb9f3a"
             ],
             [
              0.8888888888888888,
              "#fdca26"
             ],
             [
              1,
              "#f0f921"
             ]
            ],
            "type": "surface"
           }
          ],
          "table": [
           {
            "cells": {
             "fill": {
              "color": "#506784"
             },
             "line": {
              "color": "rgb(17,17,17)"
             }
            },
            "header": {
             "fill": {
              "color": "#2a3f5f"
             },
             "line": {
              "color": "rgb(17,17,17)"
             }
            },
            "type": "table"
           }
          ]
         },
         "layout": {
          "annotationdefaults": {
           "arrowcolor": "#f2f5fa",
           "arrowhead": 0,
           "arrowwidth": 1
          },
          "coloraxis": {
           "colorbar": {
            "outlinewidth": 0,
            "ticks": ""
           }
          },
          "colorscale": {
           "diverging": [
            [
             0,
             "#8e0152"
            ],
            [
             0.1,
             "#c51b7d"
            ],
            [
             0.2,
             "#de77ae"
            ],
            [
             0.3,
             "#f1b6da"
            ],
            [
             0.4,
             "#fde0ef"
            ],
            [
             0.5,
             "#f7f7f7"
            ],
            [
             0.6,
             "#e6f5d0"
            ],
            [
             0.7,
             "#b8e186"
            ],
            [
             0.8,
             "#7fbc41"
            ],
            [
             0.9,
             "#4d9221"
            ],
            [
             1,
             "#276419"
            ]
           ],
           "sequential": [
            [
             0,
             "#0d0887"
            ],
            [
             0.1111111111111111,
             "#46039f"
            ],
            [
             0.2222222222222222,
             "#7201a8"
            ],
            [
             0.3333333333333333,
             "#9c179e"
            ],
            [
             0.4444444444444444,
             "#bd3786"
            ],
            [
             0.5555555555555556,
             "#d8576b"
            ],
            [
             0.6666666666666666,
             "#ed7953"
            ],
            [
             0.7777777777777778,
             "#fb9f3a"
            ],
            [
             0.8888888888888888,
             "#fdca26"
            ],
            [
             1,
             "#f0f921"
            ]
           ],
           "sequentialminus": [
            [
             0,
             "#0d0887"
            ],
            [
             0.1111111111111111,
             "#46039f"
            ],
            [
             0.2222222222222222,
             "#7201a8"
            ],
            [
             0.3333333333333333,
             "#9c179e"
            ],
            [
             0.4444444444444444,
             "#bd3786"
            ],
            [
             0.5555555555555556,
             "#d8576b"
            ],
            [
             0.6666666666666666,
             "#ed7953"
            ],
            [
             0.7777777777777778,
             "#fb9f3a"
            ],
            [
             0.8888888888888888,
             "#fdca26"
            ],
            [
             1,
             "#f0f921"
            ]
           ]
          },
          "colorway": [
           "#636efa",
           "#EF553B",
           "#00cc96",
           "#ab63fa",
           "#FFA15A",
           "#19d3f3",
           "#FF6692",
           "#B6E880",
           "#FF97FF",
           "#FECB52"
          ],
          "font": {
           "color": "#f2f5fa"
          },
          "geo": {
           "bgcolor": "rgb(17,17,17)",
           "lakecolor": "rgb(17,17,17)",
           "landcolor": "rgb(17,17,17)",
           "showlakes": true,
           "showland": true,
           "subunitcolor": "#506784"
          },
          "hoverlabel": {
           "align": "left"
          },
          "hovermode": "closest",
          "mapbox": {
           "style": "dark"
          },
          "paper_bgcolor": "rgb(17,17,17)",
          "plot_bgcolor": "rgb(17,17,17)",
          "polar": {
           "angularaxis": {
            "gridcolor": "#506784",
            "linecolor": "#506784",
            "ticks": ""
           },
           "bgcolor": "rgb(17,17,17)",
           "radialaxis": {
            "gridcolor": "#506784",
            "linecolor": "#506784",
            "ticks": ""
           }
          },
          "scene": {
           "xaxis": {
            "backgroundcolor": "rgb(17,17,17)",
            "gridcolor": "#506784",
            "gridwidth": 2,
            "linecolor": "#506784",
            "showbackground": true,
            "ticks": "",
            "zerolinecolor": "#C8D4E3"
           },
           "yaxis": {
            "backgroundcolor": "rgb(17,17,17)",
            "gridcolor": "#506784",
            "gridwidth": 2,
            "linecolor": "#506784",
            "showbackground": true,
            "ticks": "",
            "zerolinecolor": "#C8D4E3"
           },
           "zaxis": {
            "backgroundcolor": "rgb(17,17,17)",
            "gridcolor": "#506784",
            "gridwidth": 2,
            "linecolor": "#506784",
            "showbackground": true,
            "ticks": "",
            "zerolinecolor": "#C8D4E3"
           }
          },
          "shapedefaults": {
           "line": {
            "color": "#f2f5fa"
           }
          },
          "sliderdefaults": {
           "bgcolor": "#C8D4E3",
           "bordercolor": "rgb(17,17,17)",
           "borderwidth": 1,
           "tickwidth": 0
          },
          "ternary": {
           "aaxis": {
            "gridcolor": "#506784",
            "linecolor": "#506784",
            "ticks": ""
           },
           "baxis": {
            "gridcolor": "#506784",
            "linecolor": "#506784",
            "ticks": ""
           },
           "bgcolor": "rgb(17,17,17)",
           "caxis": {
            "gridcolor": "#506784",
            "linecolor": "#506784",
            "ticks": ""
           }
          },
          "title": {
           "x": 0.05
          },
          "updatemenudefaults": {
           "bgcolor": "#506784",
           "borderwidth": 0
          },
          "xaxis": {
           "automargin": true,
           "gridcolor": "#283442",
           "linecolor": "#506784",
           "ticks": "",
           "title": {
            "standoff": 15
           },
           "zerolinecolor": "#283442",
           "zerolinewidth": 2
          },
          "yaxis": {
           "automargin": true,
           "gridcolor": "#283442",
           "linecolor": "#506784",
           "ticks": "",
           "title": {
            "standoff": 15
           },
           "zerolinecolor": "#283442",
           "zerolinewidth": 2
          }
         }
        },
        "title": {
         "text": "2011 US Agriculture Exports by State"
        }
       }
      },
      "text/html": [
       "<div>\n",
       "        \n",
       "        \n",
       "            <div id=\"1ba465cb-7685-4479-820d-5c72288a96ac\" class=\"plotly-graph-div\" style=\"height:525px; width:100%;\"></div>\n",
       "            <script type=\"text/javascript\">\n",
       "                require([\"plotly\"], function(Plotly) {\n",
       "                    window.PLOTLYENV=window.PLOTLYENV || {};\n",
       "                    \n",
       "                if (document.getElementById(\"1ba465cb-7685-4479-820d-5c72288a96ac\")) {\n",
       "                    Plotly.newPlot(\n",
       "                        '1ba465cb-7685-4479-820d-5c72288a96ac',\n",
       "                        [{\"autocolorscale\": false, \"colorbar\": {\"title\": {\"text\": \"Millions USD\"}}, \"colorscale\": [[0.0, \"#440154\"], [0.1111111111111111, \"#482878\"], [0.2222222222222222, \"#3e4989\"], [0.3333333333333333, \"#31688e\"], [0.4444444444444444, \"#26828e\"], [0.5555555555555556, \"#1f9e89\"], [0.6666666666666666, \"#35b779\"], [0.7777777777777778, \"#6ece58\"], [0.8888888888888888, \"#b5de2b\"], [1.0, \"#fde725\"]], \"locationmode\": \"country names\", \"locations\": [\"Albania\", \"Algeria\", \"Angola\", \"Argentina\", \"Armenia\", \"Australia\", \"Austria\", \"Azerbaijan\", \"Bahamas\", \"Bahrain\", \"Bangladesh\", \"Barbados\", \"Belarus\", \"Belgium\", \"Belize\", \"Benin\", \"Bhutan\", \"Bolivia\", \"Botswana\", \"Brazil\", \"Brunei Darussalam\", \"Bulgaria\", \"Burkina Faso\", \"Burundi\", \"Cambodia\", \"Cameroon\", \"Canada\", \"Cape Verde\", \"Chad\", \"Chile\", \"China\", \"Colombia\", \"Costa Rica\", \"C\\u00f4te d'Ivoire\", \"Croatia\", \"Cuba\", \"Cyprus\", \"Czech Republic\", \"Denmark\", \"Dominican Republic\", \"Ecuador\", \"Egypt\", \"El Salvador\", \"Estonia\", \"Ethiopia\", \"Fiji\", \"Finland\", \"France\", \"Gambia, The\", \"Georgia\", \"Germany\", \"Ghana\", \"Greece\", \"Guatemala\", \"Guinea\", \"Guyana\", \"Honduras\", \"Hungary\", \"Iceland\", \"India\", \"Indonesia\", \"Iran, Islamic Rep.\", \"Ireland\", \"Israel\", \"Italy\", \"Jamaica\", \"Japan\", \"Jordan\", \"Kazakhstan\", \"Kenya\", \"Korea, Rep.\", \"Kuwait\", \"Kyrgyz Republic\", \"Laos\", \"Latvia\", \"Lebanon\", \"Lesotho\", \"Liberia\", \"Lithuania\", \"Luxembourg\", \"Macedonia\", \"Madagascar\", \"Malawi\", \"Malaysia\", \"Maldives\", \"Mali\", \"Malta\", \"Mauritania\", \"Mauritius\", \"Mexico\", \"Moldova\", \"Mongolia\", \"Montenegro\", \"Morocco\", \"Mozambique\", \"Myanmar\", \"Namibia\", \"Nepal\", \"Netherlands\", \"New Zealand\", \"Nicaragua\", \"Nigeria\", \"Norway\", \"Oman\", \"Pakistan\", \"Panama\", \"Paraguay\", \"Peru\", \"Philippines\", \"Poland\", \"Portugal\", \"Qatar\", \"Romania\", \"Russian Federation\", \"Rwanda\", \"Saudi Arabia\", \"Senegal\", \"Serbia\", \"Singapore\", \"Slovakia\", \"Slovenia\", \"South Africa\", \"Spain\", \"Sri Lanka\", \"Suriname\", \"Swaziland\", \"Sweden\", \"Switzerland\", \"Syria\", \"Tajikistan\", \"Tanzania\", \"Thailand\", \"Timor-Leste\", \"Trinidad and Tobago\", \"Tunisia\", \"Turkey\", \"Uganda\", \"Ukraine\", \"United Arab Emirates\", \"United Kingdom\", \"United States\", \"Uruguay\", \"Venezuela\", \"Vietnam\", \"Yemen\", \"Zambia\", \"Zimbabwe\"], \"marker\": {\"line\": {\"color\": \"white\"}}, \"type\": \"choropleth\", \"z\": [0.77, 0.63, 0.66, 0.75, 0.68, 0.73, 0.74, 0.69, 0.72, 0.63, 0.73, 0.75, 0.75, 0.75, 0.67, 0.66, 0.64, 0.73, 0.71, 0.69, 0.69, 0.73, 0.64, 0.74, 0.69, 0.69, 0.77, 0.72, 0.6, 0.72, 0.68, 0.76, 0.78, 0.61, 0.72, 0.75, 0.69, 0.71, 0.78, 0.7, 0.73, 0.63, 0.71, 0.75, 0.7, 0.68, 0.83, 0.78, 0.63, 0.71, 0.79, 0.67, 0.7, 0.67, 0.64, null, 0.72, 0.68, 0.88, 0.67, 0.7, 0.58, 0.8, 0.72, 0.71, 0.74, 0.65, 0.62, 0.71, 0.67, 0.67, 0.65, 0.69, 0.73, 0.78, 0.6, 0.7, 0.68, 0.74, 0.72, 0.71, 0.72, 0.66, 0.68, 0.65, 0.62, 0.69, 0.61, 0.66, 0.75, 0.76, 0.71, 0.71, 0.6, 0.72, 0.66, 0.78, 0.68, 0.74, 0.8, 0.8, 0.64, 0.84, 0.6, 0.56, 0.73, 0.68, 0.71, 0.78, 0.74, 0.74, 0.63, 0.72, 0.71, 0.79, 0.6, 0.68, 0.74, 0.72, 0.72, 0.74, 0.78, 0.8, 0.68, 0.71, null, 0.82, 0.78, 0.57, 0.63, 0.71, 0.71, 0.66, 0.76, 0.64, 0.64, 0.72, 0.72, 0.66, 0.77, 0.72, 0.74, 0.71, 0.7, 0.49, 0.73, 0.73]}],\n",
       "                        {\"geo\": {\"lakecolor\": \"rgb(255, 255, 255)\", \"projection\": {\"type\": \"equirectangular\"}, \"scope\": \"world\", \"showcoastlines\": false, \"showframe\": false, \"showlakes\": true}, \"template\": {\"data\": {\"bar\": [{\"error_x\": {\"color\": \"#f2f5fa\"}, \"error_y\": {\"color\": \"#f2f5fa\"}, \"marker\": {\"line\": {\"color\": \"rgb(17,17,17)\", \"width\": 0.5}}, \"type\": \"bar\"}], \"barpolar\": [{\"marker\": {\"line\": {\"color\": \"rgb(17,17,17)\", \"width\": 0.5}}, \"type\": \"barpolar\"}], \"carpet\": [{\"aaxis\": {\"endlinecolor\": \"#A2B1C6\", \"gridcolor\": \"#506784\", \"linecolor\": \"#506784\", \"minorgridcolor\": \"#506784\", \"startlinecolor\": \"#A2B1C6\"}, \"baxis\": {\"endlinecolor\": \"#A2B1C6\", \"gridcolor\": \"#506784\", \"linecolor\": \"#506784\", \"minorgridcolor\": \"#506784\", \"startlinecolor\": \"#A2B1C6\"}, \"type\": \"carpet\"}], \"choropleth\": [{\"colorbar\": {\"outlinewidth\": 0, \"ticks\": \"\"}, \"type\": \"choropleth\"}], \"contour\": [{\"colorbar\": {\"outlinewidth\": 0, \"ticks\": \"\"}, \"colorscale\": [[0.0, \"#0d0887\"], [0.1111111111111111, \"#46039f\"], [0.2222222222222222, \"#7201a8\"], [0.3333333333333333, \"#9c179e\"], [0.4444444444444444, \"#bd3786\"], [0.5555555555555556, \"#d8576b\"], [0.6666666666666666, \"#ed7953\"], [0.7777777777777778, \"#fb9f3a\"], [0.8888888888888888, \"#fdca26\"], [1.0, \"#f0f921\"]], \"type\": \"contour\"}], \"contourcarpet\": [{\"colorbar\": {\"outlinewidth\": 0, \"ticks\": \"\"}, \"type\": \"contourcarpet\"}], \"heatmap\": [{\"colorbar\": {\"outlinewidth\": 0, \"ticks\": \"\"}, \"colorscale\": [[0.0, \"#0d0887\"], [0.1111111111111111, \"#46039f\"], [0.2222222222222222, \"#7201a8\"], [0.3333333333333333, \"#9c179e\"], [0.4444444444444444, \"#bd3786\"], [0.5555555555555556, \"#d8576b\"], [0.6666666666666666, \"#ed7953\"], [0.7777777777777778, \"#fb9f3a\"], [0.8888888888888888, \"#fdca26\"], [1.0, \"#f0f921\"]], \"type\": \"heatmap\"}], \"heatmapgl\": [{\"colorbar\": {\"outlinewidth\": 0, \"ticks\": \"\"}, \"colorscale\": [[0.0, \"#0d0887\"], [0.1111111111111111, \"#46039f\"], [0.2222222222222222, \"#7201a8\"], [0.3333333333333333, \"#9c179e\"], [0.4444444444444444, \"#bd3786\"], [0.5555555555555556, \"#d8576b\"], [0.6666666666666666, \"#ed7953\"], [0.7777777777777778, \"#fb9f3a\"], [0.8888888888888888, \"#fdca26\"], [1.0, \"#f0f921\"]], \"type\": \"heatmapgl\"}], \"histogram\": [{\"marker\": {\"colorbar\": {\"outlinewidth\": 0, \"ticks\": \"\"}}, \"type\": \"histogram\"}], \"histogram2d\": [{\"colorbar\": {\"outlinewidth\": 0, \"ticks\": \"\"}, \"colorscale\": [[0.0, \"#0d0887\"], [0.1111111111111111, \"#46039f\"], [0.2222222222222222, \"#7201a8\"], [0.3333333333333333, \"#9c179e\"], [0.4444444444444444, \"#bd3786\"], [0.5555555555555556, \"#d8576b\"], [0.6666666666666666, \"#ed7953\"], [0.7777777777777778, \"#fb9f3a\"], [0.8888888888888888, \"#fdca26\"], [1.0, \"#f0f921\"]], \"type\": \"histogram2d\"}], \"histogram2dcontour\": [{\"colorbar\": {\"outlinewidth\": 0, \"ticks\": \"\"}, \"colorscale\": [[0.0, \"#0d0887\"], [0.1111111111111111, \"#46039f\"], [0.2222222222222222, \"#7201a8\"], [0.3333333333333333, \"#9c179e\"], [0.4444444444444444, \"#bd3786\"], [0.5555555555555556, \"#d8576b\"], [0.6666666666666666, \"#ed7953\"], [0.7777777777777778, \"#fb9f3a\"], [0.8888888888888888, \"#fdca26\"], [1.0, \"#f0f921\"]], \"type\": \"histogram2dcontour\"}], \"mesh3d\": [{\"colorbar\": {\"outlinewidth\": 0, \"ticks\": \"\"}, \"type\": \"mesh3d\"}], \"parcoords\": [{\"line\": {\"colorbar\": {\"outlinewidth\": 0, \"ticks\": \"\"}}, \"type\": \"parcoords\"}], \"pie\": [{\"automargin\": true, \"type\": \"pie\"}], \"scatter\": [{\"marker\": {\"line\": {\"color\": \"#283442\"}}, \"type\": \"scatter\"}], \"scatter3d\": [{\"line\": {\"colorbar\": {\"outlinewidth\": 0, \"ticks\": \"\"}}, \"marker\": {\"colorbar\": {\"outlinewidth\": 0, \"ticks\": \"\"}}, \"type\": \"scatter3d\"}], \"scattercarpet\": [{\"marker\": {\"colorbar\": {\"outlinewidth\": 0, \"ticks\": \"\"}}, \"type\": \"scattercarpet\"}], \"scattergeo\": [{\"marker\": {\"colorbar\": {\"outlinewidth\": 0, \"ticks\": \"\"}}, \"type\": \"scattergeo\"}], \"scattergl\": [{\"marker\": {\"line\": {\"color\": \"#283442\"}}, \"type\": \"scattergl\"}], \"scattermapbox\": [{\"marker\": {\"colorbar\": {\"outlinewidth\": 0, \"ticks\": \"\"}}, \"type\": \"scattermapbox\"}], \"scatterpolar\": [{\"marker\": {\"colorbar\": {\"outlinewidth\": 0, \"ticks\": \"\"}}, \"type\": \"scatterpolar\"}], \"scatterpolargl\": [{\"marker\": {\"colorbar\": {\"outlinewidth\": 0, \"ticks\": \"\"}}, \"type\": \"scatterpolargl\"}], \"scatterternary\": [{\"marker\": {\"colorbar\": {\"outlinewidth\": 0, \"ticks\": \"\"}}, \"type\": \"scatterternary\"}], \"surface\": [{\"colorbar\": {\"outlinewidth\": 0, \"ticks\": \"\"}, \"colorscale\": [[0.0, \"#0d0887\"], [0.1111111111111111, \"#46039f\"], [0.2222222222222222, \"#7201a8\"], [0.3333333333333333, \"#9c179e\"], [0.4444444444444444, \"#bd3786\"], [0.5555555555555556, \"#d8576b\"], [0.6666666666666666, \"#ed7953\"], [0.7777777777777778, \"#fb9f3a\"], [0.8888888888888888, \"#fdca26\"], [1.0, \"#f0f921\"]], \"type\": \"surface\"}], \"table\": [{\"cells\": {\"fill\": {\"color\": \"#506784\"}, \"line\": {\"color\": \"rgb(17,17,17)\"}}, \"header\": {\"fill\": {\"color\": \"#2a3f5f\"}, \"line\": {\"color\": \"rgb(17,17,17)\"}}, \"type\": \"table\"}]}, \"layout\": {\"annotationdefaults\": {\"arrowcolor\": \"#f2f5fa\", \"arrowhead\": 0, \"arrowwidth\": 1}, \"coloraxis\": {\"colorbar\": {\"outlinewidth\": 0, \"ticks\": \"\"}}, \"colorscale\": {\"diverging\": [[0, \"#8e0152\"], [0.1, \"#c51b7d\"], [0.2, \"#de77ae\"], [0.3, \"#f1b6da\"], [0.4, \"#fde0ef\"], [0.5, \"#f7f7f7\"], [0.6, \"#e6f5d0\"], [0.7, \"#b8e186\"], [0.8, \"#7fbc41\"], [0.9, \"#4d9221\"], [1, \"#276419\"]], \"sequential\": [[0.0, \"#0d0887\"], [0.1111111111111111, \"#46039f\"], [0.2222222222222222, \"#7201a8\"], [0.3333333333333333, \"#9c179e\"], [0.4444444444444444, \"#bd3786\"], [0.5555555555555556, \"#d8576b\"], [0.6666666666666666, \"#ed7953\"], [0.7777777777777778, \"#fb9f3a\"], [0.8888888888888888, \"#fdca26\"], [1.0, \"#f0f921\"]], \"sequentialminus\": [[0.0, \"#0d0887\"], [0.1111111111111111, \"#46039f\"], [0.2222222222222222, \"#7201a8\"], [0.3333333333333333, \"#9c179e\"], [0.4444444444444444, \"#bd3786\"], [0.5555555555555556, \"#d8576b\"], [0.6666666666666666, \"#ed7953\"], [0.7777777777777778, \"#fb9f3a\"], [0.8888888888888888, \"#fdca26\"], [1.0, \"#f0f921\"]]}, \"colorway\": [\"#636efa\", \"#EF553B\", \"#00cc96\", \"#ab63fa\", \"#FFA15A\", \"#19d3f3\", \"#FF6692\", \"#B6E880\", \"#FF97FF\", \"#FECB52\"], \"font\": {\"color\": \"#f2f5fa\"}, \"geo\": {\"bgcolor\": \"rgb(17,17,17)\", \"lakecolor\": \"rgb(17,17,17)\", \"landcolor\": \"rgb(17,17,17)\", \"showlakes\": true, \"showland\": true, \"subunitcolor\": \"#506784\"}, \"hoverlabel\": {\"align\": \"left\"}, \"hovermode\": \"closest\", \"mapbox\": {\"style\": \"dark\"}, \"paper_bgcolor\": \"rgb(17,17,17)\", \"plot_bgcolor\": \"rgb(17,17,17)\", \"polar\": {\"angularaxis\": {\"gridcolor\": \"#506784\", \"linecolor\": \"#506784\", \"ticks\": \"\"}, \"bgcolor\": \"rgb(17,17,17)\", \"radialaxis\": {\"gridcolor\": \"#506784\", \"linecolor\": \"#506784\", \"ticks\": \"\"}}, \"scene\": {\"xaxis\": {\"backgroundcolor\": \"rgb(17,17,17)\", \"gridcolor\": \"#506784\", \"gridwidth\": 2, \"linecolor\": \"#506784\", \"showbackground\": true, \"ticks\": \"\", \"zerolinecolor\": \"#C8D4E3\"}, \"yaxis\": {\"backgroundcolor\": \"rgb(17,17,17)\", \"gridcolor\": \"#506784\", \"gridwidth\": 2, \"linecolor\": \"#506784\", \"showbackground\": true, \"ticks\": \"\", \"zerolinecolor\": \"#C8D4E3\"}, \"zaxis\": {\"backgroundcolor\": \"rgb(17,17,17)\", \"gridcolor\": \"#506784\", \"gridwidth\": 2, \"linecolor\": \"#506784\", \"showbackground\": true, \"ticks\": \"\", \"zerolinecolor\": \"#C8D4E3\"}}, \"shapedefaults\": {\"line\": {\"color\": \"#f2f5fa\"}}, \"sliderdefaults\": {\"bgcolor\": \"#C8D4E3\", \"bordercolor\": \"rgb(17,17,17)\", \"borderwidth\": 1, \"tickwidth\": 0}, \"ternary\": {\"aaxis\": {\"gridcolor\": \"#506784\", \"linecolor\": \"#506784\", \"ticks\": \"\"}, \"baxis\": {\"gridcolor\": \"#506784\", \"linecolor\": \"#506784\", \"ticks\": \"\"}, \"bgcolor\": \"rgb(17,17,17)\", \"caxis\": {\"gridcolor\": \"#506784\", \"linecolor\": \"#506784\", \"ticks\": \"\"}}, \"title\": {\"x\": 0.05}, \"updatemenudefaults\": {\"bgcolor\": \"#506784\", \"borderwidth\": 0}, \"xaxis\": {\"automargin\": true, \"gridcolor\": \"#283442\", \"linecolor\": \"#506784\", \"ticks\": \"\", \"title\": {\"standoff\": 15}, \"zerolinecolor\": \"#283442\", \"zerolinewidth\": 2}, \"yaxis\": {\"automargin\": true, \"gridcolor\": \"#283442\", \"linecolor\": \"#506784\", \"ticks\": \"\", \"title\": {\"standoff\": 15}, \"zerolinecolor\": \"#283442\", \"zerolinewidth\": 2}}}, \"title\": {\"text\": \"2011 US Agriculture Exports by State\"}},\n",
       "                        {\"responsive\": true}\n",
       "                    ).then(function(){\n",
       "                            \n",
       "var gd = document.getElementById('1ba465cb-7685-4479-820d-5c72288a96ac');\n",
       "var x = new MutationObserver(function (mutations, observer) {{\n",
       "        var display = window.getComputedStyle(gd).display;\n",
       "        if (!display || display === 'none') {{\n",
       "            console.log([gd, 'removed!']);\n",
       "            Plotly.purge(gd);\n",
       "            observer.disconnect();\n",
       "        }}\n",
       "}});\n",
       "\n",
       "// Listen for the removal of the full notebook cells\n",
       "var notebookContainer = gd.closest('#notebook-container');\n",
       "if (notebookContainer) {{\n",
       "    x.observe(notebookContainer, {childList: true});\n",
       "}}\n",
       "\n",
       "// Listen for the clearing of the current output cell\n",
       "var outputEl = gd.closest('.output');\n",
       "if (outputEl) {{\n",
       "    x.observe(outputEl, {childList: true});\n",
       "}}\n",
       "\n",
       "                        })\n",
       "                };\n",
       "                });\n",
       "            </script>\n",
       "        </div>"
      ]
     },
     "metadata": {},
     "output_type": "display_data"
    }
   ],
   "source": [
    "fig = go.Figure(data=go.Choropleth(\n",
    "    locations=df['Country'], # Spatial coordinates\n",
    "    z = df['2019'], # Data to be color-coded\n",
    "     locationmode='country names',# set of locations match entries in `locations`\n",
    "    colorscale='Viridis',\n",
    "    autocolorscale=False,\n",
    "#     text=df['text'], # hover text\n",
    "    marker_line_color='white', # line markers between states\n",
    "    colorbar_title=\"Millions USD\"\n",
    "))\n",
    "\n",
    "fig.update_layout(\n",
    "    title_text = '2011 US Agriculture Exports by State',\n",
    "    geo = dict(\n",
    "        scope='world',\n",
    "        projection=go.layout.geo.Projection(type = 'equirectangular'),\n",
    "        showlakes=True,\n",
    "        showframe=False,\n",
    "        showcoastlines=False,# lakes\n",
    "        lakecolor='rgb(255, 255, 255)'),\n",
    "    template=\"plotly_dark\"\n",
    ")\n",
    "fig.show()\n"
   ]
  },
  {
   "cell_type": "code",
   "execution_count": 158,
   "metadata": {
    "scrolled": true
   },
   "outputs": [
    {
     "data": {
      "application/javascript": [
       "\n",
       "        if (window._pyforest_update_imports_cell) { window._pyforest_update_imports_cell('import numpy as np\\nimport plotly.graph_objs as go\\nimport plotly as py'); }\n",
       "    "
      ],
      "text/plain": [
       "<IPython.core.display.Javascript object>"
      ]
     },
     "metadata": {},
     "output_type": "display_data"
    },
    {
     "data": {
      "application/javascript": [
       "\n",
       "        if (window._pyforest_update_imports_cell) { window._pyforest_update_imports_cell('import numpy as np\\nimport plotly.graph_objs as go\\nimport plotly as py'); }\n",
       "    "
      ],
      "text/plain": [
       "<IPython.core.display.Javascript object>"
      ]
     },
     "metadata": {},
     "output_type": "display_data"
    },
    {
     "data": {
      "application/javascript": [
       "\n",
       "        if (window._pyforest_update_imports_cell) { window._pyforest_update_imports_cell('import numpy as np\\nimport plotly.graph_objs as go\\nimport plotly as py'); }\n",
       "    "
      ],
      "text/plain": [
       "<IPython.core.display.Javascript object>"
      ]
     },
     "metadata": {},
     "output_type": "display_data"
    },
    {
     "data": {
      "application/vnd.plotly.v1+json": {
       "config": {
        "plotlyServerURL": "https://plot.ly"
       },
       "data": [
        {
         "coloraxis": "coloraxis",
         "geo": "geo",
         "hoverinfo": "text",
         "locationmode": "country names",
         "locations": [
          "Albania",
          "Algeria",
          "Angola",
          "Argentina",
          "Armenia",
          "Australia",
          "Austria",
          "Azerbaijan",
          "Bahamas",
          "Bahrain",
          "Bangladesh",
          "Barbados",
          "Belarus",
          "Belgium",
          "Belize",
          "Benin",
          "Bhutan",
          "Bolivia",
          "Botswana",
          "Brazil",
          "Brunei Darussalam",
          "Bulgaria",
          "Burkina Faso",
          "Burundi",
          "Cambodia",
          "Cameroon",
          "Canada",
          "Cape Verde",
          "Chad",
          "Chile",
          "China",
          "Colombia",
          "Costa Rica",
          "Côte d'Ivoire",
          "Croatia",
          "Cuba",
          "Cyprus",
          "Czech Republic",
          "Denmark",
          "Dominican Republic",
          "Ecuador",
          "Egypt",
          "El Salvador",
          "Estonia",
          "Ethiopia",
          "Fiji",
          "Finland",
          "France",
          "Gambia, The",
          "Georgia",
          "Germany",
          "Ghana",
          "Greece",
          "Guatemala",
          "Guinea",
          "Guyana",
          "Honduras",
          "Hungary",
          "Iceland",
          "India",
          "Indonesia",
          "Iran, Islamic Rep.",
          "Ireland",
          "Israel",
          "Italy",
          "Jamaica",
          "Japan",
          "Jordan",
          "Kazakhstan",
          "Kenya",
          "Korea, Rep.",
          "Kuwait",
          "Kyrgyz Republic",
          "Laos",
          "Latvia",
          "Lebanon",
          "Lesotho",
          "Liberia",
          "Lithuania",
          "Luxembourg",
          "Macedonia",
          "Madagascar",
          "Malawi",
          "Malaysia",
          "Maldives",
          "Mali",
          "Malta",
          "Mauritania",
          "Mauritius",
          "Mexico",
          "Moldova",
          "Mongolia",
          "Montenegro",
          "Morocco",
          "Mozambique",
          "Myanmar",
          "Namibia",
          "Nepal",
          "Netherlands",
          "New Zealand",
          "Nicaragua",
          "Nigeria",
          "Norway",
          "Oman",
          "Pakistan",
          "Panama",
          "Paraguay",
          "Peru",
          "Philippines",
          "Poland",
          "Portugal",
          "Qatar",
          "Romania",
          "Russian Federation",
          "Rwanda",
          "Saudi Arabia",
          "Senegal",
          "Serbia",
          "Singapore",
          "Slovakia",
          "Slovenia",
          "South Africa",
          "Spain",
          "Sri Lanka",
          "Suriname",
          "Swaziland",
          "Sweden",
          "Switzerland",
          "Syria",
          "Tajikistan",
          "Tanzania",
          "Thailand",
          "Timor-Leste",
          "Trinidad and Tobago",
          "Tunisia",
          "Turkey",
          "Uganda",
          "Ukraine",
          "United Arab Emirates",
          "United Kingdom",
          "United States",
          "Uruguay",
          "Venezuela",
          "Vietnam",
          "Yemen",
          "Zambia",
          "Zimbabwe"
         ],
         "marker": {
          "line": {
           "color": "white"
          }
         },
         "reversescale": true,
         "text": [
          "Albania<br>0.77",
          "Algeria<br>0.63",
          "Angola<br>0.66",
          "Argentina<br>0.75",
          "Armenia<br>0.68",
          "Australia<br>0.73",
          "Austria<br>0.74",
          "Azerbaijan<br>0.69",
          "Bahamas<br>0.72",
          "Bahrain<br>0.63",
          "Bangladesh<br>0.73",
          "Barbados<br>0.75",
          "Belarus<br>0.75",
          "Belgium<br>0.75",
          "Belize<br>0.67",
          "Benin<br>0.66",
          "Bhutan<br>0.64",
          "Bolivia<br>0.73",
          "Botswana<br>0.71",
          "Brazil<br>0.69",
          "Brunei Darussalam<br>0.69",
          "Bulgaria<br>0.73",
          "Burkina Faso<br>0.64",
          "Burundi<br>0.74",
          "Cambodia<br>0.69",
          "Cameroon<br>0.69",
          "Canada<br>0.77",
          "Cape Verde<br>0.72",
          "Chad<br>0.6",
          "Chile<br>0.72",
          "China<br>0.68",
          "Colombia<br>0.76",
          "Costa Rica<br>0.78",
          "Côte d'Ivoire<br>0.61",
          "Croatia<br>0.72",
          "Cuba<br>0.75",
          "Cyprus<br>0.69",
          "Czech Republic<br>0.71",
          "Denmark<br>0.78",
          "Dominican Republic<br>0.7",
          "Ecuador<br>0.73",
          "Egypt<br>0.63",
          "El Salvador<br>0.71",
          "Estonia<br>0.75",
          "Ethiopia<br>0.7",
          "Fiji<br>0.68",
          "Finland<br>0.83",
          "France<br>0.78",
          "Gambia, The<br>0.63",
          "Georgia<br>0.71",
          "Germany<br>0.79",
          "Ghana<br>0.67",
          "Greece<br>0.7",
          "Guatemala<br>0.67",
          "Guinea<br>0.64",
          "Guyana<br>nan",
          "Honduras<br>0.72",
          "Hungary<br>0.68",
          "Iceland<br>0.88",
          "India<br>0.67",
          "Indonesia<br>0.7",
          "Iran, Islamic Rep.<br>0.58",
          "Ireland<br>0.8",
          "Israel<br>0.72",
          "Italy<br>0.71",
          "Jamaica<br>0.74",
          "Japan<br>0.65",
          "Jordan<br>0.62",
          "Kazakhstan<br>0.71",
          "Kenya<br>0.67",
          "Korea, Rep.<br>0.67",
          "Kuwait<br>0.65",
          "Kyrgyz Republic<br>0.69",
          "Laos<br>0.73",
          "Latvia<br>0.78",
          "Lebanon<br>0.6",
          "Lesotho<br>0.7",
          "Liberia<br>0.68",
          "Lithuania<br>0.74",
          "Luxembourg<br>0.72",
          "Macedonia<br>0.71",
          "Madagascar<br>0.72",
          "Malawi<br>0.66",
          "Malaysia<br>0.68",
          "Maldives<br>0.65",
          "Mali<br>0.62",
          "Malta<br>0.69",
          "Mauritania<br>0.61",
          "Mauritius<br>0.66",
          "Mexico<br>0.75",
          "Moldova<br>0.76",
          "Mongolia<br>0.71",
          "Montenegro<br>0.71",
          "Morocco<br>0.6",
          "Mozambique<br>0.72",
          "Myanmar<br>0.66",
          "Namibia<br>0.78",
          "Nepal<br>0.68",
          "Netherlands<br>0.74",
          "New Zealand<br>0.8",
          "Nicaragua<br>0.8",
          "Nigeria<br>0.64",
          "Norway<br>0.84",
          "Oman<br>0.6",
          "Pakistan<br>0.56",
          "Panama<br>0.73",
          "Paraguay<br>0.68",
          "Peru<br>0.71",
          "Philippines<br>0.78",
          "Poland<br>0.74",
          "Portugal<br>0.74",
          "Qatar<br>0.63",
          "Romania<br>0.72",
          "Russian Federation<br>0.71",
          "Rwanda<br>0.79",
          "Saudi Arabia<br>0.6",
          "Senegal<br>0.68",
          "Serbia<br>0.74",
          "Singapore<br>0.72",
          "Slovakia<br>0.72",
          "Slovenia<br>0.74",
          "South Africa<br>0.78",
          "Spain<br>0.8",
          "Sri Lanka<br>0.68",
          "Suriname<br>0.71",
          "Swaziland<br>nan",
          "Sweden<br>0.82",
          "Switzerland<br>0.78",
          "Syria<br>0.57",
          "Tajikistan<br>0.63",
          "Tanzania<br>0.71",
          "Thailand<br>0.71",
          "Timor-Leste<br>0.66",
          "Trinidad and Tobago<br>0.76",
          "Tunisia<br>0.64",
          "Turkey<br>0.64",
          "Uganda<br>0.72",
          "Ukraine<br>0.72",
          "United Arab Emirates<br>0.66",
          "United Kingdom<br>0.77",
          "United States<br>0.72",
          "Uruguay<br>0.74",
          "Venezuela<br>0.71",
          "Vietnam<br>0.7",
          "Yemen<br>0.49",
          "Zambia<br>0.73",
          "Zimbabwe<br>0.73"
         ],
         "type": "choropleth",
         "z": [
          0.77,
          0.63,
          0.66,
          0.75,
          0.68,
          0.73,
          0.74,
          0.69,
          0.72,
          0.63,
          0.73,
          0.75,
          0.75,
          0.75,
          0.67,
          0.66,
          0.64,
          0.73,
          0.71,
          0.69,
          0.69,
          0.73,
          0.64,
          0.74,
          0.69,
          0.69,
          0.77,
          0.72,
          0.6,
          0.72,
          0.68,
          0.76,
          0.78,
          0.61,
          0.72,
          0.75,
          0.69,
          0.71,
          0.78,
          0.7,
          0.73,
          0.63,
          0.71,
          0.75,
          0.7,
          0.68,
          0.83,
          0.78,
          0.63,
          0.71,
          0.79,
          0.67,
          0.7,
          0.67,
          0.64,
          null,
          0.72,
          0.68,
          0.88,
          0.67,
          0.7,
          0.58,
          0.8,
          0.72,
          0.71,
          0.74,
          0.65,
          0.62,
          0.71,
          0.67,
          0.67,
          0.65,
          0.69,
          0.73,
          0.78,
          0.6,
          0.7,
          0.68,
          0.74,
          0.72,
          0.71,
          0.72,
          0.66,
          0.68,
          0.65,
          0.62,
          0.69,
          0.61,
          0.66,
          0.75,
          0.76,
          0.71,
          0.71,
          0.6,
          0.72,
          0.66,
          0.78,
          0.68,
          0.74,
          0.8,
          0.8,
          0.64,
          0.84,
          0.6,
          0.56,
          0.73,
          0.68,
          0.71,
          0.78,
          0.74,
          0.74,
          0.63,
          0.72,
          0.71,
          0.79,
          0.6,
          0.68,
          0.74,
          0.72,
          0.72,
          0.74,
          0.78,
          0.8,
          0.68,
          0.71,
          null,
          0.82,
          0.78,
          0.57,
          0.63,
          0.71,
          0.71,
          0.66,
          0.76,
          0.64,
          0.64,
          0.72,
          0.72,
          0.66,
          0.77,
          0.72,
          0.74,
          0.71,
          0.7,
          0.49,
          0.73,
          0.73
         ]
        },
        {
         "coloraxis": "coloraxis",
         "geo": "geo2",
         "hoverinfo": "text",
         "locationmode": "country names",
         "locations": [
          "Albania",
          "Algeria",
          "Angola",
          "Argentina",
          "Armenia",
          "Australia",
          "Austria",
          "Azerbaijan",
          "Bahamas",
          "Bahrain",
          "Bangladesh",
          "Barbados",
          "Belarus",
          "Belgium",
          "Belize",
          "Benin",
          "Bhutan",
          "Bolivia",
          "Botswana",
          "Brazil",
          "Brunei Darussalam",
          "Bulgaria",
          "Burkina Faso",
          "Burundi",
          "Cambodia",
          "Cameroon",
          "Canada",
          "Cape Verde",
          "Chad",
          "Chile",
          "China",
          "Colombia",
          "Costa Rica",
          "Côte d'Ivoire",
          "Croatia",
          "Cuba",
          "Cyprus",
          "Czech Republic",
          "Denmark",
          "Dominican Republic",
          "Ecuador",
          "Egypt",
          "El Salvador",
          "Estonia",
          "Ethiopia",
          "Fiji",
          "Finland",
          "France",
          "Gambia, The",
          "Georgia",
          "Germany",
          "Ghana",
          "Greece",
          "Guatemala",
          "Guinea",
          "Guyana",
          "Honduras",
          "Hungary",
          "Iceland",
          "India",
          "Indonesia",
          "Iran, Islamic Rep.",
          "Ireland",
          "Israel",
          "Italy",
          "Jamaica",
          "Japan",
          "Jordan",
          "Kazakhstan",
          "Kenya",
          "Korea, Rep.",
          "Kuwait",
          "Kyrgyz Republic",
          "Laos",
          "Latvia",
          "Lebanon",
          "Lesotho",
          "Liberia",
          "Lithuania",
          "Luxembourg",
          "Macedonia",
          "Madagascar",
          "Malawi",
          "Malaysia",
          "Maldives",
          "Mali",
          "Malta",
          "Mauritania",
          "Mauritius",
          "Mexico",
          "Moldova",
          "Mongolia",
          "Montenegro",
          "Morocco",
          "Mozambique",
          "Myanmar",
          "Namibia",
          "Nepal",
          "Netherlands",
          "New Zealand",
          "Nicaragua",
          "Nigeria",
          "Norway",
          "Oman",
          "Pakistan",
          "Panama",
          "Paraguay",
          "Peru",
          "Philippines",
          "Poland",
          "Portugal",
          "Qatar",
          "Romania",
          "Russian Federation",
          "Rwanda",
          "Saudi Arabia",
          "Senegal",
          "Serbia",
          "Singapore",
          "Slovakia",
          "Slovenia",
          "South Africa",
          "Spain",
          "Sri Lanka",
          "Suriname",
          "Swaziland",
          "Sweden",
          "Switzerland",
          "Syria",
          "Tajikistan",
          "Tanzania",
          "Thailand",
          "Timor-Leste",
          "Trinidad and Tobago",
          "Tunisia",
          "Turkey",
          "Uganda",
          "Ukraine",
          "United Arab Emirates",
          "United Kingdom",
          "United States",
          "Uruguay",
          "Venezuela",
          "Vietnam",
          "Yemen",
          "Zambia",
          "Zimbabwe"
         ],
         "marker": {
          "line": {
           "color": "white"
          }
         },
         "reversescale": true,
         "text": [
          "Albania<br>0.67",
          "Algeria<br>0.61",
          "Angola<br>0.67",
          "Argentina<br>0.72",
          "Armenia<br>0.67",
          "Australia<br>0.73",
          "Austria<br>0.71",
          "Azerbaijan<br>0.64",
          "Bahamas<br>0.71",
          "Bahrain<br>0.62",
          "Bangladesh<br>0.67",
          "Barbados<br>0.72",
          "Belarus<br>nan",
          "Belgium<br>0.75",
          "Belize<br>0.65",
          "Benin<br>0.57",
          "Bhutan<br>nan",
          "Bolivia<br>0.68",
          "Botswana<br>0.69",
          "Brazil<br>0.67",
          "Brunei Darussalam<br>0.67",
          "Bulgaria<br>0.7",
          "Burkina Faso<br>0.62",
          "Burundi<br>nan",
          "Cambodia<br>0.65",
          "Cameroon<br>0.61",
          "Canada<br>0.74",
          "Cape Verde<br>nan",
          "Chad<br>0.53",
          "Chile<br>0.7",
          "China<br>0.69",
          "Colombia<br>0.69",
          "Costa Rica<br>0.72",
          "Côte d'Ivoire<br>0.57",
          "Croatia<br>0.69",
          "Cuba<br>0.73",
          "Cyprus<br>0.66",
          "Czech Republic<br>0.68",
          "Denmark<br>0.77",
          "Dominican Republic<br>0.68",
          "Ecuador<br>0.71",
          "Egypt<br>0.59",
          "El Salvador<br>0.66",
          "Estonia<br>0.7",
          "Ethiopia<br>0.6",
          "Fiji<br>0.63",
          "Finland<br>0.83",
          "France<br>0.7",
          "Gambia, The<br>0.68",
          "Georgia<br>0.66",
          "Germany<br>0.75",
          "Ghana<br>0.68",
          "Greece<br>0.69",
          "Guatemala<br>0.62",
          "Guinea<br>nan",
          "Guyana<br>0.71",
          "Honduras<br>0.69",
          "Hungary<br>0.67",
          "Iceland<br>0.85",
          "India<br>0.62",
          "Indonesia<br>0.66",
          "Iran, Islamic Rep.<br>0.59",
          "Ireland<br>0.78",
          "Israel<br>0.7",
          "Italy<br>0.68",
          "Jamaica<br>0.7",
          "Japan<br>0.65",
          "Jordan<br>0.6",
          "Kazakhstan<br>0.71",
          "Kenya<br>0.65",
          "Korea, Rep.<br>0.63",
          "Kuwait<br>0.63",
          "Kyrgyz Republic<br>0.7",
          "Laos<br>nan",
          "Latvia<br>0.74",
          "Lebanon<br>0.61",
          "Lesotho<br>0.77",
          "Liberia<br>nan",
          "Lithuania<br>0.71",
          "Luxembourg<br>0.72",
          "Macedonia<br>0.7",
          "Madagascar<br>0.67",
          "Malawi<br>0.68",
          "Malaysia<br>0.65",
          "Maldives<br>0.65",
          "Mali<br>0.57",
          "Malta<br>0.67",
          "Mauritania<br>0.62",
          "Mauritius<br>0.65",
          "Mexico<br>0.66",
          "Moldova<br>0.72",
          "Mongolia<br>0.72",
          "Montenegro<br>nan",
          "Morocco<br>0.58",
          "Mozambique<br>0.73",
          "Myanmar<br>nan",
          "Namibia<br>0.72",
          "Nepal<br>0.61",
          "Netherlands<br>0.74",
          "New Zealand<br>0.78",
          "Nicaragua<br>0.72",
          "Nigeria<br>0.61",
          "Norway<br>0.84",
          "Oman<br>0.6",
          "Pakistan<br>0.55",
          "Panama<br>0.71",
          "Paraguay<br>0.68",
          "Peru<br>0.69",
          "Philippines<br>0.77",
          "Poland<br>0.7",
          "Portugal<br>0.72",
          "Qatar<br>0.61",
          "Romania<br>0.68",
          "Russian Federation<br>0.7",
          "Rwanda<br>nan",
          "Saudi Arabia<br>0.57",
          "Senegal<br>0.64",
          "Serbia<br>nan",
          "Singapore<br>0.69",
          "Slovakia<br>0.68",
          "Slovenia<br>0.7",
          "South Africa<br>0.75",
          "Spain<br>0.76",
          "Sri Lanka<br>0.75",
          "Suriname<br>0.64",
          "Swaziland<br>nan",
          "Sweden<br>0.8",
          "Switzerland<br>0.76",
          "Syria<br>0.59",
          "Tajikistan<br>0.66",
          "Tanzania<br>0.68",
          "Thailand<br>0.69",
          "Timor-Leste<br>nan",
          "Trinidad and Tobago<br>0.74",
          "Tunisia<br>0.63",
          "Turkey<br>0.59",
          "Uganda<br>0.72",
          "Ukraine<br>0.69",
          "United Arab Emirates<br>0.64",
          "United Kingdom<br>0.75",
          "United States<br>0.74",
          "Uruguay<br>0.69",
          "Venezuela<br>0.69",
          "Vietnam<br>0.68",
          "Yemen<br>0.46",
          "Zambia<br>0.63",
          "Zimbabwe<br>0.66"
         ],
         "type": "choropleth",
         "z": [
          0.67,
          0.61,
          0.67,
          0.72,
          0.67,
          0.73,
          0.71,
          0.64,
          0.71,
          0.62,
          0.67,
          0.72,
          null,
          0.75,
          0.65,
          0.57,
          null,
          0.68,
          0.69,
          0.67,
          0.67,
          0.7,
          0.62,
          null,
          0.65,
          0.61,
          0.74,
          null,
          0.53,
          0.7,
          0.69,
          0.69,
          0.72,
          0.57,
          0.69,
          0.73,
          0.66,
          0.68,
          0.77,
          0.68,
          0.71,
          0.59,
          0.66,
          0.7,
          0.6,
          0.63,
          0.83,
          0.7,
          0.68,
          0.66,
          0.75,
          0.68,
          0.69,
          0.62,
          null,
          0.71,
          0.69,
          0.67,
          0.85,
          0.62,
          0.66,
          0.59,
          0.78,
          0.7,
          0.68,
          0.7,
          0.65,
          0.6,
          0.71,
          0.65,
          0.63,
          0.63,
          0.7,
          null,
          0.74,
          0.61,
          0.77,
          null,
          0.71,
          0.72,
          0.7,
          0.67,
          0.68,
          0.65,
          0.65,
          0.57,
          0.67,
          0.62,
          0.65,
          0.66,
          0.72,
          0.72,
          null,
          0.58,
          0.73,
          null,
          0.72,
          0.61,
          0.74,
          0.78,
          0.72,
          0.61,
          0.84,
          0.6,
          0.55,
          0.71,
          0.68,
          0.69,
          0.77,
          0.7,
          0.72,
          0.61,
          0.68,
          0.7,
          null,
          0.57,
          0.64,
          null,
          0.69,
          0.68,
          0.7,
          0.75,
          0.76,
          0.75,
          0.64,
          null,
          0.8,
          0.76,
          0.59,
          0.66,
          0.68,
          0.69,
          null,
          0.74,
          0.63,
          0.59,
          0.72,
          0.69,
          0.64,
          0.75,
          0.74,
          0.69,
          0.69,
          0.68,
          0.46,
          0.63,
          0.66
         ]
        }
       ],
       "layout": {
        "annotations": [
         {
          "font": {
           "size": 16
          },
          "showarrow": false,
          "text": "2019",
          "x": 0.5,
          "xanchor": "center",
          "xref": "paper",
          "y": 1,
          "yanchor": "bottom",
          "yref": "paper"
         },
         {
          "font": {
           "size": 16
          },
          "showarrow": false,
          "text": "2010",
          "x": 0.5,
          "xanchor": "center",
          "xref": "paper",
          "y": 0.475,
          "yanchor": "bottom",
          "yref": "paper"
         }
        ],
        "autosize": false,
        "coloraxis": {
         "colorscale": [
          [
           0,
           "#440154"
          ],
          [
           0.1111111111111111,
           "#482878"
          ],
          [
           0.2222222222222222,
           "#3e4989"
          ],
          [
           0.3333333333333333,
           "#31688e"
          ],
          [
           0.4444444444444444,
           "#26828e"
          ],
          [
           0.5555555555555556,
           "#1f9e89"
          ],
          [
           0.6666666666666666,
           "#35b779"
          ],
          [
           0.7777777777777778,
           "#6ece58"
          ],
          [
           0.8888888888888888,
           "#b5de2b"
          ],
          [
           1,
           "#fde725"
          ]
         ],
         "reversescale": true
        },
        "geo": {
         "domain": {
          "x": [
           0,
           1
          ],
          "y": [
           0.525,
           1
          ]
         },
         "lakecolor": "rgb(255, 255, 255)",
         "projection": {
          "type": "equirectangular"
         },
         "scope": "world",
         "showcoastlines": false,
         "showframe": false,
         "showlakes": true
        },
        "geo2": {
         "domain": {
          "x": [
           0,
           1
          ],
          "y": [
           0,
           0.475
          ]
         },
         "lakecolor": "rgb(255, 255, 255)",
         "projection": {
          "type": "equirectangular"
         },
         "scope": "world",
         "showcoastlines": false,
         "showframe": false,
         "showlakes": false
        },
        "height": 900,
        "margin": {
         "b": 20,
         "l": 10,
         "pad": 0,
         "r": 10,
         "t": 100
        },
        "template": {
         "data": {
          "bar": [
           {
            "error_x": {
             "color": "#2a3f5f"
            },
            "error_y": {
             "color": "#2a3f5f"
            },
            "marker": {
             "line": {
              "color": "#E5ECF6",
              "width": 0.5
             }
            },
            "type": "bar"
           }
          ],
          "barpolar": [
           {
            "marker": {
             "line": {
              "color": "#E5ECF6",
              "width": 0.5
             }
            },
            "type": "barpolar"
           }
          ],
          "carpet": [
           {
            "aaxis": {
             "endlinecolor": "#2a3f5f",
             "gridcolor": "white",
             "linecolor": "white",
             "minorgridcolor": "white",
             "startlinecolor": "#2a3f5f"
            },
            "baxis": {
             "endlinecolor": "#2a3f5f",
             "gridcolor": "white",
             "linecolor": "white",
             "minorgridcolor": "white",
             "startlinecolor": "#2a3f5f"
            },
            "type": "carpet"
           }
          ],
          "choropleth": [
           {
            "colorbar": {
             "outlinewidth": 0,
             "ticks": ""
            },
            "type": "choropleth"
           }
          ],
          "contour": [
           {
            "colorbar": {
             "outlinewidth": 0,
             "ticks": ""
            },
            "colorscale": [
             [
              0,
              "#0d0887"
             ],
             [
              0.1111111111111111,
              "#46039f"
             ],
             [
              0.2222222222222222,
              "#7201a8"
             ],
             [
              0.3333333333333333,
              "#9c179e"
             ],
             [
              0.4444444444444444,
              "#bd3786"
             ],
             [
              0.5555555555555556,
              "#d8576b"
             ],
             [
              0.6666666666666666,
              "#ed7953"
             ],
             [
              0.7777777777777778,
              "#fb9f3a"
             ],
             [
              0.8888888888888888,
              "#fdca26"
             ],
             [
              1,
              "#f0f921"
             ]
            ],
            "type": "contour"
           }
          ],
          "contourcarpet": [
           {
            "colorbar": {
             "outlinewidth": 0,
             "ticks": ""
            },
            "type": "contourcarpet"
           }
          ],
          "heatmap": [
           {
            "colorbar": {
             "outlinewidth": 0,
             "ticks": ""
            },
            "colorscale": [
             [
              0,
              "#0d0887"
             ],
             [
              0.1111111111111111,
              "#46039f"
             ],
             [
              0.2222222222222222,
              "#7201a8"
             ],
             [
              0.3333333333333333,
              "#9c179e"
             ],
             [
              0.4444444444444444,
              "#bd3786"
             ],
             [
              0.5555555555555556,
              "#d8576b"
             ],
             [
              0.6666666666666666,
              "#ed7953"
             ],
             [
              0.7777777777777778,
              "#fb9f3a"
             ],
             [
              0.8888888888888888,
              "#fdca26"
             ],
             [
              1,
              "#f0f921"
             ]
            ],
            "type": "heatmap"
           }
          ],
          "heatmapgl": [
           {
            "colorbar": {
             "outlinewidth": 0,
             "ticks": ""
            },
            "colorscale": [
             [
              0,
              "#0d0887"
             ],
             [
              0.1111111111111111,
              "#46039f"
             ],
             [
              0.2222222222222222,
              "#7201a8"
             ],
             [
              0.3333333333333333,
              "#9c179e"
             ],
             [
              0.4444444444444444,
              "#bd3786"
             ],
             [
              0.5555555555555556,
              "#d8576b"
             ],
             [
              0.6666666666666666,
              "#ed7953"
             ],
             [
              0.7777777777777778,
              "#fb9f3a"
             ],
             [
              0.8888888888888888,
              "#fdca26"
             ],
             [
              1,
              "#f0f921"
             ]
            ],
            "type": "heatmapgl"
           }
          ],
          "histogram": [
           {
            "marker": {
             "colorbar": {
              "outlinewidth": 0,
              "ticks": ""
             }
            },
            "type": "histogram"
           }
          ],
          "histogram2d": [
           {
            "colorbar": {
             "outlinewidth": 0,
             "ticks": ""
            },
            "colorscale": [
             [
              0,
              "#0d0887"
             ],
             [
              0.1111111111111111,
              "#46039f"
             ],
             [
              0.2222222222222222,
              "#7201a8"
             ],
             [
              0.3333333333333333,
              "#9c179e"
             ],
             [
              0.4444444444444444,
              "#bd3786"
             ],
             [
              0.5555555555555556,
              "#d8576b"
             ],
             [
              0.6666666666666666,
              "#ed7953"
             ],
             [
              0.7777777777777778,
              "#fb9f3a"
             ],
             [
              0.8888888888888888,
              "#fdca26"
             ],
             [
              1,
              "#f0f921"
             ]
            ],
            "type": "histogram2d"
           }
          ],
          "histogram2dcontour": [
           {
            "colorbar": {
             "outlinewidth": 0,
             "ticks": ""
            },
            "colorscale": [
             [
              0,
              "#0d0887"
             ],
             [
              0.1111111111111111,
              "#46039f"
             ],
             [
              0.2222222222222222,
              "#7201a8"
             ],
             [
              0.3333333333333333,
              "#9c179e"
             ],
             [
              0.4444444444444444,
              "#bd3786"
             ],
             [
              0.5555555555555556,
              "#d8576b"
             ],
             [
              0.6666666666666666,
              "#ed7953"
             ],
             [
              0.7777777777777778,
              "#fb9f3a"
             ],
             [
              0.8888888888888888,
              "#fdca26"
             ],
             [
              1,
              "#f0f921"
             ]
            ],
            "type": "histogram2dcontour"
           }
          ],
          "mesh3d": [
           {
            "colorbar": {
             "outlinewidth": 0,
             "ticks": ""
            },
            "type": "mesh3d"
           }
          ],
          "parcoords": [
           {
            "line": {
             "colorbar": {
              "outlinewidth": 0,
              "ticks": ""
             }
            },
            "type": "parcoords"
           }
          ],
          "pie": [
           {
            "automargin": true,
            "type": "pie"
           }
          ],
          "scatter": [
           {
            "marker": {
             "colorbar": {
              "outlinewidth": 0,
              "ticks": ""
             }
            },
            "type": "scatter"
           }
          ],
          "scatter3d": [
           {
            "line": {
             "colorbar": {
              "outlinewidth": 0,
              "ticks": ""
             }
            },
            "marker": {
             "colorbar": {
              "outlinewidth": 0,
              "ticks": ""
             }
            },
            "type": "scatter3d"
           }
          ],
          "scattercarpet": [
           {
            "marker": {
             "colorbar": {
              "outlinewidth": 0,
              "ticks": ""
             }
            },
            "type": "scattercarpet"
           }
          ],
          "scattergeo": [
           {
            "marker": {
             "colorbar": {
              "outlinewidth": 0,
              "ticks": ""
             }
            },
            "type": "scattergeo"
           }
          ],
          "scattergl": [
           {
            "marker": {
             "colorbar": {
              "outlinewidth": 0,
              "ticks": ""
             }
            },
            "type": "scattergl"
           }
          ],
          "scattermapbox": [
           {
            "marker": {
             "colorbar": {
              "outlinewidth": 0,
              "ticks": ""
             }
            },
            "type": "scattermapbox"
           }
          ],
          "scatterpolar": [
           {
            "marker": {
             "colorbar": {
              "outlinewidth": 0,
              "ticks": ""
             }
            },
            "type": "scatterpolar"
           }
          ],
          "scatterpolargl": [
           {
            "marker": {
             "colorbar": {
              "outlinewidth": 0,
              "ticks": ""
             }
            },
            "type": "scatterpolargl"
           }
          ],
          "scatterternary": [
           {
            "marker": {
             "colorbar": {
              "outlinewidth": 0,
              "ticks": ""
             }
            },
            "type": "scatterternary"
           }
          ],
          "surface": [
           {
            "colorbar": {
             "outlinewidth": 0,
             "ticks": ""
            },
            "colorscale": [
             [
              0,
              "#0d0887"
             ],
             [
              0.1111111111111111,
              "#46039f"
             ],
             [
              0.2222222222222222,
              "#7201a8"
             ],
             [
              0.3333333333333333,
              "#9c179e"
             ],
             [
              0.4444444444444444,
              "#bd3786"
             ],
             [
              0.5555555555555556,
              "#d8576b"
             ],
             [
              0.6666666666666666,
              "#ed7953"
             ],
             [
              0.7777777777777778,
              "#fb9f3a"
             ],
             [
              0.8888888888888888,
              "#fdca26"
             ],
             [
              1,
              "#f0f921"
             ]
            ],
            "type": "surface"
           }
          ],
          "table": [
           {
            "cells": {
             "fill": {
              "color": "#EBF0F8"
             },
             "line": {
              "color": "white"
             }
            },
            "header": {
             "fill": {
              "color": "#C8D4E3"
             },
             "line": {
              "color": "white"
             }
            },
            "type": "table"
           }
          ]
         },
         "layout": {
          "annotationdefaults": {
           "arrowcolor": "#2a3f5f",
           "arrowhead": 0,
           "arrowwidth": 1
          },
          "coloraxis": {
           "colorbar": {
            "outlinewidth": 0,
            "ticks": ""
           }
          },
          "colorscale": {
           "diverging": [
            [
             0,
             "#8e0152"
            ],
            [
             0.1,
             "#c51b7d"
            ],
            [
             0.2,
             "#de77ae"
            ],
            [
             0.3,
             "#f1b6da"
            ],
            [
             0.4,
             "#fde0ef"
            ],
            [
             0.5,
             "#f7f7f7"
            ],
            [
             0.6,
             "#e6f5d0"
            ],
            [
             0.7,
             "#b8e186"
            ],
            [
             0.8,
             "#7fbc41"
            ],
            [
             0.9,
             "#4d9221"
            ],
            [
             1,
             "#276419"
            ]
           ],
           "sequential": [
            [
             0,
             "#0d0887"
            ],
            [
             0.1111111111111111,
             "#46039f"
            ],
            [
             0.2222222222222222,
             "#7201a8"
            ],
            [
             0.3333333333333333,
             "#9c179e"
            ],
            [
             0.4444444444444444,
             "#bd3786"
            ],
            [
             0.5555555555555556,
             "#d8576b"
            ],
            [
             0.6666666666666666,
             "#ed7953"
            ],
            [
             0.7777777777777778,
             "#fb9f3a"
            ],
            [
             0.8888888888888888,
             "#fdca26"
            ],
            [
             1,
             "#f0f921"
            ]
           ],
           "sequentialminus": [
            [
             0,
             "#0d0887"
            ],
            [
             0.1111111111111111,
             "#46039f"
            ],
            [
             0.2222222222222222,
             "#7201a8"
            ],
            [
             0.3333333333333333,
             "#9c179e"
            ],
            [
             0.4444444444444444,
             "#bd3786"
            ],
            [
             0.5555555555555556,
             "#d8576b"
            ],
            [
             0.6666666666666666,
             "#ed7953"
            ],
            [
             0.7777777777777778,
             "#fb9f3a"
            ],
            [
             0.8888888888888888,
             "#fdca26"
            ],
            [
             1,
             "#f0f921"
            ]
           ]
          },
          "colorway": [
           "#636efa",
           "#EF553B",
           "#00cc96",
           "#ab63fa",
           "#FFA15A",
           "#19d3f3",
           "#FF6692",
           "#B6E880",
           "#FF97FF",
           "#FECB52"
          ],
          "font": {
           "color": "#2a3f5f"
          },
          "geo": {
           "bgcolor": "white",
           "lakecolor": "white",
           "landcolor": "#E5ECF6",
           "showlakes": true,
           "showland": true,
           "subunitcolor": "white"
          },
          "hoverlabel": {
           "align": "left"
          },
          "hovermode": "closest",
          "mapbox": {
           "style": "light"
          },
          "paper_bgcolor": "white",
          "plot_bgcolor": "#E5ECF6",
          "polar": {
           "angularaxis": {
            "gridcolor": "white",
            "linecolor": "white",
            "ticks": ""
           },
           "bgcolor": "#E5ECF6",
           "radialaxis": {
            "gridcolor": "white",
            "linecolor": "white",
            "ticks": ""
           }
          },
          "scene": {
           "xaxis": {
            "backgroundcolor": "#E5ECF6",
            "gridcolor": "white",
            "gridwidth": 2,
            "linecolor": "white",
            "showbackground": true,
            "ticks": "",
            "zerolinecolor": "white"
           },
           "yaxis": {
            "backgroundcolor": "#E5ECF6",
            "gridcolor": "white",
            "gridwidth": 2,
            "linecolor": "white",
            "showbackground": true,
            "ticks": "",
            "zerolinecolor": "white"
           },
           "zaxis": {
            "backgroundcolor": "#E5ECF6",
            "gridcolor": "white",
            "gridwidth": 2,
            "linecolor": "white",
            "showbackground": true,
            "ticks": "",
            "zerolinecolor": "white"
           }
          },
          "shapedefaults": {
           "line": {
            "color": "#2a3f5f"
           }
          },
          "ternary": {
           "aaxis": {
            "gridcolor": "white",
            "linecolor": "white",
            "ticks": ""
           },
           "baxis": {
            "gridcolor": "white",
            "linecolor": "white",
            "ticks": ""
           },
           "bgcolor": "#E5ECF6",
           "caxis": {
            "gridcolor": "white",
            "linecolor": "white",
            "ticks": ""
           }
          },
          "title": {
           "x": 0.05
          },
          "xaxis": {
           "automargin": true,
           "gridcolor": "white",
           "linecolor": "white",
           "ticks": "",
           "title": {
            "standoff": 15
           },
           "zerolinecolor": "white",
           "zerolinewidth": 2
          },
          "yaxis": {
           "automargin": true,
           "gridcolor": "white",
           "linecolor": "white",
           "ticks": "",
           "title": {
            "standoff": 15
           },
           "zerolinecolor": "white",
           "zerolinewidth": 2
          }
         }
        },
        "title": {
         "text": "2011 US Agriculture Exports by State"
        },
        "width": 900
       }
      },
      "text/html": [
       "<div>\n",
       "        \n",
       "        \n",
       "            <div id=\"27c9f1ce-facf-4c3f-96d3-4beaba0417ad\" class=\"plotly-graph-div\" style=\"height:900px; width:900px;\"></div>\n",
       "            <script type=\"text/javascript\">\n",
       "                require([\"plotly\"], function(Plotly) {\n",
       "                    window.PLOTLYENV=window.PLOTLYENV || {};\n",
       "                    \n",
       "                if (document.getElementById(\"27c9f1ce-facf-4c3f-96d3-4beaba0417ad\")) {\n",
       "                    Plotly.newPlot(\n",
       "                        '27c9f1ce-facf-4c3f-96d3-4beaba0417ad',\n",
       "                        [{\"coloraxis\": \"coloraxis\", \"geo\": \"geo\", \"hoverinfo\": \"text\", \"locationmode\": \"country names\", \"locations\": [\"Albania\", \"Algeria\", \"Angola\", \"Argentina\", \"Armenia\", \"Australia\", \"Austria\", \"Azerbaijan\", \"Bahamas\", \"Bahrain\", \"Bangladesh\", \"Barbados\", \"Belarus\", \"Belgium\", \"Belize\", \"Benin\", \"Bhutan\", \"Bolivia\", \"Botswana\", \"Brazil\", \"Brunei Darussalam\", \"Bulgaria\", \"Burkina Faso\", \"Burundi\", \"Cambodia\", \"Cameroon\", \"Canada\", \"Cape Verde\", \"Chad\", \"Chile\", \"China\", \"Colombia\", \"Costa Rica\", \"C\\u00f4te d'Ivoire\", \"Croatia\", \"Cuba\", \"Cyprus\", \"Czech Republic\", \"Denmark\", \"Dominican Republic\", \"Ecuador\", \"Egypt\", \"El Salvador\", \"Estonia\", \"Ethiopia\", \"Fiji\", \"Finland\", \"France\", \"Gambia, The\", \"Georgia\", \"Germany\", \"Ghana\", \"Greece\", \"Guatemala\", \"Guinea\", \"Guyana\", \"Honduras\", \"Hungary\", \"Iceland\", \"India\", \"Indonesia\", \"Iran, Islamic Rep.\", \"Ireland\", \"Israel\", \"Italy\", \"Jamaica\", \"Japan\", \"Jordan\", \"Kazakhstan\", \"Kenya\", \"Korea, Rep.\", \"Kuwait\", \"Kyrgyz Republic\", \"Laos\", \"Latvia\", \"Lebanon\", \"Lesotho\", \"Liberia\", \"Lithuania\", \"Luxembourg\", \"Macedonia\", \"Madagascar\", \"Malawi\", \"Malaysia\", \"Maldives\", \"Mali\", \"Malta\", \"Mauritania\", \"Mauritius\", \"Mexico\", \"Moldova\", \"Mongolia\", \"Montenegro\", \"Morocco\", \"Mozambique\", \"Myanmar\", \"Namibia\", \"Nepal\", \"Netherlands\", \"New Zealand\", \"Nicaragua\", \"Nigeria\", \"Norway\", \"Oman\", \"Pakistan\", \"Panama\", \"Paraguay\", \"Peru\", \"Philippines\", \"Poland\", \"Portugal\", \"Qatar\", \"Romania\", \"Russian Federation\", \"Rwanda\", \"Saudi Arabia\", \"Senegal\", \"Serbia\", \"Singapore\", \"Slovakia\", \"Slovenia\", \"South Africa\", \"Spain\", \"Sri Lanka\", \"Suriname\", \"Swaziland\", \"Sweden\", \"Switzerland\", \"Syria\", \"Tajikistan\", \"Tanzania\", \"Thailand\", \"Timor-Leste\", \"Trinidad and Tobago\", \"Tunisia\", \"Turkey\", \"Uganda\", \"Ukraine\", \"United Arab Emirates\", \"United Kingdom\", \"United States\", \"Uruguay\", \"Venezuela\", \"Vietnam\", \"Yemen\", \"Zambia\", \"Zimbabwe\"], \"marker\": {\"line\": {\"color\": \"white\"}}, \"reversescale\": true, \"text\": [\"Albania<br>0.77\", \"Algeria<br>0.63\", \"Angola<br>0.66\", \"Argentina<br>0.75\", \"Armenia<br>0.68\", \"Australia<br>0.73\", \"Austria<br>0.74\", \"Azerbaijan<br>0.69\", \"Bahamas<br>0.72\", \"Bahrain<br>0.63\", \"Bangladesh<br>0.73\", \"Barbados<br>0.75\", \"Belarus<br>0.75\", \"Belgium<br>0.75\", \"Belize<br>0.67\", \"Benin<br>0.66\", \"Bhutan<br>0.64\", \"Bolivia<br>0.73\", \"Botswana<br>0.71\", \"Brazil<br>0.69\", \"Brunei Darussalam<br>0.69\", \"Bulgaria<br>0.73\", \"Burkina Faso<br>0.64\", \"Burundi<br>0.74\", \"Cambodia<br>0.69\", \"Cameroon<br>0.69\", \"Canada<br>0.77\", \"Cape Verde<br>0.72\", \"Chad<br>0.6\", \"Chile<br>0.72\", \"China<br>0.68\", \"Colombia<br>0.76\", \"Costa Rica<br>0.78\", \"C\\u00f4te d'Ivoire<br>0.61\", \"Croatia<br>0.72\", \"Cuba<br>0.75\", \"Cyprus<br>0.69\", \"Czech Republic<br>0.71\", \"Denmark<br>0.78\", \"Dominican Republic<br>0.7\", \"Ecuador<br>0.73\", \"Egypt<br>0.63\", \"El Salvador<br>0.71\", \"Estonia<br>0.75\", \"Ethiopia<br>0.7\", \"Fiji<br>0.68\", \"Finland<br>0.83\", \"France<br>0.78\", \"Gambia, The<br>0.63\", \"Georgia<br>0.71\", \"Germany<br>0.79\", \"Ghana<br>0.67\", \"Greece<br>0.7\", \"Guatemala<br>0.67\", \"Guinea<br>0.64\", \"Guyana<br>nan\", \"Honduras<br>0.72\", \"Hungary<br>0.68\", \"Iceland<br>0.88\", \"India<br>0.67\", \"Indonesia<br>0.7\", \"Iran, Islamic Rep.<br>0.58\", \"Ireland<br>0.8\", \"Israel<br>0.72\", \"Italy<br>0.71\", \"Jamaica<br>0.74\", \"Japan<br>0.65\", \"Jordan<br>0.62\", \"Kazakhstan<br>0.71\", \"Kenya<br>0.67\", \"Korea, Rep.<br>0.67\", \"Kuwait<br>0.65\", \"Kyrgyz Republic<br>0.69\", \"Laos<br>0.73\", \"Latvia<br>0.78\", \"Lebanon<br>0.6\", \"Lesotho<br>0.7\", \"Liberia<br>0.68\", \"Lithuania<br>0.74\", \"Luxembourg<br>0.72\", \"Macedonia<br>0.71\", \"Madagascar<br>0.72\", \"Malawi<br>0.66\", \"Malaysia<br>0.68\", \"Maldives<br>0.65\", \"Mali<br>0.62\", \"Malta<br>0.69\", \"Mauritania<br>0.61\", \"Mauritius<br>0.66\", \"Mexico<br>0.75\", \"Moldova<br>0.76\", \"Mongolia<br>0.71\", \"Montenegro<br>0.71\", \"Morocco<br>0.6\", \"Mozambique<br>0.72\", \"Myanmar<br>0.66\", \"Namibia<br>0.78\", \"Nepal<br>0.68\", \"Netherlands<br>0.74\", \"New Zealand<br>0.8\", \"Nicaragua<br>0.8\", \"Nigeria<br>0.64\", \"Norway<br>0.84\", \"Oman<br>0.6\", \"Pakistan<br>0.56\", \"Panama<br>0.73\", \"Paraguay<br>0.68\", \"Peru<br>0.71\", \"Philippines<br>0.78\", \"Poland<br>0.74\", \"Portugal<br>0.74\", \"Qatar<br>0.63\", \"Romania<br>0.72\", \"Russian Federation<br>0.71\", \"Rwanda<br>0.79\", \"Saudi Arabia<br>0.6\", \"Senegal<br>0.68\", \"Serbia<br>0.74\", \"Singapore<br>0.72\", \"Slovakia<br>0.72\", \"Slovenia<br>0.74\", \"South Africa<br>0.78\", \"Spain<br>0.8\", \"Sri Lanka<br>0.68\", \"Suriname<br>0.71\", \"Swaziland<br>nan\", \"Sweden<br>0.82\", \"Switzerland<br>0.78\", \"Syria<br>0.57\", \"Tajikistan<br>0.63\", \"Tanzania<br>0.71\", \"Thailand<br>0.71\", \"Timor-Leste<br>0.66\", \"Trinidad and Tobago<br>0.76\", \"Tunisia<br>0.64\", \"Turkey<br>0.64\", \"Uganda<br>0.72\", \"Ukraine<br>0.72\", \"United Arab Emirates<br>0.66\", \"United Kingdom<br>0.77\", \"United States<br>0.72\", \"Uruguay<br>0.74\", \"Venezuela<br>0.71\", \"Vietnam<br>0.7\", \"Yemen<br>0.49\", \"Zambia<br>0.73\", \"Zimbabwe<br>0.73\"], \"type\": \"choropleth\", \"z\": [0.77, 0.63, 0.66, 0.75, 0.68, 0.73, 0.74, 0.69, 0.72, 0.63, 0.73, 0.75, 0.75, 0.75, 0.67, 0.66, 0.64, 0.73, 0.71, 0.69, 0.69, 0.73, 0.64, 0.74, 0.69, 0.69, 0.77, 0.72, 0.6, 0.72, 0.68, 0.76, 0.78, 0.61, 0.72, 0.75, 0.69, 0.71, 0.78, 0.7, 0.73, 0.63, 0.71, 0.75, 0.7, 0.68, 0.83, 0.78, 0.63, 0.71, 0.79, 0.67, 0.7, 0.67, 0.64, null, 0.72, 0.68, 0.88, 0.67, 0.7, 0.58, 0.8, 0.72, 0.71, 0.74, 0.65, 0.62, 0.71, 0.67, 0.67, 0.65, 0.69, 0.73, 0.78, 0.6, 0.7, 0.68, 0.74, 0.72, 0.71, 0.72, 0.66, 0.68, 0.65, 0.62, 0.69, 0.61, 0.66, 0.75, 0.76, 0.71, 0.71, 0.6, 0.72, 0.66, 0.78, 0.68, 0.74, 0.8, 0.8, 0.64, 0.84, 0.6, 0.56, 0.73, 0.68, 0.71, 0.78, 0.74, 0.74, 0.63, 0.72, 0.71, 0.79, 0.6, 0.68, 0.74, 0.72, 0.72, 0.74, 0.78, 0.8, 0.68, 0.71, null, 0.82, 0.78, 0.57, 0.63, 0.71, 0.71, 0.66, 0.76, 0.64, 0.64, 0.72, 0.72, 0.66, 0.77, 0.72, 0.74, 0.71, 0.7, 0.49, 0.73, 0.73]}, {\"coloraxis\": \"coloraxis\", \"geo\": \"geo2\", \"hoverinfo\": \"text\", \"locationmode\": \"country names\", \"locations\": [\"Albania\", \"Algeria\", \"Angola\", \"Argentina\", \"Armenia\", \"Australia\", \"Austria\", \"Azerbaijan\", \"Bahamas\", \"Bahrain\", \"Bangladesh\", \"Barbados\", \"Belarus\", \"Belgium\", \"Belize\", \"Benin\", \"Bhutan\", \"Bolivia\", \"Botswana\", \"Brazil\", \"Brunei Darussalam\", \"Bulgaria\", \"Burkina Faso\", \"Burundi\", \"Cambodia\", \"Cameroon\", \"Canada\", \"Cape Verde\", \"Chad\", \"Chile\", \"China\", \"Colombia\", \"Costa Rica\", \"C\\u00f4te d'Ivoire\", \"Croatia\", \"Cuba\", \"Cyprus\", \"Czech Republic\", \"Denmark\", \"Dominican Republic\", \"Ecuador\", \"Egypt\", \"El Salvador\", \"Estonia\", \"Ethiopia\", \"Fiji\", \"Finland\", \"France\", \"Gambia, The\", \"Georgia\", \"Germany\", \"Ghana\", \"Greece\", \"Guatemala\", \"Guinea\", \"Guyana\", \"Honduras\", \"Hungary\", \"Iceland\", \"India\", \"Indonesia\", \"Iran, Islamic Rep.\", \"Ireland\", \"Israel\", \"Italy\", \"Jamaica\", \"Japan\", \"Jordan\", \"Kazakhstan\", \"Kenya\", \"Korea, Rep.\", \"Kuwait\", \"Kyrgyz Republic\", \"Laos\", \"Latvia\", \"Lebanon\", \"Lesotho\", \"Liberia\", \"Lithuania\", \"Luxembourg\", \"Macedonia\", \"Madagascar\", \"Malawi\", \"Malaysia\", \"Maldives\", \"Mali\", \"Malta\", \"Mauritania\", \"Mauritius\", \"Mexico\", \"Moldova\", \"Mongolia\", \"Montenegro\", \"Morocco\", \"Mozambique\", \"Myanmar\", \"Namibia\", \"Nepal\", \"Netherlands\", \"New Zealand\", \"Nicaragua\", \"Nigeria\", \"Norway\", \"Oman\", \"Pakistan\", \"Panama\", \"Paraguay\", \"Peru\", \"Philippines\", \"Poland\", \"Portugal\", \"Qatar\", \"Romania\", \"Russian Federation\", \"Rwanda\", \"Saudi Arabia\", \"Senegal\", \"Serbia\", \"Singapore\", \"Slovakia\", \"Slovenia\", \"South Africa\", \"Spain\", \"Sri Lanka\", \"Suriname\", \"Swaziland\", \"Sweden\", \"Switzerland\", \"Syria\", \"Tajikistan\", \"Tanzania\", \"Thailand\", \"Timor-Leste\", \"Trinidad and Tobago\", \"Tunisia\", \"Turkey\", \"Uganda\", \"Ukraine\", \"United Arab Emirates\", \"United Kingdom\", \"United States\", \"Uruguay\", \"Venezuela\", \"Vietnam\", \"Yemen\", \"Zambia\", \"Zimbabwe\"], \"marker\": {\"line\": {\"color\": \"white\"}}, \"reversescale\": true, \"text\": [\"Albania<br>0.67\", \"Algeria<br>0.61\", \"Angola<br>0.67\", \"Argentina<br>0.72\", \"Armenia<br>0.67\", \"Australia<br>0.73\", \"Austria<br>0.71\", \"Azerbaijan<br>0.64\", \"Bahamas<br>0.71\", \"Bahrain<br>0.62\", \"Bangladesh<br>0.67\", \"Barbados<br>0.72\", \"Belarus<br>nan\", \"Belgium<br>0.75\", \"Belize<br>0.65\", \"Benin<br>0.57\", \"Bhutan<br>nan\", \"Bolivia<br>0.68\", \"Botswana<br>0.69\", \"Brazil<br>0.67\", \"Brunei Darussalam<br>0.67\", \"Bulgaria<br>0.7\", \"Burkina Faso<br>0.62\", \"Burundi<br>nan\", \"Cambodia<br>0.65\", \"Cameroon<br>0.61\", \"Canada<br>0.74\", \"Cape Verde<br>nan\", \"Chad<br>0.53\", \"Chile<br>0.7\", \"China<br>0.69\", \"Colombia<br>0.69\", \"Costa Rica<br>0.72\", \"C\\u00f4te d'Ivoire<br>0.57\", \"Croatia<br>0.69\", \"Cuba<br>0.73\", \"Cyprus<br>0.66\", \"Czech Republic<br>0.68\", \"Denmark<br>0.77\", \"Dominican Republic<br>0.68\", \"Ecuador<br>0.71\", \"Egypt<br>0.59\", \"El Salvador<br>0.66\", \"Estonia<br>0.7\", \"Ethiopia<br>0.6\", \"Fiji<br>0.63\", \"Finland<br>0.83\", \"France<br>0.7\", \"Gambia, The<br>0.68\", \"Georgia<br>0.66\", \"Germany<br>0.75\", \"Ghana<br>0.68\", \"Greece<br>0.69\", \"Guatemala<br>0.62\", \"Guinea<br>nan\", \"Guyana<br>0.71\", \"Honduras<br>0.69\", \"Hungary<br>0.67\", \"Iceland<br>0.85\", \"India<br>0.62\", \"Indonesia<br>0.66\", \"Iran, Islamic Rep.<br>0.59\", \"Ireland<br>0.78\", \"Israel<br>0.7\", \"Italy<br>0.68\", \"Jamaica<br>0.7\", \"Japan<br>0.65\", \"Jordan<br>0.6\", \"Kazakhstan<br>0.71\", \"Kenya<br>0.65\", \"Korea, Rep.<br>0.63\", \"Kuwait<br>0.63\", \"Kyrgyz Republic<br>0.7\", \"Laos<br>nan\", \"Latvia<br>0.74\", \"Lebanon<br>0.61\", \"Lesotho<br>0.77\", \"Liberia<br>nan\", \"Lithuania<br>0.71\", \"Luxembourg<br>0.72\", \"Macedonia<br>0.7\", \"Madagascar<br>0.67\", \"Malawi<br>0.68\", \"Malaysia<br>0.65\", \"Maldives<br>0.65\", \"Mali<br>0.57\", \"Malta<br>0.67\", \"Mauritania<br>0.62\", \"Mauritius<br>0.65\", \"Mexico<br>0.66\", \"Moldova<br>0.72\", \"Mongolia<br>0.72\", \"Montenegro<br>nan\", \"Morocco<br>0.58\", \"Mozambique<br>0.73\", \"Myanmar<br>nan\", \"Namibia<br>0.72\", \"Nepal<br>0.61\", \"Netherlands<br>0.74\", \"New Zealand<br>0.78\", \"Nicaragua<br>0.72\", \"Nigeria<br>0.61\", \"Norway<br>0.84\", \"Oman<br>0.6\", \"Pakistan<br>0.55\", \"Panama<br>0.71\", \"Paraguay<br>0.68\", \"Peru<br>0.69\", \"Philippines<br>0.77\", \"Poland<br>0.7\", \"Portugal<br>0.72\", \"Qatar<br>0.61\", \"Romania<br>0.68\", \"Russian Federation<br>0.7\", \"Rwanda<br>nan\", \"Saudi Arabia<br>0.57\", \"Senegal<br>0.64\", \"Serbia<br>nan\", \"Singapore<br>0.69\", \"Slovakia<br>0.68\", \"Slovenia<br>0.7\", \"South Africa<br>0.75\", \"Spain<br>0.76\", \"Sri Lanka<br>0.75\", \"Suriname<br>0.64\", \"Swaziland<br>nan\", \"Sweden<br>0.8\", \"Switzerland<br>0.76\", \"Syria<br>0.59\", \"Tajikistan<br>0.66\", \"Tanzania<br>0.68\", \"Thailand<br>0.69\", \"Timor-Leste<br>nan\", \"Trinidad and Tobago<br>0.74\", \"Tunisia<br>0.63\", \"Turkey<br>0.59\", \"Uganda<br>0.72\", \"Ukraine<br>0.69\", \"United Arab Emirates<br>0.64\", \"United Kingdom<br>0.75\", \"United States<br>0.74\", \"Uruguay<br>0.69\", \"Venezuela<br>0.69\", \"Vietnam<br>0.68\", \"Yemen<br>0.46\", \"Zambia<br>0.63\", \"Zimbabwe<br>0.66\"], \"type\": \"choropleth\", \"z\": [0.67, 0.61, 0.67, 0.72, 0.67, 0.73, 0.71, 0.64, 0.71, 0.62, 0.67, 0.72, null, 0.75, 0.65, 0.57, null, 0.68, 0.69, 0.67, 0.67, 0.7, 0.62, null, 0.65, 0.61, 0.74, null, 0.53, 0.7, 0.69, 0.69, 0.72, 0.57, 0.69, 0.73, 0.66, 0.68, 0.77, 0.68, 0.71, 0.59, 0.66, 0.7, 0.6, 0.63, 0.83, 0.7, 0.68, 0.66, 0.75, 0.68, 0.69, 0.62, null, 0.71, 0.69, 0.67, 0.85, 0.62, 0.66, 0.59, 0.78, 0.7, 0.68, 0.7, 0.65, 0.6, 0.71, 0.65, 0.63, 0.63, 0.7, null, 0.74, 0.61, 0.77, null, 0.71, 0.72, 0.7, 0.67, 0.68, 0.65, 0.65, 0.57, 0.67, 0.62, 0.65, 0.66, 0.72, 0.72, null, 0.58, 0.73, null, 0.72, 0.61, 0.74, 0.78, 0.72, 0.61, 0.84, 0.6, 0.55, 0.71, 0.68, 0.69, 0.77, 0.7, 0.72, 0.61, 0.68, 0.7, null, 0.57, 0.64, null, 0.69, 0.68, 0.7, 0.75, 0.76, 0.75, 0.64, null, 0.8, 0.76, 0.59, 0.66, 0.68, 0.69, null, 0.74, 0.63, 0.59, 0.72, 0.69, 0.64, 0.75, 0.74, 0.69, 0.69, 0.68, 0.46, 0.63, 0.66]}],\n",
       "                        {\"annotations\": [{\"font\": {\"size\": 16}, \"showarrow\": false, \"text\": \"2019\", \"x\": 0.5, \"xanchor\": \"center\", \"xref\": \"paper\", \"y\": 1.0, \"yanchor\": \"bottom\", \"yref\": \"paper\"}, {\"font\": {\"size\": 16}, \"showarrow\": false, \"text\": \"2010\", \"x\": 0.5, \"xanchor\": \"center\", \"xref\": \"paper\", \"y\": 0.475, \"yanchor\": \"bottom\", \"yref\": \"paper\"}], \"autosize\": false, \"coloraxis\": {\"colorscale\": [[0.0, \"#440154\"], [0.1111111111111111, \"#482878\"], [0.2222222222222222, \"#3e4989\"], [0.3333333333333333, \"#31688e\"], [0.4444444444444444, \"#26828e\"], [0.5555555555555556, \"#1f9e89\"], [0.6666666666666666, \"#35b779\"], [0.7777777777777778, \"#6ece58\"], [0.8888888888888888, \"#b5de2b\"], [1.0, \"#fde725\"]], \"reversescale\": true}, \"geo\": {\"domain\": {\"x\": [0.0, 1.0], \"y\": [0.525, 1.0]}, \"lakecolor\": \"rgb(255, 255, 255)\", \"projection\": {\"type\": \"equirectangular\"}, \"scope\": \"world\", \"showcoastlines\": false, \"showframe\": false, \"showlakes\": true}, \"geo2\": {\"domain\": {\"x\": [0.0, 1.0], \"y\": [0.0, 0.475]}, \"lakecolor\": \"rgb(255, 255, 255)\", \"projection\": {\"type\": \"equirectangular\"}, \"scope\": \"world\", \"showcoastlines\": false, \"showframe\": false, \"showlakes\": false}, \"height\": 900, \"margin\": {\"b\": 20, \"l\": 10, \"pad\": 0, \"r\": 10, \"t\": 100}, \"template\": {\"data\": {\"bar\": [{\"error_x\": {\"color\": \"#2a3f5f\"}, \"error_y\": {\"color\": \"#2a3f5f\"}, \"marker\": {\"line\": {\"color\": \"#E5ECF6\", \"width\": 0.5}}, \"type\": \"bar\"}], \"barpolar\": [{\"marker\": {\"line\": {\"color\": \"#E5ECF6\", \"width\": 0.5}}, \"type\": \"barpolar\"}], \"carpet\": [{\"aaxis\": {\"endlinecolor\": \"#2a3f5f\", \"gridcolor\": \"white\", \"linecolor\": \"white\", \"minorgridcolor\": \"white\", \"startlinecolor\": \"#2a3f5f\"}, \"baxis\": {\"endlinecolor\": \"#2a3f5f\", \"gridcolor\": \"white\", \"linecolor\": \"white\", \"minorgridcolor\": \"white\", \"startlinecolor\": \"#2a3f5f\"}, \"type\": \"carpet\"}], \"choropleth\": [{\"colorbar\": {\"outlinewidth\": 0, \"ticks\": \"\"}, \"type\": \"choropleth\"}], \"contour\": [{\"colorbar\": {\"outlinewidth\": 0, \"ticks\": \"\"}, \"colorscale\": [[0.0, \"#0d0887\"], [0.1111111111111111, \"#46039f\"], [0.2222222222222222, \"#7201a8\"], [0.3333333333333333, \"#9c179e\"], [0.4444444444444444, \"#bd3786\"], [0.5555555555555556, \"#d8576b\"], [0.6666666666666666, \"#ed7953\"], [0.7777777777777778, \"#fb9f3a\"], [0.8888888888888888, \"#fdca26\"], [1.0, \"#f0f921\"]], \"type\": \"contour\"}], \"contourcarpet\": [{\"colorbar\": {\"outlinewidth\": 0, \"ticks\": \"\"}, \"type\": \"contourcarpet\"}], \"heatmap\": [{\"colorbar\": {\"outlinewidth\": 0, \"ticks\": \"\"}, \"colorscale\": [[0.0, \"#0d0887\"], [0.1111111111111111, \"#46039f\"], [0.2222222222222222, \"#7201a8\"], [0.3333333333333333, \"#9c179e\"], [0.4444444444444444, \"#bd3786\"], [0.5555555555555556, \"#d8576b\"], [0.6666666666666666, \"#ed7953\"], [0.7777777777777778, \"#fb9f3a\"], [0.8888888888888888, \"#fdca26\"], [1.0, \"#f0f921\"]], \"type\": \"heatmap\"}], \"heatmapgl\": [{\"colorbar\": {\"outlinewidth\": 0, \"ticks\": \"\"}, \"colorscale\": [[0.0, \"#0d0887\"], [0.1111111111111111, \"#46039f\"], [0.2222222222222222, \"#7201a8\"], [0.3333333333333333, \"#9c179e\"], [0.4444444444444444, \"#bd3786\"], [0.5555555555555556, \"#d8576b\"], [0.6666666666666666, \"#ed7953\"], [0.7777777777777778, \"#fb9f3a\"], [0.8888888888888888, \"#fdca26\"], [1.0, \"#f0f921\"]], \"type\": \"heatmapgl\"}], \"histogram\": [{\"marker\": {\"colorbar\": {\"outlinewidth\": 0, \"ticks\": \"\"}}, \"type\": \"histogram\"}], \"histogram2d\": [{\"colorbar\": {\"outlinewidth\": 0, \"ticks\": \"\"}, \"colorscale\": [[0.0, \"#0d0887\"], [0.1111111111111111, \"#46039f\"], [0.2222222222222222, \"#7201a8\"], [0.3333333333333333, \"#9c179e\"], [0.4444444444444444, \"#bd3786\"], [0.5555555555555556, \"#d8576b\"], [0.6666666666666666, \"#ed7953\"], [0.7777777777777778, \"#fb9f3a\"], [0.8888888888888888, \"#fdca26\"], [1.0, \"#f0f921\"]], \"type\": \"histogram2d\"}], \"histogram2dcontour\": [{\"colorbar\": {\"outlinewidth\": 0, \"ticks\": \"\"}, \"colorscale\": [[0.0, \"#0d0887\"], [0.1111111111111111, \"#46039f\"], [0.2222222222222222, \"#7201a8\"], [0.3333333333333333, \"#9c179e\"], [0.4444444444444444, \"#bd3786\"], [0.5555555555555556, \"#d8576b\"], [0.6666666666666666, \"#ed7953\"], [0.7777777777777778, \"#fb9f3a\"], [0.8888888888888888, \"#fdca26\"], [1.0, \"#f0f921\"]], \"type\": \"histogram2dcontour\"}], \"mesh3d\": [{\"colorbar\": {\"outlinewidth\": 0, \"ticks\": \"\"}, \"type\": \"mesh3d\"}], \"parcoords\": [{\"line\": {\"colorbar\": {\"outlinewidth\": 0, \"ticks\": \"\"}}, \"type\": \"parcoords\"}], \"pie\": [{\"automargin\": true, \"type\": \"pie\"}], \"scatter\": [{\"marker\": {\"colorbar\": {\"outlinewidth\": 0, \"ticks\": \"\"}}, \"type\": \"scatter\"}], \"scatter3d\": [{\"line\": {\"colorbar\": {\"outlinewidth\": 0, \"ticks\": \"\"}}, \"marker\": {\"colorbar\": {\"outlinewidth\": 0, \"ticks\": \"\"}}, \"type\": \"scatter3d\"}], \"scattercarpet\": [{\"marker\": {\"colorbar\": {\"outlinewidth\": 0, \"ticks\": \"\"}}, \"type\": \"scattercarpet\"}], \"scattergeo\": [{\"marker\": {\"colorbar\": {\"outlinewidth\": 0, \"ticks\": \"\"}}, \"type\": \"scattergeo\"}], \"scattergl\": [{\"marker\": {\"colorbar\": {\"outlinewidth\": 0, \"ticks\": \"\"}}, \"type\": \"scattergl\"}], \"scattermapbox\": [{\"marker\": {\"colorbar\": {\"outlinewidth\": 0, \"ticks\": \"\"}}, \"type\": \"scattermapbox\"}], \"scatterpolar\": [{\"marker\": {\"colorbar\": {\"outlinewidth\": 0, \"ticks\": \"\"}}, \"type\": \"scatterpolar\"}], \"scatterpolargl\": [{\"marker\": {\"colorbar\": {\"outlinewidth\": 0, \"ticks\": \"\"}}, \"type\": \"scatterpolargl\"}], \"scatterternary\": [{\"marker\": {\"colorbar\": {\"outlinewidth\": 0, \"ticks\": \"\"}}, \"type\": \"scatterternary\"}], \"surface\": [{\"colorbar\": {\"outlinewidth\": 0, \"ticks\": \"\"}, \"colorscale\": [[0.0, \"#0d0887\"], [0.1111111111111111, \"#46039f\"], [0.2222222222222222, \"#7201a8\"], [0.3333333333333333, \"#9c179e\"], [0.4444444444444444, \"#bd3786\"], [0.5555555555555556, \"#d8576b\"], [0.6666666666666666, \"#ed7953\"], [0.7777777777777778, \"#fb9f3a\"], [0.8888888888888888, \"#fdca26\"], [1.0, \"#f0f921\"]], \"type\": \"surface\"}], \"table\": [{\"cells\": {\"fill\": {\"color\": \"#EBF0F8\"}, \"line\": {\"color\": \"white\"}}, \"header\": {\"fill\": {\"color\": \"#C8D4E3\"}, \"line\": {\"color\": \"white\"}}, \"type\": \"table\"}]}, \"layout\": {\"annotationdefaults\": {\"arrowcolor\": \"#2a3f5f\", \"arrowhead\": 0, \"arrowwidth\": 1}, \"coloraxis\": {\"colorbar\": {\"outlinewidth\": 0, \"ticks\": \"\"}}, \"colorscale\": {\"diverging\": [[0, \"#8e0152\"], [0.1, \"#c51b7d\"], [0.2, \"#de77ae\"], [0.3, \"#f1b6da\"], [0.4, \"#fde0ef\"], [0.5, \"#f7f7f7\"], [0.6, \"#e6f5d0\"], [0.7, \"#b8e186\"], [0.8, \"#7fbc41\"], [0.9, \"#4d9221\"], [1, \"#276419\"]], \"sequential\": [[0.0, \"#0d0887\"], [0.1111111111111111, \"#46039f\"], [0.2222222222222222, \"#7201a8\"], [0.3333333333333333, \"#9c179e\"], [0.4444444444444444, \"#bd3786\"], [0.5555555555555556, \"#d8576b\"], [0.6666666666666666, \"#ed7953\"], [0.7777777777777778, \"#fb9f3a\"], [0.8888888888888888, \"#fdca26\"], [1.0, \"#f0f921\"]], \"sequentialminus\": [[0.0, \"#0d0887\"], [0.1111111111111111, \"#46039f\"], [0.2222222222222222, \"#7201a8\"], [0.3333333333333333, \"#9c179e\"], [0.4444444444444444, \"#bd3786\"], [0.5555555555555556, \"#d8576b\"], [0.6666666666666666, \"#ed7953\"], [0.7777777777777778, \"#fb9f3a\"], [0.8888888888888888, \"#fdca26\"], [1.0, \"#f0f921\"]]}, \"colorway\": [\"#636efa\", \"#EF553B\", \"#00cc96\", \"#ab63fa\", \"#FFA15A\", \"#19d3f3\", \"#FF6692\", \"#B6E880\", \"#FF97FF\", \"#FECB52\"], \"font\": {\"color\": \"#2a3f5f\"}, \"geo\": {\"bgcolor\": \"white\", \"lakecolor\": \"white\", \"landcolor\": \"#E5ECF6\", \"showlakes\": true, \"showland\": true, \"subunitcolor\": \"white\"}, \"hoverlabel\": {\"align\": \"left\"}, \"hovermode\": \"closest\", \"mapbox\": {\"style\": \"light\"}, \"paper_bgcolor\": \"white\", \"plot_bgcolor\": \"#E5ECF6\", \"polar\": {\"angularaxis\": {\"gridcolor\": \"white\", \"linecolor\": \"white\", \"ticks\": \"\"}, \"bgcolor\": \"#E5ECF6\", \"radialaxis\": {\"gridcolor\": \"white\", \"linecolor\": \"white\", \"ticks\": \"\"}}, \"scene\": {\"xaxis\": {\"backgroundcolor\": \"#E5ECF6\", \"gridcolor\": \"white\", \"gridwidth\": 2, \"linecolor\": \"white\", \"showbackground\": true, \"ticks\": \"\", \"zerolinecolor\": \"white\"}, \"yaxis\": {\"backgroundcolor\": \"#E5ECF6\", \"gridcolor\": \"white\", \"gridwidth\": 2, \"linecolor\": \"white\", \"showbackground\": true, \"ticks\": \"\", \"zerolinecolor\": \"white\"}, \"zaxis\": {\"backgroundcolor\": \"#E5ECF6\", \"gridcolor\": \"white\", \"gridwidth\": 2, \"linecolor\": \"white\", \"showbackground\": true, \"ticks\": \"\", \"zerolinecolor\": \"white\"}}, \"shapedefaults\": {\"line\": {\"color\": \"#2a3f5f\"}}, \"ternary\": {\"aaxis\": {\"gridcolor\": \"white\", \"linecolor\": \"white\", \"ticks\": \"\"}, \"baxis\": {\"gridcolor\": \"white\", \"linecolor\": \"white\", \"ticks\": \"\"}, \"bgcolor\": \"#E5ECF6\", \"caxis\": {\"gridcolor\": \"white\", \"linecolor\": \"white\", \"ticks\": \"\"}}, \"title\": {\"x\": 0.05}, \"xaxis\": {\"automargin\": true, \"gridcolor\": \"white\", \"linecolor\": \"white\", \"ticks\": \"\", \"title\": {\"standoff\": 15}, \"zerolinecolor\": \"white\", \"zerolinewidth\": 2}, \"yaxis\": {\"automargin\": true, \"gridcolor\": \"white\", \"linecolor\": \"white\", \"ticks\": \"\", \"title\": {\"standoff\": 15}, \"zerolinecolor\": \"white\", \"zerolinewidth\": 2}}}, \"title\": {\"text\": \"2011 US Agriculture Exports by State\"}, \"width\": 900},\n",
       "                        {\"responsive\": true}\n",
       "                    ).then(function(){\n",
       "                            \n",
       "var gd = document.getElementById('27c9f1ce-facf-4c3f-96d3-4beaba0417ad');\n",
       "var x = new MutationObserver(function (mutations, observer) {{\n",
       "        var display = window.getComputedStyle(gd).display;\n",
       "        if (!display || display === 'none') {{\n",
       "            console.log([gd, 'removed!']);\n",
       "            Plotly.purge(gd);\n",
       "            observer.disconnect();\n",
       "        }}\n",
       "}});\n",
       "\n",
       "// Listen for the removal of the full notebook cells\n",
       "var notebookContainer = gd.closest('#notebook-container');\n",
       "if (notebookContainer) {{\n",
       "    x.observe(notebookContainer, {childList: true});\n",
       "}}\n",
       "\n",
       "// Listen for the clearing of the current output cell\n",
       "var outputEl = gd.closest('.output');\n",
       "if (outputEl) {{\n",
       "    x.observe(outputEl, {childList: true});\n",
       "}}\n",
       "\n",
       "                        })\n",
       "                };\n",
       "                });\n",
       "            </script>\n",
       "        </div>"
      ]
     },
     "metadata": {},
     "output_type": "display_data"
    }
   ],
   "source": [
    "df['text'] = df['Country'] + '<br>' + \\\n",
    "      df['2010'].astype(str) \n",
    "df['texts'] = df['Country'] + '<br>' + \\\n",
    "    df['2019'].astype(str)\n",
    "\n",
    "fig = make_subplots(\n",
    "    rows=2, cols=1,\n",
    "    specs=[[{\"type\": \"Choropleth\", \"rowspan\": 1}], [{\"type\": \"Choropleth\", \"rowspan\": 1}]],vertical_spacing = 0.05,subplot_titles=(\"2019\", \"2010\"), )\n",
    "\n",
    "fig.add_choropleth(\n",
    "    locations=df['Country'], # Spatial coordinates\n",
    "    z = df['2019'], # Data to be color-coded\n",
    "     locationmode='country names',# set of locations match entries in `locations`\n",
    "#     colorscale='Viridis',\n",
    "#     autocolorscale=True,\n",
    "    hoverinfo = 'text',\n",
    "    text=df['texts'], # hover text\n",
    "    coloraxis = \"coloraxis\",\n",
    "    reversescale=True,\n",
    "    marker_line_color='white', # line markers between states\n",
    "     row=1, col=1,\n",
    ")\n",
    "\n",
    "fig.add_choropleth(\n",
    "    locations=df['Country'], # Spatial coordinates\n",
    "    z = df['2010'], # Data to be color-coded\n",
    "     locationmode='country names',# set of locations match entries in `locations`\n",
    "#     colorscale='Viridis',\n",
    "#     autocolorscale=True,\n",
    "    hoverinfo = 'text',\n",
    "    text=df['text'], # hover text\n",
    "    marker_line_color='white',\n",
    "    coloraxis = \"coloraxis\",\n",
    "    reversescale=True, # line markers between states\n",
    "   row=2, col=1\n",
    ")\n",
    "fig.update_layout(coloraxis = {'colorscale':'viridis', 'reversescale': True},\n",
    "#                   text = {'text': df['text'], 'texts':df['texts']},\n",
    "    title_text = 'World Gender Gap Index by Countries - Now and 2010',\n",
    "    geo = dict(\n",
    "        scope='world',\n",
    "        projection=go.layout.geo.Projection(type = 'equirectangular'),\n",
    "        showlakes=True,\n",
    "        showframe=False,\n",
    "        showcoastlines=False,# lakes\n",
    "        lakecolor='rgb(255, 255, 255)', ), \n",
    "    geo2 = dict(\n",
    "        scope='world',\n",
    "        projection=go.layout.geo.Projection(type = 'equirectangular'),\n",
    "        showlakes=False,\n",
    "        showframe=False,\n",
    "        showcoastlines=False,# lakes\n",
    "        lakecolor='rgb(255, 255, 255)',), \n",
    "#                   template=\"plotly_dark\", \n",
    "                  width=900,height=900,autosize=False,  margin=go.layout.Margin(\n",
    "        l=10,\n",
    "        r=10,\n",
    "        b=20,\n",
    "        t=100,\n",
    "        pad=0\n",
    "    )\n",
    ")\n",
    "fig.show()\n"
   ]
  },
  {
   "cell_type": "code",
   "execution_count": 159,
   "metadata": {},
   "outputs": [
    {
     "data": {
      "text/plain": [
       "(147, 15)"
      ]
     },
     "execution_count": 159,
     "metadata": {},
     "output_type": "execute_result"
    }
   ],
   "source": [
    "df.shape"
   ]
  },
  {
   "cell_type": "code",
   "execution_count": null,
   "metadata": {},
   "outputs": [],
   "source": []
  }
 ],
 "metadata": {
  "kernelspec": {
   "display_name": "Python 3",
   "language": "python",
   "name": "python3"
  },
  "language_info": {
   "codemirror_mode": {
    "name": "ipython",
    "version": 3
   },
   "file_extension": ".py",
   "mimetype": "text/x-python",
   "name": "python",
   "nbconvert_exporter": "python",
   "pygments_lexer": "ipython3",
   "version": "3.7.4"
  }
 },
 "nbformat": 4,
 "nbformat_minor": 4
}
