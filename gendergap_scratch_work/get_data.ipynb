{
 "cells": [
  {
   "cell_type": "markdown",
   "metadata": {},
   "source": [
    "#### Import Libraries"
   ]
  },
  {
   "cell_type": "code",
   "execution_count": 1,
   "metadata": {},
   "outputs": [],
   "source": [
    "import pandas as pd\n",
    "# ^^^ pyforest auto-imports - don't write above this line\n"
   ]
  },
  {
   "cell_type": "markdown",
   "metadata": {},
   "source": [
    "#### Read data from wikipedia page"
   ]
  },
  {
   "cell_type": "code",
   "execution_count": 2,
   "metadata": {},
   "outputs": [
    {
     "data": {
      "text/html": [
       "<div>\n",
       "<style scoped>\n",
       "    .dataframe tbody tr th:only-of-type {\n",
       "        vertical-align: middle;\n",
       "    }\n",
       "\n",
       "    .dataframe tbody tr th {\n",
       "        vertical-align: top;\n",
       "    }\n",
       "\n",
       "    .dataframe thead th {\n",
       "        text-align: right;\n",
       "    }\n",
       "</style>\n",
       "<table border=\"1\" class=\"dataframe\">\n",
       "  <thead>\n",
       "    <tr style=\"text-align: right;\">\n",
       "      <th></th>\n",
       "      <th>Country</th>\n",
       "      <th>Region</th>\n",
       "      <th>2006</th>\n",
       "      <th>2007</th>\n",
       "      <th>2008</th>\n",
       "      <th>2009</th>\n",
       "      <th>2010</th>\n",
       "      <th>2011</th>\n",
       "      <th>2012</th>\n",
       "      <th>2013</th>\n",
       "      <th>2014</th>\n",
       "      <th>2015[15]</th>\n",
       "      <th>2016[14]</th>\n",
       "      <th>2017</th>\n",
       "      <th>2018</th>\n",
       "      <th>2020</th>\n",
       "    </tr>\n",
       "  </thead>\n",
       "  <tbody>\n",
       "    <tr>\n",
       "      <td>0</td>\n",
       "      <td>Albania</td>\n",
       "      <td>Europe</td>\n",
       "      <td>0.6607</td>\n",
       "      <td>0.6685</td>\n",
       "      <td>0.6591</td>\n",
       "      <td>0.6601</td>\n",
       "      <td>0.6726</td>\n",
       "      <td>0.6748</td>\n",
       "      <td>0.6655</td>\n",
       "      <td>0.6412</td>\n",
       "      <td>0.6869</td>\n",
       "      <td>0.701</td>\n",
       "      <td>0.704</td>\n",
       "      <td>0.728</td>\n",
       "      <td>0.734</td>\n",
       "      <td>0.769</td>\n",
       "    </tr>\n",
       "    <tr>\n",
       "      <td>1</td>\n",
       "      <td>Algeria</td>\n",
       "      <td>Africa</td>\n",
       "      <td>0.6018</td>\n",
       "      <td>0.6068</td>\n",
       "      <td>0.6111</td>\n",
       "      <td>0.6119</td>\n",
       "      <td>0.6052</td>\n",
       "      <td>0.5991</td>\n",
       "      <td>0.6112</td>\n",
       "      <td>0.5966</td>\n",
       "      <td>0.6182</td>\n",
       "      <td>0.632</td>\n",
       "      <td>0.642</td>\n",
       "      <td>0.629</td>\n",
       "      <td>0.629</td>\n",
       "      <td>0.634</td>\n",
       "    </tr>\n",
       "    <tr>\n",
       "      <td>2</td>\n",
       "      <td>Angola</td>\n",
       "      <td>Africa</td>\n",
       "      <td>0.6039</td>\n",
       "      <td>0.6034</td>\n",
       "      <td>0.6032</td>\n",
       "      <td>0.6353</td>\n",
       "      <td>0.6712</td>\n",
       "      <td>0.6624</td>\n",
       "      <td>NaN</td>\n",
       "      <td>0.6659</td>\n",
       "      <td>0.6311</td>\n",
       "      <td>0.637</td>\n",
       "      <td>0.643</td>\n",
       "      <td>0.640</td>\n",
       "      <td>0.633</td>\n",
       "      <td>0.660</td>\n",
       "    </tr>\n",
       "    <tr>\n",
       "      <td>3</td>\n",
       "      <td>Argentina</td>\n",
       "      <td>South America</td>\n",
       "      <td>0.6829</td>\n",
       "      <td>0.6982</td>\n",
       "      <td>0.7209</td>\n",
       "      <td>0.7211</td>\n",
       "      <td>0.7187</td>\n",
       "      <td>0.7236</td>\n",
       "      <td>0.7212</td>\n",
       "      <td>0.7195</td>\n",
       "      <td>0.7317</td>\n",
       "      <td>0.734</td>\n",
       "      <td>0.735</td>\n",
       "      <td>0.732</td>\n",
       "      <td>0.733</td>\n",
       "      <td>0.746</td>\n",
       "    </tr>\n",
       "    <tr>\n",
       "      <td>4</td>\n",
       "      <td>Armenia</td>\n",
       "      <td>Europe and Central Asia</td>\n",
       "      <td>NaN</td>\n",
       "      <td>0.6651</td>\n",
       "      <td>0.6677</td>\n",
       "      <td>0.6619</td>\n",
       "      <td>0.6669</td>\n",
       "      <td>0.6654</td>\n",
       "      <td>0.6636</td>\n",
       "      <td>0.6634</td>\n",
       "      <td>0.6622</td>\n",
       "      <td>0.668</td>\n",
       "      <td>0.669</td>\n",
       "      <td>0.677</td>\n",
       "      <td>0.678</td>\n",
       "      <td>0.684</td>\n",
       "    </tr>\n",
       "  </tbody>\n",
       "</table>\n",
       "</div>"
      ],
      "text/plain": [
       "     Country                   Region    2006    2007    2008    2009    2010  \\\n",
       "0    Albania                   Europe  0.6607  0.6685  0.6591  0.6601  0.6726   \n",
       "1    Algeria                   Africa  0.6018  0.6068  0.6111  0.6119  0.6052   \n",
       "2     Angola                   Africa  0.6039  0.6034  0.6032  0.6353  0.6712   \n",
       "3  Argentina            South America  0.6829  0.6982  0.7209  0.7211  0.7187   \n",
       "4    Armenia  Europe and Central Asia     NaN  0.6651  0.6677  0.6619  0.6669   \n",
       "\n",
       "     2011    2012    2013    2014  2015[15]  2016[14]   2017   2018   2020  \n",
       "0  0.6748  0.6655  0.6412  0.6869     0.701     0.704  0.728  0.734  0.769  \n",
       "1  0.5991  0.6112  0.5966  0.6182     0.632     0.642  0.629  0.629  0.634  \n",
       "2  0.6624     NaN  0.6659  0.6311     0.637     0.643  0.640  0.633  0.660  \n",
       "3  0.7236  0.7212  0.7195  0.7317     0.734     0.735  0.732  0.733  0.746  \n",
       "4  0.6654  0.6636  0.6634  0.6622     0.668     0.669  0.677  0.678  0.684  "
      ]
     },
     "execution_count": 2,
     "metadata": {},
     "output_type": "execute_result"
    }
   ],
   "source": [
    "df = pd.read_html('https://en.wikipedia.org/wiki/Global_Gender_Gap_Report', header = 1, attrs={'class': \"wikitable sortable\"})[0]\n",
    "df.head()"
   ]
  },
  {
   "cell_type": "markdown",
   "metadata": {},
   "source": [
    "#### Clean and select Columns of choice|"
   ]
  },
  {
   "cell_type": "code",
   "execution_count": 3,
   "metadata": {},
   "outputs": [
    {
     "data": {
      "text/html": [
       "<div>\n",
       "<style scoped>\n",
       "    .dataframe tbody tr th:only-of-type {\n",
       "        vertical-align: middle;\n",
       "    }\n",
       "\n",
       "    .dataframe tbody tr th {\n",
       "        vertical-align: top;\n",
       "    }\n",
       "\n",
       "    .dataframe thead th {\n",
       "        text-align: right;\n",
       "    }\n",
       "</style>\n",
       "<table border=\"1\" class=\"dataframe\">\n",
       "  <thead>\n",
       "    <tr style=\"text-align: right;\">\n",
       "      <th></th>\n",
       "      <th>Country</th>\n",
       "      <th>Region</th>\n",
       "      <th>2010</th>\n",
       "      <th>2011</th>\n",
       "      <th>2012</th>\n",
       "      <th>2013</th>\n",
       "      <th>2014</th>\n",
       "      <th>2015</th>\n",
       "      <th>2016</th>\n",
       "      <th>2017</th>\n",
       "      <th>2018</th>\n",
       "      <th>2019</th>\n",
       "    </tr>\n",
       "  </thead>\n",
       "  <tbody>\n",
       "    <tr>\n",
       "      <td>0</td>\n",
       "      <td>Albania</td>\n",
       "      <td>Europe</td>\n",
       "      <td>0.6726</td>\n",
       "      <td>0.6748</td>\n",
       "      <td>0.6655</td>\n",
       "      <td>0.6412</td>\n",
       "      <td>0.6869</td>\n",
       "      <td>0.701</td>\n",
       "      <td>0.704</td>\n",
       "      <td>0.728</td>\n",
       "      <td>0.734</td>\n",
       "      <td>0.769</td>\n",
       "    </tr>\n",
       "    <tr>\n",
       "      <td>1</td>\n",
       "      <td>Algeria</td>\n",
       "      <td>Africa</td>\n",
       "      <td>0.6052</td>\n",
       "      <td>0.5991</td>\n",
       "      <td>0.6112</td>\n",
       "      <td>0.5966</td>\n",
       "      <td>0.6182</td>\n",
       "      <td>0.632</td>\n",
       "      <td>0.642</td>\n",
       "      <td>0.629</td>\n",
       "      <td>0.629</td>\n",
       "      <td>0.634</td>\n",
       "    </tr>\n",
       "    <tr>\n",
       "      <td>2</td>\n",
       "      <td>Angola</td>\n",
       "      <td>Africa</td>\n",
       "      <td>0.6712</td>\n",
       "      <td>0.6624</td>\n",
       "      <td>NaN</td>\n",
       "      <td>0.6659</td>\n",
       "      <td>0.6311</td>\n",
       "      <td>0.637</td>\n",
       "      <td>0.643</td>\n",
       "      <td>0.640</td>\n",
       "      <td>0.633</td>\n",
       "      <td>0.660</td>\n",
       "    </tr>\n",
       "    <tr>\n",
       "      <td>3</td>\n",
       "      <td>Argentina</td>\n",
       "      <td>South America</td>\n",
       "      <td>0.7187</td>\n",
       "      <td>0.7236</td>\n",
       "      <td>0.7212</td>\n",
       "      <td>0.7195</td>\n",
       "      <td>0.7317</td>\n",
       "      <td>0.734</td>\n",
       "      <td>0.735</td>\n",
       "      <td>0.732</td>\n",
       "      <td>0.733</td>\n",
       "      <td>0.746</td>\n",
       "    </tr>\n",
       "    <tr>\n",
       "      <td>4</td>\n",
       "      <td>Armenia</td>\n",
       "      <td>Europe and Central Asia</td>\n",
       "      <td>0.6669</td>\n",
       "      <td>0.6654</td>\n",
       "      <td>0.6636</td>\n",
       "      <td>0.6634</td>\n",
       "      <td>0.6622</td>\n",
       "      <td>0.668</td>\n",
       "      <td>0.669</td>\n",
       "      <td>0.677</td>\n",
       "      <td>0.678</td>\n",
       "      <td>0.684</td>\n",
       "    </tr>\n",
       "  </tbody>\n",
       "</table>\n",
       "</div>"
      ],
      "text/plain": [
       "     Country                   Region    2010    2011    2012    2013    2014  \\\n",
       "0    Albania                   Europe  0.6726  0.6748  0.6655  0.6412  0.6869   \n",
       "1    Algeria                   Africa  0.6052  0.5991  0.6112  0.5966  0.6182   \n",
       "2     Angola                   Africa  0.6712  0.6624     NaN  0.6659  0.6311   \n",
       "3  Argentina            South America  0.7187  0.7236  0.7212  0.7195  0.7317   \n",
       "4    Armenia  Europe and Central Asia  0.6669  0.6654  0.6636  0.6634  0.6622   \n",
       "\n",
       "    2015   2016   2017   2018   2019  \n",
       "0  0.701  0.704  0.728  0.734  0.769  \n",
       "1  0.632  0.642  0.629  0.629  0.634  \n",
       "2  0.637  0.643  0.640  0.633  0.660  \n",
       "3  0.734  0.735  0.732  0.733  0.746  \n",
       "4  0.668  0.669  0.677  0.678  0.684  "
      ]
     },
     "execution_count": 3,
     "metadata": {},
     "output_type": "execute_result"
    }
   ],
   "source": [
    "df.rename(columns={'2015[15]':'2015', '2016[14]':'2016', '2020':'2019'}, inplace=True)\n",
    "df = df[['Country', 'Region','2010', '2011',\n",
    "       '2012', '2013', '2014', '2015', '2016', '2017', '2018', '2019']]\n",
    "df.head()"
   ]
  },
  {
   "cell_type": "markdown",
   "metadata": {},
   "source": [
    "#### Overview of the data"
   ]
  },
  {
   "cell_type": "code",
   "execution_count": 4,
   "metadata": {},
   "outputs": [
    {
     "data": {
      "text/plain": [
       "(147, 12)"
      ]
     },
     "execution_count": 4,
     "metadata": {},
     "output_type": "execute_result"
    }
   ],
   "source": [
    "df.shape"
   ]
  },
  {
   "cell_type": "code",
   "execution_count": 5,
   "metadata": {},
   "outputs": [
    {
     "name": "stdout",
     "output_type": "stream",
     "text": [
      "<class 'pandas.core.frame.DataFrame'>\n",
      "RangeIndex: 147 entries, 0 to 146\n",
      "Data columns (total 12 columns):\n",
      "Country    147 non-null object\n",
      "Region     147 non-null object\n",
      "2010       134 non-null float64\n",
      "2011       135 non-null float64\n",
      "2012       135 non-null float64\n",
      "2013       136 non-null float64\n",
      "2014       136 non-null float64\n",
      "2015       145 non-null float64\n",
      "2016       142 non-null float64\n",
      "2017       142 non-null float64\n",
      "2018       143 non-null float64\n",
      "2019       145 non-null float64\n",
      "dtypes: float64(10), object(2)\n",
      "memory usage: 13.9+ KB\n"
     ]
    }
   ],
   "source": [
    "df.info()"
   ]
  },
  {
   "cell_type": "code",
   "execution_count": 6,
   "metadata": {},
   "outputs": [
    {
     "data": {
      "text/html": [
       "<div>\n",
       "<style scoped>\n",
       "    .dataframe tbody tr th:only-of-type {\n",
       "        vertical-align: middle;\n",
       "    }\n",
       "\n",
       "    .dataframe tbody tr th {\n",
       "        vertical-align: top;\n",
       "    }\n",
       "\n",
       "    .dataframe thead th {\n",
       "        text-align: right;\n",
       "    }\n",
       "</style>\n",
       "<table border=\"1\" class=\"dataframe\">\n",
       "  <thead>\n",
       "    <tr style=\"text-align: right;\">\n",
       "      <th></th>\n",
       "      <th>2010</th>\n",
       "      <th>2011</th>\n",
       "      <th>2012</th>\n",
       "      <th>2013</th>\n",
       "      <th>2014</th>\n",
       "      <th>2015</th>\n",
       "      <th>2016</th>\n",
       "      <th>2017</th>\n",
       "      <th>2018</th>\n",
       "      <th>2019</th>\n",
       "    </tr>\n",
       "  </thead>\n",
       "  <tbody>\n",
       "    <tr>\n",
       "      <td>count</td>\n",
       "      <td>134.000000</td>\n",
       "      <td>135.000000</td>\n",
       "      <td>135.000000</td>\n",
       "      <td>136.000000</td>\n",
       "      <td>136.000000</td>\n",
       "      <td>145.000000</td>\n",
       "      <td>142.000000</td>\n",
       "      <td>142.000000</td>\n",
       "      <td>143.000000</td>\n",
       "      <td>145.000000</td>\n",
       "    </tr>\n",
       "    <tr>\n",
       "      <td>mean</td>\n",
       "      <td>0.677932</td>\n",
       "      <td>0.679217</td>\n",
       "      <td>0.684240</td>\n",
       "      <td>0.686394</td>\n",
       "      <td>0.692211</td>\n",
       "      <td>0.695303</td>\n",
       "      <td>0.694577</td>\n",
       "      <td>0.697739</td>\n",
       "      <td>0.697678</td>\n",
       "      <td>0.703745</td>\n",
       "    </tr>\n",
       "    <tr>\n",
       "      <td>std</td>\n",
       "      <td>0.061256</td>\n",
       "      <td>0.060533</td>\n",
       "      <td>0.059688</td>\n",
       "      <td>0.060218</td>\n",
       "      <td>0.059303</td>\n",
       "      <td>0.059923</td>\n",
       "      <td>0.058136</td>\n",
       "      <td>0.058721</td>\n",
       "      <td>0.059352</td>\n",
       "      <td>0.059859</td>\n",
       "    </tr>\n",
       "    <tr>\n",
       "      <td>min</td>\n",
       "      <td>0.460300</td>\n",
       "      <td>0.487300</td>\n",
       "      <td>0.505400</td>\n",
       "      <td>0.512800</td>\n",
       "      <td>0.514500</td>\n",
       "      <td>0.484000</td>\n",
       "      <td>0.516000</td>\n",
       "      <td>0.516000</td>\n",
       "      <td>0.499000</td>\n",
       "      <td>0.494000</td>\n",
       "    </tr>\n",
       "    <tr>\n",
       "      <td>25%</td>\n",
       "      <td>0.642200</td>\n",
       "      <td>0.647200</td>\n",
       "      <td>0.649750</td>\n",
       "      <td>0.651675</td>\n",
       "      <td>0.653575</td>\n",
       "      <td>0.662000</td>\n",
       "      <td>0.662500</td>\n",
       "      <td>0.669000</td>\n",
       "      <td>0.662500</td>\n",
       "      <td>0.668000</td>\n",
       "    </tr>\n",
       "    <tr>\n",
       "      <td>50%</td>\n",
       "      <td>0.682500</td>\n",
       "      <td>0.681200</td>\n",
       "      <td>0.685500</td>\n",
       "      <td>0.691250</td>\n",
       "      <td>0.694200</td>\n",
       "      <td>0.698000</td>\n",
       "      <td>0.697000</td>\n",
       "      <td>0.695000</td>\n",
       "      <td>0.702000</td>\n",
       "      <td>0.708000</td>\n",
       "    </tr>\n",
       "    <tr>\n",
       "      <td>75%</td>\n",
       "      <td>0.715300</td>\n",
       "      <td>0.715450</td>\n",
       "      <td>0.718550</td>\n",
       "      <td>0.717700</td>\n",
       "      <td>0.726000</td>\n",
       "      <td>0.733000</td>\n",
       "      <td>0.729000</td>\n",
       "      <td>0.731000</td>\n",
       "      <td>0.732500</td>\n",
       "      <td>0.737000</td>\n",
       "    </tr>\n",
       "    <tr>\n",
       "      <td>max</td>\n",
       "      <td>0.849600</td>\n",
       "      <td>0.853000</td>\n",
       "      <td>0.864000</td>\n",
       "      <td>0.873100</td>\n",
       "      <td>0.859400</td>\n",
       "      <td>0.881000</td>\n",
       "      <td>0.874000</td>\n",
       "      <td>0.878000</td>\n",
       "      <td>0.858000</td>\n",
       "      <td>0.877000</td>\n",
       "    </tr>\n",
       "  </tbody>\n",
       "</table>\n",
       "</div>"
      ],
      "text/plain": [
       "             2010        2011        2012        2013        2014        2015  \\\n",
       "count  134.000000  135.000000  135.000000  136.000000  136.000000  145.000000   \n",
       "mean     0.677932    0.679217    0.684240    0.686394    0.692211    0.695303   \n",
       "std      0.061256    0.060533    0.059688    0.060218    0.059303    0.059923   \n",
       "min      0.460300    0.487300    0.505400    0.512800    0.514500    0.484000   \n",
       "25%      0.642200    0.647200    0.649750    0.651675    0.653575    0.662000   \n",
       "50%      0.682500    0.681200    0.685500    0.691250    0.694200    0.698000   \n",
       "75%      0.715300    0.715450    0.718550    0.717700    0.726000    0.733000   \n",
       "max      0.849600    0.853000    0.864000    0.873100    0.859400    0.881000   \n",
       "\n",
       "             2016        2017        2018        2019  \n",
       "count  142.000000  142.000000  143.000000  145.000000  \n",
       "mean     0.694577    0.697739    0.697678    0.703745  \n",
       "std      0.058136    0.058721    0.059352    0.059859  \n",
       "min      0.516000    0.516000    0.499000    0.494000  \n",
       "25%      0.662500    0.669000    0.662500    0.668000  \n",
       "50%      0.697000    0.695000    0.702000    0.708000  \n",
       "75%      0.729000    0.731000    0.732500    0.737000  \n",
       "max      0.874000    0.878000    0.858000    0.877000  "
      ]
     },
     "execution_count": 6,
     "metadata": {},
     "output_type": "execute_result"
    }
   ],
   "source": [
    "df.describe()"
   ]
  },
  {
   "cell_type": "markdown",
   "metadata": {},
   "source": [
    "#### Checking for missing values"
   ]
  },
  {
   "cell_type": "code",
   "execution_count": 7,
   "metadata": {},
   "outputs": [
    {
     "data": {
      "text/plain": [
       "Country    0.000000\n",
       "Region     0.000000\n",
       "2010       0.088435\n",
       "2011       0.081633\n",
       "2012       0.081633\n",
       "2013       0.074830\n",
       "2014       0.074830\n",
       "2015       0.013605\n",
       "2016       0.034014\n",
       "2017       0.034014\n",
       "2018       0.027211\n",
       "2019       0.013605\n",
       "dtype: float64"
      ]
     },
     "execution_count": 7,
     "metadata": {},
     "output_type": "execute_result"
    }
   ],
   "source": [
    "df.isna().mean()"
   ]
  },
  {
   "cell_type": "markdown",
   "metadata": {},
   "source": [
    "#### Removing missing values"
   ]
  },
  {
   "cell_type": "code",
   "execution_count": 8,
   "metadata": {},
   "outputs": [],
   "source": [
    "# indexNames = df[(df['2006'].isna()) | (df['2012'].isna()) | (df['2014'].isna())| (df['2018'].isna())].index\n",
    "indexNames = df[(df['2010'].isna()) | (df['2012'].isna())| (df['2014'].isna())|(df['2017'].isna())].index\n",
    "# df.drop(indexNames , inplace=True)\n",
    "new_df = df.drop(indexNames)"
   ]
  },
  {
   "cell_type": "markdown",
   "metadata": {},
   "source": [
    "#### Overview of the new data"
   ]
  },
  {
   "cell_type": "code",
   "execution_count": 9,
   "metadata": {},
   "outputs": [
    {
     "data": {
      "text/plain": [
       "Country    0\n",
       "Region     0\n",
       "2010       0\n",
       "2011       0\n",
       "2012       0\n",
       "2013       0\n",
       "2014       0\n",
       "2015       0\n",
       "2016       0\n",
       "2017       0\n",
       "2018       0\n",
       "2019       0\n",
       "dtype: int64"
      ]
     },
     "execution_count": 9,
     "metadata": {},
     "output_type": "execute_result"
    }
   ],
   "source": [
    "new_df.isna().sum()"
   ]
  },
  {
   "cell_type": "code",
   "execution_count": 10,
   "metadata": {},
   "outputs": [
    {
     "data": {
      "text/plain": [
       "(123, 12)"
      ]
     },
     "execution_count": 10,
     "metadata": {},
     "output_type": "execute_result"
    }
   ],
   "source": [
    "new_df.shape"
   ]
  },
  {
   "cell_type": "code",
   "execution_count": 11,
   "metadata": {},
   "outputs": [
    {
     "data": {
      "text/plain": [
       "array(['Albania', 'Algeria', 'Argentina', 'Armenia', 'Australia',\n",
       "       'Austria', 'Azerbaijan', 'Bahamas', 'Bahrain', 'Bangladesh',\n",
       "       'Barbados', 'Belgium', 'Belize', 'Bolivia', 'Botswana', 'Brazil',\n",
       "       'Brunei Darussalam', 'Bulgaria', 'Burkina Faso', 'Cambodia',\n",
       "       'Canada', 'Chad', 'Chile', 'China', 'Colombia', 'Costa Rica',\n",
       "       \"Côte d'Ivoire\", 'Croatia', 'Cuba', 'Cyprus', 'Czech Republic',\n",
       "       'Denmark', 'Dominican Republic', 'Ecuador', 'Egypt', 'El Salvador',\n",
       "       'Estonia', 'Ethiopia', 'Finland', 'France', 'Georgia', 'Germany',\n",
       "       'Ghana', 'Greece', 'Guatemala', 'Honduras', 'Hungary', 'Iceland',\n",
       "       'India', 'Indonesia', 'Iran, Islamic Rep.', 'Ireland', 'Israel',\n",
       "       'Italy', 'Jamaica', 'Japan', 'Jordan', 'Kazakhstan', 'Kenya',\n",
       "       'Korea, Rep.', 'Kuwait', 'Kyrgyz Republic', 'Latvia', 'Lebanon',\n",
       "       'Lesotho', 'Lithuania', 'Luxembourg', 'Macedonia', 'Madagascar',\n",
       "       'Malawi', 'Malaysia', 'Maldives', 'Mali', 'Malta', 'Mauritania',\n",
       "       'Mauritius', 'Mexico', 'Moldova', 'Mongolia', 'Morocco',\n",
       "       'Mozambique', 'Namibia', 'Nepal', 'Netherlands', 'New Zealand',\n",
       "       'Nicaragua', 'Nigeria', 'Norway', 'Pakistan', 'Panama', 'Paraguay',\n",
       "       'Peru', 'Philippines', 'Poland', 'Portugal', 'Qatar', 'Romania',\n",
       "       'Russian Federation', 'Saudi Arabia', 'Senegal', 'Singapore',\n",
       "       'Slovakia', 'Slovenia', 'South Africa', 'Spain', 'Sri Lanka',\n",
       "       'Suriname', 'Sweden', 'Switzerland', 'Syria', 'Tajikistan',\n",
       "       'Tanzania', 'Thailand', 'Turkey', 'Uganda', 'Ukraine',\n",
       "       'United Arab Emirates', 'United Kingdom', 'United States',\n",
       "       'Uruguay', 'Venezuela', 'Vietnam', 'Yemen'], dtype=object)"
      ]
     },
     "execution_count": 11,
     "metadata": {},
     "output_type": "execute_result"
    }
   ],
   "source": [
    "new_df['Country'].unique()"
   ]
  },
  {
   "cell_type": "code",
   "execution_count": 12,
   "metadata": {},
   "outputs": [
    {
     "data": {
      "text/plain": [
       "Index(['Country', 'Region', '2010', '2011', '2012', '2013', '2014', '2015',\n",
       "       '2016', '2017', '2018', '2019'],\n",
       "      dtype='object')"
      ]
     },
     "execution_count": 12,
     "metadata": {},
     "output_type": "execute_result"
    }
   ],
   "source": [
    "new_df.columns"
   ]
  },
  {
   "cell_type": "code",
   "execution_count": 13,
   "metadata": {},
   "outputs": [],
   "source": [
    "new_df.to_csv('gender_gap_2010_2020.csv')"
   ]
  },
  {
   "cell_type": "code",
   "execution_count": 14,
   "metadata": {},
   "outputs": [],
   "source": [
    "df.to_csv('gender_gap_2010_2020_complete.csv')"
   ]
  },
  {
   "cell_type": "code",
   "execution_count": 15,
   "metadata": {},
   "outputs": [
    {
     "data": {
      "text/plain": [
       "(147, 12)"
      ]
     },
     "execution_count": 15,
     "metadata": {},
     "output_type": "execute_result"
    }
   ],
   "source": [
    "df.shape"
   ]
  },
  {
   "cell_type": "code",
   "execution_count": null,
   "metadata": {},
   "outputs": [],
   "source": []
  }
 ],
 "metadata": {
  "kernelspec": {
   "display_name": "Python 3",
   "language": "python",
   "name": "python3"
  },
  "language_info": {
   "codemirror_mode": {
    "name": "ipython",
    "version": 3
   },
   "file_extension": ".py",
   "mimetype": "text/x-python",
   "name": "python",
   "nbconvert_exporter": "python",
   "pygments_lexer": "ipython3",
   "version": "3.7.4"
  }
 },
 "nbformat": 4,
 "nbformat_minor": 4
}
